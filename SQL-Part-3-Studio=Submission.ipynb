{
    "metadata": {
        "kernelspec": {
            "name": "SQL",
            "display_name": "SQL",
            "language": "sql"
        },
        "language_info": {
            "name": "sql",
            "version": ""
        },
        "extensions": {
            "azuredatastudio": {
                "version": 1,
                "views": []
            }
        }
    },
    "nbformat_minor": 2,
    "nbformat": 4,
    "cells": [
        {
            "cell_type": "markdown",
            "source": [
                "# SQL Part 3 Studio\n",
                "\n",
                "### Let's practice your SQL quering skills!  For each question, work along in the notebook adding your query and answering the questions. \n",
                "\n",
                "### **DataSet**\n",
                "\n",
                "### <span style=\"font-size: 14px; font-family: -apple-system, BlinkMacSystemFont, sans-serif;\">We will be using the Goodbooks-10k dataset from the exercises in the prep work.&nbsp; Feel free reference your previous notebooks.</span>\n",
                "\n",
                "- The dataset can be found here: [goodbooks-10k](https://www.kaggle.com/zygmunt/goodbooks-10k)\n",
                "- You can access the **BooksDB** in the Launchcode server.\n",
                "\n",
                "### **Business Issue**\n",
                "\n",
                "You are an employee at a small independet bookstore and you have been tasked to increase sales.  You decide to use the BooksDB to find books and themes to highlight in fun promotions throughout each month / season.  We will be starting with March and then you will have a chance to explore another month of your choosing.  We want to come up with a list of events/ promotions to run each month.  If you are looking for ideas to include in your promotions:\n",
                "\n",
                "- [https://www.calendarr.com/united-states/calendar-2022/](https://www.calendarr.com/united-states/calendar-2022/)\n",
                "- [https://www.holidayinsights.com/moreholidays/](https://www.holidayinsights.com/moreholidays/)\n",
                "    - Click on a month and it will take you to a more detailed page"
            ],
            "metadata": {
                "azdata_cell_guid": "b9034d8a-b631-48bf-a895-1012a6ffa784"
            },
            "attachments": {}
        },
        {
            "cell_type": "markdown",
            "source": [
                "## Part 1:  March - Women's History Month, Dr Seuss Day(3/2), National Pie Day3/14, St Patrick's Day (3/17), Season - Spring"
            ],
            "metadata": {
                "azdata_cell_guid": "6e55eb1c-4a14-4076-90d2-95ed17a6309f"
            },
            "attachments": {}
        },
        {
            "cell_type": "markdown",
            "source": [
                "### **Event 1:** Women's History Month\n",
                "\n",
                "Goal: Highlight Popular Womans Authors based on ratings from the Good Reads DB.\n",
                "\n",
                "### **Write a query that returns tag\\_id, the number of times each tag\\_id is used and the tag\\_name.**  \n",
                "\n",
                "### Use the GROUP BY and HAVING clause to narrow your focus.\n",
                "\n",
                "Try multiple keywords, ie woman vs female (female ended up giving better results)"
            ],
            "metadata": {
                "azdata_cell_guid": "d220c097-e9cf-4edd-9abe-312d071217b7"
            },
            "attachments": {}
        },
        {
            "cell_type": "code",
            "source": [
                "-- Solution\r\n",
                "USE \r\n",
                "    BooksDB\r\n",
                "SELECT \r\n",
                "    book_tags.tag_id AS 'TAG ID' ,tags.tag_name AS 'TAG NAME', SUM(book_tags.count) AS 'TAG COUNT'\r\n",
                "FROM \r\n",
                "    book_tags\r\n",
                "INNER JOIN \r\n",
                "    tags\r\n",
                "ON \r\n",
                "    book_tags.tag_id=tags.tag_id\r\n",
                "GROUP by \r\n",
                "    book_tags.tag_id, tags.tag_name \r\n",
                "HAVING \r\n",
                "    tag_name LIKE '%woman%' or tag_name LIKE '%female%'\r\n",
                "ORDER BY \r\n",
                "    SUM(book_tags.count) DESC;\r\n",
                "\r\n",
                "\r\n",
                ""
            ],
            "metadata": {
                "azdata_cell_guid": "e31b9d26-0386-44c7-828e-85f4f06f3ee6",
                "language": "sql",
                "tags": []
            },
            "outputs": [
                {
                    "output_type": "display_data",
                    "data": {
                        "text/html": "(59 rows affected)"
                    },
                    "metadata": {}
                },
                {
                    "output_type": "display_data",
                    "data": {
                        "text/html": "Total execution time: 00:01:36.423"
                    },
                    "metadata": {}
                },
                {
                    "output_type": "execute_result",
                    "execution_count": 26,
                    "data": {
                        "application/vnd.dataresource+json": {
                            "schema": {
                                "fields": [
                                    {
                                        "name": "TAG ID"
                                    },
                                    {
                                        "name": "TAG NAME"
                                    },
                                    {
                                        "name": "TAG COUNT"
                                    }
                                ]
                            },
                            "data": [
                                {
                                    "0": "11643",
                                    "1": "female-author",
                                    "2": "17999"
                                },
                                {
                                    "0": "11644",
                                    "1": "female-authors",
                                    "2": "13690"
                                },
                                {
                                    "0": "11658",
                                    "1": "female-protagonist",
                                    "2": "2554"
                                },
                                {
                                    "0": "11646",
                                    "1": "female-detective",
                                    "2": "302"
                                },
                                {
                                    "0": "11656",
                                    "1": "female-pov",
                                    "2": "155"
                                },
                                {
                                    "0": "11662",
                                    "1": "female-writers",
                                    "2": "147"
                                },
                                {
                                    "0": "32681",
                                    "1": "woman-s-murder-club",
                                    "2": "136"
                                },
                                {
                                    "0": "11642",
                                    "1": "female",
                                    "2": "133"
                                },
                                {
                                    "0": "22271",
                                    "1": "older-woman-younger-man",
                                    "2": "97"
                                },
                                {
                                    "0": "19038",
                                    "1": "man-woman",
                                    "2": "93"
                                },
                                {
                                    "0": "32740",
                                    "1": "wonder-woman",
                                    "2": "88"
                                },
                                {
                                    "0": "32685",
                                    "1": "womans-murder-club",
                                    "2": "88"
                                },
                                {
                                    "0": "22269",
                                    "1": "older-man-younger-woman",
                                    "2": "72"
                                },
                                {
                                    "0": "28834",
                                    "1": "strong-female-lead",
                                    "2": "61"
                                },
                                {
                                    "0": "11652",
                                    "1": "female-lead",
                                    "2": "61"
                                },
                                {
                                    "0": "11647",
                                    "1": "female-detectives",
                                    "2": "59"
                                },
                                {
                                    "0": "3514",
                                    "1": "author-female",
                                    "2": "47"
                                },
                                {
                                    "0": "32683",
                                    "1": "womanhood",
                                    "2": "46"
                                },
                                {
                                    "0": "28833",
                                    "1": "strong-female-characters",
                                    "2": "30"
                                },
                                {
                                    "0": "4455",
                                    "1": "biblical-womanhood",
                                    "2": "29"
                                },
                                {
                                    "0": "28830",
                                    "1": "strong-female",
                                    "2": "21"
                                },
                                {
                                    "0": "4006",
                                    "1": "batwoman",
                                    "2": "17"
                                },
                                {
                                    "0": "11650",
                                    "1": "female-friendship",
                                    "2": "14"
                                },
                                {
                                    "0": "11655",
                                    "1": "female-pi",
                                    "2": "10"
                                },
                                {
                                    "0": "11659",
                                    "1": "female-serial-killer",
                                    "2": "8"
                                },
                                {
                                    "0": "22270",
                                    "1": "older-woman",
                                    "2": "7"
                                },
                                {
                                    "0": "23671",
                                    "1": "pioneer-woman",
                                    "2": "7"
                                },
                                {
                                    "0": "28831",
                                    "1": "strong-female-character",
                                    "2": "7"
                                },
                                {
                                    "0": "937",
                                    "1": "21-books-every-woman-should-read",
                                    "2": "7"
                                },
                                {
                                    "0": "7194",
                                    "1": "christian-woman",
                                    "2": "5"
                                },
                                {
                                    "0": "5132",
                                    "1": "books-every-woman-should-read",
                                    "2": "5"
                                },
                                {
                                    "0": "28835",
                                    "1": "strong-female-protagonist",
                                    "2": "5"
                                },
                                {
                                    "0": "32680",
                                    "1": "woman-s-fiction",
                                    "2": "5"
                                },
                                {
                                    "0": "1741",
                                    "1": "afghan-female-entrepreneur-under-ta",
                                    "2": "5"
                                },
                                {
                                    "0": "19757",
                                    "1": "memorable-woman-characters",
                                    "2": "4"
                                },
                                {
                                    "0": "11653",
                                    "1": "female-main-character",
                                    "2": "3"
                                },
                                {
                                    "0": "11660",
                                    "1": "female-spy",
                                    "2": "3"
                                },
                                {
                                    "0": "11648",
                                    "1": "female-doctor",
                                    "2": "3"
                                },
                                {
                                    "0": "23891",
                                    "1": "policewoman-potential-victim",
                                    "2": "3"
                                },
                                {
                                    "0": "4729",
                                    "1": "black-ops-woman-team-cia-sean-case",
                                    "2": "3"
                                },
                                {
                                    "0": "32679",
                                    "1": "woman-author",
                                    "2": "3"
                                },
                                {
                                    "0": "11657",
                                    "1": "female-povs",
                                    "2": "2"
                                },
                                {
                                    "0": "11649",
                                    "1": "female-fiction",
                                    "2": "2"
                                },
                                {
                                    "0": "11661",
                                    "1": "female-writer",
                                    "2": "2"
                                },
                                {
                                    "0": "11645",
                                    "1": "female-biographies",
                                    "2": "2"
                                },
                                {
                                    "0": "10986",
                                    "1": "every-woman-should-read",
                                    "2": "2"
                                },
                                {
                                    "0": "32682",
                                    "1": "woman-trans-agender-authors",
                                    "2": "2"
                                },
                                {
                                    "0": "1387",
                                    "1": "a-woman-after-gods-own-heart",
                                    "2": "2"
                                },
                                {
                                    "0": "32684",
                                    "1": "womans-literature",
                                    "2": "2"
                                },
                                {
                                    "0": "1386",
                                    "1": "a-woman-after-god-s-own-heart",
                                    "2": "2"
                                },
                                {
                                    "0": "11654",
                                    "1": "female-persuasion",
                                    "2": "1"
                                },
                                {
                                    "0": "11651",
                                    "1": "female-genre-authors",
                                    "2": "1"
                                },
                                {
                                    "0": "15331",
                                    "1": "important-female-authors",
                                    "2": "1"
                                },
                                {
                                    "0": "17079",
                                    "1": "kick-ass-female",
                                    "2": "1"
                                },
                                {
                                    "0": "24455",
                                    "1": "protagonist-female",
                                    "2": "1"
                                },
                                {
                                    "0": "28832",
                                    "1": "strong-female-character-s",
                                    "2": "1"
                                },
                                {
                                    "0": "4309",
                                    "1": "best-adult-female-friendship-books",
                                    "2": "1"
                                },
                                {
                                    "0": "28836",
                                    "1": "strong-female-supporting-characters",
                                    "2": "1"
                                },
                                {
                                    "0": "29324",
                                    "1": "tbr-ax-female",
                                    "2": "1"
                                }
                            ]
                        },
                        "text/html": "<table><tr><th>TAG ID</th><th>TAG NAME</th><th>TAG COUNT</th></tr><tr><td>11643</td><td>female-author</td><td>17999</td></tr><tr><td>11644</td><td>female-authors</td><td>13690</td></tr><tr><td>11658</td><td>female-protagonist</td><td>2554</td></tr><tr><td>11646</td><td>female-detective</td><td>302</td></tr><tr><td>11656</td><td>female-pov</td><td>155</td></tr><tr><td>11662</td><td>female-writers</td><td>147</td></tr><tr><td>32681</td><td>woman-s-murder-club</td><td>136</td></tr><tr><td>11642</td><td>female</td><td>133</td></tr><tr><td>22271</td><td>older-woman-younger-man</td><td>97</td></tr><tr><td>19038</td><td>man-woman</td><td>93</td></tr><tr><td>32740</td><td>wonder-woman</td><td>88</td></tr><tr><td>32685</td><td>womans-murder-club</td><td>88</td></tr><tr><td>22269</td><td>older-man-younger-woman</td><td>72</td></tr><tr><td>28834</td><td>strong-female-lead</td><td>61</td></tr><tr><td>11652</td><td>female-lead</td><td>61</td></tr><tr><td>11647</td><td>female-detectives</td><td>59</td></tr><tr><td>3514</td><td>author-female</td><td>47</td></tr><tr><td>32683</td><td>womanhood</td><td>46</td></tr><tr><td>28833</td><td>strong-female-characters</td><td>30</td></tr><tr><td>4455</td><td>biblical-womanhood</td><td>29</td></tr><tr><td>28830</td><td>strong-female</td><td>21</td></tr><tr><td>4006</td><td>batwoman</td><td>17</td></tr><tr><td>11650</td><td>female-friendship</td><td>14</td></tr><tr><td>11655</td><td>female-pi</td><td>10</td></tr><tr><td>11659</td><td>female-serial-killer</td><td>8</td></tr><tr><td>22270</td><td>older-woman</td><td>7</td></tr><tr><td>23671</td><td>pioneer-woman</td><td>7</td></tr><tr><td>28831</td><td>strong-female-character</td><td>7</td></tr><tr><td>937</td><td>21-books-every-woman-should-read</td><td>7</td></tr><tr><td>7194</td><td>christian-woman</td><td>5</td></tr><tr><td>5132</td><td>books-every-woman-should-read</td><td>5</td></tr><tr><td>28835</td><td>strong-female-protagonist</td><td>5</td></tr><tr><td>32680</td><td>woman-s-fiction</td><td>5</td></tr><tr><td>1741</td><td>afghan-female-entrepreneur-under-ta</td><td>5</td></tr><tr><td>19757</td><td>memorable-woman-characters</td><td>4</td></tr><tr><td>11653</td><td>female-main-character</td><td>3</td></tr><tr><td>11660</td><td>female-spy</td><td>3</td></tr><tr><td>11648</td><td>female-doctor</td><td>3</td></tr><tr><td>23891</td><td>policewoman-potential-victim</td><td>3</td></tr><tr><td>4729</td><td>black-ops-woman-team-cia-sean-case</td><td>3</td></tr><tr><td>32679</td><td>woman-author</td><td>3</td></tr><tr><td>11657</td><td>female-povs</td><td>2</td></tr><tr><td>11649</td><td>female-fiction</td><td>2</td></tr><tr><td>11661</td><td>female-writer</td><td>2</td></tr><tr><td>11645</td><td>female-biographies</td><td>2</td></tr><tr><td>10986</td><td>every-woman-should-read</td><td>2</td></tr><tr><td>32682</td><td>woman-trans-agender-authors</td><td>2</td></tr><tr><td>1387</td><td>a-woman-after-gods-own-heart</td><td>2</td></tr><tr><td>32684</td><td>womans-literature</td><td>2</td></tr><tr><td>1386</td><td>a-woman-after-god-s-own-heart</td><td>2</td></tr><tr><td>11654</td><td>female-persuasion</td><td>1</td></tr><tr><td>11651</td><td>female-genre-authors</td><td>1</td></tr><tr><td>15331</td><td>important-female-authors</td><td>1</td></tr><tr><td>17079</td><td>kick-ass-female</td><td>1</td></tr><tr><td>24455</td><td>protagonist-female</td><td>1</td></tr><tr><td>28832</td><td>strong-female-character-s</td><td>1</td></tr><tr><td>4309</td><td>best-adult-female-friendship-books</td><td>1</td></tr><tr><td>28836</td><td>strong-female-supporting-characters</td><td>1</td></tr><tr><td>29324</td><td>tbr-ax-female</td><td>1</td></tr></table>"
                    },
                    "metadata": {}
                }
            ],
            "execution_count": 26
        },
        {
            "cell_type": "markdown",
            "source": [
                "### **Which keyword(s) and tag(s) would you like to explore more?**\n",
                "\n",
                "murder with a tag count of 136"
            ],
            "metadata": {
                "azdata_cell_guid": "e9acd8b5-a62b-4ac0-bd07-19915b379ba6"
            },
            "attachments": {}
        },
        {
            "cell_type": "markdown",
            "source": [
                "### **Write a query to return authors, titles, ratings and** **selected tag(s)\\_id.**"
            ],
            "metadata": {
                "azdata_cell_guid": "59b84464-c0bc-4dac-9e02-0c803765b063"
            },
            "attachments": {}
        },
        {
            "cell_type": "code",
            "source": [
                "-- Solution\r\n",
                "USE \r\n",
                "    BooksDB\r\n",
                "SELECT \r\n",
                "    book_tags.tag_id AS 'TAG ID', authors, books.title, books.average_rating\r\n",
                "\r\n",
                "FROM\r\n",
                "    book_tags\r\n",
                "INNER JOIN \r\n",
                "    books\r\n",
                "ON \r\n",
                "    book_tags.goodreads_book_id = books.book_id\r\n",
                "\r\n",
                "WHERE \r\n",
                "    book_tags.tag_id = 11643\r\n",
                "ORDER BY \r\n",
                "    books.authors, books.title, books.average_rating DESC\r\n",
                "\r\n",
                "\r\n",
                "\r\n",
                "\r\n",
                "\r\n",
                "\r\n",
                ""
            ],
            "metadata": {
                "azdata_cell_guid": "51ffeaaf-6dde-4906-95f3-eb8757babf27",
                "tags": [],
                "language": "sql"
            },
            "outputs": [
                {
                    "output_type": "display_data",
                    "data": {
                        "text/html": "(997 rows affected)"
                    },
                    "metadata": {}
                },
                {
                    "output_type": "display_data",
                    "data": {
                        "text/html": "Total execution time: 00:01:46.440"
                    },
                    "metadata": {}
                },
                {
                    "output_type": "execute_result",
                    "execution_count": 48,
                    "data": {
                        "application/vnd.dataresource+json": {
                            "schema": {
                                "fields": [
                                    {
                                        "name": "TAG ID"
                                    },
                                    {
                                        "name": "authors"
                                    },
                                    {
                                        "name": "title"
                                    },
                                    {
                                        "name": "average_rating"
                                    }
                                ]
                            },
                            "data": [
                                {
                                    "0": "11643",
                                    "1": "A.M. Homes",
                                    "2": "May We Be Forgiven",
                                    "3": "3.66"
                                },
                                {
                                    "0": "11643",
                                    "1": "A.N. Roquelaure, Anne Rice",
                                    "2": "Beauty's Punishment (Sleeping Beauty, #2)",
                                    "3": "3.62"
                                },
                                {
                                    "0": "11643",
                                    "1": "A.N. Roquelaure, Anne Rice",
                                    "2": "Beauty's Release (Sleeping Beauty, #3)",
                                    "3": "3.71"
                                },
                                {
                                    "0": "11643",
                                    "1": "A.S. Byatt",
                                    "2": "Possession",
                                    "3": "3.88"
                                },
                                {
                                    "0": "11643",
                                    "1": "A.S. Byatt",
                                    "2": "The Children's Book",
                                    "3": "3.66"
                                },
                                {
                                    "0": "11643",
                                    "1": "A.S.A. Harrison",
                                    "2": "The Silent Wife",
                                    "3": "3.3"
                                },
                                {
                                    "0": "11643",
                                    "1": "Adelle Waldman",
                                    "2": "The Love Affairs of Nathaniel P.",
                                    "3": "3.3"
                                },
                                {
                                    "0": "11643",
                                    "1": "Agatha Christie",
                                    "2": "4:50 from Paddington (Miss Marple, #8)",
                                    "3": "3.92"
                                },
                                {
                                    "0": "11643",
                                    "1": "Agatha Christie",
                                    "2": "A Caribbean Mystery (Miss Marple, #10)",
                                    "3": "3.77"
                                },
                                {
                                    "0": "11643",
                                    "1": "Agatha Christie",
                                    "2": "A Murder Is Announced (Miss Marple, #5)",
                                    "3": "3.96"
                                },
                                {
                                    "0": "11643",
                                    "1": "Agatha Christie",
                                    "2": "A Pocket Full of Rye (Miss Marple, #7)",
                                    "3": "3.83"
                                },
                                {
                                    "0": "11643",
                                    "1": "Agatha Christie",
                                    "2": "After the Funeral (Hercule Poirot, #29)",
                                    "3": "3.84"
                                },
                                {
                                    "0": "11643",
                                    "1": "Agatha Christie",
                                    "2": "And Then There Were None",
                                    "3": "4.23"
                                },
                                {
                                    "0": "11643",
                                    "1": "Agatha Christie",
                                    "2": "Cat Among the Pigeons (Hercule Poirot, #32)",
                                    "3": "3.82"
                                },
                                {
                                    "0": "11643",
                                    "1": "Agatha Christie",
                                    "2": "Death on the Nile (Hercule Poirot, #17)",
                                    "3": "4.06"
                                },
                                {
                                    "0": "11643",
                                    "1": "Agatha Christie",
                                    "2": "Elephants Can Remember (Hercule Poirot, #37)",
                                    "3": "3.62"
                                },
                                {
                                    "0": "11643",
                                    "1": "Agatha Christie",
                                    "2": "Hallowe'en Party (Hercule Poirot, #36)",
                                    "3": "3.66"
                                },
                                {
                                    "0": "11643",
                                    "1": "Agatha Christie",
                                    "2": "Hercule Poirot's Christmas (Hercule Poirot, #20)",
                                    "3": "3.9"
                                },
                                {
                                    "0": "11643",
                                    "1": "Agatha Christie",
                                    "2": "Murder at the Vicarage (Miss Marple, #1)",
                                    "3": "4.03"
                                },
                                {
                                    "0": "11643",
                                    "1": "Agatha Christie",
                                    "2": "Murder in Mesopotamia (Hercule Poirot, #14)",
                                    "3": "3.86"
                                },
                                {
                                    "0": "11643",
                                    "1": "Agatha Christie",
                                    "2": "Murder on the Orient Express (Hercule Poirot, #10)",
                                    "3": "4.16"
                                },
                                {
                                    "0": "11643",
                                    "1": "Agatha Christie",
                                    "2": "Peril at End House (Hercule Poirot, #8)",
                                    "3": "3.89"
                                },
                                {
                                    "0": "11643",
                                    "1": "Agatha Christie",
                                    "2": "The Big Four (Hercule Poirot, #5)",
                                    "3": "3.6"
                                },
                                {
                                    "0": "11643",
                                    "1": "Agatha Christie",
                                    "2": "The Body in the Library (Miss Marple, #3)",
                                    "3": "3.85"
                                },
                                {
                                    "0": "11643",
                                    "1": "Agatha Christie",
                                    "2": "The Man in the Brown Suit",
                                    "3": "3.97"
                                },
                                {
                                    "0": "11643",
                                    "1": "Agatha Christie",
                                    "2": "The Moving Finger (Miss Marple, #4)",
                                    "3": "3.84"
                                },
                                {
                                    "0": "11643",
                                    "1": "Agatha Christie",
                                    "2": "The Murder of Roger Ackroyd (Hercule Poirot, #4)",
                                    "3": "4.2"
                                },
                                {
                                    "0": "11643",
                                    "1": "Agatha Christie",
                                    "2": "The Secret Adversary (Tommy and Tuppence #1)",
                                    "3": "3.82"
                                },
                                {
                                    "0": "11643",
                                    "1": "Agatha Christie",
                                    "2": "They Do It with Mirrors (Miss Marple, #6)",
                                    "3": "3.74"
                                },
                                {
                                    "0": "11643",
                                    "1": "Agatha Christie, Robin Bailey",
                                    "2": "The Clocks (Hercule Poirot, #34)",
                                    "3": "3.71"
                                },
                                {
                                    "0": "11643",
                                    "1": "Agatha Christie, Ροζίτα Σώκου",
                                    "2": "The Mysterious Affair at Styles (Hercule Poirot, #1)",
                                    "3": "3.98"
                                },
                                {
                                    "0": "11643",
                                    "1": "Aimee Bender",
                                    "2": "The Particular Sadness of Lemon Cake",
                                    "3": "3.19"
                                },
                                {
                                    "0": "11643",
                                    "1": "Ali Smith",
                                    "2": "How to Be Both",
                                    "3": "3.61"
                                },
                                {
                                    "0": "11643",
                                    "1": "Alice  Miller, Ruth Ward",
                                    "2": "The Drama of the Gifted Child: The Search for the True Self",
                                    "3": "4.09"
                                },
                                {
                                    "0": "11643",
                                    "1": "Alice Hoffman",
                                    "2": "Faithful",
                                    "3": "4.02"
                                },
                                {
                                    "0": "11643",
                                    "1": "Alice Hoffman",
                                    "2": "Practical Magic",
                                    "3": "3.8"
                                },
                                {
                                    "0": "11643",
                                    "1": "Alice Hoffman",
                                    "2": "The Ice Queen",
                                    "3": "3.51"
                                },
                                {
                                    "0": "11643",
                                    "1": "Alice McDermott",
                                    "2": "Someone",
                                    "3": "3.76"
                                },
                                {
                                    "0": "11643",
                                    "1": "Alice Munro",
                                    "2": "Dear Life: Stories",
                                    "3": "3.75"
                                },
                                {
                                    "0": "11643",
                                    "1": "Alice Munro",
                                    "2": "Hateship, Friendship, Courtship, Loveship, Marriage: Stories",
                                    "3": "4.06"
                                },
                                {
                                    "0": "11643",
                                    "1": "Alice Munro",
                                    "2": "Too Much Happiness",
                                    "3": "3.82"
                                },
                                {
                                    "0": "11643",
                                    "1": "Alice Walker",
                                    "2": "Possessing the Secret of Joy",
                                    "3": "4.06"
                                },
                                {
                                    "0": "11643",
                                    "1": "Alice Walker",
                                    "2": "The Color Purple",
                                    "3": "4.17"
                                },
                                {
                                    "0": "11643",
                                    "1": "Alice Waters",
                                    "2": "The Art of Simple Food: Notes, Lessons, and Recipes from a Delicious Revolution",
                                    "3": "4.11"
                                },
                                {
                                    "0": "11643",
                                    "1": "Alison Bechdel",
                                    "2": "Are You My Mother?",
                                    "3": "3.66"
                                },
                                {
                                    "0": "11643",
                                    "1": "Alison Bechdel",
                                    "2": "Fun Home: A Family Tragicomic",
                                    "3": "4.12"
                                },
                                {
                                    "0": "11643",
                                    "1": "Alison Croggon",
                                    "2": "The Naming (The Books of Pellinor, #1)",
                                    "3": "4"
                                },
                                {
                                    "0": "11643",
                                    "1": "Alison Goodman",
                                    "2": "Eon: Dragoneye Reborn (Eon, #1)",
                                    "3": "3.98"
                                },
                                {
                                    "0": "11643",
                                    "1": "Alissa Nutting",
                                    "2": "Tampa",
                                    "3": "3.34"
                                },
                                {
                                    "0": "11643",
                                    "1": "Allie Brosh",
                                    "2": "Hyperbole and a Half: Unfortunate Situations, Flawed Coping Mechanisms, Mayhem, and Other Things That Happened",
                                    "3": "4.17"
                                },
                                {
                                    "0": "11643",
                                    "1": "Amanda Lindhout, Sara Corbett",
                                    "2": "A House in the Sky",
                                    "3": "4.2"
                                },
                                {
                                    "0": "11643",
                                    "1": "Amanda Palmer",
                                    "2": "The Art of Asking; or, How I Learned to Stop Worrying and Let People Help",
                                    "3": "3.97"
                                },
                                {
                                    "0": "11643",
                                    "1": "Amelia Atwater-Rhodes",
                                    "2": "Hawksong (The Kiesha'ra, #1)",
                                    "3": "4.15"
                                },
                                {
                                    "0": "11643",
                                    "1": "Amy  Stewart",
                                    "2": "Girl Waits with Gun (Kopp Sisters, #1)",
                                    "3": "3.78"
                                },
                                {
                                    "0": "11643",
                                    "1": "Amy Poehler",
                                    "2": "Yes Please",
                                    "3": "3.81"
                                },
                                {
                                    "0": "11643",
                                    "1": "Amy Schumer",
                                    "2": "The Girl with the Lower Back Tattoo",
                                    "3": "3.76"
                                },
                                {
                                    "0": "11643",
                                    "1": "Amy Sedaris",
                                    "2": "I Like You: Hospitality Under the Influence",
                                    "3": "3.87"
                                },
                                {
                                    "0": "11643",
                                    "1": "Amy Tan",
                                    "2": "The Bonesetter's Daughter",
                                    "3": "3.98"
                                },
                                {
                                    "0": "11643",
                                    "1": "Amy Tan",
                                    "2": "The Hundred Secret Senses",
                                    "3": "3.98"
                                },
                                {
                                    "0": "11643",
                                    "1": "Amy Tan",
                                    "2": "The Joy Luck Club",
                                    "3": "3.9"
                                },
                                {
                                    "0": "11643",
                                    "1": "Anaïs Nin",
                                    "2": "Delta of Venus",
                                    "3": "3.69"
                                },
                                {
                                    "0": "11643",
                                    "1": "Anderson Cooper, Gloria Vanderbilt",
                                    "2": "The Rainbow Comes and Goes: A Mother and Son On Life, Love, and Loss",
                                    "3": "3.79"
                                },
                                {
                                    "0": "11643",
                                    "1": "Andrea Levy",
                                    "2": "Small Island",
                                    "3": "3.89"
                                },
                                {
                                    "0": "11643",
                                    "1": "Angela Carter",
                                    "2": "The Bloody Chamber and Other Stories",
                                    "3": "4.02"
                                },
                                {
                                    "0": "11643",
                                    "1": "Angela Flournoy",
                                    "2": "The Turner House",
                                    "3": "3.64"
                                },
                                {
                                    "0": "11643",
                                    "1": "Anita Amirrezvani",
                                    "2": "The Blood of Flowers",
                                    "3": "3.95"
                                },
                                {
                                    "0": "11643",
                                    "1": "Anita Brookner",
                                    "2": "Hotel du Lac",
                                    "3": "3.56"
                                },
                                {
                                    "0": "11643",
                                    "1": "Anita Diamant",
                                    "2": "The Red Tent",
                                    "3": "4.16"
                                },
                                {
                                    "0": "11643",
                                    "1": "Anita Shreve",
                                    "2": "Fortune's Rocks",
                                    "3": "3.86"
                                },
                                {
                                    "0": "11643",
                                    "1": "Anita Shreve",
                                    "2": "Sea Glass",
                                    "3": "3.65"
                                },
                                {
                                    "0": "11643",
                                    "1": "Anita Shreve",
                                    "2": "The Weight of Water",
                                    "3": "3.62"
                                },
                                {
                                    "0": "11643",
                                    "1": "Ann Cleeves",
                                    "2": "Raven Black (Shetland Island, #1)",
                                    "3": "3.85"
                                },
                                {
                                    "0": "11643",
                                    "1": "Ann Leckie",
                                    "2": "Ancillary Justice (Imperial Radch #1)",
                                    "3": "3.97"
                                },
                                {
                                    "0": "11643",
                                    "1": "Ann Leckie",
                                    "2": "Ancillary Mercy (Imperial Radch #3)",
                                    "3": "4.2"
                                },
                                {
                                    "0": "11643",
                                    "1": "Ann Leckie",
                                    "2": "Ancillary Sword (Imperial Radch, #2)",
                                    "3": "4.03"
                                },
                                {
                                    "0": "11643",
                                    "1": "Ann Packer",
                                    "2": "The Dive From Clausen's Pier",
                                    "3": "3.41"
                                },
                                {
                                    "0": "11643",
                                    "1": "Ann Patchett",
                                    "2": "Commonwealth",
                                    "3": "3.84"
                                },
                                {
                                    "0": "11643",
                                    "1": "Ann Patchett",
                                    "2": "The Magician's Assistant",
                                    "3": "3.64"
                                },
                                {
                                    "0": "11643",
                                    "1": "Ann Patchett",
                                    "2": "The Patron Saint of Liars",
                                    "3": "3.76"
                                },
                                {
                                    "0": "11643",
                                    "1": "Ann Patchett",
                                    "2": "This is the Story of a Happy Marriage",
                                    "3": "4.03"
                                },
                                {
                                    "0": "11643",
                                    "1": "Ann Rule",
                                    "2": "The Stranger Beside Me: Ted Bundy The Shocking Inside Story",
                                    "3": "4.13"
                                },
                                {
                                    "0": "11643",
                                    "1": "Anna Kendrick",
                                    "2": "Scrappy Little Nobody",
                                    "3": "3.91"
                                },
                                {
                                    "0": "11643",
                                    "1": "Anne Bishop",
                                    "2": "Daughter of the Blood (The Black Jewels #1)",
                                    "3": "4.12"
                                },
                                {
                                    "0": "11643",
                                    "1": "Anne Bishop",
                                    "2": "Queen of the Darkness (The Black Jewels, #3)",
                                    "3": "4.37"
                                },
                                {
                                    "0": "11643",
                                    "1": "Anne Brontë, Angeline Goreau",
                                    "2": "Agnes Grey",
                                    "3": "3.65"
                                },
                                {
                                    "0": "11643",
                                    "1": "Anne Brontë, Stevie Davies",
                                    "2": "The Tenant of Wildfell Hall",
                                    "3": "3.91"
                                },
                                {
                                    "0": "11643",
                                    "1": "Anne Enright",
                                    "2": "The Gathering",
                                    "3": "3.04"
                                },
                                {
                                    "0": "11643",
                                    "1": "Anne Fadiman",
                                    "2": "The Spirit Catches You and You Fall Down: A Hmong Child, Her American Doctors, and the Collision of Two Cultures",
                                    "3": "4.14"
                                },
                                {
                                    "0": "11643",
                                    "1": "Anne Frank, Susan Massotty",
                                    "2": "Anne Frank's Tales from the Secret Annex",
                                    "3": "4.23"
                                },
                                {
                                    "0": "11643",
                                    "1": "Anne Lamott",
                                    "2": "Traveling Mercies: Some Thoughts on Faith",
                                    "3": "4.15"
                                },
                                {
                                    "0": "11643",
                                    "1": "Anne Lamott, Sam Lamott",
                                    "2": "Some Assembly Required: A Journal of My Son's First Son",
                                    "3": "3.61"
                                },
                                {
                                    "0": "11643",
                                    "1": "Anne McCaffrey",
                                    "2": "All the Weyrs of Pern (Pern, #11)",
                                    "3": "4.15"
                                },
                                {
                                    "0": "11643",
                                    "1": "Anne McCaffrey",
                                    "2": "Crystal Singer (Crystal Singer, #1)",
                                    "3": "4.07"
                                },
                                {
                                    "0": "11643",
                                    "1": "Anne McCaffrey",
                                    "2": "Dragondrums (Harper Hall, #3)",
                                    "3": "4.04"
                                },
                                {
                                    "0": "11643",
                                    "1": "Anne McCaffrey",
                                    "2": "Dragonquest (Pern, #2)",
                                    "3": "4.09"
                                },
                                {
                                    "0": "11643",
                                    "1": "Anne McCaffrey",
                                    "2": "Dragonsdawn (Pern, #9)",
                                    "3": "4.17"
                                },
                                {
                                    "0": "11643",
                                    "1": "Anne McCaffrey",
                                    "2": "Dragonsinger (Harper Hall, #2)",
                                    "3": "4.26"
                                },
                                {
                                    "0": "11643",
                                    "1": "Anne McCaffrey",
                                    "2": "Dragonsong (Harper Hall, #1)",
                                    "3": "4.24"
                                },
                                {
                                    "0": "11643",
                                    "1": "Anne McCaffrey",
                                    "2": "Moreta: Dragonlady of Pern (Pern, #7)",
                                    "3": "3.97"
                                },
                                {
                                    "0": "11643",
                                    "1": "Anne McCaffrey",
                                    "2": "Nerilka's Story (Pern, #8)",
                                    "3": "3.78"
                                },
                                {
                                    "0": "11643",
                                    "1": "Anne McCaffrey",
                                    "2": "The Dolphins of Pern (Pern, #13)",
                                    "3": "3.94"
                                },
                                {
                                    "0": "11643",
                                    "1": "Anne McCaffrey",
                                    "2": "The Masterharper of Pern (Pern, #15)",
                                    "3": "4.22"
                                },
                                {
                                    "0": "11643",
                                    "1": "Anne McCaffrey",
                                    "2": "The Renegades of Pern (Pern, #10)",
                                    "3": "3.84"
                                },
                                {
                                    "0": "11643",
                                    "1": "Anne McCaffrey",
                                    "2": "The Ship Who Sang (Brainship, #1)",
                                    "3": "4"
                                },
                                {
                                    "0": "11643",
                                    "1": "Anne McCaffrey",
                                    "2": "The White Dragon (Pern, #3)",
                                    "3": "4.17"
                                },
                                {
                                    "0": "11643",
                                    "1": "Anne McCaffrey, Teodor Panasiński",
                                    "2": "Dragonflight (Dragonriders of Pern, #1)",
                                    "3": "4.1"
                                },
                                {
                                    "0": "11643",
                                    "1": "Anne Michaels",
                                    "2": "Fugitive Pieces",
                                    "3": "3.95"
                                },
                                {
                                    "0": "11643",
                                    "1": "Anne Rice",
                                    "2": "Interview with the Vampire (The Vampire Chronicles, #1)",
                                    "3": "3.97"
                                },
                                {
                                    "0": "11643",
                                    "1": "Anne Tyler",
                                    "2": "Dinner at the Homesick Restaurant",
                                    "3": "3.82"
                                },
                                {
                                    "0": "11643",
                                    "1": "Anne Tyler",
                                    "2": "Ladder of Years",
                                    "3": "3.72"
                                },
                                {
                                    "0": "11643",
                                    "1": "Anne Tyler",
                                    "2": "Saint Maybe",
                                    "3": "3.88"
                                },
                                {
                                    "0": "11643",
                                    "1": "Anne Tyler",
                                    "2": "The Amateur Marriage",
                                    "3": "3.59"
                                },
                                {
                                    "0": "11643",
                                    "1": "Anne Tyler",
                                    "2": "The Beginner's Goodbye",
                                    "3": "3.58"
                                },
                                {
                                    "0": "11643",
                                    "1": "Anne Tyler, Jennifer Bassett",
                                    "2": "The Accidental Tourist",
                                    "3": "3.9"
                                },
                                {
                                    "0": "11643",
                                    "1": "Annie Dillard",
                                    "2": "Pilgrim at Tinker Creek",
                                    "3": "4.1"
                                },
                                {
                                    "0": "11643",
                                    "1": "Annie Proulx",
                                    "2": "Brokeback Mountain",
                                    "3": "3.93"
                                },
                                {
                                    "0": "11643",
                                    "1": "Annie Proulx",
                                    "2": "Close Range",
                                    "3": "3.99"
                                },
                                {
                                    "0": "11643",
                                    "1": "Annie Proulx",
                                    "2": "The Shipping News",
                                    "3": "3.83"
                                },
                                {
                                    "0": "11643",
                                    "1": "Antonia Fraser",
                                    "2": "Marie Antoinette: The Journey",
                                    "3": "3.91"
                                },
                                {
                                    "0": "11643",
                                    "1": "Antonia Fraser",
                                    "2": "The Wives of Henry VIII",
                                    "3": "4.15"
                                },
                                {
                                    "0": "11643",
                                    "1": "Arundhati Roy",
                                    "2": "The God of Small Things",
                                    "3": "3.91"
                                },
                                {
                                    "0": "11643",
                                    "1": "Åsne Seierstad, Ingrid Christopherson",
                                    "2": "The Bookseller of Kabul",
                                    "3": "3.76"
                                },
                                {
                                    "0": "11643",
                                    "1": "Astrid Lindgren, Gerry Bothmer",
                                    "2": "Pippi in the South Seas",
                                    "3": "4.1"
                                },
                                {
                                    "0": "11643",
                                    "1": "Astrid Lindgren, Ilon Wikland, Jill M. Morgan",
                                    "2": "The Brothers Lionheart",
                                    "3": "4.35"
                                },
                                {
                                    "0": "11643",
                                    "1": "Astrid Lindgren, Lauren Child, Florence Lamborn, Nancy Seligsohn",
                                    "2": "Pippi Longstocking",
                                    "3": "4.11"
                                },
                                {
                                    "0": "11643",
                                    "1": "Astrid Lindgren, Patricia Crampton, Trina Schart Hyman",
                                    "2": "Ronia, the Robber's Daughter",
                                    "3": "4.27"
                                },
                                {
                                    "0": "11643",
                                    "1": "Audre Lorde",
                                    "2": "Zami: A New Spelling of My Name",
                                    "3": "4.2"
                                },
                                {
                                    "0": "11643",
                                    "1": "Audrey Niffenegger",
                                    "2": "Her Fearful Symmetry",
                                    "3": "3.23"
                                },
                                {
                                    "0": "11643",
                                    "1": "Ayana Mathis",
                                    "2": "The Twelve Tribes of Hattie",
                                    "3": "3.46"
                                },
                                {
                                    "0": "11643",
                                    "1": "Ayn Rand",
                                    "2": "Anthem",
                                    "3": "3.62"
                                },
                                {
                                    "0": "11643",
                                    "1": "Ayn Rand, Leonard Peikoff",
                                    "2": "We the Living",
                                    "3": "3.89"
                                },
                                {
                                    "0": "11643",
                                    "1": "Azar Nafisi",
                                    "2": "Reading Lolita in Tehran",
                                    "3": "3.57"
                                },
                                {
                                    "0": "11643",
                                    "1": "B.A. Shapiro",
                                    "2": "The Art Forger",
                                    "3": "3.69"
                                },
                                {
                                    "0": "11643",
                                    "1": "Banana Yoshimoto, Megan Backus",
                                    "2": "Kitchen",
                                    "3": "3.83"
                                },
                                {
                                    "0": "11643",
                                    "1": "Barbara Claypole White",
                                    "2": "The Perfect Son",
                                    "3": "3.97"
                                },
                                {
                                    "0": "11643",
                                    "1": "Barbara Ehrenreich",
                                    "2": "Nickel and Dimed: On (Not) Getting By in America",
                                    "3": "3.6"
                                },
                                {
                                    "0": "11643",
                                    "1": "Barbara Kingsolver",
                                    "2": "Animal Dreams",
                                    "3": "4.05"
                                },
                                {
                                    "0": "11643",
                                    "1": "Barbara Kingsolver",
                                    "2": "Pigs in Heaven",
                                    "3": "3.97"
                                },
                                {
                                    "0": "11643",
                                    "1": "Barbara Kingsolver",
                                    "2": "Prodigal Summer",
                                    "3": "3.98"
                                },
                                {
                                    "0": "11643",
                                    "1": "Barbara Kingsolver",
                                    "2": "The Bean Trees (Greer Family, #1)",
                                    "3": "3.94"
                                },
                                {
                                    "0": "11643",
                                    "1": "Barbara Kingsolver",
                                    "2": "The Lacuna",
                                    "3": "3.76"
                                },
                                {
                                    "0": "11643",
                                    "1": "Barbara Kingsolver",
                                    "2": "The Poisonwood Bible",
                                    "3": "4.02"
                                },
                                {
                                    "0": "11643",
                                    "1": "Barbara Kingsolver, Steven L. Hopp, Camille Kingsolver, Richard A. Houser",
                                    "2": "Animal, Vegetable, Miracle: A Year of Food Life",
                                    "3": "4.03"
                                },
                                {
                                    "0": "11643",
                                    "1": "Barbara W. Tuchman, Robert K. Massie",
                                    "2": "The Guns of August",
                                    "3": "4.18"
                                },
                                {
                                    "0": "11643",
                                    "1": "Beatrix Potter",
                                    "2": "The Tale of Mrs. Tiggy-Winkle",
                                    "3": "4.19"
                                },
                                {
                                    "0": "11643",
                                    "1": "Beatriz Williams",
                                    "2": "The Secret Life of Violet Grant",
                                    "3": "3.97"
                                },
                                {
                                    "0": "11643",
                                    "1": "Becky  Chambers",
                                    "2": "The Long Way to a Small, Angry Planet (Wayfarers, #1)",
                                    "3": "4.18"
                                },
                                {
                                    "0": "11643",
                                    "1": "Bethany McLean, Peter Elkind",
                                    "2": "The Smartest Guys in the Room: The Amazing Rise and Scandalous Fall of Enron",
                                    "3": "4.14"
                                },
                                {
                                    "0": "11643",
                                    "1": "Betty Friedan, Anna Quindlen",
                                    "2": "The Feminine Mystique",
                                    "3": "3.85"
                                },
                                {
                                    "0": "11643",
                                    "1": "Bev Vincent",
                                    "2": "The Road to the Dark Tower: Exploring Stephen King's Magnum Opus",
                                    "3": "4.29"
                                },
                                {
                                    "0": "11643",
                                    "1": "Beverly Cleary",
                                    "2": "Runaway Ralph (Ralph S. Mouse, #2)",
                                    "3": "3.95"
                                },
                                {
                                    "0": "11643",
                                    "1": "Bisco Hatori",
                                    "2": "Ouran High School Host Club, Vol. 15 (Ouran High School Host Club, #15)",
                                    "3": "4.54"
                                },
                                {
                                    "0": "11643",
                                    "1": "Brit Bennett",
                                    "2": "The Mothers",
                                    "3": "3.87"
                                },
                                {
                                    "0": "11643",
                                    "1": "Byron Katie, Stephen Mitchell",
                                    "2": "Loving What Is: Four Questions That Can Change Your Life",
                                    "3": "4.15"
                                },
                                {
                                    "0": "11643",
                                    "1": "C.S. Friedman",
                                    "2": "Black Sun Rising (The Coldfire Trilogy, #1)",
                                    "3": "3.93"
                                },
                                {
                                    "0": "11643",
                                    "1": "Caitlin Doughty",
                                    "2": "Smoke Gets in Your Eyes: And Other Lessons from the Crematory",
                                    "3": "4.04"
                                },
                                {
                                    "0": "11643",
                                    "1": "Caitlin Moran",
                                    "2": "How to Be a Woman",
                                    "3": "3.73"
                                },
                                {
                                    "0": "11643",
                                    "1": "Caitlin Moran",
                                    "2": "How to Build a Girl",
                                    "3": "3.69"
                                },
                                {
                                    "0": "11643",
                                    "1": "Candace Bushnell",
                                    "2": "Four Blondes",
                                    "3": "2.8"
                                },
                                {
                                    "0": "11643",
                                    "1": "Candace Bushnell",
                                    "2": "Sex and the City",
                                    "3": "3.37"
                                },
                                {
                                    "0": "11643",
                                    "1": "Carol Rifka Brunt",
                                    "2": "Tell the Wolves I'm Home",
                                    "3": "4.04"
                                },
                                {
                                    "0": "11643",
                                    "1": "Carol Ryrie Brink",
                                    "2": "Caddie Woodlawn  (Caddie Woodlawn #1)",
                                    "3": "3.99"
                                },
                                {
                                    "0": "11643",
                                    "1": "Carol Shields",
                                    "2": "Unless",
                                    "3": "3.63"
                                },
                                {
                                    "0": "11643",
                                    "1": "Caroline Myss",
                                    "2": "Anatomy of the Spirit: The Seven Stages of Power and Healing",
                                    "3": "4.12"
                                },
                                {
                                    "0": "11643",
                                    "1": "Carolyn Keene, Mildred Benson",
                                    "2": "The Hidden Staircase (Nancy Drew #2)",
                                    "3": "3.94"
                                },
                                {
                                    "0": "11643",
                                    "1": "Carolyn Keene, Russell H. Tandy, Sara Paretsky",
                                    "2": "The Secret of the Old Clock (Nancy Drew, #1)",
                                    "3": "3.98"
                                },
                                {
                                    "0": "11643",
                                    "1": "Carrie Brownstein",
                                    "2": "Hunger Makes Me a Modern Girl",
                                    "3": "3.88"
                                },
                                {
                                    "0": "11643",
                                    "1": "Carrie Fisher",
                                    "2": "The Princess Diarist",
                                    "3": "3.66"
                                },
                                {
                                    "0": "11643",
                                    "1": "Carrie Fisher",
                                    "2": "Wishful Drinking",
                                    "3": "3.71"
                                },
                                {
                                    "0": "11643",
                                    "1": "Carson McCullers",
                                    "2": "The Heart is a Lonely Hunter",
                                    "3": "3.97"
                                },
                                {
                                    "0": "11643",
                                    "1": "Catherine Marshall",
                                    "2": "Christy",
                                    "3": "4.2"
                                },
                                {
                                    "0": "11643",
                                    "1": "Catherine McKenzie",
                                    "2": "Hidden",
                                    "3": "3.44"
                                },
                                {
                                    "0": "11643",
                                    "1": "Catherynne M. Valente, Ana Juan",
                                    "2": "The Girl Who Circumnavigated Fairyland in a Ship of Her Own Making (Fairyland, #1)",
                                    "3": "3.97"
                                },
                                {
                                    "0": "11643",
                                    "1": "Celeste Ng",
                                    "2": "Everything I Never Told You",
                                    "3": "3.78"
                                },
                                {
                                    "0": "11643",
                                    "1": "Charlie Jane Anders",
                                    "2": "All the Birds in the Sky",
                                    "3": "3.58"
                                },
                                {
                                    "0": "11643",
                                    "1": "Charlotte Brontë",
                                    "2": "The Professor",
                                    "3": "3.56"
                                },
                                {
                                    "0": "11643",
                                    "1": "Charlotte Brontë, A.S. Byatt, Μαρία Λαϊνά, Ignes Sodre",
                                    "2": "Villette",
                                    "3": "3.75"
                                },
                                {
                                    "0": "11643",
                                    "1": "Charlotte Brontë, Lucasta Miller, collaborative, Jessica Cox",
                                    "2": "Shirley",
                                    "3": "3.71"
                                },
                                {
                                    "0": "11643",
                                    "1": "Charlotte Brontë, Michael Mason",
                                    "2": "Jane Eyre",
                                    "3": "4.1"
                                },
                                {
                                    "0": "11643",
                                    "1": "Charlotte Perkins Gilman",
                                    "2": "The Yellow Wallpaper and Other Stories",
                                    "3": "4.02"
                                },
                                {
                                    "0": "11643",
                                    "1": "Charlotte Perkins Gilman, Elaine Hedges",
                                    "2": "The Yellow Wall-Paper",
                                    "3": "4.11"
                                },
                                {
                                    "0": "11643",
                                    "1": "Cherie Priest",
                                    "2": "Boneshaker (The Clockwork Century, #1)",
                                    "3": "3.5"
                                },
                                {
                                    "0": "11643",
                                    "1": "Cheryl Strayed",
                                    "2": "Tiny Beautiful Things: Advice on Love and Life from Dear Sugar",
                                    "3": "4.29"
                                },
                                {
                                    "0": "11643",
                                    "1": "Chimamanda Ngozi Adichie",
                                    "2": "Americanah",
                                    "3": "4.26"
                                },
                                {
                                    "0": "11643",
                                    "1": "Chimamanda Ngozi Adichie",
                                    "2": "Half of a Yellow Sun",
                                    "3": "4.28"
                                },
                                {
                                    "0": "11643",
                                    "1": "Chimamanda Ngozi Adichie",
                                    "2": "Purple Hibiscus",
                                    "3": "4.11"
                                },
                                {
                                    "0": "11643",
                                    "1": "Chimamanda Ngozi Adichie",
                                    "2": "The Thing Around Your Neck",
                                    "3": "4.18"
                                },
                                {
                                    "0": "11643",
                                    "1": "Chimamanda Ngozi Adichie",
                                    "2": "We Should All Be Feminists",
                                    "3": "4.47"
                                },
                                {
                                    "0": "11643",
                                    "1": "Chitra Banerjee Divakaruni",
                                    "2": "The Mistress of Spices",
                                    "3": "3.48"
                                },
                                {
                                    "0": "11643",
                                    "1": "Chitra Banerjee Divakaruni",
                                    "2": "The Palace of Illusions",
                                    "3": "4.11"
                                },
                                {
                                    "0": "11643",
                                    "1": "Christiane Northrup",
                                    "2": "Women's Bodies, Women's Wisdom: Creating Physical and Emotional Health and Healing",
                                    "3": "4.32"
                                },
                                {
                                    "0": "11643",
                                    "1": "Christina Schwarz",
                                    "2": "Drowning Ruth",
                                    "3": "3.73"
                                },
                                {
                                    "0": "11643",
                                    "1": "Claire Messud",
                                    "2": "The Emperor's Children",
                                    "3": "2.93"
                                },
                                {
                                    "0": "11643",
                                    "1": "Claire Messud",
                                    "2": "The Woman Upstairs",
                                    "3": "3.31"
                                },
                                {
                                    "0": "11643",
                                    "1": "Claire North",
                                    "2": "The First Fifteen Lives of Harry August",
                                    "3": "4.04"
                                },
                                {
                                    "0": "11643",
                                    "1": "Clarissa Pinkola Estés",
                                    "2": "Women Who Run With the Wolves: Myths and Stories of the Wild Woman Archetype",
                                    "3": "4.15"
                                },
                                {
                                    "0": "11643",
                                    "1": "Claudia Gray",
                                    "2": "Lost Stars (Star Wars: Journey to the Force Awakens)",
                                    "3": "4.25"
                                },
                                {
                                    "0": "11643",
                                    "1": "Claudia Rankine",
                                    "2": "Citizen: An American Lyric",
                                    "3": "4.3"
                                },
                                {
                                    "0": "11643",
                                    "1": "Connie Willis",
                                    "2": "Blackout (All Clear, #1)",
                                    "3": "3.83"
                                },
                                {
                                    "0": "11643",
                                    "1": "Connie Willis",
                                    "2": "Doomsday Book (Oxford Time Travel, #1)",
                                    "3": "4.03"
                                },
                                {
                                    "0": "11643",
                                    "1": "Connie Willis",
                                    "2": "To Say Nothing of the Dog (Oxford Time Travel, #2)",
                                    "3": "4.13"
                                },
                                {
                                    "0": "11643",
                                    "1": "Courtney Milan",
                                    "2": "The Duchess War (Brothers Sinister, #1)",
                                    "3": "3.82"
                                },
                                {
                                    "0": "11643",
                                    "1": "Cristina Henriquez",
                                    "2": "The Book of Unknown Americans",
                                    "3": "3.85"
                                },
                                {
                                    "0": "11643",
                                    "1": "Curtis Sittenfeld",
                                    "2": "American Wife",
                                    "3": "3.72"
                                },
                                {
                                    "0": "11643",
                                    "1": "Curtis Sittenfeld",
                                    "2": "Prep",
                                    "3": "3.36"
                                },
                                {
                                    "0": "11643",
                                    "1": "Curtis Sittenfeld",
                                    "2": "Sisterland",
                                    "3": "3.35"
                                },
                                {
                                    "0": "11643",
                                    "1": "Cynthia Bond",
                                    "2": "Ruby",
                                    "3": "3.63"
                                },
                                {
                                    "0": "11643",
                                    "1": "Cynthia D'Aprix Sweeney",
                                    "2": "The Nest",
                                    "3": "3.45"
                                },
                                {
                                    "0": "11643",
                                    "1": "Cynthia Voigt",
                                    "2": "Homecoming (Tillerman Cycle, #1)",
                                    "3": "3.92"
                                },
                                {
                                    "0": "11643",
                                    "1": "Daphne du Maurier",
                                    "2": "Jamaica Inn",
                                    "3": "3.85"
                                },
                                {
                                    "0": "11643",
                                    "1": "Daphne du Maurier, Sally Beauman",
                                    "2": "Rebecca",
                                    "3": "4.2"
                                },
                                {
                                    "0": "11643",
                                    "1": "Dava Sobel",
                                    "2": "Galileo's Daughter: A Historical Memoir of Science, Faith and Love",
                                    "3": "3.74"
                                },
                                {
                                    "0": "11643",
                                    "1": "Dava Sobel, Neil Armstrong",
                                    "2": "Longitude: The True Story of a Lone Genius Who Solved the Greatest Scientific Problem of His Time",
                                    "3": "3.95"
                                },
                                {
                                    "0": "11643",
                                    "1": "Deb Perelman",
                                    "2": "The Smitten Kitchen Cookbook",
                                    "3": "4.14"
                                },
                                {
                                    "0": "11643",
                                    "1": "Deborah Blum",
                                    "2": "The Poisoner's Handbook: Murder and the Birth of Forensic Medicine in Jazz Age New York",
                                    "3": "4"
                                },
                                {
                                    "0": "11643",
                                    "1": "Deborah Rodriguez",
                                    "2": "The Little Coffee Shop of Kabul",
                                    "3": "3.57"
                                },
                                {
                                    "0": "11643",
                                    "1": "Denise Kiernan",
                                    "2": "The Girls of Atomic City: The Untold Story of the Women Who Helped Win World War II",
                                    "3": "3.66"
                                },
                                {
                                    "0": "11643",
                                    "1": "Diablo Cody",
                                    "2": "Candy Girl: A Year in the Life of an Unlikely Stripper",
                                    "3": "3.54"
                                },
                                {
                                    "0": "11643",
                                    "1": "Dian Fossey",
                                    "2": "Gorillas in the Mist",
                                    "3": "4.16"
                                },
                                {
                                    "0": "11643",
                                    "1": "Diana Gabaldon",
                                    "2": "The Space Between (Outlander, #7.5)",
                                    "3": "4.22"
                                },
                                {
                                    "0": "11643",
                                    "1": "Diana Wynne Jones",
                                    "2": "Castle in the Air (Howl's Moving Castle, #2)",
                                    "3": "3.93"
                                },
                                {
                                    "0": "11643",
                                    "1": "Diana Wynne Jones",
                                    "2": "Charmed Life (Chrestomanci, #1)",
                                    "3": "3.95"
                                },
                                {
                                    "0": "11643",
                                    "1": "Diana Wynne Jones",
                                    "2": "House of Many Ways (Howl's Moving Castle, #3)",
                                    "3": "4.03"
                                },
                                {
                                    "0": "11643",
                                    "1": "Diana Wynne Jones",
                                    "2": "Howl's Moving Castle (Howl's Moving Castle, #1)",
                                    "3": "4.3"
                                },
                                {
                                    "0": "11643",
                                    "1": "Diana Wynne Jones",
                                    "2": "The Lives of Christopher Chant (Chrestomanci, #2)",
                                    "3": "4.22"
                                },
                                {
                                    "0": "11643",
                                    "1": "Diane Duane",
                                    "2": "So You Want to Be a Wizard (Young Wizards, #1)",
                                    "3": "3.8"
                                },
                                {
                                    "0": "11643",
                                    "1": "Diane Muldrow, J.P. Miller",
                                    "2": "The Little Red Hen (Little Golden Book)",
                                    "3": "4.2"
                                },
                                {
                                    "0": "11643",
                                    "1": "Diane Setterfield",
                                    "2": "The Thirteenth Tale",
                                    "3": "3.95"
                                },
                                {
                                    "0": "11643",
                                    "1": "Dodie Smith",
                                    "2": "I Capture the Castle",
                                    "3": "4"
                                },
                                {
                                    "0": "11643",
                                    "1": "Donna Leon",
                                    "2": "Death at La Fenice (Commissario Brunetti, #1)",
                                    "3": "3.81"
                                },
                                {
                                    "0": "11643",
                                    "1": "Donna Tartt",
                                    "2": "The Little Friend",
                                    "3": "3.43"
                                },
                                {
                                    "0": "11643",
                                    "1": "Donna Tartt",
                                    "2": "The Secret History",
                                    "3": "4.07"
                                },
                                {
                                    "0": "11643",
                                    "1": "Doris Lessing",
                                    "2": "The Golden Notebook",
                                    "3": "3.75"
                                },
                                {
                                    "0": "11643",
                                    "1": "Dorothy Allison",
                                    "2": "Bastard Out of Carolina",
                                    "3": "4.09"
                                },
                                {
                                    "0": "11643",
                                    "1": "Dorothy L. Sayers",
                                    "2": "Clouds of Witness (Lord Peter Wimsey, #2)",
                                    "3": "4.04"
                                },
                                {
                                    "0": "11643",
                                    "1": "Dorothy L. Sayers",
                                    "2": "Gaudy Night (Lord Peter Wimsey, #12)",
                                    "3": "4.26"
                                },
                                {
                                    "0": "11643",
                                    "1": "Dorothy L. Sayers",
                                    "2": "Murder Must Advertise  (Lord Peter Wimsey, #10)",
                                    "3": "4.21"
                                },
                                {
                                    "0": "11643",
                                    "1": "Dorothy L. Sayers",
                                    "2": "Whose Body?  (Lord Peter Wimsey, #1)",
                                    "3": "3.91"
                                },
                                {
                                    "0": "11643",
                                    "1": "E. Nesbit",
                                    "2": "Five Children and It (Five Children, #1)",
                                    "3": "3.88"
                                },
                                {
                                    "0": "11643",
                                    "1": "E. Nesbit",
                                    "2": "The Railway Children",
                                    "3": "3.99"
                                },
                                {
                                    "0": "11643",
                                    "1": "Edan Lepucki",
                                    "2": "California",
                                    "3": "3.22"
                                },
                                {
                                    "0": "11643",
                                    "1": "Edith Hamilton, Steele Savage",
                                    "2": "Mythology: Timeless Tales of Gods and Heroes",
                                    "3": "3.98"
                                },
                                {
                                    "0": "11643",
                                    "1": "Edith Wharton",
                                    "2": "Ethan Frome",
                                    "3": "3.35"
                                },
                                {
                                    "0": "11643",
                                    "1": "Edith Wharton, Maureen Howard",
                                    "2": "The Age of Innocence",
                                    "3": "3.93"
                                },
                                {
                                    "0": "11643",
                                    "1": "Edith Wharton, Nina Bawden",
                                    "2": "The House of Mirth",
                                    "3": "3.94"
                                },
                                {
                                    "0": "11643",
                                    "1": "Edwidge Danticat",
                                    "2": "Breath, Eyes, Memory",
                                    "3": "3.86"
                                },
                                {
                                    "0": "11643",
                                    "1": "Elaine Pagels",
                                    "2": "The Gnostic Gospels",
                                    "3": "3.93"
                                },
                                {
                                    "0": "11643",
                                    "1": "Eleanor Brown",
                                    "2": "The Weird Sisters",
                                    "3": "3.36"
                                },
                                {
                                    "0": "11643",
                                    "1": "Eleanor Catton",
                                    "2": "The Luminaries",
                                    "3": "3.7"
                                },
                                {
                                    "0": "11643",
                                    "1": "Eleanor Coerr, Ronald Himler",
                                    "2": "Sadako and the Thousand Paper Cranes",
                                    "3": "4.09"
                                },
                                {
                                    "0": "11643",
                                    "1": "Eleanor H. Porter",
                                    "2": "Pollyanna (Pollyanna, #1)",
                                    "3": "3.95"
                                },
                                {
                                    "0": "11643",
                                    "1": "Elena Ferrante, Ann Goldstein",
                                    "2": "My Brilliant Friend (The Neapolitan Novels #1)",
                                    "3": "3.88"
                                },
                                {
                                    "0": "11643",
                                    "1": "Elena Ferrante, Ann Goldstein",
                                    "2": "The Story of a New Name (The Neapolitan Novels #2)",
                                    "3": "4.37"
                                },
                                {
                                    "0": "11643",
                                    "1": "Elena Ferrante, Ann Goldstein",
                                    "2": "The Story of the Lost Child (The Neapolitan Novels, #4)",
                                    "3": "4.39"
                                },
                                {
                                    "0": "11643",
                                    "1": "Elena Ferrante, Ann Goldstein",
                                    "2": "Those Who Leave and Those Who Stay (The Neapolitan Novels #3)",
                                    "3": "4.29"
                                },
                                {
                                    "0": "11643",
                                    "1": "Elif Shafak",
                                    "2": "The Bastard of Istanbul",
                                    "3": "3.79"
                                },
                                {
                                    "0": "11643",
                                    "1": "Elizabeth  George",
                                    "2": "A Great Deliverance (Inspector Lynley, #1)",
                                    "3": "4.06"
                                },
                                {
                                    "0": "11643",
                                    "1": "Elizabeth Gaskell",
                                    "2": "Cranford",
                                    "3": "3.85"
                                },
                                {
                                    "0": "11643",
                                    "1": "Elizabeth Gaskell, Alan Shelston",
                                    "2": "North and South",
                                    "3": "4.13"
                                },
                                {
                                    "0": "11643",
                                    "1": "Elizabeth Gaskell, Pam Morris",
                                    "2": "Wives and Daughters",
                                    "3": "4.07"
                                },
                                {
                                    "0": "11643",
                                    "1": "Elizabeth Gaskell, Shirley Foster",
                                    "2": "Mary Barton",
                                    "3": "3.7"
                                },
                                {
                                    "0": "11643",
                                    "1": "Elizabeth Gilbert",
                                    "2": "Big Magic: Creative Living Beyond Fear",
                                    "3": "3.9"
                                },
                                {
                                    "0": "11643",
                                    "1": "Elizabeth Gilbert",
                                    "2": "Committed: A Skeptic Makes Peace with Marriage",
                                    "3": "3.39"
                                },
                                {
                                    "0": "11643",
                                    "1": "Elizabeth Gilbert",
                                    "2": "The Signature of All Things",
                                    "3": "3.81"
                                },
                                {
                                    "0": "11643",
                                    "1": "Elizabeth Haydon",
                                    "2": "Rhapsody: Child of Blood (Symphony of Ages, #1)",
                                    "3": "3.95"
                                },
                                {
                                    "0": "11643",
                                    "1": "Elizabeth Kolbert",
                                    "2": "The Sixth Extinction: An Unnatural History",
                                    "3": "4.09"
                                },
                                {
                                    "0": "11643",
                                    "1": "Elizabeth Kostova",
                                    "2": "The Historian",
                                    "3": "3.77"
                                },
                                {
                                    "0": "11643",
                                    "1": "Elizabeth Little",
                                    "2": "Dear Daughter",
                                    "3": "3.44"
                                },
                                {
                                    "0": "11643",
                                    "1": "Elizabeth Peters",
                                    "2": "Crocodile on the Sandbank (Amelia Peabody #1)",
                                    "3": "4.02"
                                },
                                {
                                    "0": "11643",
                                    "1": "Elizabeth Ross, ROFry",
                                    "2": "The Three Little Pigs",
                                    "3": "4.26"
                                },
                                {
                                    "0": "11643",
                                    "1": "Elizabeth Strout, Goran Skrobonja",
                                    "2": "My Name Is Lucy Barton",
                                    "3": "3.51"
                                },
                                {
                                    "0": "11643",
                                    "1": "Ellis Peters",
                                    "2": "A Morbid Taste for Bones (Chronicles of Brother Cadfael, #1)",
                                    "3": "3.99"
                                },
                                {
                                    "0": "11643",
                                    "1": "Else Holmelund Minarik, Maurice Sendak",
                                    "2": "A Kiss for Little Bear (An I Can Read Book) by Minarik, Else Holmelund [1984]",
                                    "3": "4.31"
                                },
                                {
                                    "0": "11643",
                                    "1": "Else Holmelund Minarik, Maurice Sendak",
                                    "2": "Little Bear",
                                    "3": "4.22"
                                },
                                {
                                    "0": "11643",
                                    "1": "Emily Brontë, Richard J. Dunn",
                                    "2": "Wuthering Heights",
                                    "3": "3.82"
                                },
                                {
                                    "0": "11643",
                                    "1": "Emily Carroll",
                                    "2": "Through the Woods",
                                    "3": "3.92"
                                },
                                {
                                    "0": "11643",
                                    "1": "Emily Dickinson",
                                    "2": "Selected Poems",
                                    "3": "4.16"
                                },
                                {
                                    "0": "11643",
                                    "1": "Emily M. Danforth",
                                    "2": "The Miseducation of Cameron Post",
                                    "3": "3.99"
                                },
                                {
                                    "0": "11643",
                                    "1": "Emily St. John Mandel",
                                    "2": "Station Eleven",
                                    "3": "4.02"
                                },
                                {
                                    "0": "11643",
                                    "1": "Emma Cline",
                                    "2": "The Girls",
                                    "3": "3.49"
                                },
                                {
                                    "0": "11643",
                                    "1": "Emma Donoghue",
                                    "2": "Frog Music",
                                    "3": "3.13"
                                },
                                {
                                    "0": "11643",
                                    "1": "Emma Donoghue",
                                    "2": "Room",
                                    "3": "4.03"
                                },
                                {
                                    "0": "11643",
                                    "1": "Emma Donoghue",
                                    "2": "Slammerkin",
                                    "3": "3.69"
                                },
                                {
                                    "0": "11643",
                                    "1": "Emma Donoghue",
                                    "2": "The Wonder",
                                    "3": "3.65"
                                },
                                {
                                    "0": "11643",
                                    "1": "Emma McLaughlin, Nicola Kraus",
                                    "2": "The Nanny Diaries (Nanny, #1)",
                                    "3": "3.4"
                                },
                                {
                                    "0": "11643",
                                    "1": "Emma Straub",
                                    "2": "Modern Lovers",
                                    "3": "3.45"
                                },
                                {
                                    "0": "11643",
                                    "1": "Emma Straub",
                                    "2": "The Vacationers",
                                    "3": "3.14"
                                },
                                {
                                    "0": "11643",
                                    "1": "Emmuska Orczy",
                                    "2": "The Scarlet Pimpernel",
                                    "3": "4.06"
                                },
                                {
                                    "0": "11643",
                                    "1": "Enid Bagnold",
                                    "2": "National Velvet",
                                    "3": "4.09"
                                },
                                {
                                    "0": "11643",
                                    "1": "Enid Blyton",
                                    "2": "Five Go Adventuring Again (Famous Five, #2)",
                                    "3": "3.99"
                                },
                                {
                                    "0": "11643",
                                    "1": "Enid Blyton",
                                    "2": "Five Go to Smuggler's Top (Famous Five, #4)",
                                    "3": "4.03"
                                },
                                {
                                    "0": "11643",
                                    "1": "Enid Blyton",
                                    "2": "The Enchanted Wood (The Faraway Tree, #1)",
                                    "3": "4.24"
                                },
                                {
                                    "0": "11643",
                                    "1": "Eowyn Ivey",
                                    "2": "The Snow Child",
                                    "3": "3.95"
                                },
                                {
                                    "0": "11643",
                                    "1": "Erica Jong",
                                    "2": "Fear of Flying",
                                    "3": "3.44"
                                },
                                {
                                    "0": "11643",
                                    "1": "Erika Swyler",
                                    "2": "The Book of Speculation",
                                    "3": "3.59"
                                },
                                {
                                    "0": "11643",
                                    "1": "Erin Hunter",
                                    "2": "Dawn (Warriors: The New Prophecy, #3)",
                                    "3": "4.31"
                                },
                                {
                                    "0": "11643",
                                    "1": "Erin Hunter",
                                    "2": "Moonrise (Warriors: The New Prophecy, #2)",
                                    "3": "4.31"
                                },
                                {
                                    "0": "11643",
                                    "1": "Erin Hunter",
                                    "2": "Starlight (Warriors: The New Prophecy, #4)",
                                    "3": "4.28"
                                },
                                {
                                    "0": "11643",
                                    "1": "Erin Hunter",
                                    "2": "Sunset (Warriors: The New Prophecy, #6)",
                                    "3": "4.35"
                                },
                                {
                                    "0": "11643",
                                    "1": "Erin Hunter",
                                    "2": "Twilight (Warriors: The New Prophecy, #5)",
                                    "3": "4.3"
                                },
                                {
                                    "0": "11643",
                                    "1": "Esi Edugyan",
                                    "2": "Half Blood Blues",
                                    "3": "3.63"
                                },
                                {
                                    "0": "11643",
                                    "1": "Eve Ensler, Gloria Steinem",
                                    "2": "The Vagina Monologues",
                                    "3": "3.86"
                                },
                                {
                                    "0": "11643",
                                    "1": "Fannie Flagg",
                                    "2": "Fried Green Tomatoes at the Whistle Stop Cafe",
                                    "3": "4.26"
                                },
                                {
                                    "0": "11643",
                                    "1": "Felicia Day, Joss Whedon",
                                    "2": "You're Never Weird on the Internet (Almost)",
                                    "3": "4.14"
                                },
                                {
                                    "0": "11643",
                                    "1": "Flannery O'Connor",
                                    "2": "A Good Man is Hard to Find and Other Stories",
                                    "3": "4.24"
                                },
                                {
                                    "0": "11643",
                                    "1": "Flannery O'Connor",
                                    "2": "The Complete Stories",
                                    "3": "4.44"
                                },
                                {
                                    "0": "11643",
                                    "1": "Flannery O'Connor",
                                    "2": "Wise Blood",
                                    "3": "3.88"
                                },
                                {
                                    "0": "11643",
                                    "1": "Frances Hodgson Burnett",
                                    "2": "Little Lord Fauntleroy",
                                    "3": "3.81"
                                },
                                {
                                    "0": "11643",
                                    "1": "Frances Mayes",
                                    "2": "Bella Tuscany",
                                    "3": "3.74"
                                },
                                {
                                    "0": "11643",
                                    "1": "Françoise Sagan",
                                    "2": "Bonjour tristesse",
                                    "3": "3.62"
                                },
                                {
                                    "0": "11643",
                                    "1": "G. Willow Wilson",
                                    "2": "Alif the Unseen",
                                    "3": "3.84"
                                },
                                {
                                    "0": "11643",
                                    "1": "G. Willow Wilson, Adrian Alphona",
                                    "2": "Ms. Marvel, Vol. 1: No Normal",
                                    "3": "4.13"
                                },
                                {
                                    "0": "11643",
                                    "1": "G. Willow Wilson, Adrian Alphona, Jacob Wyatt",
                                    "2": "Ms. Marvel, Vol. 2: Generation Why",
                                    "3": "4.14"
                                },
                                {
                                    "0": "11643",
                                    "1": "Gabrielle Hamilton",
                                    "2": "Blood, Bones, and Butter: The Inadvertent Education of a Reluctant Chef",
                                    "3": "3.71"
                                },
                                {
                                    "0": "11643",
                                    "1": "Gail Carriger",
                                    "2": "Blameless (Parasol Protectorate, #3)",
                                    "3": "4.01"
                                },
                                {
                                    "0": "11643",
                                    "1": "Gail Carriger",
                                    "2": "Changeless (Parasol Protectorate, #2)",
                                    "3": "4"
                                },
                                {
                                    "0": "11643",
                                    "1": "Gail Carriger",
                                    "2": "Curtsies & Conspiracies (Finishing School, #2)",
                                    "3": "4.11"
                                },
                                {
                                    "0": "11643",
                                    "1": "Gail Carriger",
                                    "2": "Heartless (Parasol Protectorate, #4)",
                                    "3": "4.07"
                                },
                                {
                                    "0": "11643",
                                    "1": "Gail Carriger",
                                    "2": "Soulless (Parasol Protectorate, #1)",
                                    "3": "3.91"
                                },
                                {
                                    "0": "11643",
                                    "1": "Gail Carriger",
                                    "2": "Timeless (Parasol Protectorate, #5)",
                                    "3": "4.12"
                                },
                                {
                                    "0": "11643",
                                    "1": "Gail Carson Levine",
                                    "2": "The Two Princesses of Bamarre",
                                    "3": "4.02"
                                },
                                {
                                    "0": "11643",
                                    "1": "Gail Tsukiyama",
                                    "2": "Women of the Silk",
                                    "3": "3.94"
                                },
                                {
                                    "0": "11643",
                                    "1": "Genevieve Cogman",
                                    "2": "The Invisible Library (The Invisible Library, #1)",
                                    "3": "3.73"
                                },
                                {
                                    "0": "11643",
                                    "1": "George Eliot, A.S. Byatt",
                                    "2": "The Mill on the Floss",
                                    "3": "3.77"
                                },
                                {
                                    "0": "11643",
                                    "1": "George Eliot, Edmund White",
                                    "2": "Daniel Deronda",
                                    "3": "3.82"
                                },
                                {
                                    "0": "11643",
                                    "1": "George Eliot, Joanna Trollope, Hugh Osborne",
                                    "2": "Adam Bede",
                                    "3": "3.77"
                                },
                                {
                                    "0": "11643",
                                    "1": "George Eliot, Michel Faber",
                                    "2": "Middlemarch",
                                    "3": "3.93"
                                },
                                {
                                    "0": "11643",
                                    "1": "Georgette Heyer",
                                    "2": "Frederica",
                                    "3": "4.15"
                                },
                                {
                                    "0": "11643",
                                    "1": "Georgette Heyer",
                                    "2": "The Grand Sophy",
                                    "3": "4.16"
                                },
                                {
                                    "0": "11643",
                                    "1": "Geraldine Brooks",
                                    "2": "Nine Parts of Desire: The Hidden World of Islamic Women",
                                    "3": "4.04"
                                },
                                {
                                    "0": "11643",
                                    "1": "Geraldine Brooks",
                                    "2": "Year of Wonders",
                                    "3": "4"
                                },
                                {
                                    "0": "11643",
                                    "1": "Gertrude Crampton",
                                    "2": "Scuffy the Tugboat (Big Little Golden Book)",
                                    "3": "4.11"
                                },
                                {
                                    "0": "11643",
                                    "1": "Gillian Flynn",
                                    "2": "The Grownup",
                                    "3": "3.54"
                                },
                                {
                                    "0": "11643",
                                    "1": "Giulia Enders, Jill Enders",
                                    "2": "Gut: The Inside Story of Our Body’s Most Underrated Organ",
                                    "3": "3.99"
                                },
                                {
                                    "0": "11643",
                                    "1": "Gloria Steinem",
                                    "2": "My Life on the Road",
                                    "3": "4.08"
                                },
                                {
                                    "0": "11643",
                                    "1": "Han Kang, Deborah     Smith",
                                    "2": "The Vegetarian",
                                    "3": "3.59"
                                },
                                {
                                    "0": "11643",
                                    "1": "Hannah  Green, Joanne Greenberg",
                                    "2": "I Never Promised You a Rose Garden",
                                    "3": "3.85"
                                },
                                {
                                    "0": "11643",
                                    "1": "Hannah Kent",
                                    "2": "Burial Rites",
                                    "3": "4.01"
                                },
                                {
                                    "0": "11643",
                                    "1": "Hanya Yanagihara",
                                    "2": "A Little Life",
                                    "3": "4.27"
                                },
                                {
                                    "0": "11643",
                                    "1": "Harper Lee",
                                    "2": "Go Set a Watchman",
                                    "3": "3.31"
                                },
                                {
                                    "0": "11643",
                                    "1": "Harriet Jacobs",
                                    "2": "Incidents in the Life of a Slave Girl",
                                    "3": "4.08"
                                },
                                {
                                    "0": "11643",
                                    "1": "Harriet Lerner",
                                    "2": "The Dance Of Anger: A Woman's Guide to Changing the Patterns of Intimate Relationships",
                                    "3": "4.02"
                                },
                                {
                                    "0": "11643",
                                    "1": "Heather O'Neill",
                                    "2": "Lullabies for Little Criminals",
                                    "3": "3.95"
                                },
                                {
                                    "0": "11643",
                                    "1": "Helen Fielding",
                                    "2": "Bridget Jones: The Edge of Reason (Bridget Jones, #2)",
                                    "3": "3.53"
                                },
                                {
                                    "0": "11643",
                                    "1": "Helen Fielding",
                                    "2": "Bridget Jones's Diary (Bridget Jones, #1)",
                                    "3": "3.75"
                                },
                                {
                                    "0": "11643",
                                    "1": "Helen Fielding",
                                    "2": "Mad About the Boy (Bridget Jones, #3)",
                                    "3": "3.32"
                                },
                                {
                                    "0": "11643",
                                    "1": "Helen Fielding",
                                    "2": "Olivia Joules and the Overactive Imagination",
                                    "3": "3.1"
                                },
                                {
                                    "0": "11643",
                                    "1": "Helen Hooven Santmyer",
                                    "2": "And Ladies of the Club",
                                    "3": "4.12"
                                },
                                {
                                    "0": "11643",
                                    "1": "Helen Keller",
                                    "2": "The Story of My Life",
                                    "3": "4.07"
                                },
                                {
                                    "0": "11643",
                                    "1": "Helen Macdonald",
                                    "2": "H is for Hawk",
                                    "3": "3.74"
                                },
                                {
                                    "0": "11643",
                                    "1": "Helen Oyeyemi",
                                    "2": "Boy, Snow, Bird",
                                    "3": "3.34"
                                },
                                {
                                    "0": "11643",
                                    "1": "Helene Hanff",
                                    "2": "84, Charing Cross Road",
                                    "3": "4.19"
                                },
                                {
                                    "0": "11643",
                                    "1": "Helene Wecker",
                                    "2": "The Golem and the Jinni (The Golem and the Jinni, #1)",
                                    "3": "4.1"
                                },
                                {
                                    "0": "11643",
                                    "1": "Hilary Mantel",
                                    "2": "Bring Up the Bodies (Thomas Cromwell, #2)",
                                    "3": "4.26"
                                },
                                {
                                    "0": "11643",
                                    "1": "Hilary Mantel",
                                    "2": "Wolf Hall (Thomas Cromwell, #1)",
                                    "3": "3.85"
                                },
                                {
                                    "0": "11643",
                                    "1": "Inga Muscio, Betty Dodson",
                                    "2": "Cunt: A Declaration of Independence",
                                    "3": "3.88"
                                },
                                {
                                    "0": "11643",
                                    "1": "Irin Carmon, Shana Knizhnik",
                                    "2": "Notorious RBG: The Life and Times of Ruth Bader Ginsburg",
                                    "3": "4.22"
                                },
                                {
                                    "0": "11643",
                                    "1": "Iris Murdoch",
                                    "2": "Under the Net",
                                    "3": "3.76"
                                },
                                {
                                    "0": "11643",
                                    "1": "Iris Murdoch, Mary Kinzie",
                                    "2": "The Sea, the Sea",
                                    "3": "3.9"
                                },
                                {
                                    "0": "11643",
                                    "1": "Isa Chandra Moskowitz, Terry Hope Romero",
                                    "2": "Veganomicon: The Ultimate Vegan Cookbook",
                                    "3": "3.98"
                                },
                                {
                                    "0": "11643",
                                    "1": "Isa Chandra Moskowitz, Terry Hope Romero, Sara Quin",
                                    "2": "Vegan Cupcakes Take Over the World: 75 Dairy-Free Recipes for Cupcakes that Rule",
                                    "3": "4.08"
                                },
                                {
                                    "0": "11643",
                                    "1": "Isabel Allende, Magda Bogin",
                                    "2": "The House of the Spirits",
                                    "3": "4.2"
                                },
                                {
                                    "0": "11643",
                                    "1": "Isabel Allende, Margaret Sayers Peden",
                                    "2": "City of the Beasts (Eagle and Jaguar, #1)",
                                    "3": "3.69"
                                },
                                {
                                    "0": "11643",
                                    "1": "Isabel Allende, Margaret Sayers Peden",
                                    "2": "Of Love and Shadows",
                                    "3": "3.96"
                                },
                                {
                                    "0": "11643",
                                    "1": "Isabel Allende, Margaret Sayers Peden",
                                    "2": "Zorro",
                                    "3": "3.75"
                                },
                                {
                                    "0": "11643",
                                    "1": "Isabel Allende, Oliver Brock, Frank Wynne",
                                    "2": "Ripper",
                                    "3": "3.24"
                                },
                                {
                                    "0": "11643",
                                    "1": "Isabel Wilkerson",
                                    "2": "The Warmth of Other Suns: The Epic Story of America's Great Migration",
                                    "3": "4.31"
                                },
                                {
                                    "0": "11643",
                                    "1": "Isak Dinesen, Karen Blixen",
                                    "2": "Out of Africa",
                                    "3": "3.96"
                                },
                                {
                                    "0": "11643",
                                    "1": "J.K. Rowling",
                                    "2": "Harry Potter Schoolbooks Box Set: Two Classic Books from the Library of Hogwarts School of Witchcraft and Wizardry",
                                    "3": "4.4"
                                },
                                {
                                    "0": "11643",
                                    "1": "J.K. Rowling",
                                    "2": "Hogwarts: An Incomplete and Unreliable Guide (Pottermore Presents, #3)",
                                    "3": "4.21"
                                },
                                {
                                    "0": "11643",
                                    "1": "J.K. Rowling",
                                    "2": "The Casual Vacancy",
                                    "3": "3.28"
                                },
                                {
                                    "0": "11643",
                                    "1": "J.K. Rowling",
                                    "2": "The Tales of Beedle the Bard",
                                    "3": "4.06"
                                },
                                {
                                    "0": "11643",
                                    "1": "J.K. Rowling, Joel Holland",
                                    "2": "Very Good Lives: The Fringe Benefits of Failure and the Importance of Imagination",
                                    "3": "4.26"
                                },
                                {
                                    "0": "11643",
                                    "1": "J.K. Rowling, Mary GrandPré",
                                    "2": "Harry Potter and the Order of the Phoenix (Harry Potter, #5)",
                                    "3": "4.46"
                                },
                                {
                                    "0": "11643",
                                    "1": "J.K. Rowling, Mary GrandPré",
                                    "2": "The Harry Potter Collection 1-4 (Harry Potter, #1-4)",
                                    "3": "4.66"
                                },
                                {
                                    "0": "11643",
                                    "1": "J.K. Rowling, MinaLima",
                                    "2": "Short Stories from Hogwarts of Heroism, Hardship and Dangerous Hobbies (Pottermore Presents, #1)",
                                    "3": "4.22"
                                },
                                {
                                    "0": "11643",
                                    "1": "J.K. Rowling, MinaLima",
                                    "2": "Short Stories from Hogwarts of Power, Politics and Pesky Poltergeists (Pottermore Presents, #2)",
                                    "3": "4.2"
                                },
                                {
                                    "0": "11643",
                                    "1": "Jacqueline Carey",
                                    "2": "Kushiel's Avatar (Phèdre's Trilogy, #3)",
                                    "3": "4.37"
                                },
                                {
                                    "0": "11643",
                                    "1": "Jacqueline Carey",
                                    "2": "Kushiel's Chosen (Phèdre's Trilogy, #2)",
                                    "3": "4.31"
                                },
                                {
                                    "0": "11643",
                                    "1": "Jacqueline Carey",
                                    "2": "Kushiel's Dart (Phèdre's Trilogy, #1)",
                                    "3": "4.04"
                                },
                                {
                                    "0": "11643",
                                    "1": "Jacqueline Carey",
                                    "2": "Kushiel's Justice (Imriel's Trilogy, #2)",
                                    "3": "4.24"
                                },
                                {
                                    "0": "11643",
                                    "1": "Jacqueline Carey",
                                    "2": "Kushiel's Mercy (Imriel's Trilogy, #3)",
                                    "3": "4.3"
                                },
                                {
                                    "0": "11643",
                                    "1": "Jacqueline Carey",
                                    "2": "Kushiel's Scion (Imriel's Trilogy, #1)",
                                    "3": "4.19"
                                },
                                {
                                    "0": "11643",
                                    "1": "Jacqueline Susann",
                                    "2": "Valley of the Dolls",
                                    "3": "3.7"
                                },
                                {
                                    "0": "11643",
                                    "1": "Jacqueline Wilson",
                                    "2": "Girls in Love (Girls, #1)",
                                    "3": "3.53"
                                },
                                {
                                    "0": "11643",
                                    "1": "Jacqueline Wilson, Nick Sharratt",
                                    "2": "The Illustrated Mum",
                                    "3": "3.74"
                                },
                                {
                                    "0": "11643",
                                    "1": "Jacqueline Wilson, Nick Sharratt",
                                    "2": "The Story of Tracy Beaker",
                                    "3": "3.69"
                                },
                                {
                                    "0": "11643",
                                    "1": "Jacqueline Wilson, Nick Sharratt, Sue Heap",
                                    "2": "Double Act",
                                    "3": "3.69"
                                },
                                {
                                    "0": "11643",
                                    "1": "Jacqueline Winspear",
                                    "2": "Birds of a Feather (Maisie Dobbs, #2)",
                                    "3": "3.95"
                                },
                                {
                                    "0": "11643",
                                    "1": "Jacqueline Winspear",
                                    "2": "Messenger of Truth (Maisie Dobbs, #4)",
                                    "3": "3.99"
                                },
                                {
                                    "0": "11643",
                                    "1": "Jacqueline Woodson",
                                    "2": "Another Brooklyn",
                                    "3": "3.87"
                                },
                                {
                                    "0": "11643",
                                    "1": "Jami Attenberg",
                                    "2": "The Middlesteins",
                                    "3": "3.42"
                                },
                                {
                                    "0": "11643",
                                    "1": "Jan Karon",
                                    "2": "Out to Canaan (Mitford Years, #4)",
                                    "3": "4.28"
                                },
                                {
                                    "0": "11643",
                                    "1": "Jan Karon",
                                    "2": "These High, Green Hills (Mitford Years, #3)",
                                    "3": "4.27"
                                },
                                {
                                    "0": "11643",
                                    "1": "Jane Austen, Alfred MacAdam",
                                    "2": "Northanger Abbey",
                                    "3": "3.8"
                                },
                                {
                                    "0": "11643",
                                    "1": "Jane Austen, Fiona Stafford",
                                    "2": "Emma",
                                    "3": "3.99"
                                },
                                {
                                    "0": "11643",
                                    "1": "Jane Austen, James Kinsley, Deidre Shauna Lynch",
                                    "2": "Persuasion",
                                    "3": "4.13"
                                },
                                {
                                    "0": "11643",
                                    "1": "Jane Austen, Kathryn Sutherland, Tony Tanner, Claire Lamont",
                                    "2": "Mansfield Park",
                                    "3": "3.84"
                                },
                                {
                                    "0": "11643",
                                    "1": "Jane Austen, Robert William Chapman",
                                    "2": "Lady Susan",
                                    "3": "3.56"
                                },
                                {
                                    "0": "11643",
                                    "1": "Jane Austen, Tony Tanner, Ros Ballaster",
                                    "2": "Sense and Sensibility",
                                    "3": "4.06"
                                },
                                {
                                    "0": "11643",
                                    "1": "Jane Harper",
                                    "2": "The Dry (Aaron Falk, #1)",
                                    "3": "4.07"
                                },
                                {
                                    "0": "11643",
                                    "1": "Jane Smiley",
                                    "2": "A Thousand Acres",
                                    "3": "3.79"
                                },
                                {
                                    "0": "11643",
                                    "1": "Janet Fitch",
                                    "2": "White Oleander",
                                    "3": "3.93"
                                },
                                {
                                    "0": "11643",
                                    "1": "Janet Stevens, Hans Christian Andersen",
                                    "2": "The Princess and the Pea",
                                    "3": "4.1"
                                },
                                {
                                    "0": "11643",
                                    "1": "Janne Teller, Martin Aitken",
                                    "2": "Nothing",
                                    "3": "3.76"
                                },
                                {
                                    "0": "11643",
                                    "1": "Jean M. Auel",
                                    "2": "The Clan of the Cave Bear (Earth's Children, #1)",
                                    "3": "4.02"
                                },
                                {
                                    "0": "11643",
                                    "1": "Jean M. Auel",
                                    "2": "The Valley of Horses (Earth's Children, #2)",
                                    "3": "3.98"
                                },
                                {
                                    "0": "11643",
                                    "1": "Jean Rhys",
                                    "2": "Wide Sargasso Sea",
                                    "3": "3.56"
                                },
                                {
                                    "0": "11643",
                                    "1": "Jean Webster",
                                    "2": "Daddy-Long-Legs (Daddy-Long-Legs, #1)",
                                    "3": "4.09"
                                },
                                {
                                    "0": "11643",
                                    "1": "Jeanette Winterson",
                                    "2": "Oranges Are Not the Only Fruit",
                                    "3": "3.75"
                                },
                                {
                                    "0": "11643",
                                    "1": "Jeanette Winterson",
                                    "2": "Sexing the Cherry",
                                    "3": "3.83"
                                },
                                {
                                    "0": "11643",
                                    "1": "Jeanette Winterson",
                                    "2": "The Passion",
                                    "3": "4.12"
                                },
                                {
                                    "0": "11643",
                                    "1": "Jeanette Winterson",
                                    "2": "Why Be Happy When You Could Be Normal?",
                                    "3": "3.94"
                                },
                                {
                                    "0": "11643",
                                    "1": "Jeanette Winterson",
                                    "2": "Written on the Body",
                                    "3": "4.08"
                                },
                                {
                                    "0": "11643",
                                    "1": "Jenna Jameson, Neil Strauss",
                                    "2": "How to Make Love Like a Porn Star: A Cautionary Tale",
                                    "3": "3.75"
                                },
                                {
                                    "0": "11643",
                                    "1": "Jennifer Crusie",
                                    "2": "Anyone But You",
                                    "3": "3.8"
                                },
                                {
                                    "0": "11643",
                                    "1": "Jennifer Crusie",
                                    "2": "Faking It (Dempseys, #2)",
                                    "3": "3.9"
                                },
                                {
                                    "0": "11643",
                                    "1": "Jennifer Donnelly",
                                    "2": "The Winter Rose (The Tea Rose, #2)",
                                    "3": "4.29"
                                },
                                {
                                    "0": "11643",
                                    "1": "Jennifer Egan",
                                    "2": "A Visit from the Goon Squad",
                                    "3": "3.64"
                                },
                                {
                                    "0": "11643",
                                    "1": "Jennifer Egan",
                                    "2": "The Keep",
                                    "3": "3.43"
                                },
                                {
                                    "0": "11643",
                                    "1": "Jennifer Weiner",
                                    "2": "In Her Shoes",
                                    "3": "3.78"
                                },
                                {
                                    "0": "11643",
                                    "1": "Jennifer Weiner",
                                    "2": "Little Earthquakes",
                                    "3": "3.76"
                                },
                                {
                                    "0": "11643",
                                    "1": "Jennifer Weiner",
                                    "2": "Then Came You",
                                    "3": "3.69"
                                },
                                {
                                    "0": "11643",
                                    "1": "Jenny  Lawson",
                                    "2": "Furiously Happy: A Funny Book About Horrible Things",
                                    "3": "3.93"
                                },
                                {
                                    "0": "11643",
                                    "1": "Jenny Offill",
                                    "2": "Dept. of Speculation",
                                    "3": "3.72"
                                },
                                {
                                    "0": "11643",
                                    "1": "Jesmyn Ward",
                                    "2": "Salvage the Bones",
                                    "3": "3.81"
                                },
                                {
                                    "0": "11643",
                                    "1": "Jessi Klein",
                                    "2": "You'll Grow Out of It",
                                    "3": "3.83"
                                },
                                {
                                    "0": "11643",
                                    "1": "Jessie Burton",
                                    "2": "The Miniaturist",
                                    "3": "3.58"
                                },
                                {
                                    "0": "11643",
                                    "1": "Jhumpa Lahiri",
                                    "2": "Interpreter of Maladies",
                                    "3": "4.12"
                                },
                                {
                                    "0": "11643",
                                    "1": "Jhumpa Lahiri",
                                    "2": "The Lowland",
                                    "3": "3.82"
                                },
                                {
                                    "0": "11643",
                                    "1": "Jhumpa Lahiri",
                                    "2": "Unaccustomed Earth",
                                    "3": "4.11"
                                },
                                {
                                    "0": "11643",
                                    "1": "Jill Alexander Essbaum",
                                    "2": "Hausfrau",
                                    "3": "3.24"
                                },
                                {
                                    "0": "11643",
                                    "1": "Jill Leovy",
                                    "2": "Ghettoside: A True Story of Murder in America",
                                    "3": "4.12"
                                },
                                {
                                    "0": "11643",
                                    "1": "Jill Murphy",
                                    "2": "The Worst Witch (Worst Witch, #1)",
                                    "3": "3.94"
                                },
                                {
                                    "0": "11643",
                                    "1": "Jo Walton",
                                    "2": "Among Others",
                                    "3": "3.68"
                                },
                                {
                                    "0": "11643",
                                    "1": "Joan Aiken, Pat Marriott",
                                    "2": "The Wolves of Willoughby Chase (The Wolves Chronicles, #1)",
                                    "3": "4.08"
                                },
                                {
                                    "0": "11643",
                                    "1": "Joan Didion",
                                    "2": "Blue Nights",
                                    "3": "3.75"
                                },
                                {
                                    "0": "11643",
                                    "1": "Joan Didion",
                                    "2": "Slouching Towards Bethlehem",
                                    "3": "4.24"
                                },
                                {
                                    "0": "11643",
                                    "1": "Joan Didion",
                                    "2": "The Year of Magical Thinking",
                                    "3": "3.86"
                                },
                                {
                                    "0": "11643",
                                    "1": "Joan Didion, David Thomson",
                                    "2": "Play It as It Lays",
                                    "3": "3.86"
                                },
                                {
                                    "0": "11643",
                                    "1": "Joanne Harris",
                                    "2": "Chocolat (Chocolat, #1)",
                                    "3": "3.95"
                                },
                                {
                                    "0": "11643",
                                    "1": "Joanne Harris",
                                    "2": "Five Quarters of the Orange",
                                    "3": "3.83"
                                },
                                {
                                    "0": "11643",
                                    "1": "Johanna Spyri, Angelo  Rinaldi, Beverly Cleary",
                                    "2": "Heidi",
                                    "3": "3.97"
                                },
                                {
                                    "0": "11643",
                                    "1": "Joni Eareckson Tada, Joe Musser",
                                    "2": "Joni: An Unforgettable Story",
                                    "3": "4.23"
                                },
                                {
                                    "0": "11643",
                                    "1": "Josephine Tey",
                                    "2": "The Daughter of Time (Inspector Alan Grant, #5)",
                                    "3": "3.95"
                                },
                                {
                                    "0": "11643",
                                    "1": "Joy Adamson",
                                    "2": "Born Free: A Lioness of Two Worlds (Story of Elsa, #1)",
                                    "3": "4.17"
                                },
                                {
                                    "0": "11643",
                                    "1": "Joyce Carol Oates",
                                    "2": "We Were the Mulvaneys",
                                    "3": "3.7"
                                },
                                {
                                    "0": "11643",
                                    "1": "Judith Guest",
                                    "2": "Ordinary People",
                                    "3": "3.9"
                                },
                                {
                                    "0": "11643",
                                    "1": "Judith Kerr",
                                    "2": "The Tiger Who Came to Tea",
                                    "3": "4.23"
                                },
                                {
                                    "0": "11643",
                                    "1": "Judy Schachner",
                                    "2": "Skippyjon Jones in Mummy Trouble (Skippyjon Jones, #3)",
                                    "3": "4.25"
                                },
                                {
                                    "0": "11643",
                                    "1": "Julia Alvarez",
                                    "2": "How the García Girls Lost Their Accents ",
                                    "3": "3.62"
                                },
                                {
                                    "0": "11643",
                                    "1": "Julia Child",
                                    "2": "The Way to Cook",
                                    "3": "4.31"
                                },
                                {
                                    "0": "11643",
                                    "1": "Julia Donaldson, Axel Scheffler",
                                    "2": "The Gruffalo",
                                    "3": "4.47"
                                },
                                {
                                    "0": "11643",
                                    "1": "Julie Maroh",
                                    "2": "Le bleu est une couleur chaude",
                                    "3": "3.92"
                                },
                                {
                                    "0": "11643",
                                    "1": "Julie Otsuka",
                                    "2": "The Buddha in the Attic",
                                    "3": "3.59"
                                },
                                {
                                    "0": "11643",
                                    "1": "Julie Otsuka",
                                    "2": "When the Emperor Was Divine",
                                    "3": "3.7"
                                },
                                {
                                    "0": "11643",
                                    "1": "Julie Powell",
                                    "2": "Julie and Julia: 365 Days, 524 Recipes, 1 Tiny Apartment Kitchen: How One Girl Risked Her Marriage, Her Job, and Her Sanity to Master the Art of Living",
                                    "3": "3.67"
                                },
                                {
                                    "0": "11643",
                                    "1": "Juliet Marillier",
                                    "2": "Daughter of the Forest  (Sevenwaters, #1)",
                                    "3": "4.28"
                                },
                                {
                                    "0": "11643",
                                    "1": "Jung Chang",
                                    "2": "Wild Swans: Three Daughters of China",
                                    "3": "4.23"
                                },
                                {
                                    "0": "11643",
                                    "1": "Karen Armstrong",
                                    "2": "A History of God: The 4,000-Year Quest of Judaism, Christianity, and Islam",
                                    "3": "3.85"
                                },
                                {
                                    "0": "11643",
                                    "1": "Karen Cushman",
                                    "2": "Catherine, Called Birdy",
                                    "3": "3.7"
                                },
                                {
                                    "0": "11643",
                                    "1": "Karen Joy Fowler",
                                    "2": "The Jane Austen Book Club",
                                    "3": "3.07"
                                },
                                {
                                    "0": "11643",
                                    "1": "Karen Joy Fowler",
                                    "2": "We Are All Completely Beside Ourselves",
                                    "3": "3.71"
                                },
                                {
                                    "0": "11643",
                                    "1": "Karen Miller",
                                    "2": "The Awakened Mage (Kingmaker, Kingbreaker, #2)",
                                    "3": "3.71"
                                },
                                {
                                    "0": "11643",
                                    "1": "Karen Miller",
                                    "2": "The Innocent Mage (Kingmaker, Kingbreaker, #1)",
                                    "3": "3.65"
                                },
                                {
                                    "0": "11643",
                                    "1": "Karen Russell",
                                    "2": "Swamplandia!",
                                    "3": "3.21"
                                },
                                {
                                    "0": "11643",
                                    "1": "Karen Russell",
                                    "2": "Vampires in the Lemon Grove",
                                    "3": "3.67"
                                },
                                {
                                    "0": "11643",
                                    "1": "Karen Thompson Walker",
                                    "2": "The Age of Miracles",
                                    "3": "3.64"
                                },
                                {
                                    "0": "11643",
                                    "1": "Karin Slaughter",
                                    "2": "Faithless (Grant County, #5)",
                                    "3": "4.11"
                                },
                                {
                                    "0": "11643",
                                    "1": "Kate Atkinson",
                                    "2": "Case Histories (Jackson Brodie #1)",
                                    "3": "3.82"
                                },
                                {
                                    "0": "11643",
                                    "1": "Kate Atkinson",
                                    "2": "Life After Life",
                                    "3": "3.74"
                                },
                                {
                                    "0": "11643",
                                    "1": "Kate Atkinson",
                                    "2": "One Good Turn (Jackson Brodie, #2)",
                                    "3": "3.79"
                                },
                                {
                                    "0": "11643",
                                    "1": "Kate Atkinson",
                                    "2": "Started Early, Took My Dog (Jackson Brodie, #4)",
                                    "3": "3.89"
                                },
                                {
                                    "0": "11643",
                                    "1": "Kate Atkinson",
                                    "2": "When Will There Be Good News? (Jackson Brodie, #3)",
                                    "3": "3.97"
                                },
                                {
                                    "0": "11643",
                                    "1": "Kate Beaton",
                                    "2": "Hark! A Vagrant",
                                    "3": "4.27"
                                },
                                {
                                    "0": "11643",
                                    "1": "Kate Chopin",
                                    "2": "The Awakening",
                                    "3": "3.63"
                                },
                                {
                                    "0": "11643",
                                    "1": "Kate Chopin",
                                    "2": "The Story of an Hour",
                                    "3": "4.08"
                                },
                                {
                                    "0": "11643",
                                    "1": "Kate Chopin, Cynthia Brantley Johnson, Alyssa  Harad",
                                    "2": "The Awakening and Selected Stories",
                                    "3": "3.84"
                                },
                                {
                                    "0": "11643",
                                    "1": "Kate Douglas Wiggin",
                                    "2": "Rebecca of Sunnybrook Farm",
                                    "3": "3.85"
                                },
                                {
                                    "0": "11643",
                                    "1": "Kate Summerscale",
                                    "2": "The Suspicions of Mr. Whicher: A Shocking Murder and the Undoing of a Great Victorian Detective",
                                    "3": "3.43"
                                },
                                {
                                    "0": "11643",
                                    "1": "Katharine Graham",
                                    "2": "Personal History",
                                    "3": "4.13"
                                },
                                {
                                    "0": "11643",
                                    "1": "Katherine Addison",
                                    "2": "The Goblin Emperor",
                                    "3": "4.05"
                                },
                                {
                                    "0": "11643",
                                    "1": "Katherine Boo",
                                    "2": "Behind the Beautiful Forevers: Life, Death, and Hope in a Mumbai Undercity",
                                    "3": "3.97"
                                },
                                {
                                    "0": "11643",
                                    "1": "Katherine Dunn",
                                    "2": "Geek Love",
                                    "3": "3.98"
                                },
                                {
                                    "0": "11643",
                                    "1": "Katherine Paterson",
                                    "2": "Jacob Have I Loved",
                                    "3": "3.64"
                                },
                                {
                                    "0": "11643",
                                    "1": "Kathleen Winsor",
                                    "2": "Forever Amber ",
                                    "3": "3.98"
                                },
                                {
                                    "0": "11643",
                                    "1": "Kathy Reichs",
                                    "2": "Bare Bones (Temperance Brennan, #6)",
                                    "3": "3.95"
                                },
                                {
                                    "0": "11643",
                                    "1": "Kathy Reichs",
                                    "2": "Deadly Decisions (Temperance Brennan, #3)",
                                    "3": "3.93"
                                },
                                {
                                    "0": "11643",
                                    "1": "Kathy Reichs",
                                    "2": "Death du Jour (Temperance Brennan, #2)",
                                    "3": "3.96"
                                },
                                {
                                    "0": "11643",
                                    "1": "Kathy Reichs",
                                    "2": "Déjà Dead (Temperance Brennan, #1)",
                                    "3": "3.86"
                                },
                                {
                                    "0": "11643",
                                    "1": "Kathy Reichs",
                                    "2": "Fatal Voyage (Temperance Brennan, #4)",
                                    "3": "4.04"
                                },
                                {
                                    "0": "11643",
                                    "1": "Kathy Reichs",
                                    "2": "Grave Secrets (Temperance Brennan, #5)",
                                    "3": "3.98"
                                },
                                {
                                    "0": "11643",
                                    "1": "Kathy Reichs",
                                    "2": "Monday Mourning (Temperance Brennan, #7)",
                                    "3": "4.02"
                                },
                                {
                                    "0": "11643",
                                    "1": "Kay Thompson, Hilary Knight",
                                    "2": "Eloise ",
                                    "3": "4.2"
                                },
                                {
                                    "0": "11643",
                                    "1": "Kaye Gibbons",
                                    "2": "Ellen Foster",
                                    "3": "3.75"
                                },
                                {
                                    "0": "11643",
                                    "1": "Kennilworthy Whisp, J.K. Rowling",
                                    "2": "Quidditch Through the Ages",
                                    "3": "3.85"
                                },
                                {
                                    "0": "11643",
                                    "1": "Keri Hulme",
                                    "2": "The Bone People",
                                    "3": "4.06"
                                },
                                {
                                    "0": "11643",
                                    "1": "Kim Gordon",
                                    "2": "Girl in a Band",
                                    "3": "3.58"
                                },
                                {
                                    "0": "11643",
                                    "1": "Kyung-Sook Shin, 신경숙, Chi-Young Kim",
                                    "2": "Please Look After Mom",
                                    "3": "3.76"
                                },
                                {
                                    "0": "11643",
                                    "1": "L.M. Montgomery",
                                    "2": "Anne of Avonlea (Anne of Green Gables, #2)",
                                    "3": "4.21"
                                },
                                {
                                    "0": "11643",
                                    "1": "L.M. Montgomery",
                                    "2": "Anne of Ingleside (Anne of Green Gables, #6)",
                                    "3": "4.05"
                                },
                                {
                                    "0": "11643",
                                    "1": "L.M. Montgomery",
                                    "2": "Anne of the Island (Anne of Green Gables, #3)",
                                    "3": "4.21"
                                },
                                {
                                    "0": "11643",
                                    "1": "L.M. Montgomery",
                                    "2": "Anne of Windy Poplars (Anne of Green Gables, #4)",
                                    "3": "4.04"
                                },
                                {
                                    "0": "11643",
                                    "1": "L.M. Montgomery",
                                    "2": "Anne's House of Dreams (Anne of Green Gables, #5)",
                                    "3": "4.12"
                                },
                                {
                                    "0": "11643",
                                    "1": "L.M. Montgomery",
                                    "2": "Emily Climbs (Emily, #2)",
                                    "3": "4.14"
                                },
                                {
                                    "0": "11643",
                                    "1": "L.M. Montgomery",
                                    "2": "Emily of New Moon (Emily, #1)",
                                    "3": "4.09"
                                },
                                {
                                    "0": "11643",
                                    "1": "L.M. Montgomery",
                                    "2": "Rainbow Valley (Anne of Green Gables, #7)",
                                    "3": "4"
                                },
                                {
                                    "0": "11643",
                                    "1": "L.M. Montgomery",
                                    "2": "Rilla of Ingleside (Anne of Green Gables, #8)",
                                    "3": "4.16"
                                },
                                {
                                    "0": "11643",
                                    "1": "L.M. Montgomery",
                                    "2": "The Blue Castle ",
                                    "3": "4.23"
                                },
                                {
                                    "0": "11643",
                                    "1": "Laline Paull",
                                    "2": "The Bees",
                                    "3": "3.67"
                                },
                                {
                                    "0": "11643",
                                    "1": "Laura Ingalls Wilder, Garth Williams",
                                    "2": "By the Shores of Silver Lake  (Little House, #5)",
                                    "3": "4.16"
                                },
                                {
                                    "0": "11643",
                                    "1": "Laura Ingalls Wilder, Garth Williams",
                                    "2": "Farmer Boy (Little House, #3)",
                                    "3": "4.05"
                                },
                                {
                                    "0": "11643",
                                    "1": "Laura Ingalls Wilder, Garth Williams",
                                    "2": "Little House in the Big Woods (Little House, #1)",
                                    "3": "4.16"
                                },
                                {
                                    "0": "11643",
                                    "1": "Laura Ingalls Wilder, Garth Williams",
                                    "2": "Little House on the Prairie (Little House, #2)",
                                    "3": "4.18"
                                },
                                {
                                    "0": "11643",
                                    "1": "Laura Ingalls Wilder, Garth Williams",
                                    "2": "Little Town on the Prairie  (Little House, #7)",
                                    "3": "4.18"
                                },
                                {
                                    "0": "11643",
                                    "1": "Laura Ingalls Wilder, Garth Williams",
                                    "2": "On the Banks of Plum Creek  (Little House, #4)",
                                    "3": "4.19"
                                },
                                {
                                    "0": "11643",
                                    "1": "Laura Ingalls Wilder, Garth Williams",
                                    "2": "The Long Winter (Little House, #6)",
                                    "3": "4.16"
                                },
                                {
                                    "0": "11643",
                                    "1": "Laura Ingalls Wilder, Garth Williams",
                                    "2": "These Happy Golden Years (Little House, #8)",
                                    "3": "4.17"
                                },
                                {
                                    "0": "11643",
                                    "1": "Laura Lippman",
                                    "2": "What the Dead Know",
                                    "3": "3.54"
                                },
                                {
                                    "0": "11643",
                                    "1": "Laura McHugh",
                                    "2": "The Weight of Blood",
                                    "3": "3.73"
                                },
                                {
                                    "0": "11643",
                                    "1": "Laurell K. Hamilton",
                                    "2": "The Laughing Corpse (Anita Blake, Vampire Hunter, #2)",
                                    "3": "4.11"
                                },
                                {
                                    "0": "11643",
                                    "1": "Lauren Beukes",
                                    "2": "Broken Monsters",
                                    "3": "3.59"
                                },
                                {
                                    "0": "11643",
                                    "1": "Lauren Beukes",
                                    "2": "The Shining Girls",
                                    "3": "3.49"
                                },
                                {
                                    "0": "11643",
                                    "1": "Lauren Graham",
                                    "2": "Talking as Fast as I Can: From Gilmore Girls to Gilmore Girls, and Everything in Between",
                                    "3": "4.04"
                                },
                                {
                                    "0": "11643",
                                    "1": "Lauren Groff",
                                    "2": "Arcadia",
                                    "3": "3.65"
                                },
                                {
                                    "0": "11643",
                                    "1": "Lauren Groff",
                                    "2": "Fates and Furies",
                                    "3": "3.56"
                                },
                                {
                                    "0": "11643",
                                    "1": "Lauren Weisberger",
                                    "2": "Chasing Harry Winston",
                                    "3": "3.32"
                                },
                                {
                                    "0": "11643",
                                    "1": "Lauren Weisberger",
                                    "2": "Everyone Worth Knowing",
                                    "3": "3.39"
                                },
                                {
                                    "0": "11643",
                                    "1": "Lauren Weisberger",
                                    "2": "The Devil Wears Prada (The Devil Wears Prada, #1)",
                                    "3": "3.7"
                                },
                                {
                                    "0": "11643",
                                    "1": "Laurie R. King",
                                    "2": "A Monstrous Regiment of Women (Mary Russell, #2)",
                                    "3": "4.04"
                                },
                                {
                                    "0": "11643",
                                    "1": "Laurie R. King",
                                    "2": "The Beekeeper's Apprentice (Mary Russell, #1)",
                                    "3": "4.08"
                                },
                                {
                                    "0": "11643",
                                    "1": "Lena Dunham, Joana Avillez",
                                    "2": "Not That Kind of Girl: A Young Woman Tells You What She's \"Learned\"",
                                    "3": "3.33"
                                },
                                {
                                    "0": "11643",
                                    "1": "Leslie Feinberg",
                                    "2": "Stone Butch Blues",
                                    "3": "4.27"
                                },
                                {
                                    "0": "11643",
                                    "1": "Leslie Jamison",
                                    "2": "The Empathy Exams: Essays",
                                    "3": "3.62"
                                },
                                {
                                    "0": "11643",
                                    "1": "Lian Hearn",
                                    "2": "Across the Nightingale Floor (Tales of the Otori, #1)",
                                    "3": "4.06"
                                },
                                {
                                    "0": "11643",
                                    "1": "Lian Hearn",
                                    "2": "Brilliance of the Moon (Tales of the Otori, #3)",
                                    "3": "4.04"
                                },
                                {
                                    "0": "11643",
                                    "1": "Lian Hearn",
                                    "2": "Grass for His Pillow (Tales of the Otori, #2)",
                                    "3": "4.01"
                                },
                                {
                                    "0": "11643",
                                    "1": "Libba Bray",
                                    "2": "Beauty Queens",
                                    "3": "3.6"
                                },
                                {
                                    "0": "11643",
                                    "1": "Lilian Jackson Braun",
                                    "2": "The Cat Who Could Read Backwards (Cat Who..., #1)",
                                    "3": "3.84"
                                },
                                {
                                    "0": "11643",
                                    "1": "Lily King",
                                    "2": "Euphoria",
                                    "3": "3.84"
                                },
                                {
                                    "0": "11643",
                                    "1": "Lindy West",
                                    "2": "Shrill: Notes from a Loud Woman",
                                    "3": "4.23"
                                },
                                {
                                    "0": "11643",
                                    "1": "Lionel Shriver",
                                    "2": "The Post-Birthday World",
                                    "3": "3.52"
                                },
                                {
                                    "0": "11643",
                                    "1": "Lionel Shriver",
                                    "2": "We Need to Talk About Kevin",
                                    "3": "4.07"
                                },
                                {
                                    "0": "11643",
                                    "1": "Lisa Genova",
                                    "2": "Inside the O'Briens",
                                    "3": "3.98"
                                },
                                {
                                    "0": "11643",
                                    "1": "Lisa Genova",
                                    "2": "Love Anthony",
                                    "3": "3.94"
                                },
                                {
                                    "0": "11643",
                                    "1": "Lisa Lutz",
                                    "2": "The Passenger",
                                    "3": "3.71"
                                },
                                {
                                    "0": "11643",
                                    "1": "Lisa Lutz",
                                    "2": "The Spellman Files (The Spellmans, #1)",
                                    "3": "3.88"
                                },
                                {
                                    "0": "11643",
                                    "1": "Lisa See",
                                    "2": "Snow Flower and the Secret Fan",
                                    "3": "4.05"
                                },
                                {
                                    "0": "11643",
                                    "1": "Liz Moore",
                                    "2": "Heft",
                                    "3": "3.96"
                                },
                                {
                                    "0": "11643",
                                    "1": "Lois Lowry",
                                    "2": "Anastasia Krupnik (Anastasia Krupnik, #1)",
                                    "3": "3.89"
                                },
                                {
                                    "0": "11643",
                                    "1": "Lois Lowry",
                                    "2": "The Giver (The Giver, #1)",
                                    "3": "4.12"
                                },
                                {
                                    "0": "11643",
                                    "1": "Lois McMaster Bujold",
                                    "2": "A Civil Campaign (Vorkosigan Saga, #12)",
                                    "3": "4.43"
                                },
                                {
                                    "0": "11643",
                                    "1": "Lois McMaster Bujold",
                                    "2": "Barrayar (Vorkosigan Saga, #7)",
                                    "3": "4.31"
                                },
                                {
                                    "0": "11643",
                                    "1": "Lois McMaster Bujold",
                                    "2": "Falling Free (Vorkosigan Saga, #4)",
                                    "3": "3.82"
                                },
                                {
                                    "0": "11643",
                                    "1": "Lois McMaster Bujold",
                                    "2": "Mirror Dance (Vorkosigan Saga, #8)",
                                    "3": "4.32"
                                },
                                {
                                    "0": "11643",
                                    "1": "Lois McMaster Bujold",
                                    "2": "Paladin of Souls (World of the Five Gods, #2)",
                                    "3": "4.13"
                                },
                                {
                                    "0": "11643",
                                    "1": "Lois McMaster Bujold",
                                    "2": "Shards of Honour  (Vorkosigan Saga, #1)",
                                    "3": "4.13"
                                },
                                {
                                    "0": "11643",
                                    "1": "Lois McMaster Bujold",
                                    "2": "The Curse of Chalion (World of the Five Gods, #1)",
                                    "3": "4.16"
                                },
                                {
                                    "0": "11643",
                                    "1": "Lois McMaster Bujold",
                                    "2": "The Vor Game (Vorkosigan Saga, #6)",
                                    "3": "4.28"
                                },
                                {
                                    "0": "11643",
                                    "1": "Lois McMaster Bujold",
                                    "2": "The Warrior's Apprentice (Vorkosigan Saga, #2)",
                                    "3": "4.29"
                                },
                                {
                                    "0": "11643",
                                    "1": "Lolly Winston",
                                    "2": "Good Grief",
                                    "3": "3.72"
                                },
                                {
                                    "0": "11643",
                                    "1": "Lorraine Hansberry",
                                    "2": "A Raisin in the Sun",
                                    "3": "3.72"
                                },
                                {
                                    "0": "11643",
                                    "1": "Lorrie Moore",
                                    "2": "A Gate at the Stairs",
                                    "3": "3.14"
                                },
                                {
                                    "0": "11643",
                                    "1": "Louisa May Alcott",
                                    "2": "An Old-Fashioned Girl",
                                    "3": "4.05"
                                },
                                {
                                    "0": "11643",
                                    "1": "Louisa May Alcott",
                                    "2": "Eight Cousins (Eight Cousins, #1)",
                                    "3": "4.02"
                                },
                                {
                                    "0": "11643",
                                    "1": "Louisa May Alcott",
                                    "2": "Good Wives (Little Women, #1.5)",
                                    "3": "3.92"
                                },
                                {
                                    "0": "11643",
                                    "1": "Louisa May Alcott",
                                    "2": "Little Men (Little Women, #2)",
                                    "3": "3.84"
                                },
                                {
                                    "0": "11643",
                                    "1": "Louisa May Alcott",
                                    "2": "Rose in Bloom (Eight Cousins, #2)",
                                    "3": "4.03"
                                },
                                {
                                    "0": "11643",
                                    "1": "Louise Doughty",
                                    "2": "Apple Tree Yard",
                                    "3": "3.71"
                                },
                                {
                                    "0": "11643",
                                    "1": "Louise Erdrich",
                                    "2": "Love Medicine",
                                    "3": "3.98"
                                },
                                {
                                    "0": "11643",
                                    "1": "Louise Erdrich",
                                    "2": "The Beet Queen",
                                    "3": "3.89"
                                },
                                {
                                    "0": "11643",
                                    "1": "Louise Erdrich",
                                    "2": "The Master Butchers Singing Club",
                                    "3": "4.02"
                                },
                                {
                                    "0": "11643",
                                    "1": "Louise Erdrich",
                                    "2": "The Round House",
                                    "3": "3.91"
                                },
                                {
                                    "0": "11643",
                                    "1": "Louise Fitzhugh",
                                    "2": "Harriet the Spy (Harriet the Spy #1)",
                                    "3": "3.96"
                                },
                                {
                                    "0": "11643",
                                    "1": "Loung Ung",
                                    "2": "First They Killed My Father: A Daughter of Cambodia Remembers",
                                    "3": "4.29"
                                },
                                {
                                    "0": "11643",
                                    "1": "Lucie Whitehouse",
                                    "2": "Before We Met",
                                    "3": "3.43"
                                },
                                {
                                    "0": "11643",
                                    "1": "Lucy Grealy",
                                    "2": "Autobiography of a Face",
                                    "3": "3.96"
                                },
                                {
                                    "0": "11643",
                                    "1": "Lucy Knisley",
                                    "2": "Relish: My Life in the Kitchen",
                                    "3": "3.89"
                                },
                                {
                                    "0": "11643",
                                    "1": "Lynley Dodd",
                                    "2": "Hairy Maclary from Donaldson's Dairy",
                                    "3": "4.28"
                                },
                                {
                                    "0": "11643",
                                    "1": "Lynn Flewelling",
                                    "2": "Luck in the Shadows (Nightrunner, #1)",
                                    "3": "4.08"
                                },
                                {
                                    "0": "11643",
                                    "1": "Lynne Reid Banks",
                                    "2": "The Indian in the Cupboard (The Indian in the Cupboard, #1)",
                                    "3": "3.89"
                                },
                                {
                                    "0": "11643",
                                    "1": "Lynne Truss",
                                    "2": "Eats, Shoots & Leaves: The Zero Tolerance Approach to Punctuation",
                                    "3": "3.86"
                                },
                                {
                                    "0": "11643",
                                    "1": "Madeleine L'Engle",
                                    "2": "A Swiftly Tilting Planet (A Wrinkle in Time Quintet, #3)",
                                    "3": "4.13"
                                },
                                {
                                    "0": "11643",
                                    "1": "Madeleine L'Engle",
                                    "2": "A Wind in the Door (A Wrinkle in Time Quintet, #2)",
                                    "3": "4.07"
                                },
                                {
                                    "0": "11643",
                                    "1": "Madeline Miller",
                                    "2": "The Song of Achilles",
                                    "3": "4.27"
                                },
                                {
                                    "0": "11643",
                                    "1": "Maeve Binchy",
                                    "2": "Light a Penny Candle",
                                    "3": "3.88"
                                },
                                {
                                    "0": "11643",
                                    "1": "Maeve Binchy",
                                    "2": "Scarlet Feather",
                                    "3": "3.93"
                                },
                                {
                                    "0": "11643",
                                    "1": "Maeve Binchy",
                                    "2": "Tara Road",
                                    "3": "3.88"
                                },
                                {
                                    "0": "11643",
                                    "1": "Maeve Binchy",
                                    "2": "The Copper Beech",
                                    "3": "3.89"
                                },
                                {
                                    "0": "11643",
                                    "1": "Maeve Binchy",
                                    "2": "Whitethorn Woods",
                                    "3": "3.59"
                                },
                                {
                                    "0": "11643",
                                    "1": "Maggie Nelson",
                                    "2": "The Argonauts",
                                    "3": "3.99"
                                },
                                {
                                    "0": "11643",
                                    "1": "Maggie Shipstead",
                                    "2": "Seating Arrangements",
                                    "3": "3.02"
                                },
                                {
                                    "0": "11643",
                                    "1": "Malinda Lo",
                                    "2": "Ash",
                                    "3": "3.62"
                                },
                                {
                                    "0": "11643",
                                    "1": "Margaret Atwood",
                                    "2": "Cat's Eye",
                                    "3": "3.92"
                                },
                                {
                                    "0": "11643",
                                    "1": "Margaret Atwood",
                                    "2": "MaddAddam (MaddAddam, #3)",
                                    "3": "3.98"
                                },
                                {
                                    "0": "11643",
                                    "1": "Margaret Atwood",
                                    "2": "Oryx and Crake (MaddAddam, #1)",
                                    "3": "4"
                                },
                                {
                                    "0": "11643",
                                    "1": "Margaret Atwood",
                                    "2": "Stone Mattress: Nine Tales",
                                    "3": "3.93"
                                },
                                {
                                    "0": "11643",
                                    "1": "Margaret Atwood",
                                    "2": "Surfacing",
                                    "3": "3.45"
                                },
                                {
                                    "0": "11643",
                                    "1": "Margaret Atwood",
                                    "2": "The Blind Assassin",
                                    "3": "3.95"
                                },
                                {
                                    "0": "11643",
                                    "1": "Margaret Atwood",
                                    "2": "The Edible Woman",
                                    "3": "3.67"
                                },
                                {
                                    "0": "11643",
                                    "1": "Margaret Atwood",
                                    "2": "The Handmaid's Tale",
                                    "3": "4.06"
                                },
                                {
                                    "0": "11643",
                                    "1": "Margaret Atwood",
                                    "2": "The Heart Goes Last",
                                    "3": "3.37"
                                },
                                {
                                    "0": "11643",
                                    "1": "Margaret Atwood",
                                    "2": "The Penelopiad",
                                    "3": "3.66"
                                },
                                {
                                    "0": "11643",
                                    "1": "Margaret Atwood",
                                    "2": "The Robber Bride",
                                    "3": "3.82"
                                },
                                {
                                    "0": "11643",
                                    "1": "Margaret Atwood",
                                    "2": "The Year of the Flood  (MaddAddam, #2)",
                                    "3": "4.05"
                                },
                                {
                                    "0": "11643",
                                    "1": "Margaret Atwood, Brigitte Walitzek",
                                    "2": "Alias Grace",
                                    "3": "3.97"
                                },
                                {
                                    "0": "11643",
                                    "1": "Margaret Edson",
                                    "2": "Wit",
                                    "3": "4.2"
                                },
                                {
                                    "0": "11643",
                                    "1": "Margaret Peterson Haddix",
                                    "2": "Running Out of Time",
                                    "3": "3.98"
                                },
                                {
                                    "0": "11643",
                                    "1": "Margaret Weis, Tracy Hickman",
                                    "2": "Dragon Wing (The Death Gate Cycle, #1)",
                                    "3": "3.93"
                                },
                                {
                                    "0": "11643",
                                    "1": "Margaret Weis, Tracy Hickman",
                                    "2": "Dragons of Spring Dawning (Dragonlance: Chronicles, #3)",
                                    "3": "4.12"
                                },
                                {
                                    "0": "11643",
                                    "1": "Margaret Weis, Tracy Hickman",
                                    "2": "Dragons of Summer Flame (Dragonlance: The Second Generation, #2)",
                                    "3": "3.84"
                                },
                                {
                                    "0": "11643",
                                    "1": "Margaret Weis, Tracy Hickman",
                                    "2": "Dragons of Winter Night (Dragonlance: Chronicles, #2)",
                                    "3": "4.13"
                                },
                                {
                                    "0": "11643",
                                    "1": "Margaret Weis, Tracy Hickman",
                                    "2": "Elven Star (The Death Gate Cycle, #2)",
                                    "3": "3.98"
                                },
                                {
                                    "0": "11643",
                                    "1": "Margaret Weis, Tracy Hickman",
                                    "2": "Fire Sea (The Death Gate Cycle, #3)",
                                    "3": "4.05"
                                },
                                {
                                    "0": "11643",
                                    "1": "Margaret Weis, Tracy Hickman",
                                    "2": "Into the Labyrinth (The Death Gate Cycle, #6)",
                                    "3": "4.09"
                                },
                                {
                                    "0": "11643",
                                    "1": "Margaret Weis, Tracy Hickman",
                                    "2": "Serpent Mage (The Death Gate Cycle, #4)",
                                    "3": "4.06"
                                },
                                {
                                    "0": "11643",
                                    "1": "Margaret Weis, Tracy Hickman",
                                    "2": "The Hand of Chaos (The Death Gate Cycle, #5)",
                                    "3": "4.05"
                                },
                                {
                                    "0": "11643",
                                    "1": "Margaret Weis, Tracy Hickman",
                                    "2": "The Seventh Gate (The Death Gate Cycle, #7)",
                                    "3": "4.09"
                                },
                                {
                                    "0": "11643",
                                    "1": "Margaret Weis, Tracy Hickman",
                                    "2": "War of the Twins (Dragonlance: Legends, #2)",
                                    "3": "4.11"
                                },
                                {
                                    "0": "11643",
                                    "1": "Margot Lee Shetterly",
                                    "2": "Hidden Figures: The American Dream and the Untold Story of the Black Women Mathematicians Who Helped Win the Space Race",
                                    "3": "3.92"
                                },
                                {
                                    "0": "11643",
                                    "1": "Marguerite Duras, Barbara Bray, Maxine Hong Kingston",
                                    "2": "The Lover",
                                    "3": "3.76"
                                },
                                {
                                    "0": "11643",
                                    "1": "Marguerite Henry",
                                    "2": "Stormy, Misty's Foal (Misty, #3)",
                                    "3": "4.06"
                                },
                                {
                                    "0": "11643",
                                    "1": "Marguerite Henry, Wesley Dennis",
                                    "2": "Misty of Chincoteague (Misty, #1)",
                                    "3": "4.04"
                                },
                                {
                                    "0": "11643",
                                    "1": "Maria Semple",
                                    "2": "Today Will Be Different",
                                    "3": "3.19"
                                },
                                {
                                    "0": "11643",
                                    "1": "Maria Semple",
                                    "2": "Where'd You Go, Bernadette",
                                    "3": "3.9"
                                },
                                {
                                    "0": "11643",
                                    "1": "Marian Keyes",
                                    "2": " Angels (Walsh Family, #3)",
                                    "3": "3.73"
                                },
                                {
                                    "0": "11643",
                                    "1": "Marian Keyes",
                                    "2": "Lucy Sullivan Is Getting Married",
                                    "3": "3.74"
                                },
                                {
                                    "0": "11643",
                                    "1": "Marian Keyes",
                                    "2": "Rachel's Holiday (Walsh Family, #2)",
                                    "3": "3.93"
                                },
                                {
                                    "0": "11643",
                                    "1": "Marian Keyes",
                                    "2": "The Woman Who Stole My Life",
                                    "3": "3.52"
                                },
                                {
                                    "0": "11643",
                                    "1": "Marie Kondō",
                                    "2": "Spark Joy: An Illustrated Master Class on the Art of Organizing and Tidying Up",
                                    "3": "3.82"
                                },
                                {
                                    "0": "11643",
                                    "1": "Marie Kondō, Cathy Hirano",
                                    "2": "The Life-Changing Magic of Tidying Up: The Japanese Art of Decluttering and Organizing",
                                    "3": "3.77"
                                },
                                {
                                    "0": "11643",
                                    "1": "Mariko Tamaki, Jillian Tamaki",
                                    "2": "This One Summer",
                                    "3": "3.67"
                                },
                                {
                                    "0": "11643",
                                    "1": "Marilynne Robinson",
                                    "2": "Gilead (Gilead, #1)",
                                    "3": "3.84"
                                },
                                {
                                    "0": "11643",
                                    "1": "Marilynne Robinson",
                                    "2": "Housekeeping",
                                    "3": "3.82"
                                },
                                {
                                    "0": "11643",
                                    "1": "Marina Keegan",
                                    "2": "The Opposite of Loneliness: Essays and Stories",
                                    "3": "3.82"
                                },
                                {
                                    "0": "11643",
                                    "1": "Marina Lewycka",
                                    "2": "A Short History of Tractors in Ukrainian",
                                    "3": "3.37"
                                },
                                {
                                    "0": "11643",
                                    "1": "Marion Zimmer Bradley",
                                    "2": "The Mists of Avalon (Avalon, #1)",
                                    "3": "4.12"
                                },
                                {
                                    "0": "11643",
                                    "1": "Marion Zimmer Bradley, Diana L. Paxson",
                                    "2": "Lady of Avalon (Avalon, #3)",
                                    "3": "3.88"
                                },
                                {
                                    "0": "11643",
                                    "1": "Marion Zimmer Bradley, Diana L. Paxson",
                                    "2": "The Forest House (Avalon, #2)",
                                    "3": "3.85"
                                },
                                {
                                    "0": "11643",
                                    "1": "Marisha Pessl",
                                    "2": "Night Film",
                                    "3": "3.78"
                                },
                                {
                                    "0": "11643",
                                    "1": "Marisha Pessl",
                                    "2": "Special Topics in Calamity Physics",
                                    "3": "3.7"
                                },
                                {
                                    "0": "11643",
                                    "1": "Marjane Satrapi",
                                    "2": "Persepolis, Volume 1",
                                    "3": "4.27"
                                },
                                {
                                    "0": "11643",
                                    "1": "Marjane Satrapi, Anjali Singh",
                                    "2": "Embroideries",
                                    "3": "3.82"
                                },
                                {
                                    "0": "11643",
                                    "1": "Marjane Satrapi, Anjali Singh",
                                    "2": "Persepolis 2: The Story of a Return (Persepolis, #2)",
                                    "3": "4.23"
                                },
                                {
                                    "0": "11643",
                                    "1": "Marjane Satrapi, Mattias Ripa",
                                    "2": "Persepolis: The Story of a Childhood (Persepolis, #1)",
                                    "3": "4.23"
                                },
                                {
                                    "0": "11643",
                                    "1": "Marjane Satrapi, Mattias Ripa, Blake Ferris, Anjali Singh",
                                    "2": "The Complete Persepolis",
                                    "3": "4.36"
                                },
                                {
                                    "0": "11643",
                                    "1": "Mary  Stewart",
                                    "2": "The Crystal Cave (Arthurian Saga, #1)",
                                    "3": "4.12"
                                },
                                {
                                    "0": "11643",
                                    "1": "Mary Doria Russell",
                                    "2": "Children of God (The Sparrow, #2)",
                                    "3": "4.05"
                                },
                                {
                                    "0": "11643",
                                    "1": "Mary Doria Russell",
                                    "2": "The Sparrow (The Sparrow, #1)",
                                    "3": "4.17"
                                },
                                {
                                    "0": "11643",
                                    "1": "Mary Elizabeth Braddon",
                                    "2": "Lady Audley's Secret",
                                    "3": "3.73"
                                },
                                {
                                    "0": "11643",
                                    "1": "Mary Higgins Clark",
                                    "2": "All Around the Town",
                                    "3": "3.94"
                                },
                                {
                                    "0": "11643",
                                    "1": "Mary Higgins Clark",
                                    "2": "I Heard That Song Before",
                                    "3": "3.81"
                                },
                                {
                                    "0": "11643",
                                    "1": "Mary Higgins Clark",
                                    "2": "I'll Be Seeing You",
                                    "3": "3.79"
                                },
                                {
                                    "0": "11643",
                                    "1": "Mary Higgins Clark",
                                    "2": "Loves Music, Loves to Dance",
                                    "3": "3.89"
                                },
                                {
                                    "0": "11643",
                                    "1": "Mary Higgins Clark",
                                    "2": "On the Street Where You Live",
                                    "3": "3.85"
                                },
                                {
                                    "0": "11643",
                                    "1": "Mary Higgins Clark",
                                    "2": "The Cradle Will Fall",
                                    "3": "3.89"
                                },
                                {
                                    "0": "11643",
                                    "1": "Mary Higgins Clark",
                                    "2": "Where Are You Now?",
                                    "3": "3.77"
                                },
                                {
                                    "0": "11643",
                                    "1": "Mary Higgins Clark",
                                    "2": "You Belong To Me",
                                    "3": "3.85"
                                },
                                {
                                    "0": "11643",
                                    "1": "Mary Hoffman",
                                    "2": "City of Masks (Stravaganza, #1)",
                                    "3": "3.9"
                                },
                                {
                                    "0": "11643",
                                    "1": "Mary Hoffman, Caroline Binch",
                                    "2": "Amazing Grace",
                                    "3": "4.33"
                                },
                                {
                                    "0": "11643",
                                    "1": "Mary Karr",
                                    "2": "The Liars' Club",
                                    "3": "3.92"
                                },
                                {
                                    "0": "11643",
                                    "1": "Mary Lawson",
                                    "2": "Crow Lake",
                                    "3": "3.85"
                                },
                                {
                                    "0": "11643",
                                    "1": "Mary Norton, Beth Krush, Joe Krush",
                                    "2": "The Borrowers (The Borrowers, #1)",
                                    "3": "4.02"
                                },
                                {
                                    "0": "11643",
                                    "1": "Mary O'Hara, Dave Blossom",
                                    "2": "My Friend Flicka (Flicka, #1)",
                                    "3": "4.15"
                                },
                                {
                                    "0": "11643",
                                    "1": "Mary Roach",
                                    "2": "Bonk: The Curious Coupling of Science and Sex",
                                    "3": "3.83"
                                },
                                {
                                    "0": "11643",
                                    "1": "Mary Roach",
                                    "2": "Gulp: Adventures on the Alimentary Canal",
                                    "3": "3.92"
                                },
                                {
                                    "0": "11643",
                                    "1": "Mary Roach",
                                    "2": "Packing for Mars: The Curious Science of Life in the Void",
                                    "3": "3.93"
                                },
                                {
                                    "0": "11643",
                                    "1": "Mary Roach",
                                    "2": "Spook: Science Tackles the Afterlife",
                                    "3": "3.57"
                                },
                                {
                                    "0": "11643",
                                    "1": "Mary Roach",
                                    "2": "Stiff: The Curious Lives of Human Cadavers",
                                    "3": "4.05"
                                },
                                {
                                    "0": "11643",
                                    "1": "Mary Wollstonecraft Shelley, Percy Bysshe Shelley, Maurice Hindle",
                                    "2": "Frankenstein",
                                    "3": "3.75"
                                },
                                {
                                    "0": "11643",
                                    "1": "Maud Hart Lovelace, Lois Lenski",
                                    "2": "Betsy-Tacy (Betsy-Tacy, #1)",
                                    "3": "4.07"
                                },
                                {
                                    "0": "11643",
                                    "1": "Maxine Hong Kingston",
                                    "2": "The Woman Warrior",
                                    "3": "3.72"
                                },
                                {
                                    "0": "11643",
                                    "1": "Maya Angelou",
                                    "2": "I Know Why the Caged Bird Sings",
                                    "3": "4.19"
                                },
                                {
                                    "0": "11643",
                                    "1": "Meg Cabot",
                                    "2": "All-American Girl (All-American Girl, #1)",
                                    "3": "3.73"
                                },
                                {
                                    "0": "11643",
                                    "1": "Meg Cabot",
                                    "2": "Haunted (The Mediator, #5)",
                                    "3": "4.15"
                                },
                                {
                                    "0": "11643",
                                    "1": "Meg Cabot",
                                    "2": "Jinx",
                                    "3": "3.72"
                                },
                                {
                                    "0": "11643",
                                    "1": "Meg Cabot",
                                    "2": "Ninth Key (The Mediator, #2)",
                                    "3": "4.07"
                                },
                                {
                                    "0": "11643",
                                    "1": "Meg Cabot",
                                    "2": "Reunion (The Mediator, #3)",
                                    "3": "4.09"
                                },
                                {
                                    "0": "11643",
                                    "1": "Meg Rosoff",
                                    "2": "How I Live Now",
                                    "3": "3.58"
                                },
                                {
                                    "0": "11643",
                                    "1": "Meg Wolitzer",
                                    "2": "The Interestings",
                                    "3": "3.54"
                                },
                                {
                                    "0": "11643",
                                    "1": "Megan Abbott",
                                    "2": "Dare Me",
                                    "3": "3.23"
                                },
                                {
                                    "0": "11643",
                                    "1": "Megan Abbott",
                                    "2": "The Fever",
                                    "3": "3.12"
                                },
                                {
                                    "0": "11643",
                                    "1": "Megan Abbott",
                                    "2": "You Will Know Me",
                                    "3": "3.45"
                                },
                                {
                                    "0": "11643",
                                    "1": "Megan Whalen Turner",
                                    "2": "The King of Attolia (The Queen's Thief, #3)",
                                    "3": "4.37"
                                },
                                {
                                    "0": "11643",
                                    "1": "Megan Whalen Turner",
                                    "2": "The Queen of Attolia (The Queen's Thief, #2)",
                                    "3": "4.23"
                                },
                                {
                                    "0": "11643",
                                    "1": "Megan Whalen Turner",
                                    "2": "The Thief (The Queen's Thief, #1)",
                                    "3": "3.92"
                                },
                                {
                                    "0": "11643",
                                    "1": "Melanie Rawn",
                                    "2": "Dragon Prince (Dragon Prince, #1)",
                                    "3": "3.94"
                                },
                                {
                                    "0": "11643",
                                    "1": "Melinda Long, David Shannon",
                                    "2": "How I Became a Pirate",
                                    "3": "4.07"
                                },
                                {
                                    "0": "11643",
                                    "1": "Melissa Anelli, J.K. Rowling",
                                    "2": "Harry, a History: The True Story of a Boy Wizard, His Fans, and Life Inside the Harry Potter Phenomenon",
                                    "3": "4.09"
                                },
                                {
                                    "0": "11643",
                                    "1": "Melissa Bank",
                                    "2": "The Girls' Guide to Hunting and Fishing",
                                    "3": "3.29"
                                },
                                {
                                    "0": "11643",
                                    "1": "Mercedes Lackey",
                                    "2": "Arrow's Fall (Heralds of Valdemar, #3)",
                                    "3": "4.18"
                                },
                                {
                                    "0": "11643",
                                    "1": "Mercedes Lackey",
                                    "2": "Arrow's Flight (Heralds of Valdemar, #2)",
                                    "3": "4.13"
                                },
                                {
                                    "0": "11643",
                                    "1": "Mercedes Lackey",
                                    "2": "Arrows of the Queen (Heralds of Valdemar, #1)",
                                    "3": "4.16"
                                },
                                {
                                    "0": "11643",
                                    "1": "Mercedes Lackey",
                                    "2": "By the Sword (Valdemar)",
                                    "3": "4.24"
                                },
                                {
                                    "0": "11643",
                                    "1": "Mercedes Lackey",
                                    "2": "Magic's Pawn (Valdemar: Last Herald-Mage #1)",
                                    "3": "4.21"
                                },
                                {
                                    "0": "11643",
                                    "1": "Mhairi McFarlane",
                                    "2": "You Had Me At Hello",
                                    "3": "3.79"
                                },
                                {
                                    "0": "11643",
                                    "1": "Michelle Alexander",
                                    "2": "The New Jim Crow: Mass Incarceration in the Age of Colorblindness",
                                    "3": "4.49"
                                },
                                {
                                    "0": "11643",
                                    "1": "Michelle Magorian",
                                    "2": "Good Night, Mr. Tom",
                                    "3": "4.28"
                                },
                                {
                                    "0": "11643",
                                    "1": "Michelle Paver, Geoff Taylor",
                                    "2": "Wolf Brother (Chronicles of Ancient Darkness, #1)",
                                    "3": "4.15"
                                },
                                {
                                    "0": "11643",
                                    "1": "Mindy Kaling",
                                    "2": "Is Everyone Hanging Out Without Me? (And Other Concerns)",
                                    "3": "3.84"
                                },
                                {
                                    "0": "11643",
                                    "1": "Mindy Kaling",
                                    "2": "Why Not Me?",
                                    "3": "3.89"
                                },
                                {
                                    "0": "11643",
                                    "1": "Mineko Iwasaki, Rande Brown",
                                    "2": "Geisha, a Life",
                                    "3": "3.92"
                                },
                                {
                                    "0": "11643",
                                    "1": "Mira Grant",
                                    "2": "Blackout (Newsflesh Trilogy, #3)",
                                    "3": "4.11"
                                },
                                {
                                    "0": "11643",
                                    "1": "Mira Grant",
                                    "2": "Deadline (Newsflesh Trilogy, #2)",
                                    "3": "4.1"
                                },
                                {
                                    "0": "11643",
                                    "1": "Mira Grant",
                                    "2": "Feed (Newsflesh Trilogy, #1)",
                                    "3": "3.86"
                                },
                                {
                                    "0": "11643",
                                    "1": "Miranda Hart",
                                    "2": "Is It Just Me?",
                                    "3": "3.8"
                                },
                                {
                                    "0": "11643",
                                    "1": "Miranda July",
                                    "2": "No One Belongs Here More Than You",
                                    "3": "3.81"
                                },
                                {
                                    "0": "11643",
                                    "1": "Miranda July",
                                    "2": "The First Bad Man",
                                    "3": "3.58"
                                },
                                {
                                    "0": "11643",
                                    "1": "Miranda July, Brigitte Sire",
                                    "2": "It Chooses You",
                                    "3": "3.88"
                                },
                                {
                                    "0": "11643",
                                    "1": "Miriam Toews",
                                    "2": "A Complicated Kindness",
                                    "3": "3.64"
                                },
                                {
                                    "0": "11643",
                                    "1": "Miriam Toews",
                                    "2": "All My Puny Sorrows",
                                    "3": "3.93"
                                },
                                {
                                    "0": "11643",
                                    "1": "Monica Ali",
                                    "2": "Brick Lane",
                                    "3": "3.38"
                                },
                                {
                                    "0": "11643",
                                    "1": "Muriel Barbery, Alison Anderson",
                                    "2": "The Elegance of the Hedgehog",
                                    "3": "3.73"
                                },
                                {
                                    "0": "11643",
                                    "1": "Muriel Spark",
                                    "2": "The Prime of Miss Jean Brodie",
                                    "3": "3.76"
                                },
                                {
                                    "0": "11643",
                                    "1": "Myla Goldberg",
                                    "2": "Bee Season",
                                    "3": "3.55"
                                },
                                {
                                    "0": "11643",
                                    "1": "N.H. Kleinbaum",
                                    "2": "Dead Poets Society",
                                    "3": "4.21"
                                },
                                {
                                    "0": "11643",
                                    "1": "N.K. Jemisin",
                                    "2": "The Broken Kingdoms (Inheritance, #2)",
                                    "3": "4.04"
                                },
                                {
                                    "0": "11643",
                                    "1": "N.K. Jemisin",
                                    "2": "The Fifth Season (The Broken Earth, #1)",
                                    "3": "4.31"
                                },
                                {
                                    "0": "11643",
                                    "1": "N.K. Jemisin",
                                    "2": "The Hundred Thousand Kingdoms (Inheritance Trilogy, #1)",
                                    "3": "3.8"
                                },
                                {
                                    "0": "11643",
                                    "1": "N.K. Jemisin",
                                    "2": "The Obelisk Gate (The Broken Earth, #2)",
                                    "3": "4.36"
                                },
                                {
                                    "0": "11643",
                                    "1": "Nadia Hashimi",
                                    "2": "The Pearl That Broke Its Shell",
                                    "3": "4.12"
                                },
                                {
                                    "0": "11643",
                                    "1": "Nancy Farmer",
                                    "2": "The Ear, the Eye, and the Arm",
                                    "3": "3.85"
                                },
                                {
                                    "0": "11643",
                                    "1": "Naomi Klein",
                                    "2": "No Logo",
                                    "3": "3.86"
                                },
                                {
                                    "0": "11643",
                                    "1": "Naomi Klein",
                                    "2": "The Shock Doctrine: The Rise of Disaster Capitalism",
                                    "3": "4.22"
                                },
                                {
                                    "0": "11643",
                                    "1": "Naomi Klein",
                                    "2": "This Changes Everything: Capitalism vs. The Climate",
                                    "3": "4.17"
                                },
                                {
                                    "0": "11643",
                                    "1": "Naomi Novik",
                                    "2": "Black Powder War (Temeraire, #3)",
                                    "3": "3.9"
                                },
                                {
                                    "0": "11643",
                                    "1": "Naomi Novik",
                                    "2": "Empire of Ivory (Temeraire, #4)",
                                    "3": "3.93"
                                },
                                {
                                    "0": "11643",
                                    "1": "Naomi Novik",
                                    "2": "His Majesty's Dragon (Temeraire, #1)",
                                    "3": "4.05"
                                },
                                {
                                    "0": "11643",
                                    "1": "Naomi Novik",
                                    "2": "Throne of Jade (Temeraire, #2)",
                                    "3": "3.89"
                                },
                                {
                                    "0": "11643",
                                    "1": "Naomi Novik",
                                    "2": "Uprooted",
                                    "3": "4.13"
                                },
                                {
                                    "0": "11643",
                                    "1": "Naomi Novik",
                                    "2": "Victory of Eagles (Temeraire, #5)",
                                    "3": "4.01"
                                },
                                {
                                    "0": "11643",
                                    "1": "Naomi Wolf",
                                    "2": "The Beauty Myth",
                                    "3": "3.89"
                                },
                                {
                                    "0": "11643",
                                    "1": "Natsuo Kirino, Stephen Snyder",
                                    "2": "Out",
                                    "3": "3.93"
                                },
                                {
                                    "0": "11643",
                                    "1": "Nella Larsen, Ntozake Shange, Thadious M. Davis",
                                    "2": "Passing",
                                    "3": "3.8"
                                },
                                {
                                    "0": "11643",
                                    "1": "Newt Scamander, J.K. Rowling, Albus Dumbledore",
                                    "2": "Fantastic Beasts and Where to Find Them",
                                    "3": "3.95"
                                },
                                {
                                    "0": "11643",
                                    "1": "Nicole Krauss",
                                    "2": "Great House",
                                    "3": "3.45"
                                },
                                {
                                    "0": "11643",
                                    "1": "Nicole Krauss",
                                    "2": "The History of Love",
                                    "3": "3.91"
                                },
                                {
                                    "0": "11643",
                                    "1": "Nigella Lawson",
                                    "2": "How to Be a Domestic Goddess: Baking and the Art of Comfort Cooking",
                                    "3": "4"
                                },
                                {
                                    "0": "11643",
                                    "1": "Nina LaCour",
                                    "2": "Everything Leads to You",
                                    "3": "3.89"
                                },
                                {
                                    "0": "11643",
                                    "1": "Noelle Stevenson",
                                    "2": "Nimona",
                                    "3": "4.2"
                                },
                                {
                                    "0": "11643",
                                    "1": "Noelle Stevenson, Grace Ellis, Shannon Waters, Shannon Watters, Brooke A. Allen, Faith Hicks, Kat Leyh, Brooke Allen, Carolyn Nowak, Various, Carey Pietsch",
                                    "2": "Lumberjanes, Vol. 1: Beware the Kitten Holy",
                                    "3": "3.94"
                                },
                                {
                                    "0": "11643",
                                    "1": "Nora Ephron",
                                    "2": "Heartburn",
                                    "3": "3.57"
                                },
                                {
                                    "0": "11643",
                                    "1": "Nora Ephron",
                                    "2": "I Feel Bad about My Neck: And Other Thoughts on Being a Woman",
                                    "3": "3.65"
                                },
                                {
                                    "0": "11643",
                                    "1": "Nora Ephron",
                                    "2": "I Remember Nothing: and Other Reflections",
                                    "3": "3.73"
                                },
                                {
                                    "0": "11643",
                                    "1": "NoViolet Bulawayo",
                                    "2": "We Need New Names",
                                    "3": "3.71"
                                },
                                {
                                    "0": "11643",
                                    "1": "Ntozake Shange",
                                    "2": "for colored girls who have considered suicide/when the rainbow is enuf",
                                    "3": "4.27"
                                },
                                {
                                    "0": "11643",
                                    "1": "Octavia E. Butler",
                                    "2": "Dawn (Xenogenesis, #1)",
                                    "3": "4.1"
                                },
                                {
                                    "0": "11643",
                                    "1": "Octavia E. Butler",
                                    "2": "Fledgling",
                                    "3": "3.9"
                                },
                                {
                                    "0": "11643",
                                    "1": "Octavia E. Butler",
                                    "2": "Kindred",
                                    "3": "4.18"
                                },
                                {
                                    "0": "11643",
                                    "1": "Octavia E. Butler",
                                    "2": "Parable of the Sower (Earthseed, #1)",
                                    "3": "4.14"
                                },
                                {
                                    "0": "11643",
                                    "1": "Octavia E. Butler",
                                    "2": "Parable of the Talents (Earthseed, #2)",
                                    "3": "4.21"
                                },
                                {
                                    "0": "11643",
                                    "1": "Octavia E. Butler",
                                    "2": "Wild Seed (Patternmaster, #1)",
                                    "3": "4.22"
                                },
                                {
                                    "0": "11643",
                                    "1": "Olive Ann Burns",
                                    "2": "Cold Sassy Tree",
                                    "3": "3.99"
                                },
                                {
                                    "0": "11643",
                                    "1": "Ottessa Moshfegh",
                                    "2": "Eileen",
                                    "3": "3.38"
                                },
                                {
                                    "0": "11643",
                                    "1": "P.D. James",
                                    "2": "Cover Her Face (Adam Dalgliesh #1)",
                                    "3": "3.94"
                                },
                                {
                                    "0": "11643",
                                    "1": "P.D. James",
                                    "2": "Death Comes to Pemberley",
                                    "3": "3.21"
                                },
                                {
                                    "0": "11643",
                                    "1": "P.D. James",
                                    "2": "The Children of Men",
                                    "3": "3.69"
                                },
                                {
                                    "0": "11643",
                                    "1": "P.L. Travers, Mary Shepard",
                                    "2": "Mary Poppins (Mary Poppins, #1)",
                                    "3": "4.05"
                                },
                                {
                                    "0": "11643",
                                    "1": "Pam Adams",
                                    "2": "There Was An Old Lady Who Swallowed A Fly (Classic Books)",
                                    "3": "4.2"
                                },
                                {
                                    "0": "11643",
                                    "1": "Pat Barker",
                                    "2": "Regeneration (Regeneration, #1)",
                                    "3": "4.03"
                                },
                                {
                                    "0": "11643",
                                    "1": "Pat Barker",
                                    "2": "The Ghost Road (Regeneration, #3)",
                                    "3": "4.11"
                                },
                                {
                                    "0": "11643",
                                    "1": "Patricia C. Wrede, Peter de Sève",
                                    "2": "Calling on Dragons (Enchanted Forest Chronicles, #3)",
                                    "3": "4.2"
                                },
                                {
                                    "0": "11643",
                                    "1": "Patricia C. Wrede, Peter de Sève",
                                    "2": "Dealing with Dragons (Enchanted Forest Chronicles, #1)",
                                    "3": "4.14"
                                },
                                {
                                    "0": "11643",
                                    "1": "Patricia C. Wrede, Peter de Sève",
                                    "2": "Searching for Dragons (Enchanted Forest Chronicles, #2)",
                                    "3": "4.25"
                                },
                                {
                                    "0": "11643",
                                    "1": "Patricia C. Wrede, Peter de Sève",
                                    "2": "Talking to Dragons (Enchanted Forest Chronicles, #4)",
                                    "3": "4.19"
                                },
                                {
                                    "0": "11643",
                                    "1": "Patricia Cornwell",
                                    "2": "All That Remains (Kay Scarpetta, #3)",
                                    "3": "4.05"
                                },
                                {
                                    "0": "11643",
                                    "1": "Patricia Cornwell",
                                    "2": "Body of Evidence (Kay Scarpetta, #2)",
                                    "3": "4"
                                },
                                {
                                    "0": "11643",
                                    "1": "Patricia Cornwell",
                                    "2": "Cause of Death (Kay Scarpetta, #7)",
                                    "3": "3.93"
                                },
                                {
                                    "0": "11643",
                                    "1": "Patricia Cornwell",
                                    "2": "Cruel & Unusual (Kay Scarpetta, #4)",
                                    "3": "4.11"
                                },
                                {
                                    "0": "11643",
                                    "1": "Patricia Cornwell",
                                    "2": "From Potter's Field (Kay Scarpetta, #6)",
                                    "3": "4.02"
                                },
                                {
                                    "0": "11643",
                                    "1": "Patricia Cornwell",
                                    "2": "Point of Origin (Kay Scarpetta, #9)",
                                    "3": "4.02"
                                },
                                {
                                    "0": "11643",
                                    "1": "Patricia Cornwell",
                                    "2": "Postmortem (Kay Scarpetta, #1)",
                                    "3": "4.01"
                                },
                                {
                                    "0": "11643",
                                    "1": "Patricia Cornwell",
                                    "2": "The Body Farm (Kay Scarpetta, #5)",
                                    "3": "4.04"
                                },
                                {
                                    "0": "11643",
                                    "1": "Patricia Cornwell",
                                    "2": "Unnatural Exposure (Kay Scarpetta, #8)",
                                    "3": "4.05"
                                },
                                {
                                    "0": "11643",
                                    "1": "Patricia Highsmith",
                                    "2": "Strangers on a Train",
                                    "3": "3.82"
                                },
                                {
                                    "0": "11643",
                                    "1": "Patricia Highsmith",
                                    "2": "The Price of Salt",
                                    "3": "3.93"
                                },
                                {
                                    "0": "11643",
                                    "1": "Patricia Highsmith",
                                    "2": "The Talented Mr. Ripley (Ripley, #1)",
                                    "3": "3.93"
                                },
                                {
                                    "0": "11643",
                                    "1": "Patti Smith",
                                    "2": "Just Kids",
                                    "3": "4.14"
                                },
                                {
                                    "0": "11643",
                                    "1": "Patti Smith",
                                    "2": "M Train",
                                    "3": "3.94"
                                },
                                {
                                    "0": "11643",
                                    "1": "Pauline Réage, Sabine d'Estree",
                                    "2": "Story of O (Story of O #1)",
                                    "3": "3.34"
                                },
                                {
                                    "0": "11643",
                                    "1": "Pearl S. Buck",
                                    "2": "The Good Earth (House of Earth, #1)",
                                    "3": "3.97"
                                },
                                {
                                    "0": "11643",
                                    "1": "Peggy Orenstein",
                                    "2": "Cinderella Ate My Daughter: Dispatches from the Frontlines of the New Girlie-Girl Culture",
                                    "3": "3.65"
                                },
                                {
                                    "0": "11643",
                                    "1": "Pema Chödrön",
                                    "2": "The Places That Scare You: A Guide to Fearlessness in Difficult Times",
                                    "3": "4.3"
                                },
                                {
                                    "0": "11643",
                                    "1": "Philippa Gregory",
                                    "2": "The Other Boleyn Girl (The Plantagenet and Tudor Novels, #9)",
                                    "3": "4.04"
                                },
                                {
                                    "0": "11643",
                                    "1": "Philippa Pearce, Susan Einzig",
                                    "2": "Tom's Midnight Garden",
                                    "3": "4.05"
                                },
                                {
                                    "0": "11643",
                                    "1": "Phyllis T. Smith",
                                    "2": "I Am Livia",
                                    "3": "3.93"
                                },
                                {
                                    "0": "11643",
                                    "1": "Piper Kerman",
                                    "2": "Orange Is the New Black",
                                    "3": "3.7"
                                },
                                {
                                    "0": "11643",
                                    "1": "Plum Sykes",
                                    "2": "Bergdorf Blondes",
                                    "3": "3.26"
                                },
                                {
                                    "0": "11643",
                                    "1": "Poppy Z. Brite",
                                    "2": "Lost Souls",
                                    "3": "3.89"
                                },
                                {
                                    "0": "11643",
                                    "1": "Rachel Bertsche",
                                    "2": "MWF Seeking BFF: My Yearlong Search For A New Best Friend",
                                    "3": "3.44"
                                },
                                {
                                    "0": "11643",
                                    "1": "Rachel Carson, Linda Lear, Edward O. Wilson",
                                    "2": "Silent Spring",
                                    "3": "3.94"
                                },
                                {
                                    "0": "11643",
                                    "1": "Rachel Joyce",
                                    "2": "Perfect",
                                    "3": "3.54"
                                },
                                {
                                    "0": "11643",
                                    "1": "Rachel Kushner",
                                    "2": "The Flamethrowers",
                                    "3": "3.46"
                                },
                                {
                                    "0": "11643",
                                    "1": "Rachel Maddow",
                                    "2": "Drift: The Unmooring of American Military Power",
                                    "3": "4.07"
                                },
                                {
                                    "0": "11643",
                                    "1": "Rachel Renée Russell",
                                    "2": "Tales from a Not-So-Graceful Ice Princess (Dork Diaries, #4)",
                                    "3": "4.38"
                                },
                                {
                                    "0": "11643",
                                    "1": "Rajaa Alsanea",
                                    "2": "Girls of Riyadh",
                                    "3": "3.17"
                                },
                                {
                                    "0": "11643",
                                    "1": "Raymond E. Feist, Janny Wurts",
                                    "2": "Servant of the Empire (The Empire Trilogy, #2)",
                                    "3": "4.27"
                                },
                                {
                                    "0": "11643",
                                    "1": "Rebecca Skloot",
                                    "2": "The Immortal Life of Henrietta Lacks",
                                    "3": "4.04"
                                },
                                {
                                    "0": "11643",
                                    "1": "Rebecca Solnit",
                                    "2": "Men Explain Things to Me",
                                    "3": "3.93"
                                },
                                {
                                    "0": "11643",
                                    "1": "Rebecca Wells",
                                    "2": "Divine Secrets of the Ya-Ya Sisterhood",
                                    "3": "3.79"
                                },
                                {
                                    "0": "11643",
                                    "1": "Rebecca Wells",
                                    "2": "Little Altars Everywhere",
                                    "3": "3.55"
                                },
                                {
                                    "0": "11643",
                                    "1": "Rebecca Wells",
                                    "2": "Ya Yas in Bloom",
                                    "3": "3.6"
                                },
                                {
                                    "0": "11643",
                                    "1": "Ree Drummond",
                                    "2": "The Pioneer Woman Cooks: Recipes from an Accidental Country Girl",
                                    "3": "4.18"
                                },
                                {
                                    "0": "11643",
                                    "1": "Rene Denfeld",
                                    "2": "The Enchanted",
                                    "3": "3.96"
                                },
                                {
                                    "0": "11643",
                                    "1": "Rita Golden Gelman",
                                    "2": "Tales of a Female Nomad: Living at Large in the World",
                                    "3": "3.84"
                                },
                                {
                                    "0": "11643",
                                    "1": "Rita Mae Brown",
                                    "2": "Rubyfruit Jungle",
                                    "3": "3.88"
                                },
                                {
                                    "0": "11643",
                                    "1": "Robert Galbraith, J.K. Rowling",
                                    "2": "Career of Evil (Cormoran Strike, #3)",
                                    "3": "4.21"
                                },
                                {
                                    "0": "11643",
                                    "1": "Robert Galbraith, J.K. Rowling",
                                    "2": "The Cuckoo's Calling (Cormoran Strike, #1)",
                                    "3": "3.83"
                                },
                                {
                                    "0": "11643",
                                    "1": "Robert Galbraith, J.K. Rowling",
                                    "2": "The Silkworm (Cormoran Strike, #2)",
                                    "3": "4.03"
                                },
                                {
                                    "0": "11643",
                                    "1": "Robin Hobb",
                                    "2": "Assassin's Apprentice (Farseer Trilogy, #1)",
                                    "3": "4.14"
                                },
                                {
                                    "0": "11643",
                                    "1": "Robin Hobb",
                                    "2": "Assassin's Quest (Farseer Trilogy, #3)",
                                    "3": "4.18"
                                },
                                {
                                    "0": "11643",
                                    "1": "Robin Hobb",
                                    "2": "Dragon Haven (Rain Wild Chronicles, #2)",
                                    "3": "4.06"
                                },
                                {
                                    "0": "11643",
                                    "1": "Robin Hobb",
                                    "2": "Fool's Assassin (The Fitz and the Fool, #1)",
                                    "3": "4.35"
                                },
                                {
                                    "0": "11643",
                                    "1": "Robin Hobb",
                                    "2": "Fool's Errand (Tawny Man, #1)",
                                    "3": "4.29"
                                },
                                {
                                    "0": "11643",
                                    "1": "Robin Hobb",
                                    "2": "Fool's Fate (Tawny Man, #3)",
                                    "3": "4.38"
                                },
                                {
                                    "0": "11643",
                                    "1": "Robin Hobb",
                                    "2": "Fool's Quest  (The Fitz and The Fool, #2)",
                                    "3": "4.53"
                                },
                                {
                                    "0": "11643",
                                    "1": "Robin Hobb",
                                    "2": "Golden Fool (Tawny Man, #2)",
                                    "3": "4.32"
                                },
                                {
                                    "0": "11643",
                                    "1": "Robin Hobb",
                                    "2": "Renegade's Magic (Soldier Son, #3)",
                                    "3": "3.46"
                                },
                                {
                                    "0": "11643",
                                    "1": "Robin Hobb",
                                    "2": "Royal Assassin (Farseer Trilogy, #2)",
                                    "3": "4.21"
                                },
                                {
                                    "0": "11643",
                                    "1": "Robin Hobb",
                                    "2": "Shaman's Crossing (Soldier Son, #1)",
                                    "3": "3.42"
                                },
                                {
                                    "0": "11643",
                                    "1": "Robin Hobb",
                                    "2": "Ship of Destiny (Liveship Traders, #3)",
                                    "3": "4.21"
                                },
                                {
                                    "0": "11643",
                                    "1": "Robin Hobb",
                                    "2": "Ship of Magic (Liveship Traders, #1)",
                                    "3": "4.12"
                                },
                                {
                                    "0": "11643",
                                    "1": "Robin Hobb",
                                    "2": "The Dragon Keeper (Rain Wild Chronicles, #1)",
                                    "3": "3.93"
                                },
                                {
                                    "0": "11643",
                                    "1": "Robin Hobb",
                                    "2": "The Mad Ship (Liveship Traders, #2)",
                                    "3": "4.21"
                                },
                                {
                                    "0": "11643",
                                    "1": "Robin McKinley",
                                    "2": "Beauty: A Retelling of the Story of Beauty and the Beast",
                                    "3": "4.05"
                                },
                                {
                                    "0": "11643",
                                    "1": "Robin McKinley",
                                    "2": "Deerskin",
                                    "3": "3.88"
                                },
                                {
                                    "0": "11643",
                                    "1": "Robin McKinley",
                                    "2": "Rose Daughter",
                                    "3": "3.77"
                                },
                                {
                                    "0": "11643",
                                    "1": "Robin McKinley",
                                    "2": "Spindle's End",
                                    "3": "3.79"
                                },
                                {
                                    "0": "11643",
                                    "1": "Robin McKinley",
                                    "2": "Sunshine",
                                    "3": "3.85"
                                },
                                {
                                    "0": "11643",
                                    "1": "Robin McKinley",
                                    "2": "The Blue Sword (Damar, #1)",
                                    "3": "4.24"
                                },
                                {
                                    "0": "11643",
                                    "1": "Robin McKinley",
                                    "2": "The Hero and the Crown (Damar, #2)",
                                    "3": "4.21"
                                },
                                {
                                    "0": "11643",
                                    "1": "Rosamund Lupton",
                                    "2": "Afterwards",
                                    "3": "3.79"
                                },
                                {
                                    "0": "11643",
                                    "1": "Rosamunde Pilcher",
                                    "2": "The Shell Seekers",
                                    "3": "4.13"
                                },
                                {
                                    "0": "11643",
                                    "1": "Rose Levy Beranbaum, Maria Guarnaschelli, Vincent Lee, Manuela Paul, Dean G. Bornstein",
                                    "2": "The Cake Bible",
                                    "3": "4.2"
                                },
                                {
                                    "0": "11643",
                                    "1": "Roxane Gay",
                                    "2": "An Untamed State",
                                    "3": "4.05"
                                },
                                {
                                    "0": "11643",
                                    "1": "Roxane Gay",
                                    "2": "Bad Feminist",
                                    "3": "3.91"
                                },
                                {
                                    "0": "11643",
                                    "1": "Roz Chast",
                                    "2": "Can't We Talk about Something More Pleasant?",
                                    "3": "4.1"
                                },
                                {
                                    "0": "11643",
                                    "1": "Rupi Kaur",
                                    "2": "Milk and Honey",
                                    "3": "4.27"
                                },
                                {
                                    "0": "11643",
                                    "1": "Ruth Ozeki",
                                    "2": "A Tale for the Time Being",
                                    "3": "3.98"
                                },
                                {
                                    "0": "11643",
                                    "1": "Ruth Ozeki",
                                    "2": "My Year of Meats",
                                    "3": "3.93"
                                },
                                {
                                    "0": "11643",
                                    "1": "Ruth Reichl",
                                    "2": "Tender at the Bone: Growing Up at the Table",
                                    "3": "4.05"
                                },
                                {
                                    "0": "11643",
                                    "1": "Ruth Ware",
                                    "2": "In a Dark, Dark Wood",
                                    "3": "3.65"
                                },
                                {
                                    "0": "11643",
                                    "1": "S.A.R.K.",
                                    "2": "Succulent Wild Woman",
                                    "3": "4.12"
                                },
                                {
                                    "0": "11643",
                                    "1": "Sandra Cisneros",
                                    "2": "The House on Mango Street",
                                    "3": "3.57"
                                },
                                {
                                    "0": "11643",
                                    "1": "Sapphire",
                                    "2": "Push",
                                    "3": "3.82"
                                },
                                {
                                    "0": "11643",
                                    "1": "Sara Gruen",
                                    "2": "Water for Elephants",
                                    "3": "4.07"
                                },
                                {
                                    "0": "11643",
                                    "1": "Sara Nović",
                                    "2": "Girl at War",
                                    "3": "3.98"
                                },
                                {
                                    "0": "11643",
                                    "1": "Sara Paretsky",
                                    "2": "Indemnity Only (V.I. Warshawski, #1)",
                                    "3": "3.89"
                                },
                                {
                                    "0": "11643",
                                    "1": "Sara Ryan",
                                    "2": "Empress of the World (Battle Hall Davies, #1)",
                                    "3": "3.73"
                                },
                                {
                                    "0": "11643",
                                    "1": "Sarah Andersen",
                                    "2": "Adulthood Is a Myth (Sarah's Scribbles, #1)",
                                    "3": "4.14"
                                },
                                {
                                    "0": "11643",
                                    "1": "Sarah Hepola",
                                    "2": "Blackout: Remembering the Things I Drank to Forget",
                                    "3": "3.96"
                                },
                                {
                                    "0": "11643",
                                    "1": "Sarah L. Delany, A. Elizabeth Delany, Amy Hill Hearth",
                                    "2": "Having Our Say: The Delany Sisters' First 100 Years",
                                    "3": "4.14"
                                },
                                {
                                    "0": "11643",
                                    "1": "Sarah Lotz",
                                    "2": "The Three (The Three, #1)",
                                    "3": "3.32"
                                },
                                {
                                    "0": "11643",
                                    "1": "Sarah Pinborough",
                                    "2": "Behind Her Eyes",
                                    "3": "3.77"
                                },
                                {
                                    "0": "11643",
                                    "1": "Sarah Simblet",
                                    "2": "Anatomy for the Artist",
                                    "3": "3.97"
                                },
                                {
                                    "0": "11643",
                                    "1": "Sarah Vowell",
                                    "2": "Assassination Vacation",
                                    "3": "3.98"
                                },
                                {
                                    "0": "11643",
                                    "1": "Sarah Vowell",
                                    "2": "Take the Cannoli",
                                    "3": "3.86"
                                },
                                {
                                    "0": "11643",
                                    "1": "Sarah Vowell",
                                    "2": "The Wordy Shipmates",
                                    "3": "3.66"
                                },
                                {
                                    "0": "11643",
                                    "1": "Sarah Vowell",
                                    "2": "Unfamiliar Fishes",
                                    "3": "3.6"
                                },
                                {
                                    "0": "11643",
                                    "1": "Sarah Vowell, Katherine Streeter",
                                    "2": "The Partly Cloudy Patriot",
                                    "3": "3.9"
                                },
                                {
                                    "0": "11643",
                                    "1": "Sarah Waters",
                                    "2": "Affinity",
                                    "3": "3.73"
                                },
                                {
                                    "0": "11643",
                                    "1": "Sarah Waters",
                                    "2": "Fingersmith",
                                    "3": "4.02"
                                },
                                {
                                    "0": "11643",
                                    "1": "Sarah Waters",
                                    "2": "The Little Stranger",
                                    "3": "3.51"
                                },
                                {
                                    "0": "11643",
                                    "1": "Sarah Waters",
                                    "2": "The Night Watch",
                                    "3": "3.67"
                                },
                                {
                                    "0": "11643",
                                    "1": "Sarah Waters",
                                    "2": "The Paying Guests",
                                    "3": "3.39"
                                },
                                {
                                    "0": "11643",
                                    "1": "Sarah Waters",
                                    "2": "Tipping the Velvet",
                                    "3": "4"
                                },
                                {
                                    "0": "11643",
                                    "1": "Sarah Winman",
                                    "2": "When God Was a Rabbit",
                                    "3": "3.67"
                                },
                                {
                                    "0": "11643",
                                    "1": "Seanan McGuire",
                                    "2": "Rosemary and Rue (October Daye, #1)",
                                    "3": "3.74"
                                },
                                {
                                    "0": "11643",
                                    "1": "Sena Jeter Naslund",
                                    "2": "Ahab's Wife, or The Star-Gazer",
                                    "3": "4.02"
                                },
                                {
                                    "0": "11643",
                                    "1": "Shakti Gawain",
                                    "2": "Creative Visualization: Use the Power of Your Imagination to Create What You Want in Your Life",
                                    "3": "4.13"
                                },
                                {
                                    "0": "11643",
                                    "1": "Shannon Hale, James Noel Smith",
                                    "2": "Book of a Thousand Days",
                                    "3": "3.95"
                                },
                                {
                                    "0": "11643",
                                    "1": "Sharon Kay Penman",
                                    "2": "Here be Dragons (Welsh Princes, #1)",
                                    "3": "4.3"
                                },
                                {
                                    "0": "11643",
                                    "1": "Sharon Kay Penman",
                                    "2": "The Sunne in Splendour",
                                    "3": "4.4"
                                },
                                {
                                    "0": "11643",
                                    "1": "Shirley Jackson",
                                    "2": "The Lottery",
                                    "3": "4.09"
                                },
                                {
                                    "0": "11643",
                                    "1": "Shirley Jackson",
                                    "2": "The Lottery and Other Stories",
                                    "3": "4.06"
                                },
                                {
                                    "0": "11643",
                                    "1": "Shirley Jackson, Jonathan Lethem",
                                    "2": "We Have Always Lived in the Castle",
                                    "3": "4.05"
                                },
                                {
                                    "0": "11643",
                                    "1": "Shirley Jackson, Laura   Miller",
                                    "2": "The Haunting of Hill House",
                                    "3": "3.89"
                                },
                                {
                                    "0": "11643",
                                    "1": "Simone de Beauvoir, H.M. Parshley, Deirdre Bair",
                                    "2": "The Second Sex",
                                    "3": "4.09"
                                },
                                {
                                    "0": "11643",
                                    "1": "Siri Hustvedt",
                                    "2": "What I Loved",
                                    "3": "4.02"
                                },
                                {
                                    "0": "11643",
                                    "1": "Sloane Crosley",
                                    "2": "I Was Told There'd Be Cake",
                                    "3": "3.45"
                                },
                                {
                                    "0": "11643",
                                    "1": "Sonali Deraniyagala",
                                    "2": "Wave",
                                    "3": "3.7"
                                },
                                {
                                    "0": "11643",
                                    "1": "Stacy Schiff",
                                    "2": "Cleopatra: A Life",
                                    "3": "3.62"
                                },
                                {
                                    "0": "11643",
                                    "1": "Stella Gibbons, Lynne Truss, Roz Chast",
                                    "2": "Cold Comfort Farm",
                                    "3": "3.92"
                                },
                                {
                                    "0": "11643",
                                    "1": "Stephenie Meyer",
                                    "2": "The Twilight Saga: The Official Illustrated Guide (Twilight, #4.5)",
                                    "3": "4.23"
                                },
                                {
                                    "0": "11643",
                                    "1": "Sue Grafton",
                                    "2": "P is for Peril (Kinsey Millhone, #16)",
                                    "3": "3.85"
                                },
                                {
                                    "0": "11643",
                                    "1": "Sue Townsend",
                                    "2": "The Secret Diary of Adrian Mole, Aged 13 3/4  (Adrian Mole, #1)",
                                    "3": "3.85"
                                },
                                {
                                    "0": "11643",
                                    "1": "Susan Coolidge",
                                    "2": "What Katy Did (Carr Family, #1)",
                                    "3": "3.89"
                                },
                                {
                                    "0": "11643",
                                    "1": "Susan Cooper",
                                    "2": "Greenwitch (The Dark Is Rising, #3)",
                                    "3": "4"
                                },
                                {
                                    "0": "11643",
                                    "1": "Susan Cooper",
                                    "2": "Over Sea, Under Stone (The Dark Is Rising, #1)",
                                    "3": "3.85"
                                },
                                {
                                    "0": "11643",
                                    "1": "Susan Cooper",
                                    "2": "Silver on the Tree (The Dark is Rising, #5)",
                                    "3": "4.16"
                                },
                                {
                                    "0": "11643",
                                    "1": "Susan Cooper",
                                    "2": "The Dark Is Rising (The Dark is Rising, #2)",
                                    "3": "4.07"
                                },
                                {
                                    "0": "11643",
                                    "1": "Susan Cooper",
                                    "2": "The Grey King (The Dark Is Rising, #4)",
                                    "3": "4.18"
                                },
                                {
                                    "0": "11643",
                                    "1": "Susan Hill, John Lawrence",
                                    "2": "The Woman in Black",
                                    "3": "3.68"
                                },
                                {
                                    "0": "11643",
                                    "1": "Susan S. Adler, Renée Graef, Nancy Niles",
                                    "2": "Meet Samantha: An American Girl (American Girls: Samantha, #1)",
                                    "3": "3.95"
                                },
                                {
                                    "0": "11643",
                                    "1": "Susan Sontag",
                                    "2": "On Photography",
                                    "3": "3.84"
                                },
                                {
                                    "0": "11643",
                                    "1": "Susan Vreeland",
                                    "2": "Girl in Hyacinth Blue",
                                    "3": "3.72"
                                },
                                {
                                    "0": "11643",
                                    "1": "Susanna Clarke",
                                    "2": "Jonathan Strange & Mr Norrell",
                                    "3": "3.8"
                                },
                                {
                                    "0": "11643",
                                    "1": "Susanna Clarke, Charles Vess",
                                    "2": "The Ladies of Grace Adieu and Other Stories",
                                    "3": "3.85"
                                },
                                {
                                    "0": "11643",
                                    "1": "Susanna Kaysen",
                                    "2": "Girl, Interrupted",
                                    "3": "3.9"
                                },
                                {
                                    "0": "11643",
                                    "1": "Suzanne Collins",
                                    "2": "Gregor and the Code of Claw (Underland Chronicles, #5)",
                                    "3": "4.25"
                                },
                                {
                                    "0": "11643",
                                    "1": "Suzanne Rindell",
                                    "2": "The Other Typist",
                                    "3": "3.55"
                                },
                                {
                                    "0": "11643",
                                    "1": "Sylvia Plath",
                                    "2": "Ariel",
                                    "3": "4.23"
                                },
                                {
                                    "0": "11643",
                                    "1": "Tamora Pierce",
                                    "2": "Alanna: The First Adventure (Song of the Lioness, #1)",
                                    "3": "4.27"
                                },
                                {
                                    "0": "11643",
                                    "1": "Tamora Pierce",
                                    "2": "Bloodhound (Beka Cooper, #2)",
                                    "3": "4.26"
                                },
                                {
                                    "0": "11643",
                                    "1": "Tamora Pierce",
                                    "2": "Briar's Book (Circle of Magic, #4)",
                                    "3": "4.14"
                                },
                                {
                                    "0": "11643",
                                    "1": "Tamora Pierce",
                                    "2": "Cold Fire (The Circle Opens, #3)",
                                    "3": "4.05"
                                },
                                {
                                    "0": "11643",
                                    "1": "Tamora Pierce",
                                    "2": "Daja's Book (Circle of Magic, #3)",
                                    "3": "4.06"
                                },
                                {
                                    "0": "11643",
                                    "1": "Tamora Pierce",
                                    "2": "Emperor Mage (Immortals, #3)",
                                    "3": "4.3"
                                },
                                {
                                    "0": "11643",
                                    "1": "Tamora Pierce",
                                    "2": "First Test (Protector of the Small, #1)",
                                    "3": "4.24"
                                },
                                {
                                    "0": "11643",
                                    "1": "Tamora Pierce",
                                    "2": "In the Hand of the Goddess (Song of the Lioness, #2)",
                                    "3": "4.25"
                                },
                                {
                                    "0": "11643",
                                    "1": "Tamora Pierce",
                                    "2": "Lady Knight (Protector of the Small, #4)",
                                    "3": "4.3"
                                },
                                {
                                    "0": "11643",
                                    "1": "Tamora Pierce",
                                    "2": "Lioness Rampant (Song of the Lioness, #4)",
                                    "3": "4.28"
                                },
                                {
                                    "0": "11643",
                                    "1": "Tamora Pierce",
                                    "2": "Magic Steps (The Circle Opens, #1)",
                                    "3": "3.98"
                                },
                                {
                                    "0": "11643",
                                    "1": "Tamora Pierce",
                                    "2": "Mastiff (Beka Cooper, #3)",
                                    "3": "4.24"
                                },
                                {
                                    "0": "11643",
                                    "1": "Tamora Pierce",
                                    "2": "Page (Protector of the Small, #2)",
                                    "3": "4.22"
                                },
                                {
                                    "0": "11643",
                                    "1": "Tamora Pierce",
                                    "2": "Sandry's Book (Circle of Magic, #1)",
                                    "3": "3.99"
                                },
                                {
                                    "0": "11643",
                                    "1": "Tamora Pierce",
                                    "2": "Shatterglass (The Circle Opens, #4)",
                                    "3": "4.16"
                                },
                                {
                                    "0": "11643",
                                    "1": "Tamora Pierce",
                                    "2": "Squire (Protector of the Small, #3)",
                                    "3": "4.27"
                                },
                                {
                                    "0": "11643",
                                    "1": "Tamora Pierce",
                                    "2": "Street Magic (The Circle Opens, #2)",
                                    "3": "4.12"
                                },
                                {
                                    "0": "11643",
                                    "1": "Tamora Pierce",
                                    "2": "Terrier (Beka Cooper, #1)",
                                    "3": "4.16"
                                },
                                {
                                    "0": "11643",
                                    "1": "Tamora Pierce",
                                    "2": "The Realms of the Gods (Immortals, #4)",
                                    "3": "4.32"
                                },
                                {
                                    "0": "11643",
                                    "1": "Tamora Pierce",
                                    "2": "The Will of the Empress (Circle Reforged, #1)",
                                    "3": "4.15"
                                },
                                {
                                    "0": "11643",
                                    "1": "Tamora Pierce",
                                    "2": "The Woman Who Rides Like a Man (Song of the Lioness, #3)",
                                    "3": "4.2"
                                },
                                {
                                    "0": "11643",
                                    "1": "Tamora Pierce",
                                    "2": "Trickster's Choice (Daughter of the Lioness, #1)",
                                    "3": "4.27"
                                },
                                {
                                    "0": "11643",
                                    "1": "Tamora Pierce",
                                    "2": "Trickster's Queen (Daughter of the Lioness, #2)",
                                    "3": "4.28"
                                },
                                {
                                    "0": "11643",
                                    "1": "Tamora Pierce",
                                    "2": "Tris's Book (Circle of Magic, #2)",
                                    "3": "4.07"
                                },
                                {
                                    "0": "11643",
                                    "1": "Tamora Pierce",
                                    "2": "Wild Magic (Immortals, #1)",
                                    "3": "4.32"
                                },
                                {
                                    "0": "11643",
                                    "1": "Tamora Pierce",
                                    "2": "Wolf-Speaker (Immortals, #2)",
                                    "3": "4.21"
                                },
                                {
                                    "0": "11643",
                                    "1": "Tana French",
                                    "2": "Broken Harbour (Dublin Murder Squad, #4)",
                                    "3": "3.92"
                                },
                                {
                                    "0": "11643",
                                    "1": "Tana French",
                                    "2": "Faithful Place (Dublin Murder Squad, #3)",
                                    "3": "3.97"
                                },
                                {
                                    "0": "11643",
                                    "1": "Tana French",
                                    "2": "In the Woods (Dublin Murder Squad, #1)",
                                    "3": "3.74"
                                },
                                {
                                    "0": "11643",
                                    "1": "Tana French",
                                    "2": "The Likeness (Dublin Murder Squad, #2)",
                                    "3": "4.05"
                                },
                                {
                                    "0": "11643",
                                    "1": "Tana French",
                                    "2": "The Secret Place (Dublin Murder Squad, #5)",
                                    "3": "3.83"
                                },
                                {
                                    "0": "11643",
                                    "1": "Tana French",
                                    "2": "The Trespasser (Dublin Murder Squad #6)",
                                    "3": "3.98"
                                },
                                {
                                    "0": "11643",
                                    "1": "Téa Obreht",
                                    "2": "The Tiger's Wife",
                                    "3": "3.37"
                                },
                                {
                                    "0": "11643",
                                    "1": "Tess Gerritsen",
                                    "2": "The Bone Garden ",
                                    "3": "4.02"
                                },
                                {
                                    "0": "11643",
                                    "1": "Tessa Dare",
                                    "2": "Romancing the Duke (Castles Ever After, #1)",
                                    "3": "3.91"
                                },
                                {
                                    "0": "11643",
                                    "1": "Therese Anne Fowler",
                                    "2": "Z: A Novel of Zelda Fitzgerald",
                                    "3": "3.82"
                                },
                                {
                                    "0": "11643",
                                    "1": "Tina Fey",
                                    "2": "Bossypants",
                                    "3": "3.94"
                                },
                                {
                                    "0": "11643",
                                    "1": "Tomoko Hayakawa, David Ury",
                                    "2": "The Wallflower, Vol. 1 (The Wallflower, #1)",
                                    "3": "4.15"
                                },
                                {
                                    "0": "11643",
                                    "1": "Toni Morrison",
                                    "2": "A Mercy",
                                    "3": "3.65"
                                },
                                {
                                    "0": "11643",
                                    "1": "Toni Morrison",
                                    "2": "Beloved",
                                    "3": "3.77"
                                },
                                {
                                    "0": "11643",
                                    "1": "Toni Morrison",
                                    "2": "God Help the Child",
                                    "3": "3.7"
                                },
                                {
                                    "0": "11643",
                                    "1": "Toni Morrison",
                                    "2": "Home",
                                    "3": "3.71"
                                },
                                {
                                    "0": "11643",
                                    "1": "Toni Morrison",
                                    "2": "Jazz",
                                    "3": "3.78"
                                },
                                {
                                    "0": "11643",
                                    "1": "Toni Morrison",
                                    "2": "Paradise",
                                    "3": "3.77"
                                },
                                {
                                    "0": "11643",
                                    "1": "Toni Morrison",
                                    "2": "Song of Solomon",
                                    "3": "4.01"
                                },
                                {
                                    "0": "11643",
                                    "1": "Toni Morrison",
                                    "2": "Sula",
                                    "3": "3.86"
                                },
                                {
                                    "0": "11643",
                                    "1": "Toni Morrison",
                                    "2": "Tar Baby",
                                    "3": "3.91"
                                },
                                {
                                    "0": "11643",
                                    "1": "Toni Morrison",
                                    "2": "The Bluest Eye",
                                    "3": "3.99"
                                },
                                {
                                    "0": "11643",
                                    "1": "Tracy Chevalier",
                                    "2": "Falling Angels",
                                    "3": "3.55"
                                },
                                {
                                    "0": "11643",
                                    "1": "Tracy Chevalier",
                                    "2": "Girl with a Pearl Earring",
                                    "3": "3.85"
                                },
                                {
                                    "0": "11643",
                                    "1": "Tracy Chevalier",
                                    "2": "The Lady and the Unicorn",
                                    "3": "3.67"
                                },
                                {
                                    "0": "11643",
                                    "1": "Trudi Canavan",
                                    "2": "Priestess of the White (Age of the Five, #1)",
                                    "3": "3.84"
                                },
                                {
                                    "0": "11643",
                                    "1": "Trudi Canavan",
                                    "2": "The High Lord (Black Magician Trilogy, #3)",
                                    "3": "4.15"
                                },
                                {
                                    "0": "11643",
                                    "1": "Trudi Canavan",
                                    "2": "The Magician's Apprentice (Black Magician, #0.5)",
                                    "3": "3.94"
                                },
                                {
                                    "0": "11643",
                                    "1": "Trudi Canavan",
                                    "2": "The Magicians' Guild (Black Magician Trilogy, #1)",
                                    "3": "3.96"
                                },
                                {
                                    "0": "11643",
                                    "1": "Trudi Canavan",
                                    "2": "The Novice (Black Magician Trilogy, #2)",
                                    "3": "4.07"
                                },
                                {
                                    "0": "11643",
                                    "1": "Twyla Tharp",
                                    "2": "The Creative Habit: Learn It and Use It for Life",
                                    "3": "4"
                                },
                                {
                                    "0": "11643",
                                    "1": "Ursula K. Le Guin",
                                    "2": "A Wizard of Earthsea (Earthsea Cycle, #1)",
                                    "3": "3.99"
                                },
                                {
                                    "0": "11643",
                                    "1": "Ursula K. Le Guin",
                                    "2": "Tales from Earthsea (Earthsea Cycle, #5)",
                                    "3": "4"
                                },
                                {
                                    "0": "11643",
                                    "1": "Ursula K. Le Guin",
                                    "2": "Tehanu (Earthsea Cycle, #4)",
                                    "3": "3.89"
                                },
                                {
                                    "0": "11643",
                                    "1": "Ursula K. Le Guin",
                                    "2": "The Dispossessed",
                                    "3": "4.18"
                                },
                                {
                                    "0": "11643",
                                    "1": "Ursula K. Le Guin",
                                    "2": "The Earthsea Trilogy",
                                    "3": "4.25"
                                },
                                {
                                    "0": "11643",
                                    "1": "Ursula K. Le Guin",
                                    "2": "The Farthest Shore (Earthsea Cycle, #3)",
                                    "3": "4.11"
                                },
                                {
                                    "0": "11643",
                                    "1": "Ursula K. Le Guin",
                                    "2": "The Lathe of Heaven",
                                    "3": "4.09"
                                },
                                {
                                    "0": "11643",
                                    "1": "Ursula K. Le Guin",
                                    "2": "The Other Wind (Earthsea Cycle, #6)",
                                    "3": "4.06"
                                },
                                {
                                    "0": "11643",
                                    "1": "Ursula K. Le Guin",
                                    "2": "The Tombs of Atuan (Earthsea Cycle, #2)",
                                    "3": "4.07"
                                },
                                {
                                    "0": "11643",
                                    "1": "Ursula K. Le Guin, Lech Jęczmyk",
                                    "2": "The Left Hand of Darkness",
                                    "3": "4.05"
                                },
                                {
                                    "0": "11643",
                                    "1": "V.C. Andrews",
                                    "2": "Petals on the Wind (Dollanganger, #2)",
                                    "3": "3.82"
                                },
                                {
                                    "0": "11643",
                                    "1": "V.E. Schwab, Victoria Schwab",
                                    "2": "A Darker Shade of Magic (Shades of Magic, #1)",
                                    "3": "4.07"
                                },
                                {
                                    "0": "11643",
                                    "1": "V.E. Schwab, Victoria Schwab",
                                    "2": "A Gathering of Shadows (Shades of Magic, #2)",
                                    "3": "4.33"
                                },
                                {
                                    "0": "11643",
                                    "1": "Val McDermid",
                                    "2": "The Mermaids Singing (Tony Hill & Carol Jordan, #1)",
                                    "3": "3.98"
                                },
                                {
                                    "0": "11643",
                                    "1": "Vanessa Diffenbaugh",
                                    "2": "The Language of Flowers",
                                    "3": "4.07"
                                },
                                {
                                    "0": "11643",
                                    "1": "Vera Brosgol",
                                    "2": "Anya's Ghost",
                                    "3": "3.88"
                                },
                                {
                                    "0": "11643",
                                    "1": "Victoria Hislop",
                                    "2": "The Island",
                                    "3": "3.99"
                                },
                                {
                                    "0": "11643",
                                    "1": "Virginia Lee Burton",
                                    "2": "Mike Mulligan and His Steam Shovel",
                                    "3": "4.2"
                                },
                                {
                                    "0": "11643",
                                    "1": "Virginia Lee Burton",
                                    "2": "The Little House",
                                    "3": "4.29"
                                },
                                {
                                    "0": "11643",
                                    "1": "Virginia M. Axline",
                                    "2": "Dibs in Search of Self",
                                    "3": "4.13"
                                },
                                {
                                    "0": "11643",
                                    "1": "Virginia Woolf",
                                    "2": "A Room of One's Own",
                                    "3": "4.1"
                                },
                                {
                                    "0": "11643",
                                    "1": "Virginia Woolf",
                                    "2": "Orlando",
                                    "3": "3.86"
                                },
                                {
                                    "0": "11643",
                                    "1": "Virginia Woolf",
                                    "2": "The Waves",
                                    "3": "4.14"
                                },
                                {
                                    "0": "11643",
                                    "1": "Virginia Woolf",
                                    "2": "To the Lighthouse",
                                    "3": "3.76"
                                },
                                {
                                    "0": "11643",
                                    "1": "Virginia Woolf, Maureen Howard",
                                    "2": "Mrs. Dalloway",
                                    "3": "3.78"
                                },
                                {
                                    "0": "11643",
                                    "1": "Willa Cather",
                                    "2": "Death Comes for the Archbishop",
                                    "3": "3.88"
                                },
                                {
                                    "0": "11643",
                                    "1": "Willa Cather",
                                    "2": "My Ántonia",
                                    "3": "3.76"
                                },
                                {
                                    "0": "11643",
                                    "1": "Willa Cather",
                                    "2": "O Pioneers!",
                                    "3": "3.84"
                                },
                                {
                                    "0": "11643",
                                    "1": "Yaa Gyasi",
                                    "2": "Homegoing",
                                    "3": "4.41"
                                },
                                {
                                    "0": "11643",
                                    "1": "Yangsze Choo",
                                    "2": "The Ghost Bride",
                                    "3": "3.74"
                                },
                                {
                                    "0": "11643",
                                    "1": "Yōko Ogawa, Stephen Snyder",
                                    "2": "The Housekeeper and the Professor",
                                    "3": "3.94"
                                },
                                {
                                    "0": "11643",
                                    "1": "Zadie Smith",
                                    "2": "NW",
                                    "3": "3.41"
                                },
                                {
                                    "0": "11643",
                                    "1": "Zadie Smith",
                                    "2": "On Beauty",
                                    "3": "3.68"
                                },
                                {
                                    "0": "11643",
                                    "1": "Zadie Smith",
                                    "2": "Swing Time",
                                    "3": "3.6"
                                },
                                {
                                    "0": "11643",
                                    "1": "Zadie Smith",
                                    "2": "The Autograph Man",
                                    "3": "3.14"
                                },
                                {
                                    "0": "11643",
                                    "1": "Zadie Smith",
                                    "2": "White Teeth",
                                    "3": "3.75"
                                },
                                {
                                    "0": "11643",
                                    "1": "Zoë Heller",
                                    "2": "What Was She Thinking? [Notes on a Scandal]",
                                    "3": "3.69"
                                },
                                {
                                    "0": "11643",
                                    "1": "Zora Neale Hurston",
                                    "2": "Their Eyes Were Watching God",
                                    "3": "3.87"
                                }
                            ]
                        },
                        "text/html": "<table><tr><th>TAG ID</th><th>authors</th><th>title</th><th>average_rating</th></tr><tr><td>11643</td><td>A.M. Homes</td><td>May We Be Forgiven</td><td>3.66</td></tr><tr><td>11643</td><td>A.N. Roquelaure, Anne Rice</td><td>Beauty's Punishment (Sleeping Beauty, #2)</td><td>3.62</td></tr><tr><td>11643</td><td>A.N. Roquelaure, Anne Rice</td><td>Beauty's Release (Sleeping Beauty, #3)</td><td>3.71</td></tr><tr><td>11643</td><td>A.S. Byatt</td><td>Possession</td><td>3.88</td></tr><tr><td>11643</td><td>A.S. Byatt</td><td>The Children's Book</td><td>3.66</td></tr><tr><td>11643</td><td>A.S.A. Harrison</td><td>The Silent Wife</td><td>3.3</td></tr><tr><td>11643</td><td>Adelle Waldman</td><td>The Love Affairs of Nathaniel P.</td><td>3.3</td></tr><tr><td>11643</td><td>Agatha Christie</td><td>4:50 from Paddington (Miss Marple, #8)</td><td>3.92</td></tr><tr><td>11643</td><td>Agatha Christie</td><td>A Caribbean Mystery (Miss Marple, #10)</td><td>3.77</td></tr><tr><td>11643</td><td>Agatha Christie</td><td>A Murder Is Announced (Miss Marple, #5)</td><td>3.96</td></tr><tr><td>11643</td><td>Agatha Christie</td><td>A Pocket Full of Rye (Miss Marple, #7)</td><td>3.83</td></tr><tr><td>11643</td><td>Agatha Christie</td><td>After the Funeral (Hercule Poirot, #29)</td><td>3.84</td></tr><tr><td>11643</td><td>Agatha Christie</td><td>And Then There Were None</td><td>4.23</td></tr><tr><td>11643</td><td>Agatha Christie</td><td>Cat Among the Pigeons (Hercule Poirot, #32)</td><td>3.82</td></tr><tr><td>11643</td><td>Agatha Christie</td><td>Death on the Nile (Hercule Poirot, #17)</td><td>4.06</td></tr><tr><td>11643</td><td>Agatha Christie</td><td>Elephants Can Remember (Hercule Poirot, #37)</td><td>3.62</td></tr><tr><td>11643</td><td>Agatha Christie</td><td>Hallowe'en Party (Hercule Poirot, #36)</td><td>3.66</td></tr><tr><td>11643</td><td>Agatha Christie</td><td>Hercule Poirot's Christmas (Hercule Poirot, #20)</td><td>3.9</td></tr><tr><td>11643</td><td>Agatha Christie</td><td>Murder at the Vicarage (Miss Marple, #1)</td><td>4.03</td></tr><tr><td>11643</td><td>Agatha Christie</td><td>Murder in Mesopotamia (Hercule Poirot, #14)</td><td>3.86</td></tr><tr><td>11643</td><td>Agatha Christie</td><td>Murder on the Orient Express (Hercule Poirot, #10)</td><td>4.16</td></tr><tr><td>11643</td><td>Agatha Christie</td><td>Peril at End House (Hercule Poirot, #8)</td><td>3.89</td></tr><tr><td>11643</td><td>Agatha Christie</td><td>The Big Four (Hercule Poirot, #5)</td><td>3.6</td></tr><tr><td>11643</td><td>Agatha Christie</td><td>The Body in the Library (Miss Marple, #3)</td><td>3.85</td></tr><tr><td>11643</td><td>Agatha Christie</td><td>The Man in the Brown Suit</td><td>3.97</td></tr><tr><td>11643</td><td>Agatha Christie</td><td>The Moving Finger (Miss Marple, #4)</td><td>3.84</td></tr><tr><td>11643</td><td>Agatha Christie</td><td>The Murder of Roger Ackroyd (Hercule Poirot, #4)</td><td>4.2</td></tr><tr><td>11643</td><td>Agatha Christie</td><td>The Secret Adversary (Tommy and Tuppence #1)</td><td>3.82</td></tr><tr><td>11643</td><td>Agatha Christie</td><td>They Do It with Mirrors (Miss Marple, #6)</td><td>3.74</td></tr><tr><td>11643</td><td>Agatha Christie, Robin Bailey</td><td>The Clocks (Hercule Poirot, #34)</td><td>3.71</td></tr><tr><td>11643</td><td>Agatha Christie, Ροζίτα Σώκου</td><td>The Mysterious Affair at Styles (Hercule Poirot, #1)</td><td>3.98</td></tr><tr><td>11643</td><td>Aimee Bender</td><td>The Particular Sadness of Lemon Cake</td><td>3.19</td></tr><tr><td>11643</td><td>Ali Smith</td><td>How to Be Both</td><td>3.61</td></tr><tr><td>11643</td><td>Alice  Miller, Ruth Ward</td><td>The Drama of the Gifted Child: The Search for the True Self</td><td>4.09</td></tr><tr><td>11643</td><td>Alice Hoffman</td><td>Faithful</td><td>4.02</td></tr><tr><td>11643</td><td>Alice Hoffman</td><td>Practical Magic</td><td>3.8</td></tr><tr><td>11643</td><td>Alice Hoffman</td><td>The Ice Queen</td><td>3.51</td></tr><tr><td>11643</td><td>Alice McDermott</td><td>Someone</td><td>3.76</td></tr><tr><td>11643</td><td>Alice Munro</td><td>Dear Life: Stories</td><td>3.75</td></tr><tr><td>11643</td><td>Alice Munro</td><td>Hateship, Friendship, Courtship, Loveship, Marriage: Stories</td><td>4.06</td></tr><tr><td>11643</td><td>Alice Munro</td><td>Too Much Happiness</td><td>3.82</td></tr><tr><td>11643</td><td>Alice Walker</td><td>Possessing the Secret of Joy</td><td>4.06</td></tr><tr><td>11643</td><td>Alice Walker</td><td>The Color Purple</td><td>4.17</td></tr><tr><td>11643</td><td>Alice Waters</td><td>The Art of Simple Food: Notes, Lessons, and Recipes from a Delicious Revolution</td><td>4.11</td></tr><tr><td>11643</td><td>Alison Bechdel</td><td>Are You My Mother?</td><td>3.66</td></tr><tr><td>11643</td><td>Alison Bechdel</td><td>Fun Home: A Family Tragicomic</td><td>4.12</td></tr><tr><td>11643</td><td>Alison Croggon</td><td>The Naming (The Books of Pellinor, #1)</td><td>4</td></tr><tr><td>11643</td><td>Alison Goodman</td><td>Eon: Dragoneye Reborn (Eon, #1)</td><td>3.98</td></tr><tr><td>11643</td><td>Alissa Nutting</td><td>Tampa</td><td>3.34</td></tr><tr><td>11643</td><td>Allie Brosh</td><td>Hyperbole and a Half: Unfortunate Situations, Flawed Coping Mechanisms, Mayhem, and Other Things That Happened</td><td>4.17</td></tr><tr><td>11643</td><td>Amanda Lindhout, Sara Corbett</td><td>A House in the Sky</td><td>4.2</td></tr><tr><td>11643</td><td>Amanda Palmer</td><td>The Art of Asking; or, How I Learned to Stop Worrying and Let People Help</td><td>3.97</td></tr><tr><td>11643</td><td>Amelia Atwater-Rhodes</td><td>Hawksong (The Kiesha'ra, #1)</td><td>4.15</td></tr><tr><td>11643</td><td>Amy  Stewart</td><td>Girl Waits with Gun (Kopp Sisters, #1)</td><td>3.78</td></tr><tr><td>11643</td><td>Amy Poehler</td><td>Yes Please</td><td>3.81</td></tr><tr><td>11643</td><td>Amy Schumer</td><td>The Girl with the Lower Back Tattoo</td><td>3.76</td></tr><tr><td>11643</td><td>Amy Sedaris</td><td>I Like You: Hospitality Under the Influence</td><td>3.87</td></tr><tr><td>11643</td><td>Amy Tan</td><td>The Bonesetter's Daughter</td><td>3.98</td></tr><tr><td>11643</td><td>Amy Tan</td><td>The Hundred Secret Senses</td><td>3.98</td></tr><tr><td>11643</td><td>Amy Tan</td><td>The Joy Luck Club</td><td>3.9</td></tr><tr><td>11643</td><td>Anaïs Nin</td><td>Delta of Venus</td><td>3.69</td></tr><tr><td>11643</td><td>Anderson Cooper, Gloria Vanderbilt</td><td>The Rainbow Comes and Goes: A Mother and Son On Life, Love, and Loss</td><td>3.79</td></tr><tr><td>11643</td><td>Andrea Levy</td><td>Small Island</td><td>3.89</td></tr><tr><td>11643</td><td>Angela Carter</td><td>The Bloody Chamber and Other Stories</td><td>4.02</td></tr><tr><td>11643</td><td>Angela Flournoy</td><td>The Turner House</td><td>3.64</td></tr><tr><td>11643</td><td>Anita Amirrezvani</td><td>The Blood of Flowers</td><td>3.95</td></tr><tr><td>11643</td><td>Anita Brookner</td><td>Hotel du Lac</td><td>3.56</td></tr><tr><td>11643</td><td>Anita Diamant</td><td>The Red Tent</td><td>4.16</td></tr><tr><td>11643</td><td>Anita Shreve</td><td>Fortune's Rocks</td><td>3.86</td></tr><tr><td>11643</td><td>Anita Shreve</td><td>Sea Glass</td><td>3.65</td></tr><tr><td>11643</td><td>Anita Shreve</td><td>The Weight of Water</td><td>3.62</td></tr><tr><td>11643</td><td>Ann Cleeves</td><td>Raven Black (Shetland Island, #1)</td><td>3.85</td></tr><tr><td>11643</td><td>Ann Leckie</td><td>Ancillary Justice (Imperial Radch #1)</td><td>3.97</td></tr><tr><td>11643</td><td>Ann Leckie</td><td>Ancillary Mercy (Imperial Radch #3)</td><td>4.2</td></tr><tr><td>11643</td><td>Ann Leckie</td><td>Ancillary Sword (Imperial Radch, #2)</td><td>4.03</td></tr><tr><td>11643</td><td>Ann Packer</td><td>The Dive From Clausen's Pier</td><td>3.41</td></tr><tr><td>11643</td><td>Ann Patchett</td><td>Commonwealth</td><td>3.84</td></tr><tr><td>11643</td><td>Ann Patchett</td><td>The Magician's Assistant</td><td>3.64</td></tr><tr><td>11643</td><td>Ann Patchett</td><td>The Patron Saint of Liars</td><td>3.76</td></tr><tr><td>11643</td><td>Ann Patchett</td><td>This is the Story of a Happy Marriage</td><td>4.03</td></tr><tr><td>11643</td><td>Ann Rule</td><td>The Stranger Beside Me: Ted Bundy The Shocking Inside Story</td><td>4.13</td></tr><tr><td>11643</td><td>Anna Kendrick</td><td>Scrappy Little Nobody</td><td>3.91</td></tr><tr><td>11643</td><td>Anne Bishop</td><td>Daughter of the Blood (The Black Jewels #1)</td><td>4.12</td></tr><tr><td>11643</td><td>Anne Bishop</td><td>Queen of the Darkness (The Black Jewels, #3)</td><td>4.37</td></tr><tr><td>11643</td><td>Anne Brontë, Angeline Goreau</td><td>Agnes Grey</td><td>3.65</td></tr><tr><td>11643</td><td>Anne Brontë, Stevie Davies</td><td>The Tenant of Wildfell Hall</td><td>3.91</td></tr><tr><td>11643</td><td>Anne Enright</td><td>The Gathering</td><td>3.04</td></tr><tr><td>11643</td><td>Anne Fadiman</td><td>The Spirit Catches You and You Fall Down: A Hmong Child, Her American Doctors, and the Collision of Two Cultures</td><td>4.14</td></tr><tr><td>11643</td><td>Anne Frank, Susan Massotty</td><td>Anne Frank's Tales from the Secret Annex</td><td>4.23</td></tr><tr><td>11643</td><td>Anne Lamott</td><td>Traveling Mercies: Some Thoughts on Faith</td><td>4.15</td></tr><tr><td>11643</td><td>Anne Lamott, Sam Lamott</td><td>Some Assembly Required: A Journal of My Son's First Son</td><td>3.61</td></tr><tr><td>11643</td><td>Anne McCaffrey</td><td>All the Weyrs of Pern (Pern, #11)</td><td>4.15</td></tr><tr><td>11643</td><td>Anne McCaffrey</td><td>Crystal Singer (Crystal Singer, #1)</td><td>4.07</td></tr><tr><td>11643</td><td>Anne McCaffrey</td><td>Dragondrums (Harper Hall, #3)</td><td>4.04</td></tr><tr><td>11643</td><td>Anne McCaffrey</td><td>Dragonquest (Pern, #2)</td><td>4.09</td></tr><tr><td>11643</td><td>Anne McCaffrey</td><td>Dragonsdawn (Pern, #9)</td><td>4.17</td></tr><tr><td>11643</td><td>Anne McCaffrey</td><td>Dragonsinger (Harper Hall, #2)</td><td>4.26</td></tr><tr><td>11643</td><td>Anne McCaffrey</td><td>Dragonsong (Harper Hall, #1)</td><td>4.24</td></tr><tr><td>11643</td><td>Anne McCaffrey</td><td>Moreta: Dragonlady of Pern (Pern, #7)</td><td>3.97</td></tr><tr><td>11643</td><td>Anne McCaffrey</td><td>Nerilka's Story (Pern, #8)</td><td>3.78</td></tr><tr><td>11643</td><td>Anne McCaffrey</td><td>The Dolphins of Pern (Pern, #13)</td><td>3.94</td></tr><tr><td>11643</td><td>Anne McCaffrey</td><td>The Masterharper of Pern (Pern, #15)</td><td>4.22</td></tr><tr><td>11643</td><td>Anne McCaffrey</td><td>The Renegades of Pern (Pern, #10)</td><td>3.84</td></tr><tr><td>11643</td><td>Anne McCaffrey</td><td>The Ship Who Sang (Brainship, #1)</td><td>4</td></tr><tr><td>11643</td><td>Anne McCaffrey</td><td>The White Dragon (Pern, #3)</td><td>4.17</td></tr><tr><td>11643</td><td>Anne McCaffrey, Teodor Panasiński</td><td>Dragonflight (Dragonriders of Pern, #1)</td><td>4.1</td></tr><tr><td>11643</td><td>Anne Michaels</td><td>Fugitive Pieces</td><td>3.95</td></tr><tr><td>11643</td><td>Anne Rice</td><td>Interview with the Vampire (The Vampire Chronicles, #1)</td><td>3.97</td></tr><tr><td>11643</td><td>Anne Tyler</td><td>Dinner at the Homesick Restaurant</td><td>3.82</td></tr><tr><td>11643</td><td>Anne Tyler</td><td>Ladder of Years</td><td>3.72</td></tr><tr><td>11643</td><td>Anne Tyler</td><td>Saint Maybe</td><td>3.88</td></tr><tr><td>11643</td><td>Anne Tyler</td><td>The Amateur Marriage</td><td>3.59</td></tr><tr><td>11643</td><td>Anne Tyler</td><td>The Beginner's Goodbye</td><td>3.58</td></tr><tr><td>11643</td><td>Anne Tyler, Jennifer Bassett</td><td>The Accidental Tourist</td><td>3.9</td></tr><tr><td>11643</td><td>Annie Dillard</td><td>Pilgrim at Tinker Creek</td><td>4.1</td></tr><tr><td>11643</td><td>Annie Proulx</td><td>Brokeback Mountain</td><td>3.93</td></tr><tr><td>11643</td><td>Annie Proulx</td><td>Close Range</td><td>3.99</td></tr><tr><td>11643</td><td>Annie Proulx</td><td>The Shipping News</td><td>3.83</td></tr><tr><td>11643</td><td>Antonia Fraser</td><td>Marie Antoinette: The Journey</td><td>3.91</td></tr><tr><td>11643</td><td>Antonia Fraser</td><td>The Wives of Henry VIII</td><td>4.15</td></tr><tr><td>11643</td><td>Arundhati Roy</td><td>The God of Small Things</td><td>3.91</td></tr><tr><td>11643</td><td>Åsne Seierstad, Ingrid Christopherson</td><td>The Bookseller of Kabul</td><td>3.76</td></tr><tr><td>11643</td><td>Astrid Lindgren, Gerry Bothmer</td><td>Pippi in the South Seas</td><td>4.1</td></tr><tr><td>11643</td><td>Astrid Lindgren, Ilon Wikland, Jill M. Morgan</td><td>The Brothers Lionheart</td><td>4.35</td></tr><tr><td>11643</td><td>Astrid Lindgren, Lauren Child, Florence Lamborn, Nancy Seligsohn</td><td>Pippi Longstocking</td><td>4.11</td></tr><tr><td>11643</td><td>Astrid Lindgren, Patricia Crampton, Trina Schart Hyman</td><td>Ronia, the Robber's Daughter</td><td>4.27</td></tr><tr><td>11643</td><td>Audre Lorde</td><td>Zami: A New Spelling of My Name</td><td>4.2</td></tr><tr><td>11643</td><td>Audrey Niffenegger</td><td>Her Fearful Symmetry</td><td>3.23</td></tr><tr><td>11643</td><td>Ayana Mathis</td><td>The Twelve Tribes of Hattie</td><td>3.46</td></tr><tr><td>11643</td><td>Ayn Rand</td><td>Anthem</td><td>3.62</td></tr><tr><td>11643</td><td>Ayn Rand, Leonard Peikoff</td><td>We the Living</td><td>3.89</td></tr><tr><td>11643</td><td>Azar Nafisi</td><td>Reading Lolita in Tehran</td><td>3.57</td></tr><tr><td>11643</td><td>B.A. Shapiro</td><td>The Art Forger</td><td>3.69</td></tr><tr><td>11643</td><td>Banana Yoshimoto, Megan Backus</td><td>Kitchen</td><td>3.83</td></tr><tr><td>11643</td><td>Barbara Claypole White</td><td>The Perfect Son</td><td>3.97</td></tr><tr><td>11643</td><td>Barbara Ehrenreich</td><td>Nickel and Dimed: On (Not) Getting By in America</td><td>3.6</td></tr><tr><td>11643</td><td>Barbara Kingsolver</td><td>Animal Dreams</td><td>4.05</td></tr><tr><td>11643</td><td>Barbara Kingsolver</td><td>Pigs in Heaven</td><td>3.97</td></tr><tr><td>11643</td><td>Barbara Kingsolver</td><td>Prodigal Summer</td><td>3.98</td></tr><tr><td>11643</td><td>Barbara Kingsolver</td><td>The Bean Trees (Greer Family, #1)</td><td>3.94</td></tr><tr><td>11643</td><td>Barbara Kingsolver</td><td>The Lacuna</td><td>3.76</td></tr><tr><td>11643</td><td>Barbara Kingsolver</td><td>The Poisonwood Bible</td><td>4.02</td></tr><tr><td>11643</td><td>Barbara Kingsolver, Steven L. Hopp, Camille Kingsolver, Richard A. Houser</td><td>Animal, Vegetable, Miracle: A Year of Food Life</td><td>4.03</td></tr><tr><td>11643</td><td>Barbara W. Tuchman, Robert K. Massie</td><td>The Guns of August</td><td>4.18</td></tr><tr><td>11643</td><td>Beatrix Potter</td><td>The Tale of Mrs. Tiggy-Winkle</td><td>4.19</td></tr><tr><td>11643</td><td>Beatriz Williams</td><td>The Secret Life of Violet Grant</td><td>3.97</td></tr><tr><td>11643</td><td>Becky  Chambers</td><td>The Long Way to a Small, Angry Planet (Wayfarers, #1)</td><td>4.18</td></tr><tr><td>11643</td><td>Bethany McLean, Peter Elkind</td><td>The Smartest Guys in the Room: The Amazing Rise and Scandalous Fall of Enron</td><td>4.14</td></tr><tr><td>11643</td><td>Betty Friedan, Anna Quindlen</td><td>The Feminine Mystique</td><td>3.85</td></tr><tr><td>11643</td><td>Bev Vincent</td><td>The Road to the Dark Tower: Exploring Stephen King's Magnum Opus</td><td>4.29</td></tr><tr><td>11643</td><td>Beverly Cleary</td><td>Runaway Ralph (Ralph S. Mouse, #2)</td><td>3.95</td></tr><tr><td>11643</td><td>Bisco Hatori</td><td>Ouran High School Host Club, Vol. 15 (Ouran High School Host Club, #15)</td><td>4.54</td></tr><tr><td>11643</td><td>Brit Bennett</td><td>The Mothers</td><td>3.87</td></tr><tr><td>11643</td><td>Byron Katie, Stephen Mitchell</td><td>Loving What Is: Four Questions That Can Change Your Life</td><td>4.15</td></tr><tr><td>11643</td><td>C.S. Friedman</td><td>Black Sun Rising (The Coldfire Trilogy, #1)</td><td>3.93</td></tr><tr><td>11643</td><td>Caitlin Doughty</td><td>Smoke Gets in Your Eyes: And Other Lessons from the Crematory</td><td>4.04</td></tr><tr><td>11643</td><td>Caitlin Moran</td><td>How to Be a Woman</td><td>3.73</td></tr><tr><td>11643</td><td>Caitlin Moran</td><td>How to Build a Girl</td><td>3.69</td></tr><tr><td>11643</td><td>Candace Bushnell</td><td>Four Blondes</td><td>2.8</td></tr><tr><td>11643</td><td>Candace Bushnell</td><td>Sex and the City</td><td>3.37</td></tr><tr><td>11643</td><td>Carol Rifka Brunt</td><td>Tell the Wolves I'm Home</td><td>4.04</td></tr><tr><td>11643</td><td>Carol Ryrie Brink</td><td>Caddie Woodlawn  (Caddie Woodlawn #1)</td><td>3.99</td></tr><tr><td>11643</td><td>Carol Shields</td><td>Unless</td><td>3.63</td></tr><tr><td>11643</td><td>Caroline Myss</td><td>Anatomy of the Spirit: The Seven Stages of Power and Healing</td><td>4.12</td></tr><tr><td>11643</td><td>Carolyn Keene, Mildred Benson</td><td>The Hidden Staircase (Nancy Drew #2)</td><td>3.94</td></tr><tr><td>11643</td><td>Carolyn Keene, Russell H. Tandy, Sara Paretsky</td><td>The Secret of the Old Clock (Nancy Drew, #1)</td><td>3.98</td></tr><tr><td>11643</td><td>Carrie Brownstein</td><td>Hunger Makes Me a Modern Girl</td><td>3.88</td></tr><tr><td>11643</td><td>Carrie Fisher</td><td>The Princess Diarist</td><td>3.66</td></tr><tr><td>11643</td><td>Carrie Fisher</td><td>Wishful Drinking</td><td>3.71</td></tr><tr><td>11643</td><td>Carson McCullers</td><td>The Heart is a Lonely Hunter</td><td>3.97</td></tr><tr><td>11643</td><td>Catherine Marshall</td><td>Christy</td><td>4.2</td></tr><tr><td>11643</td><td>Catherine McKenzie</td><td>Hidden</td><td>3.44</td></tr><tr><td>11643</td><td>Catherynne M. Valente, Ana Juan</td><td>The Girl Who Circumnavigated Fairyland in a Ship of Her Own Making (Fairyland, #1)</td><td>3.97</td></tr><tr><td>11643</td><td>Celeste Ng</td><td>Everything I Never Told You</td><td>3.78</td></tr><tr><td>11643</td><td>Charlie Jane Anders</td><td>All the Birds in the Sky</td><td>3.58</td></tr><tr><td>11643</td><td>Charlotte Brontë</td><td>The Professor</td><td>3.56</td></tr><tr><td>11643</td><td>Charlotte Brontë, A.S. Byatt, Μαρία Λαϊνά, Ignes Sodre</td><td>Villette</td><td>3.75</td></tr><tr><td>11643</td><td>Charlotte Brontë, Lucasta Miller, collaborative, Jessica Cox</td><td>Shirley</td><td>3.71</td></tr><tr><td>11643</td><td>Charlotte Brontë, Michael Mason</td><td>Jane Eyre</td><td>4.1</td></tr><tr><td>11643</td><td>Charlotte Perkins Gilman</td><td>The Yellow Wallpaper and Other Stories</td><td>4.02</td></tr><tr><td>11643</td><td>Charlotte Perkins Gilman, Elaine Hedges</td><td>The Yellow Wall-Paper</td><td>4.11</td></tr><tr><td>11643</td><td>Cherie Priest</td><td>Boneshaker (The Clockwork Century, #1)</td><td>3.5</td></tr><tr><td>11643</td><td>Cheryl Strayed</td><td>Tiny Beautiful Things: Advice on Love and Life from Dear Sugar</td><td>4.29</td></tr><tr><td>11643</td><td>Chimamanda Ngozi Adichie</td><td>Americanah</td><td>4.26</td></tr><tr><td>11643</td><td>Chimamanda Ngozi Adichie</td><td>Half of a Yellow Sun</td><td>4.28</td></tr><tr><td>11643</td><td>Chimamanda Ngozi Adichie</td><td>Purple Hibiscus</td><td>4.11</td></tr><tr><td>11643</td><td>Chimamanda Ngozi Adichie</td><td>The Thing Around Your Neck</td><td>4.18</td></tr><tr><td>11643</td><td>Chimamanda Ngozi Adichie</td><td>We Should All Be Feminists</td><td>4.47</td></tr><tr><td>11643</td><td>Chitra Banerjee Divakaruni</td><td>The Mistress of Spices</td><td>3.48</td></tr><tr><td>11643</td><td>Chitra Banerjee Divakaruni</td><td>The Palace of Illusions</td><td>4.11</td></tr><tr><td>11643</td><td>Christiane Northrup</td><td>Women's Bodies, Women's Wisdom: Creating Physical and Emotional Health and Healing</td><td>4.32</td></tr><tr><td>11643</td><td>Christina Schwarz</td><td>Drowning Ruth</td><td>3.73</td></tr><tr><td>11643</td><td>Claire Messud</td><td>The Emperor's Children</td><td>2.93</td></tr><tr><td>11643</td><td>Claire Messud</td><td>The Woman Upstairs</td><td>3.31</td></tr><tr><td>11643</td><td>Claire North</td><td>The First Fifteen Lives of Harry August</td><td>4.04</td></tr><tr><td>11643</td><td>Clarissa Pinkola Estés</td><td>Women Who Run With the Wolves: Myths and Stories of the Wild Woman Archetype</td><td>4.15</td></tr><tr><td>11643</td><td>Claudia Gray</td><td>Lost Stars (Star Wars: Journey to the Force Awakens)</td><td>4.25</td></tr><tr><td>11643</td><td>Claudia Rankine</td><td>Citizen: An American Lyric</td><td>4.3</td></tr><tr><td>11643</td><td>Connie Willis</td><td>Blackout (All Clear, #1)</td><td>3.83</td></tr><tr><td>11643</td><td>Connie Willis</td><td>Doomsday Book (Oxford Time Travel, #1)</td><td>4.03</td></tr><tr><td>11643</td><td>Connie Willis</td><td>To Say Nothing of the Dog (Oxford Time Travel, #2)</td><td>4.13</td></tr><tr><td>11643</td><td>Courtney Milan</td><td>The Duchess War (Brothers Sinister, #1)</td><td>3.82</td></tr><tr><td>11643</td><td>Cristina Henriquez</td><td>The Book of Unknown Americans</td><td>3.85</td></tr><tr><td>11643</td><td>Curtis Sittenfeld</td><td>American Wife</td><td>3.72</td></tr><tr><td>11643</td><td>Curtis Sittenfeld</td><td>Prep</td><td>3.36</td></tr><tr><td>11643</td><td>Curtis Sittenfeld</td><td>Sisterland</td><td>3.35</td></tr><tr><td>11643</td><td>Cynthia Bond</td><td>Ruby</td><td>3.63</td></tr><tr><td>11643</td><td>Cynthia D'Aprix Sweeney</td><td>The Nest</td><td>3.45</td></tr><tr><td>11643</td><td>Cynthia Voigt</td><td>Homecoming (Tillerman Cycle, #1)</td><td>3.92</td></tr><tr><td>11643</td><td>Daphne du Maurier</td><td>Jamaica Inn</td><td>3.85</td></tr><tr><td>11643</td><td>Daphne du Maurier, Sally Beauman</td><td>Rebecca</td><td>4.2</td></tr><tr><td>11643</td><td>Dava Sobel</td><td>Galileo's Daughter: A Historical Memoir of Science, Faith and Love</td><td>3.74</td></tr><tr><td>11643</td><td>Dava Sobel, Neil Armstrong</td><td>Longitude: The True Story of a Lone Genius Who Solved the Greatest Scientific Problem of His Time</td><td>3.95</td></tr><tr><td>11643</td><td>Deb Perelman</td><td>The Smitten Kitchen Cookbook</td><td>4.14</td></tr><tr><td>11643</td><td>Deborah Blum</td><td>The Poisoner's Handbook: Murder and the Birth of Forensic Medicine in Jazz Age New York</td><td>4</td></tr><tr><td>11643</td><td>Deborah Rodriguez</td><td>The Little Coffee Shop of Kabul</td><td>3.57</td></tr><tr><td>11643</td><td>Denise Kiernan</td><td>The Girls of Atomic City: The Untold Story of the Women Who Helped Win World War II</td><td>3.66</td></tr><tr><td>11643</td><td>Diablo Cody</td><td>Candy Girl: A Year in the Life of an Unlikely Stripper</td><td>3.54</td></tr><tr><td>11643</td><td>Dian Fossey</td><td>Gorillas in the Mist</td><td>4.16</td></tr><tr><td>11643</td><td>Diana Gabaldon</td><td>The Space Between (Outlander, #7.5)</td><td>4.22</td></tr><tr><td>11643</td><td>Diana Wynne Jones</td><td>Castle in the Air (Howl's Moving Castle, #2)</td><td>3.93</td></tr><tr><td>11643</td><td>Diana Wynne Jones</td><td>Charmed Life (Chrestomanci, #1)</td><td>3.95</td></tr><tr><td>11643</td><td>Diana Wynne Jones</td><td>House of Many Ways (Howl's Moving Castle, #3)</td><td>4.03</td></tr><tr><td>11643</td><td>Diana Wynne Jones</td><td>Howl's Moving Castle (Howl's Moving Castle, #1)</td><td>4.3</td></tr><tr><td>11643</td><td>Diana Wynne Jones</td><td>The Lives of Christopher Chant (Chrestomanci, #2)</td><td>4.22</td></tr><tr><td>11643</td><td>Diane Duane</td><td>So You Want to Be a Wizard (Young Wizards, #1)</td><td>3.8</td></tr><tr><td>11643</td><td>Diane Muldrow, J.P. Miller</td><td>The Little Red Hen (Little Golden Book)</td><td>4.2</td></tr><tr><td>11643</td><td>Diane Setterfield</td><td>The Thirteenth Tale</td><td>3.95</td></tr><tr><td>11643</td><td>Dodie Smith</td><td>I Capture the Castle</td><td>4</td></tr><tr><td>11643</td><td>Donna Leon</td><td>Death at La Fenice (Commissario Brunetti, #1)</td><td>3.81</td></tr><tr><td>11643</td><td>Donna Tartt</td><td>The Little Friend</td><td>3.43</td></tr><tr><td>11643</td><td>Donna Tartt</td><td>The Secret History</td><td>4.07</td></tr><tr><td>11643</td><td>Doris Lessing</td><td>The Golden Notebook</td><td>3.75</td></tr><tr><td>11643</td><td>Dorothy Allison</td><td>Bastard Out of Carolina</td><td>4.09</td></tr><tr><td>11643</td><td>Dorothy L. Sayers</td><td>Clouds of Witness (Lord Peter Wimsey, #2)</td><td>4.04</td></tr><tr><td>11643</td><td>Dorothy L. Sayers</td><td>Gaudy Night (Lord Peter Wimsey, #12)</td><td>4.26</td></tr><tr><td>11643</td><td>Dorothy L. Sayers</td><td>Murder Must Advertise  (Lord Peter Wimsey, #10)</td><td>4.21</td></tr><tr><td>11643</td><td>Dorothy L. Sayers</td><td>Whose Body?  (Lord Peter Wimsey, #1)</td><td>3.91</td></tr><tr><td>11643</td><td>E. Nesbit</td><td>Five Children and It (Five Children, #1)</td><td>3.88</td></tr><tr><td>11643</td><td>E. Nesbit</td><td>The Railway Children</td><td>3.99</td></tr><tr><td>11643</td><td>Edan Lepucki</td><td>California</td><td>3.22</td></tr><tr><td>11643</td><td>Edith Hamilton, Steele Savage</td><td>Mythology: Timeless Tales of Gods and Heroes</td><td>3.98</td></tr><tr><td>11643</td><td>Edith Wharton</td><td>Ethan Frome</td><td>3.35</td></tr><tr><td>11643</td><td>Edith Wharton, Maureen Howard</td><td>The Age of Innocence</td><td>3.93</td></tr><tr><td>11643</td><td>Edith Wharton, Nina Bawden</td><td>The House of Mirth</td><td>3.94</td></tr><tr><td>11643</td><td>Edwidge Danticat</td><td>Breath, Eyes, Memory</td><td>3.86</td></tr><tr><td>11643</td><td>Elaine Pagels</td><td>The Gnostic Gospels</td><td>3.93</td></tr><tr><td>11643</td><td>Eleanor Brown</td><td>The Weird Sisters</td><td>3.36</td></tr><tr><td>11643</td><td>Eleanor Catton</td><td>The Luminaries</td><td>3.7</td></tr><tr><td>11643</td><td>Eleanor Coerr, Ronald Himler</td><td>Sadako and the Thousand Paper Cranes</td><td>4.09</td></tr><tr><td>11643</td><td>Eleanor H. Porter</td><td>Pollyanna (Pollyanna, #1)</td><td>3.95</td></tr><tr><td>11643</td><td>Elena Ferrante, Ann Goldstein</td><td>My Brilliant Friend (The Neapolitan Novels #1)</td><td>3.88</td></tr><tr><td>11643</td><td>Elena Ferrante, Ann Goldstein</td><td>The Story of a New Name (The Neapolitan Novels #2)</td><td>4.37</td></tr><tr><td>11643</td><td>Elena Ferrante, Ann Goldstein</td><td>The Story of the Lost Child (The Neapolitan Novels, #4)</td><td>4.39</td></tr><tr><td>11643</td><td>Elena Ferrante, Ann Goldstein</td><td>Those Who Leave and Those Who Stay (The Neapolitan Novels #3)</td><td>4.29</td></tr><tr><td>11643</td><td>Elif Shafak</td><td>The Bastard of Istanbul</td><td>3.79</td></tr><tr><td>11643</td><td>Elizabeth  George</td><td>A Great Deliverance (Inspector Lynley, #1)</td><td>4.06</td></tr><tr><td>11643</td><td>Elizabeth Gaskell</td><td>Cranford</td><td>3.85</td></tr><tr><td>11643</td><td>Elizabeth Gaskell, Alan Shelston</td><td>North and South</td><td>4.13</td></tr><tr><td>11643</td><td>Elizabeth Gaskell, Pam Morris</td><td>Wives and Daughters</td><td>4.07</td></tr><tr><td>11643</td><td>Elizabeth Gaskell, Shirley Foster</td><td>Mary Barton</td><td>3.7</td></tr><tr><td>11643</td><td>Elizabeth Gilbert</td><td>Big Magic: Creative Living Beyond Fear</td><td>3.9</td></tr><tr><td>11643</td><td>Elizabeth Gilbert</td><td>Committed: A Skeptic Makes Peace with Marriage</td><td>3.39</td></tr><tr><td>11643</td><td>Elizabeth Gilbert</td><td>The Signature of All Things</td><td>3.81</td></tr><tr><td>11643</td><td>Elizabeth Haydon</td><td>Rhapsody: Child of Blood (Symphony of Ages, #1)</td><td>3.95</td></tr><tr><td>11643</td><td>Elizabeth Kolbert</td><td>The Sixth Extinction: An Unnatural History</td><td>4.09</td></tr><tr><td>11643</td><td>Elizabeth Kostova</td><td>The Historian</td><td>3.77</td></tr><tr><td>11643</td><td>Elizabeth Little</td><td>Dear Daughter</td><td>3.44</td></tr><tr><td>11643</td><td>Elizabeth Peters</td><td>Crocodile on the Sandbank (Amelia Peabody #1)</td><td>4.02</td></tr><tr><td>11643</td><td>Elizabeth Ross, ROFry</td><td>The Three Little Pigs</td><td>4.26</td></tr><tr><td>11643</td><td>Elizabeth Strout, Goran Skrobonja</td><td>My Name Is Lucy Barton</td><td>3.51</td></tr><tr><td>11643</td><td>Ellis Peters</td><td>A Morbid Taste for Bones (Chronicles of Brother Cadfael, #1)</td><td>3.99</td></tr><tr><td>11643</td><td>Else Holmelund Minarik, Maurice Sendak</td><td>A Kiss for Little Bear (An I Can Read Book) by Minarik, Else Holmelund [1984]</td><td>4.31</td></tr><tr><td>11643</td><td>Else Holmelund Minarik, Maurice Sendak</td><td>Little Bear</td><td>4.22</td></tr><tr><td>11643</td><td>Emily Brontë, Richard J. Dunn</td><td>Wuthering Heights</td><td>3.82</td></tr><tr><td>11643</td><td>Emily Carroll</td><td>Through the Woods</td><td>3.92</td></tr><tr><td>11643</td><td>Emily Dickinson</td><td>Selected Poems</td><td>4.16</td></tr><tr><td>11643</td><td>Emily M. Danforth</td><td>The Miseducation of Cameron Post</td><td>3.99</td></tr><tr><td>11643</td><td>Emily St. John Mandel</td><td>Station Eleven</td><td>4.02</td></tr><tr><td>11643</td><td>Emma Cline</td><td>The Girls</td><td>3.49</td></tr><tr><td>11643</td><td>Emma Donoghue</td><td>Frog Music</td><td>3.13</td></tr><tr><td>11643</td><td>Emma Donoghue</td><td>Room</td><td>4.03</td></tr><tr><td>11643</td><td>Emma Donoghue</td><td>Slammerkin</td><td>3.69</td></tr><tr><td>11643</td><td>Emma Donoghue</td><td>The Wonder</td><td>3.65</td></tr><tr><td>11643</td><td>Emma McLaughlin, Nicola Kraus</td><td>The Nanny Diaries (Nanny, #1)</td><td>3.4</td></tr><tr><td>11643</td><td>Emma Straub</td><td>Modern Lovers</td><td>3.45</td></tr><tr><td>11643</td><td>Emma Straub</td><td>The Vacationers</td><td>3.14</td></tr><tr><td>11643</td><td>Emmuska Orczy</td><td>The Scarlet Pimpernel</td><td>4.06</td></tr><tr><td>11643</td><td>Enid Bagnold</td><td>National Velvet</td><td>4.09</td></tr><tr><td>11643</td><td>Enid Blyton</td><td>Five Go Adventuring Again (Famous Five, #2)</td><td>3.99</td></tr><tr><td>11643</td><td>Enid Blyton</td><td>Five Go to Smuggler's Top (Famous Five, #4)</td><td>4.03</td></tr><tr><td>11643</td><td>Enid Blyton</td><td>The Enchanted Wood (The Faraway Tree, #1)</td><td>4.24</td></tr><tr><td>11643</td><td>Eowyn Ivey</td><td>The Snow Child</td><td>3.95</td></tr><tr><td>11643</td><td>Erica Jong</td><td>Fear of Flying</td><td>3.44</td></tr><tr><td>11643</td><td>Erika Swyler</td><td>The Book of Speculation</td><td>3.59</td></tr><tr><td>11643</td><td>Erin Hunter</td><td>Dawn (Warriors: The New Prophecy, #3)</td><td>4.31</td></tr><tr><td>11643</td><td>Erin Hunter</td><td>Moonrise (Warriors: The New Prophecy, #2)</td><td>4.31</td></tr><tr><td>11643</td><td>Erin Hunter</td><td>Starlight (Warriors: The New Prophecy, #4)</td><td>4.28</td></tr><tr><td>11643</td><td>Erin Hunter</td><td>Sunset (Warriors: The New Prophecy, #6)</td><td>4.35</td></tr><tr><td>11643</td><td>Erin Hunter</td><td>Twilight (Warriors: The New Prophecy, #5)</td><td>4.3</td></tr><tr><td>11643</td><td>Esi Edugyan</td><td>Half Blood Blues</td><td>3.63</td></tr><tr><td>11643</td><td>Eve Ensler, Gloria Steinem</td><td>The Vagina Monologues</td><td>3.86</td></tr><tr><td>11643</td><td>Fannie Flagg</td><td>Fried Green Tomatoes at the Whistle Stop Cafe</td><td>4.26</td></tr><tr><td>11643</td><td>Felicia Day, Joss Whedon</td><td>You're Never Weird on the Internet (Almost)</td><td>4.14</td></tr><tr><td>11643</td><td>Flannery O'Connor</td><td>A Good Man is Hard to Find and Other Stories</td><td>4.24</td></tr><tr><td>11643</td><td>Flannery O'Connor</td><td>The Complete Stories</td><td>4.44</td></tr><tr><td>11643</td><td>Flannery O'Connor</td><td>Wise Blood</td><td>3.88</td></tr><tr><td>11643</td><td>Frances Hodgson Burnett</td><td>Little Lord Fauntleroy</td><td>3.81</td></tr><tr><td>11643</td><td>Frances Mayes</td><td>Bella Tuscany</td><td>3.74</td></tr><tr><td>11643</td><td>Françoise Sagan</td><td>Bonjour tristesse</td><td>3.62</td></tr><tr><td>11643</td><td>G. Willow Wilson</td><td>Alif the Unseen</td><td>3.84</td></tr><tr><td>11643</td><td>G. Willow Wilson, Adrian Alphona</td><td>Ms. Marvel, Vol. 1: No Normal</td><td>4.13</td></tr><tr><td>11643</td><td>G. Willow Wilson, Adrian Alphona, Jacob Wyatt</td><td>Ms. Marvel, Vol. 2: Generation Why</td><td>4.14</td></tr><tr><td>11643</td><td>Gabrielle Hamilton</td><td>Blood, Bones, and Butter: The Inadvertent Education of a Reluctant Chef</td><td>3.71</td></tr><tr><td>11643</td><td>Gail Carriger</td><td>Blameless (Parasol Protectorate, #3)</td><td>4.01</td></tr><tr><td>11643</td><td>Gail Carriger</td><td>Changeless (Parasol Protectorate, #2)</td><td>4</td></tr><tr><td>11643</td><td>Gail Carriger</td><td>Curtsies &amp; Conspiracies (Finishing School, #2)</td><td>4.11</td></tr><tr><td>11643</td><td>Gail Carriger</td><td>Heartless (Parasol Protectorate, #4)</td><td>4.07</td></tr><tr><td>11643</td><td>Gail Carriger</td><td>Soulless (Parasol Protectorate, #1)</td><td>3.91</td></tr><tr><td>11643</td><td>Gail Carriger</td><td>Timeless (Parasol Protectorate, #5)</td><td>4.12</td></tr><tr><td>11643</td><td>Gail Carson Levine</td><td>The Two Princesses of Bamarre</td><td>4.02</td></tr><tr><td>11643</td><td>Gail Tsukiyama</td><td>Women of the Silk</td><td>3.94</td></tr><tr><td>11643</td><td>Genevieve Cogman</td><td>The Invisible Library (The Invisible Library, #1)</td><td>3.73</td></tr><tr><td>11643</td><td>George Eliot, A.S. Byatt</td><td>The Mill on the Floss</td><td>3.77</td></tr><tr><td>11643</td><td>George Eliot, Edmund White</td><td>Daniel Deronda</td><td>3.82</td></tr><tr><td>11643</td><td>George Eliot, Joanna Trollope, Hugh Osborne</td><td>Adam Bede</td><td>3.77</td></tr><tr><td>11643</td><td>George Eliot, Michel Faber</td><td>Middlemarch</td><td>3.93</td></tr><tr><td>11643</td><td>Georgette Heyer</td><td>Frederica</td><td>4.15</td></tr><tr><td>11643</td><td>Georgette Heyer</td><td>The Grand Sophy</td><td>4.16</td></tr><tr><td>11643</td><td>Geraldine Brooks</td><td>Nine Parts of Desire: The Hidden World of Islamic Women</td><td>4.04</td></tr><tr><td>11643</td><td>Geraldine Brooks</td><td>Year of Wonders</td><td>4</td></tr><tr><td>11643</td><td>Gertrude Crampton</td><td>Scuffy the Tugboat (Big Little Golden Book)</td><td>4.11</td></tr><tr><td>11643</td><td>Gillian Flynn</td><td>The Grownup</td><td>3.54</td></tr><tr><td>11643</td><td>Giulia Enders, Jill Enders</td><td>Gut: The Inside Story of Our Body’s Most Underrated Organ</td><td>3.99</td></tr><tr><td>11643</td><td>Gloria Steinem</td><td>My Life on the Road</td><td>4.08</td></tr><tr><td>11643</td><td>Han Kang, Deborah     Smith</td><td>The Vegetarian</td><td>3.59</td></tr><tr><td>11643</td><td>Hannah  Green, Joanne Greenberg</td><td>I Never Promised You a Rose Garden</td><td>3.85</td></tr><tr><td>11643</td><td>Hannah Kent</td><td>Burial Rites</td><td>4.01</td></tr><tr><td>11643</td><td>Hanya Yanagihara</td><td>A Little Life</td><td>4.27</td></tr><tr><td>11643</td><td>Harper Lee</td><td>Go Set a Watchman</td><td>3.31</td></tr><tr><td>11643</td><td>Harriet Jacobs</td><td>Incidents in the Life of a Slave Girl</td><td>4.08</td></tr><tr><td>11643</td><td>Harriet Lerner</td><td>The Dance Of Anger: A Woman's Guide to Changing the Patterns of Intimate Relationships</td><td>4.02</td></tr><tr><td>11643</td><td>Heather O'Neill</td><td>Lullabies for Little Criminals</td><td>3.95</td></tr><tr><td>11643</td><td>Helen Fielding</td><td>Bridget Jones: The Edge of Reason (Bridget Jones, #2)</td><td>3.53</td></tr><tr><td>11643</td><td>Helen Fielding</td><td>Bridget Jones's Diary (Bridget Jones, #1)</td><td>3.75</td></tr><tr><td>11643</td><td>Helen Fielding</td><td>Mad About the Boy (Bridget Jones, #3)</td><td>3.32</td></tr><tr><td>11643</td><td>Helen Fielding</td><td>Olivia Joules and the Overactive Imagination</td><td>3.1</td></tr><tr><td>11643</td><td>Helen Hooven Santmyer</td><td>And Ladies of the Club</td><td>4.12</td></tr><tr><td>11643</td><td>Helen Keller</td><td>The Story of My Life</td><td>4.07</td></tr><tr><td>11643</td><td>Helen Macdonald</td><td>H is for Hawk</td><td>3.74</td></tr><tr><td>11643</td><td>Helen Oyeyemi</td><td>Boy, Snow, Bird</td><td>3.34</td></tr><tr><td>11643</td><td>Helene Hanff</td><td>84, Charing Cross Road</td><td>4.19</td></tr><tr><td>11643</td><td>Helene Wecker</td><td>The Golem and the Jinni (The Golem and the Jinni, #1)</td><td>4.1</td></tr><tr><td>11643</td><td>Hilary Mantel</td><td>Bring Up the Bodies (Thomas Cromwell, #2)</td><td>4.26</td></tr><tr><td>11643</td><td>Hilary Mantel</td><td>Wolf Hall (Thomas Cromwell, #1)</td><td>3.85</td></tr><tr><td>11643</td><td>Inga Muscio, Betty Dodson</td><td>Cunt: A Declaration of Independence</td><td>3.88</td></tr><tr><td>11643</td><td>Irin Carmon, Shana Knizhnik</td><td>Notorious RBG: The Life and Times of Ruth Bader Ginsburg</td><td>4.22</td></tr><tr><td>11643</td><td>Iris Murdoch</td><td>Under the Net</td><td>3.76</td></tr><tr><td>11643</td><td>Iris Murdoch, Mary Kinzie</td><td>The Sea, the Sea</td><td>3.9</td></tr><tr><td>11643</td><td>Isa Chandra Moskowitz, Terry Hope Romero</td><td>Veganomicon: The Ultimate Vegan Cookbook</td><td>3.98</td></tr><tr><td>11643</td><td>Isa Chandra Moskowitz, Terry Hope Romero, Sara Quin</td><td>Vegan Cupcakes Take Over the World: 75 Dairy-Free Recipes for Cupcakes that Rule</td><td>4.08</td></tr><tr><td>11643</td><td>Isabel Allende, Magda Bogin</td><td>The House of the Spirits</td><td>4.2</td></tr><tr><td>11643</td><td>Isabel Allende, Margaret Sayers Peden</td><td>City of the Beasts (Eagle and Jaguar, #1)</td><td>3.69</td></tr><tr><td>11643</td><td>Isabel Allende, Margaret Sayers Peden</td><td>Of Love and Shadows</td><td>3.96</td></tr><tr><td>11643</td><td>Isabel Allende, Margaret Sayers Peden</td><td>Zorro</td><td>3.75</td></tr><tr><td>11643</td><td>Isabel Allende, Oliver Brock, Frank Wynne</td><td>Ripper</td><td>3.24</td></tr><tr><td>11643</td><td>Isabel Wilkerson</td><td>The Warmth of Other Suns: The Epic Story of America's Great Migration</td><td>4.31</td></tr><tr><td>11643</td><td>Isak Dinesen, Karen Blixen</td><td>Out of Africa</td><td>3.96</td></tr><tr><td>11643</td><td>J.K. Rowling</td><td>Harry Potter Schoolbooks Box Set: Two Classic Books from the Library of Hogwarts School of Witchcraft and Wizardry</td><td>4.4</td></tr><tr><td>11643</td><td>J.K. Rowling</td><td>Hogwarts: An Incomplete and Unreliable Guide (Pottermore Presents, #3)</td><td>4.21</td></tr><tr><td>11643</td><td>J.K. Rowling</td><td>The Casual Vacancy</td><td>3.28</td></tr><tr><td>11643</td><td>J.K. Rowling</td><td>The Tales of Beedle the Bard</td><td>4.06</td></tr><tr><td>11643</td><td>J.K. Rowling, Joel Holland</td><td>Very Good Lives: The Fringe Benefits of Failure and the Importance of Imagination</td><td>4.26</td></tr><tr><td>11643</td><td>J.K. Rowling, Mary GrandPré</td><td>Harry Potter and the Order of the Phoenix (Harry Potter, #5)</td><td>4.46</td></tr><tr><td>11643</td><td>J.K. Rowling, Mary GrandPré</td><td>The Harry Potter Collection 1-4 (Harry Potter, #1-4)</td><td>4.66</td></tr><tr><td>11643</td><td>J.K. Rowling, MinaLima</td><td>Short Stories from Hogwarts of Heroism, Hardship and Dangerous Hobbies (Pottermore Presents, #1)</td><td>4.22</td></tr><tr><td>11643</td><td>J.K. Rowling, MinaLima</td><td>Short Stories from Hogwarts of Power, Politics and Pesky Poltergeists (Pottermore Presents, #2)</td><td>4.2</td></tr><tr><td>11643</td><td>Jacqueline Carey</td><td>Kushiel's Avatar (Phèdre's Trilogy, #3)</td><td>4.37</td></tr><tr><td>11643</td><td>Jacqueline Carey</td><td>Kushiel's Chosen (Phèdre's Trilogy, #2)</td><td>4.31</td></tr><tr><td>11643</td><td>Jacqueline Carey</td><td>Kushiel's Dart (Phèdre's Trilogy, #1)</td><td>4.04</td></tr><tr><td>11643</td><td>Jacqueline Carey</td><td>Kushiel's Justice (Imriel's Trilogy, #2)</td><td>4.24</td></tr><tr><td>11643</td><td>Jacqueline Carey</td><td>Kushiel's Mercy (Imriel's Trilogy, #3)</td><td>4.3</td></tr><tr><td>11643</td><td>Jacqueline Carey</td><td>Kushiel's Scion (Imriel's Trilogy, #1)</td><td>4.19</td></tr><tr><td>11643</td><td>Jacqueline Susann</td><td>Valley of the Dolls</td><td>3.7</td></tr><tr><td>11643</td><td>Jacqueline Wilson</td><td>Girls in Love (Girls, #1)</td><td>3.53</td></tr><tr><td>11643</td><td>Jacqueline Wilson, Nick Sharratt</td><td>The Illustrated Mum</td><td>3.74</td></tr><tr><td>11643</td><td>Jacqueline Wilson, Nick Sharratt</td><td>The Story of Tracy Beaker</td><td>3.69</td></tr><tr><td>11643</td><td>Jacqueline Wilson, Nick Sharratt, Sue Heap</td><td>Double Act</td><td>3.69</td></tr><tr><td>11643</td><td>Jacqueline Winspear</td><td>Birds of a Feather (Maisie Dobbs, #2)</td><td>3.95</td></tr><tr><td>11643</td><td>Jacqueline Winspear</td><td>Messenger of Truth (Maisie Dobbs, #4)</td><td>3.99</td></tr><tr><td>11643</td><td>Jacqueline Woodson</td><td>Another Brooklyn</td><td>3.87</td></tr><tr><td>11643</td><td>Jami Attenberg</td><td>The Middlesteins</td><td>3.42</td></tr><tr><td>11643</td><td>Jan Karon</td><td>Out to Canaan (Mitford Years, #4)</td><td>4.28</td></tr><tr><td>11643</td><td>Jan Karon</td><td>These High, Green Hills (Mitford Years, #3)</td><td>4.27</td></tr><tr><td>11643</td><td>Jane Austen, Alfred MacAdam</td><td>Northanger Abbey</td><td>3.8</td></tr><tr><td>11643</td><td>Jane Austen, Fiona Stafford</td><td>Emma</td><td>3.99</td></tr><tr><td>11643</td><td>Jane Austen, James Kinsley, Deidre Shauna Lynch</td><td>Persuasion</td><td>4.13</td></tr><tr><td>11643</td><td>Jane Austen, Kathryn Sutherland, Tony Tanner, Claire Lamont</td><td>Mansfield Park</td><td>3.84</td></tr><tr><td>11643</td><td>Jane Austen, Robert William Chapman</td><td>Lady Susan</td><td>3.56</td></tr><tr><td>11643</td><td>Jane Austen, Tony Tanner, Ros Ballaster</td><td>Sense and Sensibility</td><td>4.06</td></tr><tr><td>11643</td><td>Jane Harper</td><td>The Dry (Aaron Falk, #1)</td><td>4.07</td></tr><tr><td>11643</td><td>Jane Smiley</td><td>A Thousand Acres</td><td>3.79</td></tr><tr><td>11643</td><td>Janet Fitch</td><td>White Oleander</td><td>3.93</td></tr><tr><td>11643</td><td>Janet Stevens, Hans Christian Andersen</td><td>The Princess and the Pea</td><td>4.1</td></tr><tr><td>11643</td><td>Janne Teller, Martin Aitken</td><td>Nothing</td><td>3.76</td></tr><tr><td>11643</td><td>Jean M. Auel</td><td>The Clan of the Cave Bear (Earth's Children, #1)</td><td>4.02</td></tr><tr><td>11643</td><td>Jean M. Auel</td><td>The Valley of Horses (Earth's Children, #2)</td><td>3.98</td></tr><tr><td>11643</td><td>Jean Rhys</td><td>Wide Sargasso Sea</td><td>3.56</td></tr><tr><td>11643</td><td>Jean Webster</td><td>Daddy-Long-Legs (Daddy-Long-Legs, #1)</td><td>4.09</td></tr><tr><td>11643</td><td>Jeanette Winterson</td><td>Oranges Are Not the Only Fruit</td><td>3.75</td></tr><tr><td>11643</td><td>Jeanette Winterson</td><td>Sexing the Cherry</td><td>3.83</td></tr><tr><td>11643</td><td>Jeanette Winterson</td><td>The Passion</td><td>4.12</td></tr><tr><td>11643</td><td>Jeanette Winterson</td><td>Why Be Happy When You Could Be Normal?</td><td>3.94</td></tr><tr><td>11643</td><td>Jeanette Winterson</td><td>Written on the Body</td><td>4.08</td></tr><tr><td>11643</td><td>Jenna Jameson, Neil Strauss</td><td>How to Make Love Like a Porn Star: A Cautionary Tale</td><td>3.75</td></tr><tr><td>11643</td><td>Jennifer Crusie</td><td>Anyone But You</td><td>3.8</td></tr><tr><td>11643</td><td>Jennifer Crusie</td><td>Faking It (Dempseys, #2)</td><td>3.9</td></tr><tr><td>11643</td><td>Jennifer Donnelly</td><td>The Winter Rose (The Tea Rose, #2)</td><td>4.29</td></tr><tr><td>11643</td><td>Jennifer Egan</td><td>A Visit from the Goon Squad</td><td>3.64</td></tr><tr><td>11643</td><td>Jennifer Egan</td><td>The Keep</td><td>3.43</td></tr><tr><td>11643</td><td>Jennifer Weiner</td><td>In Her Shoes</td><td>3.78</td></tr><tr><td>11643</td><td>Jennifer Weiner</td><td>Little Earthquakes</td><td>3.76</td></tr><tr><td>11643</td><td>Jennifer Weiner</td><td>Then Came You</td><td>3.69</td></tr><tr><td>11643</td><td>Jenny  Lawson</td><td>Furiously Happy: A Funny Book About Horrible Things</td><td>3.93</td></tr><tr><td>11643</td><td>Jenny Offill</td><td>Dept. of Speculation</td><td>3.72</td></tr><tr><td>11643</td><td>Jesmyn Ward</td><td>Salvage the Bones</td><td>3.81</td></tr><tr><td>11643</td><td>Jessi Klein</td><td>You'll Grow Out of It</td><td>3.83</td></tr><tr><td>11643</td><td>Jessie Burton</td><td>The Miniaturist</td><td>3.58</td></tr><tr><td>11643</td><td>Jhumpa Lahiri</td><td>Interpreter of Maladies</td><td>4.12</td></tr><tr><td>11643</td><td>Jhumpa Lahiri</td><td>The Lowland</td><td>3.82</td></tr><tr><td>11643</td><td>Jhumpa Lahiri</td><td>Unaccustomed Earth</td><td>4.11</td></tr><tr><td>11643</td><td>Jill Alexander Essbaum</td><td>Hausfrau</td><td>3.24</td></tr><tr><td>11643</td><td>Jill Leovy</td><td>Ghettoside: A True Story of Murder in America</td><td>4.12</td></tr><tr><td>11643</td><td>Jill Murphy</td><td>The Worst Witch (Worst Witch, #1)</td><td>3.94</td></tr><tr><td>11643</td><td>Jo Walton</td><td>Among Others</td><td>3.68</td></tr><tr><td>11643</td><td>Joan Aiken, Pat Marriott</td><td>The Wolves of Willoughby Chase (The Wolves Chronicles, #1)</td><td>4.08</td></tr><tr><td>11643</td><td>Joan Didion</td><td>Blue Nights</td><td>3.75</td></tr><tr><td>11643</td><td>Joan Didion</td><td>Slouching Towards Bethlehem</td><td>4.24</td></tr><tr><td>11643</td><td>Joan Didion</td><td>The Year of Magical Thinking</td><td>3.86</td></tr><tr><td>11643</td><td>Joan Didion, David Thomson</td><td>Play It as It Lays</td><td>3.86</td></tr><tr><td>11643</td><td>Joanne Harris</td><td>Chocolat (Chocolat, #1)</td><td>3.95</td></tr><tr><td>11643</td><td>Joanne Harris</td><td>Five Quarters of the Orange</td><td>3.83</td></tr><tr><td>11643</td><td>Johanna Spyri, Angelo  Rinaldi, Beverly Cleary</td><td>Heidi</td><td>3.97</td></tr><tr><td>11643</td><td>Joni Eareckson Tada, Joe Musser</td><td>Joni: An Unforgettable Story</td><td>4.23</td></tr><tr><td>11643</td><td>Josephine Tey</td><td>The Daughter of Time (Inspector Alan Grant, #5)</td><td>3.95</td></tr><tr><td>11643</td><td>Joy Adamson</td><td>Born Free: A Lioness of Two Worlds (Story of Elsa, #1)</td><td>4.17</td></tr><tr><td>11643</td><td>Joyce Carol Oates</td><td>We Were the Mulvaneys</td><td>3.7</td></tr><tr><td>11643</td><td>Judith Guest</td><td>Ordinary People</td><td>3.9</td></tr><tr><td>11643</td><td>Judith Kerr</td><td>The Tiger Who Came to Tea</td><td>4.23</td></tr><tr><td>11643</td><td>Judy Schachner</td><td>Skippyjon Jones in Mummy Trouble (Skippyjon Jones, #3)</td><td>4.25</td></tr><tr><td>11643</td><td>Julia Alvarez</td><td>How the García Girls Lost Their Accents </td><td>3.62</td></tr><tr><td>11643</td><td>Julia Child</td><td>The Way to Cook</td><td>4.31</td></tr><tr><td>11643</td><td>Julia Donaldson, Axel Scheffler</td><td>The Gruffalo</td><td>4.47</td></tr><tr><td>11643</td><td>Julie Maroh</td><td>Le bleu est une couleur chaude</td><td>3.92</td></tr><tr><td>11643</td><td>Julie Otsuka</td><td>The Buddha in the Attic</td><td>3.59</td></tr><tr><td>11643</td><td>Julie Otsuka</td><td>When the Emperor Was Divine</td><td>3.7</td></tr><tr><td>11643</td><td>Julie Powell</td><td>Julie and Julia: 365 Days, 524 Recipes, 1 Tiny Apartment Kitchen: How One Girl Risked Her Marriage, Her Job, and Her Sanity to Master the Art of Living</td><td>3.67</td></tr><tr><td>11643</td><td>Juliet Marillier</td><td>Daughter of the Forest  (Sevenwaters, #1)</td><td>4.28</td></tr><tr><td>11643</td><td>Jung Chang</td><td>Wild Swans: Three Daughters of China</td><td>4.23</td></tr><tr><td>11643</td><td>Karen Armstrong</td><td>A History of God: The 4,000-Year Quest of Judaism, Christianity, and Islam</td><td>3.85</td></tr><tr><td>11643</td><td>Karen Cushman</td><td>Catherine, Called Birdy</td><td>3.7</td></tr><tr><td>11643</td><td>Karen Joy Fowler</td><td>The Jane Austen Book Club</td><td>3.07</td></tr><tr><td>11643</td><td>Karen Joy Fowler</td><td>We Are All Completely Beside Ourselves</td><td>3.71</td></tr><tr><td>11643</td><td>Karen Miller</td><td>The Awakened Mage (Kingmaker, Kingbreaker, #2)</td><td>3.71</td></tr><tr><td>11643</td><td>Karen Miller</td><td>The Innocent Mage (Kingmaker, Kingbreaker, #1)</td><td>3.65</td></tr><tr><td>11643</td><td>Karen Russell</td><td>Swamplandia!</td><td>3.21</td></tr><tr><td>11643</td><td>Karen Russell</td><td>Vampires in the Lemon Grove</td><td>3.67</td></tr><tr><td>11643</td><td>Karen Thompson Walker</td><td>The Age of Miracles</td><td>3.64</td></tr><tr><td>11643</td><td>Karin Slaughter</td><td>Faithless (Grant County, #5)</td><td>4.11</td></tr><tr><td>11643</td><td>Kate Atkinson</td><td>Case Histories (Jackson Brodie #1)</td><td>3.82</td></tr><tr><td>11643</td><td>Kate Atkinson</td><td>Life After Life</td><td>3.74</td></tr><tr><td>11643</td><td>Kate Atkinson</td><td>One Good Turn (Jackson Brodie, #2)</td><td>3.79</td></tr><tr><td>11643</td><td>Kate Atkinson</td><td>Started Early, Took My Dog (Jackson Brodie, #4)</td><td>3.89</td></tr><tr><td>11643</td><td>Kate Atkinson</td><td>When Will There Be Good News? (Jackson Brodie, #3)</td><td>3.97</td></tr><tr><td>11643</td><td>Kate Beaton</td><td>Hark! A Vagrant</td><td>4.27</td></tr><tr><td>11643</td><td>Kate Chopin</td><td>The Awakening</td><td>3.63</td></tr><tr><td>11643</td><td>Kate Chopin</td><td>The Story of an Hour</td><td>4.08</td></tr><tr><td>11643</td><td>Kate Chopin, Cynthia Brantley Johnson, Alyssa  Harad</td><td>The Awakening and Selected Stories</td><td>3.84</td></tr><tr><td>11643</td><td>Kate Douglas Wiggin</td><td>Rebecca of Sunnybrook Farm</td><td>3.85</td></tr><tr><td>11643</td><td>Kate Summerscale</td><td>The Suspicions of Mr. Whicher: A Shocking Murder and the Undoing of a Great Victorian Detective</td><td>3.43</td></tr><tr><td>11643</td><td>Katharine Graham</td><td>Personal History</td><td>4.13</td></tr><tr><td>11643</td><td>Katherine Addison</td><td>The Goblin Emperor</td><td>4.05</td></tr><tr><td>11643</td><td>Katherine Boo</td><td>Behind the Beautiful Forevers: Life, Death, and Hope in a Mumbai Undercity</td><td>3.97</td></tr><tr><td>11643</td><td>Katherine Dunn</td><td>Geek Love</td><td>3.98</td></tr><tr><td>11643</td><td>Katherine Paterson</td><td>Jacob Have I Loved</td><td>3.64</td></tr><tr><td>11643</td><td>Kathleen Winsor</td><td>Forever Amber </td><td>3.98</td></tr><tr><td>11643</td><td>Kathy Reichs</td><td>Bare Bones (Temperance Brennan, #6)</td><td>3.95</td></tr><tr><td>11643</td><td>Kathy Reichs</td><td>Deadly Decisions (Temperance Brennan, #3)</td><td>3.93</td></tr><tr><td>11643</td><td>Kathy Reichs</td><td>Death du Jour (Temperance Brennan, #2)</td><td>3.96</td></tr><tr><td>11643</td><td>Kathy Reichs</td><td>Déjà Dead (Temperance Brennan, #1)</td><td>3.86</td></tr><tr><td>11643</td><td>Kathy Reichs</td><td>Fatal Voyage (Temperance Brennan, #4)</td><td>4.04</td></tr><tr><td>11643</td><td>Kathy Reichs</td><td>Grave Secrets (Temperance Brennan, #5)</td><td>3.98</td></tr><tr><td>11643</td><td>Kathy Reichs</td><td>Monday Mourning (Temperance Brennan, #7)</td><td>4.02</td></tr><tr><td>11643</td><td>Kay Thompson, Hilary Knight</td><td>Eloise </td><td>4.2</td></tr><tr><td>11643</td><td>Kaye Gibbons</td><td>Ellen Foster</td><td>3.75</td></tr><tr><td>11643</td><td>Kennilworthy Whisp, J.K. Rowling</td><td>Quidditch Through the Ages</td><td>3.85</td></tr><tr><td>11643</td><td>Keri Hulme</td><td>The Bone People</td><td>4.06</td></tr><tr><td>11643</td><td>Kim Gordon</td><td>Girl in a Band</td><td>3.58</td></tr><tr><td>11643</td><td>Kyung-Sook Shin, 신경숙, Chi-Young Kim</td><td>Please Look After Mom</td><td>3.76</td></tr><tr><td>11643</td><td>L.M. Montgomery</td><td>Anne of Avonlea (Anne of Green Gables, #2)</td><td>4.21</td></tr><tr><td>11643</td><td>L.M. Montgomery</td><td>Anne of Ingleside (Anne of Green Gables, #6)</td><td>4.05</td></tr><tr><td>11643</td><td>L.M. Montgomery</td><td>Anne of the Island (Anne of Green Gables, #3)</td><td>4.21</td></tr><tr><td>11643</td><td>L.M. Montgomery</td><td>Anne of Windy Poplars (Anne of Green Gables, #4)</td><td>4.04</td></tr><tr><td>11643</td><td>L.M. Montgomery</td><td>Anne's House of Dreams (Anne of Green Gables, #5)</td><td>4.12</td></tr><tr><td>11643</td><td>L.M. Montgomery</td><td>Emily Climbs (Emily, #2)</td><td>4.14</td></tr><tr><td>11643</td><td>L.M. Montgomery</td><td>Emily of New Moon (Emily, #1)</td><td>4.09</td></tr><tr><td>11643</td><td>L.M. Montgomery</td><td>Rainbow Valley (Anne of Green Gables, #7)</td><td>4</td></tr><tr><td>11643</td><td>L.M. Montgomery</td><td>Rilla of Ingleside (Anne of Green Gables, #8)</td><td>4.16</td></tr><tr><td>11643</td><td>L.M. Montgomery</td><td>The Blue Castle </td><td>4.23</td></tr><tr><td>11643</td><td>Laline Paull</td><td>The Bees</td><td>3.67</td></tr><tr><td>11643</td><td>Laura Ingalls Wilder, Garth Williams</td><td>By the Shores of Silver Lake  (Little House, #5)</td><td>4.16</td></tr><tr><td>11643</td><td>Laura Ingalls Wilder, Garth Williams</td><td>Farmer Boy (Little House, #3)</td><td>4.05</td></tr><tr><td>11643</td><td>Laura Ingalls Wilder, Garth Williams</td><td>Little House in the Big Woods (Little House, #1)</td><td>4.16</td></tr><tr><td>11643</td><td>Laura Ingalls Wilder, Garth Williams</td><td>Little House on the Prairie (Little House, #2)</td><td>4.18</td></tr><tr><td>11643</td><td>Laura Ingalls Wilder, Garth Williams</td><td>Little Town on the Prairie  (Little House, #7)</td><td>4.18</td></tr><tr><td>11643</td><td>Laura Ingalls Wilder, Garth Williams</td><td>On the Banks of Plum Creek  (Little House, #4)</td><td>4.19</td></tr><tr><td>11643</td><td>Laura Ingalls Wilder, Garth Williams</td><td>The Long Winter (Little House, #6)</td><td>4.16</td></tr><tr><td>11643</td><td>Laura Ingalls Wilder, Garth Williams</td><td>These Happy Golden Years (Little House, #8)</td><td>4.17</td></tr><tr><td>11643</td><td>Laura Lippman</td><td>What the Dead Know</td><td>3.54</td></tr><tr><td>11643</td><td>Laura McHugh</td><td>The Weight of Blood</td><td>3.73</td></tr><tr><td>11643</td><td>Laurell K. Hamilton</td><td>The Laughing Corpse (Anita Blake, Vampire Hunter, #2)</td><td>4.11</td></tr><tr><td>11643</td><td>Lauren Beukes</td><td>Broken Monsters</td><td>3.59</td></tr><tr><td>11643</td><td>Lauren Beukes</td><td>The Shining Girls</td><td>3.49</td></tr><tr><td>11643</td><td>Lauren Graham</td><td>Talking as Fast as I Can: From Gilmore Girls to Gilmore Girls, and Everything in Between</td><td>4.04</td></tr><tr><td>11643</td><td>Lauren Groff</td><td>Arcadia</td><td>3.65</td></tr><tr><td>11643</td><td>Lauren Groff</td><td>Fates and Furies</td><td>3.56</td></tr><tr><td>11643</td><td>Lauren Weisberger</td><td>Chasing Harry Winston</td><td>3.32</td></tr><tr><td>11643</td><td>Lauren Weisberger</td><td>Everyone Worth Knowing</td><td>3.39</td></tr><tr><td>11643</td><td>Lauren Weisberger</td><td>The Devil Wears Prada (The Devil Wears Prada, #1)</td><td>3.7</td></tr><tr><td>11643</td><td>Laurie R. King</td><td>A Monstrous Regiment of Women (Mary Russell, #2)</td><td>4.04</td></tr><tr><td>11643</td><td>Laurie R. King</td><td>The Beekeeper's Apprentice (Mary Russell, #1)</td><td>4.08</td></tr><tr><td>11643</td><td>Lena Dunham, Joana Avillez</td><td>Not That Kind of Girl: A Young Woman Tells You What She's &quot;Learned&quot;</td><td>3.33</td></tr><tr><td>11643</td><td>Leslie Feinberg</td><td>Stone Butch Blues</td><td>4.27</td></tr><tr><td>11643</td><td>Leslie Jamison</td><td>The Empathy Exams: Essays</td><td>3.62</td></tr><tr><td>11643</td><td>Lian Hearn</td><td>Across the Nightingale Floor (Tales of the Otori, #1)</td><td>4.06</td></tr><tr><td>11643</td><td>Lian Hearn</td><td>Brilliance of the Moon (Tales of the Otori, #3)</td><td>4.04</td></tr><tr><td>11643</td><td>Lian Hearn</td><td>Grass for His Pillow (Tales of the Otori, #2)</td><td>4.01</td></tr><tr><td>11643</td><td>Libba Bray</td><td>Beauty Queens</td><td>3.6</td></tr><tr><td>11643</td><td>Lilian Jackson Braun</td><td>The Cat Who Could Read Backwards (Cat Who..., #1)</td><td>3.84</td></tr><tr><td>11643</td><td>Lily King</td><td>Euphoria</td><td>3.84</td></tr><tr><td>11643</td><td>Lindy West</td><td>Shrill: Notes from a Loud Woman</td><td>4.23</td></tr><tr><td>11643</td><td>Lionel Shriver</td><td>The Post-Birthday World</td><td>3.52</td></tr><tr><td>11643</td><td>Lionel Shriver</td><td>We Need to Talk About Kevin</td><td>4.07</td></tr><tr><td>11643</td><td>Lisa Genova</td><td>Inside the O'Briens</td><td>3.98</td></tr><tr><td>11643</td><td>Lisa Genova</td><td>Love Anthony</td><td>3.94</td></tr><tr><td>11643</td><td>Lisa Lutz</td><td>The Passenger</td><td>3.71</td></tr><tr><td>11643</td><td>Lisa Lutz</td><td>The Spellman Files (The Spellmans, #1)</td><td>3.88</td></tr><tr><td>11643</td><td>Lisa See</td><td>Snow Flower and the Secret Fan</td><td>4.05</td></tr><tr><td>11643</td><td>Liz Moore</td><td>Heft</td><td>3.96</td></tr><tr><td>11643</td><td>Lois Lowry</td><td>Anastasia Krupnik (Anastasia Krupnik, #1)</td><td>3.89</td></tr><tr><td>11643</td><td>Lois Lowry</td><td>The Giver (The Giver, #1)</td><td>4.12</td></tr><tr><td>11643</td><td>Lois McMaster Bujold</td><td>A Civil Campaign (Vorkosigan Saga, #12)</td><td>4.43</td></tr><tr><td>11643</td><td>Lois McMaster Bujold</td><td>Barrayar (Vorkosigan Saga, #7)</td><td>4.31</td></tr><tr><td>11643</td><td>Lois McMaster Bujold</td><td>Falling Free (Vorkosigan Saga, #4)</td><td>3.82</td></tr><tr><td>11643</td><td>Lois McMaster Bujold</td><td>Mirror Dance (Vorkosigan Saga, #8)</td><td>4.32</td></tr><tr><td>11643</td><td>Lois McMaster Bujold</td><td>Paladin of Souls (World of the Five Gods, #2)</td><td>4.13</td></tr><tr><td>11643</td><td>Lois McMaster Bujold</td><td>Shards of Honour  (Vorkosigan Saga, #1)</td><td>4.13</td></tr><tr><td>11643</td><td>Lois McMaster Bujold</td><td>The Curse of Chalion (World of the Five Gods, #1)</td><td>4.16</td></tr><tr><td>11643</td><td>Lois McMaster Bujold</td><td>The Vor Game (Vorkosigan Saga, #6)</td><td>4.28</td></tr><tr><td>11643</td><td>Lois McMaster Bujold</td><td>The Warrior's Apprentice (Vorkosigan Saga, #2)</td><td>4.29</td></tr><tr><td>11643</td><td>Lolly Winston</td><td>Good Grief</td><td>3.72</td></tr><tr><td>11643</td><td>Lorraine Hansberry</td><td>A Raisin in the Sun</td><td>3.72</td></tr><tr><td>11643</td><td>Lorrie Moore</td><td>A Gate at the Stairs</td><td>3.14</td></tr><tr><td>11643</td><td>Louisa May Alcott</td><td>An Old-Fashioned Girl</td><td>4.05</td></tr><tr><td>11643</td><td>Louisa May Alcott</td><td>Eight Cousins (Eight Cousins, #1)</td><td>4.02</td></tr><tr><td>11643</td><td>Louisa May Alcott</td><td>Good Wives (Little Women, #1.5)</td><td>3.92</td></tr><tr><td>11643</td><td>Louisa May Alcott</td><td>Little Men (Little Women, #2)</td><td>3.84</td></tr><tr><td>11643</td><td>Louisa May Alcott</td><td>Rose in Bloom (Eight Cousins, #2)</td><td>4.03</td></tr><tr><td>11643</td><td>Louise Doughty</td><td>Apple Tree Yard</td><td>3.71</td></tr><tr><td>11643</td><td>Louise Erdrich</td><td>Love Medicine</td><td>3.98</td></tr><tr><td>11643</td><td>Louise Erdrich</td><td>The Beet Queen</td><td>3.89</td></tr><tr><td>11643</td><td>Louise Erdrich</td><td>The Master Butchers Singing Club</td><td>4.02</td></tr><tr><td>11643</td><td>Louise Erdrich</td><td>The Round House</td><td>3.91</td></tr><tr><td>11643</td><td>Louise Fitzhugh</td><td>Harriet the Spy (Harriet the Spy #1)</td><td>3.96</td></tr><tr><td>11643</td><td>Loung Ung</td><td>First They Killed My Father: A Daughter of Cambodia Remembers</td><td>4.29</td></tr><tr><td>11643</td><td>Lucie Whitehouse</td><td>Before We Met</td><td>3.43</td></tr><tr><td>11643</td><td>Lucy Grealy</td><td>Autobiography of a Face</td><td>3.96</td></tr><tr><td>11643</td><td>Lucy Knisley</td><td>Relish: My Life in the Kitchen</td><td>3.89</td></tr><tr><td>11643</td><td>Lynley Dodd</td><td>Hairy Maclary from Donaldson's Dairy</td><td>4.28</td></tr><tr><td>11643</td><td>Lynn Flewelling</td><td>Luck in the Shadows (Nightrunner, #1)</td><td>4.08</td></tr><tr><td>11643</td><td>Lynne Reid Banks</td><td>The Indian in the Cupboard (The Indian in the Cupboard, #1)</td><td>3.89</td></tr><tr><td>11643</td><td>Lynne Truss</td><td>Eats, Shoots &amp; Leaves: The Zero Tolerance Approach to Punctuation</td><td>3.86</td></tr><tr><td>11643</td><td>Madeleine L'Engle</td><td>A Swiftly Tilting Planet (A Wrinkle in Time Quintet, #3)</td><td>4.13</td></tr><tr><td>11643</td><td>Madeleine L'Engle</td><td>A Wind in the Door (A Wrinkle in Time Quintet, #2)</td><td>4.07</td></tr><tr><td>11643</td><td>Madeline Miller</td><td>The Song of Achilles</td><td>4.27</td></tr><tr><td>11643</td><td>Maeve Binchy</td><td>Light a Penny Candle</td><td>3.88</td></tr><tr><td>11643</td><td>Maeve Binchy</td><td>Scarlet Feather</td><td>3.93</td></tr><tr><td>11643</td><td>Maeve Binchy</td><td>Tara Road</td><td>3.88</td></tr><tr><td>11643</td><td>Maeve Binchy</td><td>The Copper Beech</td><td>3.89</td></tr><tr><td>11643</td><td>Maeve Binchy</td><td>Whitethorn Woods</td><td>3.59</td></tr><tr><td>11643</td><td>Maggie Nelson</td><td>The Argonauts</td><td>3.99</td></tr><tr><td>11643</td><td>Maggie Shipstead</td><td>Seating Arrangements</td><td>3.02</td></tr><tr><td>11643</td><td>Malinda Lo</td><td>Ash</td><td>3.62</td></tr><tr><td>11643</td><td>Margaret Atwood</td><td>Cat's Eye</td><td>3.92</td></tr><tr><td>11643</td><td>Margaret Atwood</td><td>MaddAddam (MaddAddam, #3)</td><td>3.98</td></tr><tr><td>11643</td><td>Margaret Atwood</td><td>Oryx and Crake (MaddAddam, #1)</td><td>4</td></tr><tr><td>11643</td><td>Margaret Atwood</td><td>Stone Mattress: Nine Tales</td><td>3.93</td></tr><tr><td>11643</td><td>Margaret Atwood</td><td>Surfacing</td><td>3.45</td></tr><tr><td>11643</td><td>Margaret Atwood</td><td>The Blind Assassin</td><td>3.95</td></tr><tr><td>11643</td><td>Margaret Atwood</td><td>The Edible Woman</td><td>3.67</td></tr><tr><td>11643</td><td>Margaret Atwood</td><td>The Handmaid's Tale</td><td>4.06</td></tr><tr><td>11643</td><td>Margaret Atwood</td><td>The Heart Goes Last</td><td>3.37</td></tr><tr><td>11643</td><td>Margaret Atwood</td><td>The Penelopiad</td><td>3.66</td></tr><tr><td>11643</td><td>Margaret Atwood</td><td>The Robber Bride</td><td>3.82</td></tr><tr><td>11643</td><td>Margaret Atwood</td><td>The Year of the Flood  (MaddAddam, #2)</td><td>4.05</td></tr><tr><td>11643</td><td>Margaret Atwood, Brigitte Walitzek</td><td>Alias Grace</td><td>3.97</td></tr><tr><td>11643</td><td>Margaret Edson</td><td>Wit</td><td>4.2</td></tr><tr><td>11643</td><td>Margaret Peterson Haddix</td><td>Running Out of Time</td><td>3.98</td></tr><tr><td>11643</td><td>Margaret Weis, Tracy Hickman</td><td>Dragon Wing (The Death Gate Cycle, #1)</td><td>3.93</td></tr><tr><td>11643</td><td>Margaret Weis, Tracy Hickman</td><td>Dragons of Spring Dawning (Dragonlance: Chronicles, #3)</td><td>4.12</td></tr><tr><td>11643</td><td>Margaret Weis, Tracy Hickman</td><td>Dragons of Summer Flame (Dragonlance: The Second Generation, #2)</td><td>3.84</td></tr><tr><td>11643</td><td>Margaret Weis, Tracy Hickman</td><td>Dragons of Winter Night (Dragonlance: Chronicles, #2)</td><td>4.13</td></tr><tr><td>11643</td><td>Margaret Weis, Tracy Hickman</td><td>Elven Star (The Death Gate Cycle, #2)</td><td>3.98</td></tr><tr><td>11643</td><td>Margaret Weis, Tracy Hickman</td><td>Fire Sea (The Death Gate Cycle, #3)</td><td>4.05</td></tr><tr><td>11643</td><td>Margaret Weis, Tracy Hickman</td><td>Into the Labyrinth (The Death Gate Cycle, #6)</td><td>4.09</td></tr><tr><td>11643</td><td>Margaret Weis, Tracy Hickman</td><td>Serpent Mage (The Death Gate Cycle, #4)</td><td>4.06</td></tr><tr><td>11643</td><td>Margaret Weis, Tracy Hickman</td><td>The Hand of Chaos (The Death Gate Cycle, #5)</td><td>4.05</td></tr><tr><td>11643</td><td>Margaret Weis, Tracy Hickman</td><td>The Seventh Gate (The Death Gate Cycle, #7)</td><td>4.09</td></tr><tr><td>11643</td><td>Margaret Weis, Tracy Hickman</td><td>War of the Twins (Dragonlance: Legends, #2)</td><td>4.11</td></tr><tr><td>11643</td><td>Margot Lee Shetterly</td><td>Hidden Figures: The American Dream and the Untold Story of the Black Women Mathematicians Who Helped Win the Space Race</td><td>3.92</td></tr><tr><td>11643</td><td>Marguerite Duras, Barbara Bray, Maxine Hong Kingston</td><td>The Lover</td><td>3.76</td></tr><tr><td>11643</td><td>Marguerite Henry</td><td>Stormy, Misty's Foal (Misty, #3)</td><td>4.06</td></tr><tr><td>11643</td><td>Marguerite Henry, Wesley Dennis</td><td>Misty of Chincoteague (Misty, #1)</td><td>4.04</td></tr><tr><td>11643</td><td>Maria Semple</td><td>Today Will Be Different</td><td>3.19</td></tr><tr><td>11643</td><td>Maria Semple</td><td>Where'd You Go, Bernadette</td><td>3.9</td></tr><tr><td>11643</td><td>Marian Keyes</td><td> Angels (Walsh Family, #3)</td><td>3.73</td></tr><tr><td>11643</td><td>Marian Keyes</td><td>Lucy Sullivan Is Getting Married</td><td>3.74</td></tr><tr><td>11643</td><td>Marian Keyes</td><td>Rachel's Holiday (Walsh Family, #2)</td><td>3.93</td></tr><tr><td>11643</td><td>Marian Keyes</td><td>The Woman Who Stole My Life</td><td>3.52</td></tr><tr><td>11643</td><td>Marie Kondō</td><td>Spark Joy: An Illustrated Master Class on the Art of Organizing and Tidying Up</td><td>3.82</td></tr><tr><td>11643</td><td>Marie Kondō, Cathy Hirano</td><td>The Life-Changing Magic of Tidying Up: The Japanese Art of Decluttering and Organizing</td><td>3.77</td></tr><tr><td>11643</td><td>Mariko Tamaki, Jillian Tamaki</td><td>This One Summer</td><td>3.67</td></tr><tr><td>11643</td><td>Marilynne Robinson</td><td>Gilead (Gilead, #1)</td><td>3.84</td></tr><tr><td>11643</td><td>Marilynne Robinson</td><td>Housekeeping</td><td>3.82</td></tr><tr><td>11643</td><td>Marina Keegan</td><td>The Opposite of Loneliness: Essays and Stories</td><td>3.82</td></tr><tr><td>11643</td><td>Marina Lewycka</td><td>A Short History of Tractors in Ukrainian</td><td>3.37</td></tr><tr><td>11643</td><td>Marion Zimmer Bradley</td><td>The Mists of Avalon (Avalon, #1)</td><td>4.12</td></tr><tr><td>11643</td><td>Marion Zimmer Bradley, Diana L. Paxson</td><td>Lady of Avalon (Avalon, #3)</td><td>3.88</td></tr><tr><td>11643</td><td>Marion Zimmer Bradley, Diana L. Paxson</td><td>The Forest House (Avalon, #2)</td><td>3.85</td></tr><tr><td>11643</td><td>Marisha Pessl</td><td>Night Film</td><td>3.78</td></tr><tr><td>11643</td><td>Marisha Pessl</td><td>Special Topics in Calamity Physics</td><td>3.7</td></tr><tr><td>11643</td><td>Marjane Satrapi</td><td>Persepolis, Volume 1</td><td>4.27</td></tr><tr><td>11643</td><td>Marjane Satrapi, Anjali Singh</td><td>Embroideries</td><td>3.82</td></tr><tr><td>11643</td><td>Marjane Satrapi, Anjali Singh</td><td>Persepolis 2: The Story of a Return (Persepolis, #2)</td><td>4.23</td></tr><tr><td>11643</td><td>Marjane Satrapi, Mattias Ripa</td><td>Persepolis: The Story of a Childhood (Persepolis, #1)</td><td>4.23</td></tr><tr><td>11643</td><td>Marjane Satrapi, Mattias Ripa, Blake Ferris, Anjali Singh</td><td>The Complete Persepolis</td><td>4.36</td></tr><tr><td>11643</td><td>Mary  Stewart</td><td>The Crystal Cave (Arthurian Saga, #1)</td><td>4.12</td></tr><tr><td>11643</td><td>Mary Doria Russell</td><td>Children of God (The Sparrow, #2)</td><td>4.05</td></tr><tr><td>11643</td><td>Mary Doria Russell</td><td>The Sparrow (The Sparrow, #1)</td><td>4.17</td></tr><tr><td>11643</td><td>Mary Elizabeth Braddon</td><td>Lady Audley's Secret</td><td>3.73</td></tr><tr><td>11643</td><td>Mary Higgins Clark</td><td>All Around the Town</td><td>3.94</td></tr><tr><td>11643</td><td>Mary Higgins Clark</td><td>I Heard That Song Before</td><td>3.81</td></tr><tr><td>11643</td><td>Mary Higgins Clark</td><td>I'll Be Seeing You</td><td>3.79</td></tr><tr><td>11643</td><td>Mary Higgins Clark</td><td>Loves Music, Loves to Dance</td><td>3.89</td></tr><tr><td>11643</td><td>Mary Higgins Clark</td><td>On the Street Where You Live</td><td>3.85</td></tr><tr><td>11643</td><td>Mary Higgins Clark</td><td>The Cradle Will Fall</td><td>3.89</td></tr><tr><td>11643</td><td>Mary Higgins Clark</td><td>Where Are You Now?</td><td>3.77</td></tr><tr><td>11643</td><td>Mary Higgins Clark</td><td>You Belong To Me</td><td>3.85</td></tr><tr><td>11643</td><td>Mary Hoffman</td><td>City of Masks (Stravaganza, #1)</td><td>3.9</td></tr><tr><td>11643</td><td>Mary Hoffman, Caroline Binch</td><td>Amazing Grace</td><td>4.33</td></tr><tr><td>11643</td><td>Mary Karr</td><td>The Liars' Club</td><td>3.92</td></tr><tr><td>11643</td><td>Mary Lawson</td><td>Crow Lake</td><td>3.85</td></tr><tr><td>11643</td><td>Mary Norton, Beth Krush, Joe Krush</td><td>The Borrowers (The Borrowers, #1)</td><td>4.02</td></tr><tr><td>11643</td><td>Mary O'Hara, Dave Blossom</td><td>My Friend Flicka (Flicka, #1)</td><td>4.15</td></tr><tr><td>11643</td><td>Mary Roach</td><td>Bonk: The Curious Coupling of Science and Sex</td><td>3.83</td></tr><tr><td>11643</td><td>Mary Roach</td><td>Gulp: Adventures on the Alimentary Canal</td><td>3.92</td></tr><tr><td>11643</td><td>Mary Roach</td><td>Packing for Mars: The Curious Science of Life in the Void</td><td>3.93</td></tr><tr><td>11643</td><td>Mary Roach</td><td>Spook: Science Tackles the Afterlife</td><td>3.57</td></tr><tr><td>11643</td><td>Mary Roach</td><td>Stiff: The Curious Lives of Human Cadavers</td><td>4.05</td></tr><tr><td>11643</td><td>Mary Wollstonecraft Shelley, Percy Bysshe Shelley, Maurice Hindle</td><td>Frankenstein</td><td>3.75</td></tr><tr><td>11643</td><td>Maud Hart Lovelace, Lois Lenski</td><td>Betsy-Tacy (Betsy-Tacy, #1)</td><td>4.07</td></tr><tr><td>11643</td><td>Maxine Hong Kingston</td><td>The Woman Warrior</td><td>3.72</td></tr><tr><td>11643</td><td>Maya Angelou</td><td>I Know Why the Caged Bird Sings</td><td>4.19</td></tr><tr><td>11643</td><td>Meg Cabot</td><td>All-American Girl (All-American Girl, #1)</td><td>3.73</td></tr><tr><td>11643</td><td>Meg Cabot</td><td>Haunted (The Mediator, #5)</td><td>4.15</td></tr><tr><td>11643</td><td>Meg Cabot</td><td>Jinx</td><td>3.72</td></tr><tr><td>11643</td><td>Meg Cabot</td><td>Ninth Key (The Mediator, #2)</td><td>4.07</td></tr><tr><td>11643</td><td>Meg Cabot</td><td>Reunion (The Mediator, #3)</td><td>4.09</td></tr><tr><td>11643</td><td>Meg Rosoff</td><td>How I Live Now</td><td>3.58</td></tr><tr><td>11643</td><td>Meg Wolitzer</td><td>The Interestings</td><td>3.54</td></tr><tr><td>11643</td><td>Megan Abbott</td><td>Dare Me</td><td>3.23</td></tr><tr><td>11643</td><td>Megan Abbott</td><td>The Fever</td><td>3.12</td></tr><tr><td>11643</td><td>Megan Abbott</td><td>You Will Know Me</td><td>3.45</td></tr><tr><td>11643</td><td>Megan Whalen Turner</td><td>The King of Attolia (The Queen's Thief, #3)</td><td>4.37</td></tr><tr><td>11643</td><td>Megan Whalen Turner</td><td>The Queen of Attolia (The Queen's Thief, #2)</td><td>4.23</td></tr><tr><td>11643</td><td>Megan Whalen Turner</td><td>The Thief (The Queen's Thief, #1)</td><td>3.92</td></tr><tr><td>11643</td><td>Melanie Rawn</td><td>Dragon Prince (Dragon Prince, #1)</td><td>3.94</td></tr><tr><td>11643</td><td>Melinda Long, David Shannon</td><td>How I Became a Pirate</td><td>4.07</td></tr><tr><td>11643</td><td>Melissa Anelli, J.K. Rowling</td><td>Harry, a History: The True Story of a Boy Wizard, His Fans, and Life Inside the Harry Potter Phenomenon</td><td>4.09</td></tr><tr><td>11643</td><td>Melissa Bank</td><td>The Girls' Guide to Hunting and Fishing</td><td>3.29</td></tr><tr><td>11643</td><td>Mercedes Lackey</td><td>Arrow's Fall (Heralds of Valdemar, #3)</td><td>4.18</td></tr><tr><td>11643</td><td>Mercedes Lackey</td><td>Arrow's Flight (Heralds of Valdemar, #2)</td><td>4.13</td></tr><tr><td>11643</td><td>Mercedes Lackey</td><td>Arrows of the Queen (Heralds of Valdemar, #1)</td><td>4.16</td></tr><tr><td>11643</td><td>Mercedes Lackey</td><td>By the Sword (Valdemar)</td><td>4.24</td></tr><tr><td>11643</td><td>Mercedes Lackey</td><td>Magic's Pawn (Valdemar: Last Herald-Mage #1)</td><td>4.21</td></tr><tr><td>11643</td><td>Mhairi McFarlane</td><td>You Had Me At Hello</td><td>3.79</td></tr><tr><td>11643</td><td>Michelle Alexander</td><td>The New Jim Crow: Mass Incarceration in the Age of Colorblindness</td><td>4.49</td></tr><tr><td>11643</td><td>Michelle Magorian</td><td>Good Night, Mr. Tom</td><td>4.28</td></tr><tr><td>11643</td><td>Michelle Paver, Geoff Taylor</td><td>Wolf Brother (Chronicles of Ancient Darkness, #1)</td><td>4.15</td></tr><tr><td>11643</td><td>Mindy Kaling</td><td>Is Everyone Hanging Out Without Me? (And Other Concerns)</td><td>3.84</td></tr><tr><td>11643</td><td>Mindy Kaling</td><td>Why Not Me?</td><td>3.89</td></tr><tr><td>11643</td><td>Mineko Iwasaki, Rande Brown</td><td>Geisha, a Life</td><td>3.92</td></tr><tr><td>11643</td><td>Mira Grant</td><td>Blackout (Newsflesh Trilogy, #3)</td><td>4.11</td></tr><tr><td>11643</td><td>Mira Grant</td><td>Deadline (Newsflesh Trilogy, #2)</td><td>4.1</td></tr><tr><td>11643</td><td>Mira Grant</td><td>Feed (Newsflesh Trilogy, #1)</td><td>3.86</td></tr><tr><td>11643</td><td>Miranda Hart</td><td>Is It Just Me?</td><td>3.8</td></tr><tr><td>11643</td><td>Miranda July</td><td>No One Belongs Here More Than You</td><td>3.81</td></tr><tr><td>11643</td><td>Miranda July</td><td>The First Bad Man</td><td>3.58</td></tr><tr><td>11643</td><td>Miranda July, Brigitte Sire</td><td>It Chooses You</td><td>3.88</td></tr><tr><td>11643</td><td>Miriam Toews</td><td>A Complicated Kindness</td><td>3.64</td></tr><tr><td>11643</td><td>Miriam Toews</td><td>All My Puny Sorrows</td><td>3.93</td></tr><tr><td>11643</td><td>Monica Ali</td><td>Brick Lane</td><td>3.38</td></tr><tr><td>11643</td><td>Muriel Barbery, Alison Anderson</td><td>The Elegance of the Hedgehog</td><td>3.73</td></tr><tr><td>11643</td><td>Muriel Spark</td><td>The Prime of Miss Jean Brodie</td><td>3.76</td></tr><tr><td>11643</td><td>Myla Goldberg</td><td>Bee Season</td><td>3.55</td></tr><tr><td>11643</td><td>N.H. Kleinbaum</td><td>Dead Poets Society</td><td>4.21</td></tr><tr><td>11643</td><td>N.K. Jemisin</td><td>The Broken Kingdoms (Inheritance, #2)</td><td>4.04</td></tr><tr><td>11643</td><td>N.K. Jemisin</td><td>The Fifth Season (The Broken Earth, #1)</td><td>4.31</td></tr><tr><td>11643</td><td>N.K. Jemisin</td><td>The Hundred Thousand Kingdoms (Inheritance Trilogy, #1)</td><td>3.8</td></tr><tr><td>11643</td><td>N.K. Jemisin</td><td>The Obelisk Gate (The Broken Earth, #2)</td><td>4.36</td></tr><tr><td>11643</td><td>Nadia Hashimi</td><td>The Pearl That Broke Its Shell</td><td>4.12</td></tr><tr><td>11643</td><td>Nancy Farmer</td><td>The Ear, the Eye, and the Arm</td><td>3.85</td></tr><tr><td>11643</td><td>Naomi Klein</td><td>No Logo</td><td>3.86</td></tr><tr><td>11643</td><td>Naomi Klein</td><td>The Shock Doctrine: The Rise of Disaster Capitalism</td><td>4.22</td></tr><tr><td>11643</td><td>Naomi Klein</td><td>This Changes Everything: Capitalism vs. The Climate</td><td>4.17</td></tr><tr><td>11643</td><td>Naomi Novik</td><td>Black Powder War (Temeraire, #3)</td><td>3.9</td></tr><tr><td>11643</td><td>Naomi Novik</td><td>Empire of Ivory (Temeraire, #4)</td><td>3.93</td></tr><tr><td>11643</td><td>Naomi Novik</td><td>His Majesty's Dragon (Temeraire, #1)</td><td>4.05</td></tr><tr><td>11643</td><td>Naomi Novik</td><td>Throne of Jade (Temeraire, #2)</td><td>3.89</td></tr><tr><td>11643</td><td>Naomi Novik</td><td>Uprooted</td><td>4.13</td></tr><tr><td>11643</td><td>Naomi Novik</td><td>Victory of Eagles (Temeraire, #5)</td><td>4.01</td></tr><tr><td>11643</td><td>Naomi Wolf</td><td>The Beauty Myth</td><td>3.89</td></tr><tr><td>11643</td><td>Natsuo Kirino, Stephen Snyder</td><td>Out</td><td>3.93</td></tr><tr><td>11643</td><td>Nella Larsen, Ntozake Shange, Thadious M. Davis</td><td>Passing</td><td>3.8</td></tr><tr><td>11643</td><td>Newt Scamander, J.K. Rowling, Albus Dumbledore</td><td>Fantastic Beasts and Where to Find Them</td><td>3.95</td></tr><tr><td>11643</td><td>Nicole Krauss</td><td>Great House</td><td>3.45</td></tr><tr><td>11643</td><td>Nicole Krauss</td><td>The History of Love</td><td>3.91</td></tr><tr><td>11643</td><td>Nigella Lawson</td><td>How to Be a Domestic Goddess: Baking and the Art of Comfort Cooking</td><td>4</td></tr><tr><td>11643</td><td>Nina LaCour</td><td>Everything Leads to You</td><td>3.89</td></tr><tr><td>11643</td><td>Noelle Stevenson</td><td>Nimona</td><td>4.2</td></tr><tr><td>11643</td><td>Noelle Stevenson, Grace Ellis, Shannon Waters, Shannon Watters, Brooke A. Allen, Faith Hicks, Kat Leyh, Brooke Allen, Carolyn Nowak, Various, Carey Pietsch</td><td>Lumberjanes, Vol. 1: Beware the Kitten Holy</td><td>3.94</td></tr><tr><td>11643</td><td>Nora Ephron</td><td>Heartburn</td><td>3.57</td></tr><tr><td>11643</td><td>Nora Ephron</td><td>I Feel Bad about My Neck: And Other Thoughts on Being a Woman</td><td>3.65</td></tr><tr><td>11643</td><td>Nora Ephron</td><td>I Remember Nothing: and Other Reflections</td><td>3.73</td></tr><tr><td>11643</td><td>NoViolet Bulawayo</td><td>We Need New Names</td><td>3.71</td></tr><tr><td>11643</td><td>Ntozake Shange</td><td>for colored girls who have considered suicide/when the rainbow is enuf</td><td>4.27</td></tr><tr><td>11643</td><td>Octavia E. Butler</td><td>Dawn (Xenogenesis, #1)</td><td>4.1</td></tr><tr><td>11643</td><td>Octavia E. Butler</td><td>Fledgling</td><td>3.9</td></tr><tr><td>11643</td><td>Octavia E. Butler</td><td>Kindred</td><td>4.18</td></tr><tr><td>11643</td><td>Octavia E. Butler</td><td>Parable of the Sower (Earthseed, #1)</td><td>4.14</td></tr><tr><td>11643</td><td>Octavia E. Butler</td><td>Parable of the Talents (Earthseed, #2)</td><td>4.21</td></tr><tr><td>11643</td><td>Octavia E. Butler</td><td>Wild Seed (Patternmaster, #1)</td><td>4.22</td></tr><tr><td>11643</td><td>Olive Ann Burns</td><td>Cold Sassy Tree</td><td>3.99</td></tr><tr><td>11643</td><td>Ottessa Moshfegh</td><td>Eileen</td><td>3.38</td></tr><tr><td>11643</td><td>P.D. James</td><td>Cover Her Face (Adam Dalgliesh #1)</td><td>3.94</td></tr><tr><td>11643</td><td>P.D. James</td><td>Death Comes to Pemberley</td><td>3.21</td></tr><tr><td>11643</td><td>P.D. James</td><td>The Children of Men</td><td>3.69</td></tr><tr><td>11643</td><td>P.L. Travers, Mary Shepard</td><td>Mary Poppins (Mary Poppins, #1)</td><td>4.05</td></tr><tr><td>11643</td><td>Pam Adams</td><td>There Was An Old Lady Who Swallowed A Fly (Classic Books)</td><td>4.2</td></tr><tr><td>11643</td><td>Pat Barker</td><td>Regeneration (Regeneration, #1)</td><td>4.03</td></tr><tr><td>11643</td><td>Pat Barker</td><td>The Ghost Road (Regeneration, #3)</td><td>4.11</td></tr><tr><td>11643</td><td>Patricia C. Wrede, Peter de Sève</td><td>Calling on Dragons (Enchanted Forest Chronicles, #3)</td><td>4.2</td></tr><tr><td>11643</td><td>Patricia C. Wrede, Peter de Sève</td><td>Dealing with Dragons (Enchanted Forest Chronicles, #1)</td><td>4.14</td></tr><tr><td>11643</td><td>Patricia C. Wrede, Peter de Sève</td><td>Searching for Dragons (Enchanted Forest Chronicles, #2)</td><td>4.25</td></tr><tr><td>11643</td><td>Patricia C. Wrede, Peter de Sève</td><td>Talking to Dragons (Enchanted Forest Chronicles, #4)</td><td>4.19</td></tr><tr><td>11643</td><td>Patricia Cornwell</td><td>All That Remains (Kay Scarpetta, #3)</td><td>4.05</td></tr><tr><td>11643</td><td>Patricia Cornwell</td><td>Body of Evidence (Kay Scarpetta, #2)</td><td>4</td></tr><tr><td>11643</td><td>Patricia Cornwell</td><td>Cause of Death (Kay Scarpetta, #7)</td><td>3.93</td></tr><tr><td>11643</td><td>Patricia Cornwell</td><td>Cruel &amp; Unusual (Kay Scarpetta, #4)</td><td>4.11</td></tr><tr><td>11643</td><td>Patricia Cornwell</td><td>From Potter's Field (Kay Scarpetta, #6)</td><td>4.02</td></tr><tr><td>11643</td><td>Patricia Cornwell</td><td>Point of Origin (Kay Scarpetta, #9)</td><td>4.02</td></tr><tr><td>11643</td><td>Patricia Cornwell</td><td>Postmortem (Kay Scarpetta, #1)</td><td>4.01</td></tr><tr><td>11643</td><td>Patricia Cornwell</td><td>The Body Farm (Kay Scarpetta, #5)</td><td>4.04</td></tr><tr><td>11643</td><td>Patricia Cornwell</td><td>Unnatural Exposure (Kay Scarpetta, #8)</td><td>4.05</td></tr><tr><td>11643</td><td>Patricia Highsmith</td><td>Strangers on a Train</td><td>3.82</td></tr><tr><td>11643</td><td>Patricia Highsmith</td><td>The Price of Salt</td><td>3.93</td></tr><tr><td>11643</td><td>Patricia Highsmith</td><td>The Talented Mr. Ripley (Ripley, #1)</td><td>3.93</td></tr><tr><td>11643</td><td>Patti Smith</td><td>Just Kids</td><td>4.14</td></tr><tr><td>11643</td><td>Patti Smith</td><td>M Train</td><td>3.94</td></tr><tr><td>11643</td><td>Pauline Réage, Sabine d'Estree</td><td>Story of O (Story of O #1)</td><td>3.34</td></tr><tr><td>11643</td><td>Pearl S. Buck</td><td>The Good Earth (House of Earth, #1)</td><td>3.97</td></tr><tr><td>11643</td><td>Peggy Orenstein</td><td>Cinderella Ate My Daughter: Dispatches from the Frontlines of the New Girlie-Girl Culture</td><td>3.65</td></tr><tr><td>11643</td><td>Pema Chödrön</td><td>The Places That Scare You: A Guide to Fearlessness in Difficult Times</td><td>4.3</td></tr><tr><td>11643</td><td>Philippa Gregory</td><td>The Other Boleyn Girl (The Plantagenet and Tudor Novels, #9)</td><td>4.04</td></tr><tr><td>11643</td><td>Philippa Pearce, Susan Einzig</td><td>Tom's Midnight Garden</td><td>4.05</td></tr><tr><td>11643</td><td>Phyllis T. Smith</td><td>I Am Livia</td><td>3.93</td></tr><tr><td>11643</td><td>Piper Kerman</td><td>Orange Is the New Black</td><td>3.7</td></tr><tr><td>11643</td><td>Plum Sykes</td><td>Bergdorf Blondes</td><td>3.26</td></tr><tr><td>11643</td><td>Poppy Z. Brite</td><td>Lost Souls</td><td>3.89</td></tr><tr><td>11643</td><td>Rachel Bertsche</td><td>MWF Seeking BFF: My Yearlong Search For A New Best Friend</td><td>3.44</td></tr><tr><td>11643</td><td>Rachel Carson, Linda Lear, Edward O. Wilson</td><td>Silent Spring</td><td>3.94</td></tr><tr><td>11643</td><td>Rachel Joyce</td><td>Perfect</td><td>3.54</td></tr><tr><td>11643</td><td>Rachel Kushner</td><td>The Flamethrowers</td><td>3.46</td></tr><tr><td>11643</td><td>Rachel Maddow</td><td>Drift: The Unmooring of American Military Power</td><td>4.07</td></tr><tr><td>11643</td><td>Rachel Renée Russell</td><td>Tales from a Not-So-Graceful Ice Princess (Dork Diaries, #4)</td><td>4.38</td></tr><tr><td>11643</td><td>Rajaa Alsanea</td><td>Girls of Riyadh</td><td>3.17</td></tr><tr><td>11643</td><td>Raymond E. Feist, Janny Wurts</td><td>Servant of the Empire (The Empire Trilogy, #2)</td><td>4.27</td></tr><tr><td>11643</td><td>Rebecca Skloot</td><td>The Immortal Life of Henrietta Lacks</td><td>4.04</td></tr><tr><td>11643</td><td>Rebecca Solnit</td><td>Men Explain Things to Me</td><td>3.93</td></tr><tr><td>11643</td><td>Rebecca Wells</td><td>Divine Secrets of the Ya-Ya Sisterhood</td><td>3.79</td></tr><tr><td>11643</td><td>Rebecca Wells</td><td>Little Altars Everywhere</td><td>3.55</td></tr><tr><td>11643</td><td>Rebecca Wells</td><td>Ya Yas in Bloom</td><td>3.6</td></tr><tr><td>11643</td><td>Ree Drummond</td><td>The Pioneer Woman Cooks: Recipes from an Accidental Country Girl</td><td>4.18</td></tr><tr><td>11643</td><td>Rene Denfeld</td><td>The Enchanted</td><td>3.96</td></tr><tr><td>11643</td><td>Rita Golden Gelman</td><td>Tales of a Female Nomad: Living at Large in the World</td><td>3.84</td></tr><tr><td>11643</td><td>Rita Mae Brown</td><td>Rubyfruit Jungle</td><td>3.88</td></tr><tr><td>11643</td><td>Robert Galbraith, J.K. Rowling</td><td>Career of Evil (Cormoran Strike, #3)</td><td>4.21</td></tr><tr><td>11643</td><td>Robert Galbraith, J.K. Rowling</td><td>The Cuckoo's Calling (Cormoran Strike, #1)</td><td>3.83</td></tr><tr><td>11643</td><td>Robert Galbraith, J.K. Rowling</td><td>The Silkworm (Cormoran Strike, #2)</td><td>4.03</td></tr><tr><td>11643</td><td>Robin Hobb</td><td>Assassin's Apprentice (Farseer Trilogy, #1)</td><td>4.14</td></tr><tr><td>11643</td><td>Robin Hobb</td><td>Assassin's Quest (Farseer Trilogy, #3)</td><td>4.18</td></tr><tr><td>11643</td><td>Robin Hobb</td><td>Dragon Haven (Rain Wild Chronicles, #2)</td><td>4.06</td></tr><tr><td>11643</td><td>Robin Hobb</td><td>Fool's Assassin (The Fitz and the Fool, #1)</td><td>4.35</td></tr><tr><td>11643</td><td>Robin Hobb</td><td>Fool's Errand (Tawny Man, #1)</td><td>4.29</td></tr><tr><td>11643</td><td>Robin Hobb</td><td>Fool's Fate (Tawny Man, #3)</td><td>4.38</td></tr><tr><td>11643</td><td>Robin Hobb</td><td>Fool's Quest  (The Fitz and The Fool, #2)</td><td>4.53</td></tr><tr><td>11643</td><td>Robin Hobb</td><td>Golden Fool (Tawny Man, #2)</td><td>4.32</td></tr><tr><td>11643</td><td>Robin Hobb</td><td>Renegade's Magic (Soldier Son, #3)</td><td>3.46</td></tr><tr><td>11643</td><td>Robin Hobb</td><td>Royal Assassin (Farseer Trilogy, #2)</td><td>4.21</td></tr><tr><td>11643</td><td>Robin Hobb</td><td>Shaman's Crossing (Soldier Son, #1)</td><td>3.42</td></tr><tr><td>11643</td><td>Robin Hobb</td><td>Ship of Destiny (Liveship Traders, #3)</td><td>4.21</td></tr><tr><td>11643</td><td>Robin Hobb</td><td>Ship of Magic (Liveship Traders, #1)</td><td>4.12</td></tr><tr><td>11643</td><td>Robin Hobb</td><td>The Dragon Keeper (Rain Wild Chronicles, #1)</td><td>3.93</td></tr><tr><td>11643</td><td>Robin Hobb</td><td>The Mad Ship (Liveship Traders, #2)</td><td>4.21</td></tr><tr><td>11643</td><td>Robin McKinley</td><td>Beauty: A Retelling of the Story of Beauty and the Beast</td><td>4.05</td></tr><tr><td>11643</td><td>Robin McKinley</td><td>Deerskin</td><td>3.88</td></tr><tr><td>11643</td><td>Robin McKinley</td><td>Rose Daughter</td><td>3.77</td></tr><tr><td>11643</td><td>Robin McKinley</td><td>Spindle's End</td><td>3.79</td></tr><tr><td>11643</td><td>Robin McKinley</td><td>Sunshine</td><td>3.85</td></tr><tr><td>11643</td><td>Robin McKinley</td><td>The Blue Sword (Damar, #1)</td><td>4.24</td></tr><tr><td>11643</td><td>Robin McKinley</td><td>The Hero and the Crown (Damar, #2)</td><td>4.21</td></tr><tr><td>11643</td><td>Rosamund Lupton</td><td>Afterwards</td><td>3.79</td></tr><tr><td>11643</td><td>Rosamunde Pilcher</td><td>The Shell Seekers</td><td>4.13</td></tr><tr><td>11643</td><td>Rose Levy Beranbaum, Maria Guarnaschelli, Vincent Lee, Manuela Paul, Dean G. Bornstein</td><td>The Cake Bible</td><td>4.2</td></tr><tr><td>11643</td><td>Roxane Gay</td><td>An Untamed State</td><td>4.05</td></tr><tr><td>11643</td><td>Roxane Gay</td><td>Bad Feminist</td><td>3.91</td></tr><tr><td>11643</td><td>Roz Chast</td><td>Can't We Talk about Something More Pleasant?</td><td>4.1</td></tr><tr><td>11643</td><td>Rupi Kaur</td><td>Milk and Honey</td><td>4.27</td></tr><tr><td>11643</td><td>Ruth Ozeki</td><td>A Tale for the Time Being</td><td>3.98</td></tr><tr><td>11643</td><td>Ruth Ozeki</td><td>My Year of Meats</td><td>3.93</td></tr><tr><td>11643</td><td>Ruth Reichl</td><td>Tender at the Bone: Growing Up at the Table</td><td>4.05</td></tr><tr><td>11643</td><td>Ruth Ware</td><td>In a Dark, Dark Wood</td><td>3.65</td></tr><tr><td>11643</td><td>S.A.R.K.</td><td>Succulent Wild Woman</td><td>4.12</td></tr><tr><td>11643</td><td>Sandra Cisneros</td><td>The House on Mango Street</td><td>3.57</td></tr><tr><td>11643</td><td>Sapphire</td><td>Push</td><td>3.82</td></tr><tr><td>11643</td><td>Sara Gruen</td><td>Water for Elephants</td><td>4.07</td></tr><tr><td>11643</td><td>Sara Nović</td><td>Girl at War</td><td>3.98</td></tr><tr><td>11643</td><td>Sara Paretsky</td><td>Indemnity Only (V.I. Warshawski, #1)</td><td>3.89</td></tr><tr><td>11643</td><td>Sara Ryan</td><td>Empress of the World (Battle Hall Davies, #1)</td><td>3.73</td></tr><tr><td>11643</td><td>Sarah Andersen</td><td>Adulthood Is a Myth (Sarah's Scribbles, #1)</td><td>4.14</td></tr><tr><td>11643</td><td>Sarah Hepola</td><td>Blackout: Remembering the Things I Drank to Forget</td><td>3.96</td></tr><tr><td>11643</td><td>Sarah L. Delany, A. Elizabeth Delany, Amy Hill Hearth</td><td>Having Our Say: The Delany Sisters' First 100 Years</td><td>4.14</td></tr><tr><td>11643</td><td>Sarah Lotz</td><td>The Three (The Three, #1)</td><td>3.32</td></tr><tr><td>11643</td><td>Sarah Pinborough</td><td>Behind Her Eyes</td><td>3.77</td></tr><tr><td>11643</td><td>Sarah Simblet</td><td>Anatomy for the Artist</td><td>3.97</td></tr><tr><td>11643</td><td>Sarah Vowell</td><td>Assassination Vacation</td><td>3.98</td></tr><tr><td>11643</td><td>Sarah Vowell</td><td>Take the Cannoli</td><td>3.86</td></tr><tr><td>11643</td><td>Sarah Vowell</td><td>The Wordy Shipmates</td><td>3.66</td></tr><tr><td>11643</td><td>Sarah Vowell</td><td>Unfamiliar Fishes</td><td>3.6</td></tr><tr><td>11643</td><td>Sarah Vowell, Katherine Streeter</td><td>The Partly Cloudy Patriot</td><td>3.9</td></tr><tr><td>11643</td><td>Sarah Waters</td><td>Affinity</td><td>3.73</td></tr><tr><td>11643</td><td>Sarah Waters</td><td>Fingersmith</td><td>4.02</td></tr><tr><td>11643</td><td>Sarah Waters</td><td>The Little Stranger</td><td>3.51</td></tr><tr><td>11643</td><td>Sarah Waters</td><td>The Night Watch</td><td>3.67</td></tr><tr><td>11643</td><td>Sarah Waters</td><td>The Paying Guests</td><td>3.39</td></tr><tr><td>11643</td><td>Sarah Waters</td><td>Tipping the Velvet</td><td>4</td></tr><tr><td>11643</td><td>Sarah Winman</td><td>When God Was a Rabbit</td><td>3.67</td></tr><tr><td>11643</td><td>Seanan McGuire</td><td>Rosemary and Rue (October Daye, #1)</td><td>3.74</td></tr><tr><td>11643</td><td>Sena Jeter Naslund</td><td>Ahab's Wife, or The Star-Gazer</td><td>4.02</td></tr><tr><td>11643</td><td>Shakti Gawain</td><td>Creative Visualization: Use the Power of Your Imagination to Create What You Want in Your Life</td><td>4.13</td></tr><tr><td>11643</td><td>Shannon Hale, James Noel Smith</td><td>Book of a Thousand Days</td><td>3.95</td></tr><tr><td>11643</td><td>Sharon Kay Penman</td><td>Here be Dragons (Welsh Princes, #1)</td><td>4.3</td></tr><tr><td>11643</td><td>Sharon Kay Penman</td><td>The Sunne in Splendour</td><td>4.4</td></tr><tr><td>11643</td><td>Shirley Jackson</td><td>The Lottery</td><td>4.09</td></tr><tr><td>11643</td><td>Shirley Jackson</td><td>The Lottery and Other Stories</td><td>4.06</td></tr><tr><td>11643</td><td>Shirley Jackson, Jonathan Lethem</td><td>We Have Always Lived in the Castle</td><td>4.05</td></tr><tr><td>11643</td><td>Shirley Jackson, Laura   Miller</td><td>The Haunting of Hill House</td><td>3.89</td></tr><tr><td>11643</td><td>Simone de Beauvoir, H.M. Parshley, Deirdre Bair</td><td>The Second Sex</td><td>4.09</td></tr><tr><td>11643</td><td>Siri Hustvedt</td><td>What I Loved</td><td>4.02</td></tr><tr><td>11643</td><td>Sloane Crosley</td><td>I Was Told There'd Be Cake</td><td>3.45</td></tr><tr><td>11643</td><td>Sonali Deraniyagala</td><td>Wave</td><td>3.7</td></tr><tr><td>11643</td><td>Stacy Schiff</td><td>Cleopatra: A Life</td><td>3.62</td></tr><tr><td>11643</td><td>Stella Gibbons, Lynne Truss, Roz Chast</td><td>Cold Comfort Farm</td><td>3.92</td></tr><tr><td>11643</td><td>Stephenie Meyer</td><td>The Twilight Saga: The Official Illustrated Guide (Twilight, #4.5)</td><td>4.23</td></tr><tr><td>11643</td><td>Sue Grafton</td><td>P is for Peril (Kinsey Millhone, #16)</td><td>3.85</td></tr><tr><td>11643</td><td>Sue Townsend</td><td>The Secret Diary of Adrian Mole, Aged 13 3/4  (Adrian Mole, #1)</td><td>3.85</td></tr><tr><td>11643</td><td>Susan Coolidge</td><td>What Katy Did (Carr Family, #1)</td><td>3.89</td></tr><tr><td>11643</td><td>Susan Cooper</td><td>Greenwitch (The Dark Is Rising, #3)</td><td>4</td></tr><tr><td>11643</td><td>Susan Cooper</td><td>Over Sea, Under Stone (The Dark Is Rising, #1)</td><td>3.85</td></tr><tr><td>11643</td><td>Susan Cooper</td><td>Silver on the Tree (The Dark is Rising, #5)</td><td>4.16</td></tr><tr><td>11643</td><td>Susan Cooper</td><td>The Dark Is Rising (The Dark is Rising, #2)</td><td>4.07</td></tr><tr><td>11643</td><td>Susan Cooper</td><td>The Grey King (The Dark Is Rising, #4)</td><td>4.18</td></tr><tr><td>11643</td><td>Susan Hill, John Lawrence</td><td>The Woman in Black</td><td>3.68</td></tr><tr><td>11643</td><td>Susan S. Adler, Renée Graef, Nancy Niles</td><td>Meet Samantha: An American Girl (American Girls: Samantha, #1)</td><td>3.95</td></tr><tr><td>11643</td><td>Susan Sontag</td><td>On Photography</td><td>3.84</td></tr><tr><td>11643</td><td>Susan Vreeland</td><td>Girl in Hyacinth Blue</td><td>3.72</td></tr><tr><td>11643</td><td>Susanna Clarke</td><td>Jonathan Strange &amp; Mr Norrell</td><td>3.8</td></tr><tr><td>11643</td><td>Susanna Clarke, Charles Vess</td><td>The Ladies of Grace Adieu and Other Stories</td><td>3.85</td></tr><tr><td>11643</td><td>Susanna Kaysen</td><td>Girl, Interrupted</td><td>3.9</td></tr><tr><td>11643</td><td>Suzanne Collins</td><td>Gregor and the Code of Claw (Underland Chronicles, #5)</td><td>4.25</td></tr><tr><td>11643</td><td>Suzanne Rindell</td><td>The Other Typist</td><td>3.55</td></tr><tr><td>11643</td><td>Sylvia Plath</td><td>Ariel</td><td>4.23</td></tr><tr><td>11643</td><td>Tamora Pierce</td><td>Alanna: The First Adventure (Song of the Lioness, #1)</td><td>4.27</td></tr><tr><td>11643</td><td>Tamora Pierce</td><td>Bloodhound (Beka Cooper, #2)</td><td>4.26</td></tr><tr><td>11643</td><td>Tamora Pierce</td><td>Briar's Book (Circle of Magic, #4)</td><td>4.14</td></tr><tr><td>11643</td><td>Tamora Pierce</td><td>Cold Fire (The Circle Opens, #3)</td><td>4.05</td></tr><tr><td>11643</td><td>Tamora Pierce</td><td>Daja's Book (Circle of Magic, #3)</td><td>4.06</td></tr><tr><td>11643</td><td>Tamora Pierce</td><td>Emperor Mage (Immortals, #3)</td><td>4.3</td></tr><tr><td>11643</td><td>Tamora Pierce</td><td>First Test (Protector of the Small, #1)</td><td>4.24</td></tr><tr><td>11643</td><td>Tamora Pierce</td><td>In the Hand of the Goddess (Song of the Lioness, #2)</td><td>4.25</td></tr><tr><td>11643</td><td>Tamora Pierce</td><td>Lady Knight (Protector of the Small, #4)</td><td>4.3</td></tr><tr><td>11643</td><td>Tamora Pierce</td><td>Lioness Rampant (Song of the Lioness, #4)</td><td>4.28</td></tr><tr><td>11643</td><td>Tamora Pierce</td><td>Magic Steps (The Circle Opens, #1)</td><td>3.98</td></tr><tr><td>11643</td><td>Tamora Pierce</td><td>Mastiff (Beka Cooper, #3)</td><td>4.24</td></tr><tr><td>11643</td><td>Tamora Pierce</td><td>Page (Protector of the Small, #2)</td><td>4.22</td></tr><tr><td>11643</td><td>Tamora Pierce</td><td>Sandry's Book (Circle of Magic, #1)</td><td>3.99</td></tr><tr><td>11643</td><td>Tamora Pierce</td><td>Shatterglass (The Circle Opens, #4)</td><td>4.16</td></tr><tr><td>11643</td><td>Tamora Pierce</td><td>Squire (Protector of the Small, #3)</td><td>4.27</td></tr><tr><td>11643</td><td>Tamora Pierce</td><td>Street Magic (The Circle Opens, #2)</td><td>4.12</td></tr><tr><td>11643</td><td>Tamora Pierce</td><td>Terrier (Beka Cooper, #1)</td><td>4.16</td></tr><tr><td>11643</td><td>Tamora Pierce</td><td>The Realms of the Gods (Immortals, #4)</td><td>4.32</td></tr><tr><td>11643</td><td>Tamora Pierce</td><td>The Will of the Empress (Circle Reforged, #1)</td><td>4.15</td></tr><tr><td>11643</td><td>Tamora Pierce</td><td>The Woman Who Rides Like a Man (Song of the Lioness, #3)</td><td>4.2</td></tr><tr><td>11643</td><td>Tamora Pierce</td><td>Trickster's Choice (Daughter of the Lioness, #1)</td><td>4.27</td></tr><tr><td>11643</td><td>Tamora Pierce</td><td>Trickster's Queen (Daughter of the Lioness, #2)</td><td>4.28</td></tr><tr><td>11643</td><td>Tamora Pierce</td><td>Tris's Book (Circle of Magic, #2)</td><td>4.07</td></tr><tr><td>11643</td><td>Tamora Pierce</td><td>Wild Magic (Immortals, #1)</td><td>4.32</td></tr><tr><td>11643</td><td>Tamora Pierce</td><td>Wolf-Speaker (Immortals, #2)</td><td>4.21</td></tr><tr><td>11643</td><td>Tana French</td><td>Broken Harbour (Dublin Murder Squad, #4)</td><td>3.92</td></tr><tr><td>11643</td><td>Tana French</td><td>Faithful Place (Dublin Murder Squad, #3)</td><td>3.97</td></tr><tr><td>11643</td><td>Tana French</td><td>In the Woods (Dublin Murder Squad, #1)</td><td>3.74</td></tr><tr><td>11643</td><td>Tana French</td><td>The Likeness (Dublin Murder Squad, #2)</td><td>4.05</td></tr><tr><td>11643</td><td>Tana French</td><td>The Secret Place (Dublin Murder Squad, #5)</td><td>3.83</td></tr><tr><td>11643</td><td>Tana French</td><td>The Trespasser (Dublin Murder Squad #6)</td><td>3.98</td></tr><tr><td>11643</td><td>Téa Obreht</td><td>The Tiger's Wife</td><td>3.37</td></tr><tr><td>11643</td><td>Tess Gerritsen</td><td>The Bone Garden </td><td>4.02</td></tr><tr><td>11643</td><td>Tessa Dare</td><td>Romancing the Duke (Castles Ever After, #1)</td><td>3.91</td></tr><tr><td>11643</td><td>Therese Anne Fowler</td><td>Z: A Novel of Zelda Fitzgerald</td><td>3.82</td></tr><tr><td>11643</td><td>Tina Fey</td><td>Bossypants</td><td>3.94</td></tr><tr><td>11643</td><td>Tomoko Hayakawa, David Ury</td><td>The Wallflower, Vol. 1 (The Wallflower, #1)</td><td>4.15</td></tr><tr><td>11643</td><td>Toni Morrison</td><td>A Mercy</td><td>3.65</td></tr><tr><td>11643</td><td>Toni Morrison</td><td>Beloved</td><td>3.77</td></tr><tr><td>11643</td><td>Toni Morrison</td><td>God Help the Child</td><td>3.7</td></tr><tr><td>11643</td><td>Toni Morrison</td><td>Home</td><td>3.71</td></tr><tr><td>11643</td><td>Toni Morrison</td><td>Jazz</td><td>3.78</td></tr><tr><td>11643</td><td>Toni Morrison</td><td>Paradise</td><td>3.77</td></tr><tr><td>11643</td><td>Toni Morrison</td><td>Song of Solomon</td><td>4.01</td></tr><tr><td>11643</td><td>Toni Morrison</td><td>Sula</td><td>3.86</td></tr><tr><td>11643</td><td>Toni Morrison</td><td>Tar Baby</td><td>3.91</td></tr><tr><td>11643</td><td>Toni Morrison</td><td>The Bluest Eye</td><td>3.99</td></tr><tr><td>11643</td><td>Tracy Chevalier</td><td>Falling Angels</td><td>3.55</td></tr><tr><td>11643</td><td>Tracy Chevalier</td><td>Girl with a Pearl Earring</td><td>3.85</td></tr><tr><td>11643</td><td>Tracy Chevalier</td><td>The Lady and the Unicorn</td><td>3.67</td></tr><tr><td>11643</td><td>Trudi Canavan</td><td>Priestess of the White (Age of the Five, #1)</td><td>3.84</td></tr><tr><td>11643</td><td>Trudi Canavan</td><td>The High Lord (Black Magician Trilogy, #3)</td><td>4.15</td></tr><tr><td>11643</td><td>Trudi Canavan</td><td>The Magician's Apprentice (Black Magician, #0.5)</td><td>3.94</td></tr><tr><td>11643</td><td>Trudi Canavan</td><td>The Magicians' Guild (Black Magician Trilogy, #1)</td><td>3.96</td></tr><tr><td>11643</td><td>Trudi Canavan</td><td>The Novice (Black Magician Trilogy, #2)</td><td>4.07</td></tr><tr><td>11643</td><td>Twyla Tharp</td><td>The Creative Habit: Learn It and Use It for Life</td><td>4</td></tr><tr><td>11643</td><td>Ursula K. Le Guin</td><td>A Wizard of Earthsea (Earthsea Cycle, #1)</td><td>3.99</td></tr><tr><td>11643</td><td>Ursula K. Le Guin</td><td>Tales from Earthsea (Earthsea Cycle, #5)</td><td>4</td></tr><tr><td>11643</td><td>Ursula K. Le Guin</td><td>Tehanu (Earthsea Cycle, #4)</td><td>3.89</td></tr><tr><td>11643</td><td>Ursula K. Le Guin</td><td>The Dispossessed</td><td>4.18</td></tr><tr><td>11643</td><td>Ursula K. Le Guin</td><td>The Earthsea Trilogy</td><td>4.25</td></tr><tr><td>11643</td><td>Ursula K. Le Guin</td><td>The Farthest Shore (Earthsea Cycle, #3)</td><td>4.11</td></tr><tr><td>11643</td><td>Ursula K. Le Guin</td><td>The Lathe of Heaven</td><td>4.09</td></tr><tr><td>11643</td><td>Ursula K. Le Guin</td><td>The Other Wind (Earthsea Cycle, #6)</td><td>4.06</td></tr><tr><td>11643</td><td>Ursula K. Le Guin</td><td>The Tombs of Atuan (Earthsea Cycle, #2)</td><td>4.07</td></tr><tr><td>11643</td><td>Ursula K. Le Guin, Lech Jęczmyk</td><td>The Left Hand of Darkness</td><td>4.05</td></tr><tr><td>11643</td><td>V.C. Andrews</td><td>Petals on the Wind (Dollanganger, #2)</td><td>3.82</td></tr><tr><td>11643</td><td>V.E. Schwab, Victoria Schwab</td><td>A Darker Shade of Magic (Shades of Magic, #1)</td><td>4.07</td></tr><tr><td>11643</td><td>V.E. Schwab, Victoria Schwab</td><td>A Gathering of Shadows (Shades of Magic, #2)</td><td>4.33</td></tr><tr><td>11643</td><td>Val McDermid</td><td>The Mermaids Singing (Tony Hill &amp; Carol Jordan, #1)</td><td>3.98</td></tr><tr><td>11643</td><td>Vanessa Diffenbaugh</td><td>The Language of Flowers</td><td>4.07</td></tr><tr><td>11643</td><td>Vera Brosgol</td><td>Anya's Ghost</td><td>3.88</td></tr><tr><td>11643</td><td>Victoria Hislop</td><td>The Island</td><td>3.99</td></tr><tr><td>11643</td><td>Virginia Lee Burton</td><td>Mike Mulligan and His Steam Shovel</td><td>4.2</td></tr><tr><td>11643</td><td>Virginia Lee Burton</td><td>The Little House</td><td>4.29</td></tr><tr><td>11643</td><td>Virginia M. Axline</td><td>Dibs in Search of Self</td><td>4.13</td></tr><tr><td>11643</td><td>Virginia Woolf</td><td>A Room of One's Own</td><td>4.1</td></tr><tr><td>11643</td><td>Virginia Woolf</td><td>Orlando</td><td>3.86</td></tr><tr><td>11643</td><td>Virginia Woolf</td><td>The Waves</td><td>4.14</td></tr><tr><td>11643</td><td>Virginia Woolf</td><td>To the Lighthouse</td><td>3.76</td></tr><tr><td>11643</td><td>Virginia Woolf, Maureen Howard</td><td>Mrs. Dalloway</td><td>3.78</td></tr><tr><td>11643</td><td>Willa Cather</td><td>Death Comes for the Archbishop</td><td>3.88</td></tr><tr><td>11643</td><td>Willa Cather</td><td>My Ántonia</td><td>3.76</td></tr><tr><td>11643</td><td>Willa Cather</td><td>O Pioneers!</td><td>3.84</td></tr><tr><td>11643</td><td>Yaa Gyasi</td><td>Homegoing</td><td>4.41</td></tr><tr><td>11643</td><td>Yangsze Choo</td><td>The Ghost Bride</td><td>3.74</td></tr><tr><td>11643</td><td>Yōko Ogawa, Stephen Snyder</td><td>The Housekeeper and the Professor</td><td>3.94</td></tr><tr><td>11643</td><td>Zadie Smith</td><td>NW</td><td>3.41</td></tr><tr><td>11643</td><td>Zadie Smith</td><td>On Beauty</td><td>3.68</td></tr><tr><td>11643</td><td>Zadie Smith</td><td>Swing Time</td><td>3.6</td></tr><tr><td>11643</td><td>Zadie Smith</td><td>The Autograph Man</td><td>3.14</td></tr><tr><td>11643</td><td>Zadie Smith</td><td>White Teeth</td><td>3.75</td></tr><tr><td>11643</td><td>Zoë Heller</td><td>What Was She Thinking? [Notes on a Scandal]</td><td>3.69</td></tr><tr><td>11643</td><td>Zora Neale Hurston</td><td>Their Eyes Were Watching God</td><td>3.87</td></tr></table>"
                    },
                    "metadata": {}
                }
            ],
            "execution_count": 48
        },
        {
            "cell_type": "markdown",
            "source": [
                "### **Record your thoughts about why you wrote the query the way you did.**"
            ],
            "metadata": {
                "azdata_cell_guid": "1e19a72c-1bca-446b-a0c7-a8efbc35dcf1"
            },
            "attachments": {}
        },
        {
            "cell_type": "markdown",
            "source": [
                "# Part 2: Choose Another Month\n",
                "\n",
                "Choose another month and plan at least 2 events / promotions and answer the following questions.\n",
                "\n",
                "Which month did you choose?  \n",
                "\n",
                "What 2 events / promotions are you highlighting?\n",
                "\n",
                "> 1\\. February: Valentine's Day\n",
                "\n",
                "> 2\\. February: Black History Month"
            ],
            "metadata": {
                "azdata_cell_guid": "3eaf376d-9de3-4553-a9d0-9caf74ee3d6a"
            },
            "attachments": {}
        },
        {
            "cell_type": "code",
            "source": [
                "USE \r\n",
                "    BooksDB\r\n",
                "SELECT \r\n",
                "    book_tags.tag_id AS 'TAG ID' ,tags.tag_name AS 'TAG NAME', SUM(book_tags.count) AS 'TAG COUNT'\r\n",
                "FROM \r\n",
                "    book_tags\r\n",
                "INNER JOIN \r\n",
                "    tags\r\n",
                "ON \r\n",
                "    book_tags.tag_id=tags.tag_id\r\n",
                "GROUP by \r\n",
                "    book_tags.tag_id, tags.tag_name \r\n",
                "HAVING \r\n",
                "    tag_name LIKE '%love%' or tag_name LIKE '%valentine%'\r\n",
                "ORDER BY \r\n",
                "    SUM(book_tags.count) DESC;"
            ],
            "metadata": {
                "azdata_cell_guid": "90f7c314-87c6-4802-91f2-a165d7d3a491",
                "language": "sql"
            },
            "outputs": [
                {
                    "output_type": "display_data",
                    "data": {
                        "text/html": "(167 rows affected)"
                    },
                    "metadata": {}
                },
                {
                    "output_type": "display_data",
                    "data": {
                        "text/html": "Total execution time: 00:03:23.562"
                    },
                    "metadata": {}
                },
                {
                    "output_type": "execute_result",
                    "execution_count": 49,
                    "data": {
                        "application/vnd.dataresource+json": {
                            "schema": {
                                "fields": [
                                    {
                                        "name": "TAG ID"
                                    },
                                    {
                                        "name": "TAG NAME"
                                    },
                                    {
                                        "name": "TAG COUNT"
                                    }
                                ]
                            },
                            "data": [
                                {
                                    "0": "18640",
                                    "1": "love",
                                    "2": "46686"
                                },
                                {
                                    "0": "18668",
                                    "1": "love-triangle",
                                    "2": "23758"
                                },
                                {
                                    "0": "18680",
                                    "1": "loved",
                                    "2": "13450"
                                },
                                {
                                    "0": "8408",
                                    "1": "cover-love",
                                    "2": "11761"
                                },
                                {
                                    "0": "12598",
                                    "1": "friends-to-lovers",
                                    "2": "8411"
                                },
                                {
                                    "0": "18682",
                                    "1": "loved-it",
                                    "2": "5756"
                                },
                                {
                                    "0": "10615",
                                    "1": "enemies-to-lovers",
                                    "2": "4132"
                                },
                                {
                                    "0": "18663",
                                    "1": "love-stories",
                                    "2": "3940"
                                },
                                {
                                    "0": "12334",
                                    "1": "forbidden-love",
                                    "2": "3901"
                                },
                                {
                                    "0": "18664",
                                    "1": "love-story",
                                    "2": "3878"
                                },
                                {
                                    "0": "18670",
                                    "1": "love-triangles",
                                    "2": "2765"
                                },
                                {
                                    "0": "18652",
                                    "1": "love-hate",
                                    "2": "1300"
                                },
                                {
                                    "0": "15646",
                                    "1": "insta-love",
                                    "2": "1228"
                                },
                                {
                                    "0": "32448",
                                    "1": "wicked-lovely",
                                    "2": "783"
                                },
                                {
                                    "0": "18653",
                                    "1": "love-hate-relationship",
                                    "2": "522"
                                },
                                {
                                    "0": "18677",
                                    "1": "lovecraftian",
                                    "2": "383"
                                },
                                {
                                    "0": "27017",
                                    "1": "second-chance-love",
                                    "2": "333"
                                },
                                {
                                    "0": "5197",
                                    "1": "books-i-love",
                                    "2": "320"
                                },
                                {
                                    "0": "18673",
                                    "1": "lovecraft",
                                    "2": "309"
                                },
                                {
                                    "0": "33148",
                                    "1": "young-love",
                                    "2": "212"
                                },
                                {
                                    "0": "14050",
                                    "1": "hate-to-love",
                                    "2": "183"
                                },
                                {
                                    "0": "32449",
                                    "1": "wicked-lovely-series",
                                    "2": "173"
                                },
                                {
                                    "0": "18667",
                                    "1": "love-the-cover",
                                    "2": "169"
                                },
                                {
                                    "0": "31578",
                                    "1": "unrequited-love",
                                    "2": "164"
                                },
                                {
                                    "0": "7674",
                                    "1": "college-love",
                                    "2": "145"
                                },
                                {
                                    "0": "13828",
                                    "1": "h-p-lovecraft",
                                    "2": "143"
                                },
                                {
                                    "0": "5200",
                                    "1": "books-i-loved-as-a-kid",
                                    "2": "137"
                                },
                                {
                                    "0": "18645",
                                    "1": "love-at-stake",
                                    "2": "128"
                                },
                                {
                                    "0": "18655",
                                    "1": "love-it",
                                    "2": "107"
                                },
                                {
                                    "0": "18656",
                                    "1": "love-love-love",
                                    "2": "84"
                                },
                                {
                                    "0": "14952",
                                    "1": "hp-lovecraft",
                                    "2": "74"
                                },
                                {
                                    "0": "18658",
                                    "1": "love-me-with-lies",
                                    "2": "69"
                                },
                                {
                                    "0": "5198",
                                    "1": "books-i-loved",
                                    "2": "59"
                                },
                                {
                                    "0": "32450",
                                    "1": "wicked-lovers",
                                    "2": "57"
                                },
                                {
                                    "0": "18688",
                                    "1": "loveozya",
                                    "2": "47"
                                },
                                {
                                    "0": "18646",
                                    "1": "love-at-stake-series",
                                    "2": "45"
                                },
                                {
                                    "0": "32438",
                                    "1": "why-men-love-bitches",
                                    "2": "40"
                                },
                                {
                                    "0": "7042",
                                    "1": "chocolate-lovers",
                                    "2": "39"
                                },
                                {
                                    "0": "25547",
                                    "1": "redeeming-love",
                                    "2": "38"
                                },
                                {
                                    "0": "19924",
                                    "1": "michelle-a-valentine",
                                    "2": "33"
                                },
                                {
                                    "0": "12041",
                                    "1": "first-love",
                                    "2": "30"
                                },
                                {
                                    "0": "18610",
                                    "1": "lost-love",
                                    "2": "26"
                                },
                                {
                                    "0": "29040",
                                    "1": "surrender-your-love",
                                    "2": "26"
                                },
                                {
                                    "0": "23236",
                                    "1": "penguin-great-loves",
                                    "2": "26"
                                },
                                {
                                    "0": "27932",
                                    "1": "slovenia",
                                    "2": "24"
                                },
                                {
                                    "0": "18641",
                                    "1": "love-and-marriage",
                                    "2": "24"
                                },
                                {
                                    "0": "18642",
                                    "1": "love-and-relationships",
                                    "2": "22"
                                },
                                {
                                    "0": "32451",
                                    "1": "wicked-lovers-series",
                                    "2": "21"
                                },
                                {
                                    "0": "19931",
                                    "1": "michelle-valentine",
                                    "2": "21"
                                },
                                {
                                    "0": "18650",
                                    "1": "love-comes-softly",
                                    "2": "20"
                                },
                                {
                                    "0": "29041",
                                    "1": "surrender-your-love-series",
                                    "2": "19"
                                },
                                {
                                    "0": "11877",
                                    "1": "fighting-for-love",
                                    "2": "18"
                                },
                                {
                                    "0": "8413",
                                    "1": "coverly-love",
                                    "2": "18"
                                },
                                {
                                    "0": "8462",
                                    "1": "crazy-love",
                                    "2": "15"
                                },
                                {
                                    "0": "27253",
                                    "1": "series-i-love",
                                    "2": "15"
                                },
                                {
                                    "0": "27115",
                                    "1": "self-love",
                                    "2": "14"
                                },
                                {
                                    "0": "15648",
                                    "1": "instalove",
                                    "2": "14"
                                },
                                {
                                    "0": "18648",
                                    "1": "love-by-numbers",
                                    "2": "13"
                                },
                                {
                                    "0": "18691",
                                    "1": "lovey-dovey",
                                    "2": "13"
                                },
                                {
                                    "0": "18654",
                                    "1": "love-hina",
                                    "2": "13"
                                },
                                {
                                    "0": "8173",
                                    "1": "cookbooks-i-love",
                                    "2": "13"
                                },
                                {
                                    "0": "18611",
                                    "1": "lost-love-series",
                                    "2": "13"
                                },
                                {
                                    "0": "18659",
                                    "1": "love-of-reading",
                                    "2": "13"
                                },
                                {
                                    "0": "18666",
                                    "1": "love-that-dog",
                                    "2": "12"
                                },
                                {
                                    "0": "15188",
                                    "1": "i-too-had-a-love-story",
                                    "2": "12"
                                },
                                {
                                    "0": "18661",
                                    "1": "love-romance",
                                    "2": "12"
                                },
                                {
                                    "0": "13775",
                                    "1": "guess-how-much-i-love-you",
                                    "2": "11"
                                },
                                {
                                    "0": "11206",
                                    "1": "fallen-in-love",
                                    "2": "11"
                                },
                                {
                                    "0": "27323",
                                    "1": "series-wicked-lovely",
                                    "2": "11"
                                },
                                {
                                    "0": "18871",
                                    "1": "mafia-love",
                                    "2": "10"
                                },
                                {
                                    "0": "17737",
                                    "1": "lawyers-in-love",
                                    "2": "10"
                                },
                                {
                                    "0": "18689",
                                    "1": "lovesick-maidens",
                                    "2": "10"
                                },
                                {
                                    "0": "18651",
                                    "1": "love-comes-softly-series",
                                    "2": "10"
                                },
                                {
                                    "0": "27272",
                                    "1": "series-love-at-stake",
                                    "2": "10"
                                },
                                {
                                    "0": "19480",
                                    "1": "maud-hart-lovelace",
                                    "2": "9"
                                },
                                {
                                    "0": "14049",
                                    "1": "hate-love",
                                    "2": "9"
                                },
                                {
                                    "0": "25024",
                                    "1": "read-and-loved",
                                    "2": "9"
                                },
                                {
                                    "0": "6164",
                                    "1": "can-love-happen-twice",
                                    "2": "9"
                                },
                                {
                                    "0": "1631",
                                    "1": "adoption-families-foster-homes-love",
                                    "2": "9"
                                },
                                {
                                    "0": "13238",
                                    "1": "girls-in-love",
                                    "2": "8"
                                },
                                {
                                    "0": "6643",
                                    "1": "charlie-lovett",
                                    "2": "8"
                                },
                                {
                                    "0": "5831",
                                    "1": "brotherly-love",
                                    "2": "8"
                                },
                                {
                                    "0": "2800",
                                    "1": "apple-love",
                                    "2": "8"
                                },
                                {
                                    "0": "2560",
                                    "1": "animal-lovers",
                                    "2": "8"
                                },
                                {
                                    "0": "2559",
                                    "1": "animal-lover",
                                    "2": "8"
                                },
                                {
                                    "0": "2080",
                                    "1": "all-love",
                                    "2": "8"
                                },
                                {
                                    "0": "18644",
                                    "1": "love-anthony",
                                    "2": "7"
                                },
                                {
                                    "0": "1343",
                                    "1": "a-love-story",
                                    "2": "7"
                                },
                                {
                                    "0": "13628",
                                    "1": "great-loves",
                                    "2": "6"
                                },
                                {
                                    "0": "10738",
                                    "1": "epic-love-story",
                                    "2": "6"
                                },
                                {
                                    "0": "18686",
                                    "1": "lovely-complex",
                                    "2": "6"
                                },
                                {
                                    "0": "4249",
                                    "1": "beloved-books",
                                    "2": "6"
                                },
                                {
                                    "0": "22207",
                                    "1": "of-course-i-love-you",
                                    "2": "5"
                                },
                                {
                                    "0": "18649",
                                    "1": "love-com",
                                    "2": "5"
                                },
                                {
                                    "0": "8743",
                                    "1": "cute-love-story",
                                    "2": "5"
                                },
                                {
                                    "0": "18657",
                                    "1": "love-marriage",
                                    "2": "5"
                                },
                                {
                                    "0": "28961",
                                    "1": "summer-love",
                                    "2": "5"
                                },
                                {
                                    "0": "5199",
                                    "1": "books-i-loved-as-a-child",
                                    "2": "5"
                                },
                                {
                                    "0": "18681",
                                    "1": "loved-as-a-kid",
                                    "2": "5"
                                },
                                {
                                    "0": "18678",
                                    "1": "lovecraftian-horror",
                                    "2": "5"
                                },
                                {
                                    "0": "1492",
                                    "1": "absolutely-loved",
                                    "2": "5"
                                },
                                {
                                    "0": "20488",
                                    "1": "most-beloved",
                                    "2": "4"
                                },
                                {
                                    "0": "22172",
                                    "1": "obsessive-love",
                                    "2": "4"
                                },
                                {
                                    "0": "22338",
                                    "1": "on-love",
                                    "2": "4"
                                },
                                {
                                    "0": "28091",
                                    "1": "someone-to-love",
                                    "2": "4"
                                },
                                {
                                    "0": "4248",
                                    "1": "beloved",
                                    "2": "4"
                                },
                                {
                                    "0": "12335",
                                    "1": "forbidden-love-affair",
                                    "2": "4"
                                },
                                {
                                    "0": "18675",
                                    "1": "lovecraft-h-p",
                                    "2": "3"
                                },
                                {
                                    "0": "6165",
                                    "1": "can-love-happens-twice",
                                    "2": "3"
                                },
                                {
                                    "0": "3749",
                                    "1": "baby-love",
                                    "2": "3"
                                },
                                {
                                    "0": "9677",
                                    "1": "dog-lover",
                                    "2": "3"
                                },
                                {
                                    "0": "18643",
                                    "1": "love-and-romance",
                                    "2": "3"
                                },
                                {
                                    "0": "17130",
                                    "1": "kids-books-i-love",
                                    "2": "3"
                                },
                                {
                                    "0": "29950",
                                    "1": "the-mastery-of-love",
                                    "2": "3"
                                },
                                {
                                    "0": "27326",
                                    "1": "seriesandauthorsilove",
                                    "2": "2"
                                },
                                {
                                    "0": "5401",
                                    "1": "books-to-love",
                                    "2": "2"
                                },
                                {
                                    "0": "6859",
                                    "1": "children-and-children-s-book-lovers",
                                    "2": "2"
                                },
                                {
                                    "0": "6896",
                                    "1": "children-s-books-i-love",
                                    "2": "2"
                                },
                                {
                                    "0": "8141",
                                    "1": "cookbook-love",
                                    "2": "2"
                                },
                                {
                                    "0": "26157",
                                    "1": "romance-love",
                                    "2": "2"
                                },
                                {
                                    "0": "12324",
                                    "1": "for-the-love-of-twilight",
                                    "2": "2"
                                },
                                {
                                    "0": "22208",
                                    "1": "of-course-i-love-you-till-i-find-so",
                                    "2": "2"
                                },
                                {
                                    "0": "15158",
                                    "1": "i-love-animals",
                                    "2": "2"
                                },
                                {
                                    "0": "4997",
                                    "1": "book-lovers-calendar",
                                    "2": "2"
                                },
                                {
                                    "0": "29861",
                                    "1": "the-i-love-books",
                                    "2": "2"
                                },
                                {
                                    "0": "20609",
                                    "1": "much-loved",
                                    "2": "2"
                                },
                                {
                                    "0": "15161",
                                    "1": "i-loved-the-book-if-you-need-a-good",
                                    "2": "2"
                                },
                                {
                                    "0": "30727",
                                    "1": "to-read-lovecraft",
                                    "2": "2"
                                },
                                {
                                    "0": "18690",
                                    "1": "lovestory",
                                    "2": "2"
                                },
                                {
                                    "0": "18660",
                                    "1": "love-relationships",
                                    "2": "2"
                                },
                                {
                                    "0": "31711",
                                    "1": "valentine-s-day",
                                    "2": "2"
                                },
                                {
                                    "0": "18662",
                                    "1": "love-sex-money",
                                    "2": "2"
                                },
                                {
                                    "0": "18669",
                                    "1": "love-triangle-it-is-complicated",
                                    "2": "2"
                                },
                                {
                                    "0": "18679",
                                    "1": "lovecraftian-mythos",
                                    "2": "2"
                                },
                                {
                                    "0": "18672",
                                    "1": "love-you-to-death",
                                    "2": "2"
                                },
                                {
                                    "0": "29988",
                                    "1": "the-ones-i-loved",
                                    "2": "1"
                                },
                                {
                                    "0": "30022",
                                    "1": "the-power-of-love",
                                    "2": "1"
                                },
                                {
                                    "0": "4722",
                                    "1": "black-love",
                                    "2": "1"
                                },
                                {
                                    "0": "4250",
                                    "1": "beloved-by-me",
                                    "2": "1"
                                },
                                {
                                    "0": "32383",
                                    "1": "what-i-love-best",
                                    "2": "1"
                                },
                                {
                                    "0": "5271",
                                    "1": "books-i-would-love-to-burn",
                                    "2": "1"
                                },
                                {
                                    "0": "28867",
                                    "1": "stuff-i-loved",
                                    "2": "1"
                                },
                                {
                                    "0": "4060",
                                    "1": "be-the-writer-you-love",
                                    "2": "1"
                                },
                                {
                                    "0": "5383",
                                    "1": "books-that-i-love",
                                    "2": "1"
                                },
                                {
                                    "0": "1100",
                                    "1": "48-days-to-the-work-you-love",
                                    "2": "1"
                                },
                                {
                                    "0": "1080",
                                    "1": "4-stars-loved-it",
                                    "2": "1"
                                },
                                {
                                    "0": "59",
                                    "1": "0-love-funny",
                                    "2": "1"
                                },
                                {
                                    "0": "6481",
                                    "1": "cee-loves",
                                    "2": "1"
                                },
                                {
                                    "0": "26201",
                                    "1": "romantic-love-stories",
                                    "2": "1"
                                },
                                {
                                    "0": "8415",
                                    "1": "covers-i-love",
                                    "2": "1"
                                },
                                {
                                    "0": "25221",
                                    "1": "read-loved",
                                    "2": "1"
                                },
                                {
                                    "0": "15159",
                                    "1": "i-love-fiction-too",
                                    "2": "1"
                                },
                                {
                                    "0": "20855",
                                    "1": "my-lovely-book-x1f49e",
                                    "2": "1"
                                },
                                {
                                    "0": "20634",
                                    "1": "multiple-lovers",
                                    "2": "1"
                                },
                                {
                                    "0": "20489",
                                    "1": "most-beloved-books",
                                    "2": "1"
                                },
                                {
                                    "0": "15160",
                                    "1": "i-love-vampire",
                                    "2": "1"
                                },
                                {
                                    "0": "15382",
                                    "1": "in-love-w-the-main-character-s",
                                    "2": "1"
                                },
                                {
                                    "0": "15647",
                                    "1": "insta-love-or-lust-baby",
                                    "2": "1"
                                },
                                {
                                    "0": "18647",
                                    "1": "love-books",
                                    "2": "1"
                                },
                                {
                                    "0": "18687",
                                    "1": "lovely-intriguing",
                                    "2": "1"
                                },
                                {
                                    "0": "18685",
                                    "1": "lovely",
                                    "2": "1"
                                },
                                {
                                    "0": "18684",
                                    "1": "loved-these",
                                    "2": "1"
                                },
                                {
                                    "0": "18683",
                                    "1": "loved-some-recent-some-long-ago",
                                    "2": "1"
                                },
                                {
                                    "0": "18665",
                                    "1": "love-story-1",
                                    "2": "1"
                                },
                                {
                                    "0": "18671",
                                    "1": "love-triangles-i-hate",
                                    "2": "1"
                                },
                                {
                                    "0": "18674",
                                    "1": "lovecraft-and-lovecraftian-circle",
                                    "2": "1"
                                },
                                {
                                    "0": "18676",
                                    "1": "lovecraft-weird-horror",
                                    "2": "1"
                                }
                            ]
                        },
                        "text/html": "<table><tr><th>TAG ID</th><th>TAG NAME</th><th>TAG COUNT</th></tr><tr><td>18640</td><td>love</td><td>46686</td></tr><tr><td>18668</td><td>love-triangle</td><td>23758</td></tr><tr><td>18680</td><td>loved</td><td>13450</td></tr><tr><td>8408</td><td>cover-love</td><td>11761</td></tr><tr><td>12598</td><td>friends-to-lovers</td><td>8411</td></tr><tr><td>18682</td><td>loved-it</td><td>5756</td></tr><tr><td>10615</td><td>enemies-to-lovers</td><td>4132</td></tr><tr><td>18663</td><td>love-stories</td><td>3940</td></tr><tr><td>12334</td><td>forbidden-love</td><td>3901</td></tr><tr><td>18664</td><td>love-story</td><td>3878</td></tr><tr><td>18670</td><td>love-triangles</td><td>2765</td></tr><tr><td>18652</td><td>love-hate</td><td>1300</td></tr><tr><td>15646</td><td>insta-love</td><td>1228</td></tr><tr><td>32448</td><td>wicked-lovely</td><td>783</td></tr><tr><td>18653</td><td>love-hate-relationship</td><td>522</td></tr><tr><td>18677</td><td>lovecraftian</td><td>383</td></tr><tr><td>27017</td><td>second-chance-love</td><td>333</td></tr><tr><td>5197</td><td>books-i-love</td><td>320</td></tr><tr><td>18673</td><td>lovecraft</td><td>309</td></tr><tr><td>33148</td><td>young-love</td><td>212</td></tr><tr><td>14050</td><td>hate-to-love</td><td>183</td></tr><tr><td>32449</td><td>wicked-lovely-series</td><td>173</td></tr><tr><td>18667</td><td>love-the-cover</td><td>169</td></tr><tr><td>31578</td><td>unrequited-love</td><td>164</td></tr><tr><td>7674</td><td>college-love</td><td>145</td></tr><tr><td>13828</td><td>h-p-lovecraft</td><td>143</td></tr><tr><td>5200</td><td>books-i-loved-as-a-kid</td><td>137</td></tr><tr><td>18645</td><td>love-at-stake</td><td>128</td></tr><tr><td>18655</td><td>love-it</td><td>107</td></tr><tr><td>18656</td><td>love-love-love</td><td>84</td></tr><tr><td>14952</td><td>hp-lovecraft</td><td>74</td></tr><tr><td>18658</td><td>love-me-with-lies</td><td>69</td></tr><tr><td>5198</td><td>books-i-loved</td><td>59</td></tr><tr><td>32450</td><td>wicked-lovers</td><td>57</td></tr><tr><td>18688</td><td>loveozya</td><td>47</td></tr><tr><td>18646</td><td>love-at-stake-series</td><td>45</td></tr><tr><td>32438</td><td>why-men-love-bitches</td><td>40</td></tr><tr><td>7042</td><td>chocolate-lovers</td><td>39</td></tr><tr><td>25547</td><td>redeeming-love</td><td>38</td></tr><tr><td>19924</td><td>michelle-a-valentine</td><td>33</td></tr><tr><td>12041</td><td>first-love</td><td>30</td></tr><tr><td>18610</td><td>lost-love</td><td>26</td></tr><tr><td>29040</td><td>surrender-your-love</td><td>26</td></tr><tr><td>23236</td><td>penguin-great-loves</td><td>26</td></tr><tr><td>27932</td><td>slovenia</td><td>24</td></tr><tr><td>18641</td><td>love-and-marriage</td><td>24</td></tr><tr><td>18642</td><td>love-and-relationships</td><td>22</td></tr><tr><td>32451</td><td>wicked-lovers-series</td><td>21</td></tr><tr><td>19931</td><td>michelle-valentine</td><td>21</td></tr><tr><td>18650</td><td>love-comes-softly</td><td>20</td></tr><tr><td>29041</td><td>surrender-your-love-series</td><td>19</td></tr><tr><td>11877</td><td>fighting-for-love</td><td>18</td></tr><tr><td>8413</td><td>coverly-love</td><td>18</td></tr><tr><td>8462</td><td>crazy-love</td><td>15</td></tr><tr><td>27253</td><td>series-i-love</td><td>15</td></tr><tr><td>27115</td><td>self-love</td><td>14</td></tr><tr><td>15648</td><td>instalove</td><td>14</td></tr><tr><td>18648</td><td>love-by-numbers</td><td>13</td></tr><tr><td>18691</td><td>lovey-dovey</td><td>13</td></tr><tr><td>18654</td><td>love-hina</td><td>13</td></tr><tr><td>8173</td><td>cookbooks-i-love</td><td>13</td></tr><tr><td>18611</td><td>lost-love-series</td><td>13</td></tr><tr><td>18659</td><td>love-of-reading</td><td>13</td></tr><tr><td>18666</td><td>love-that-dog</td><td>12</td></tr><tr><td>15188</td><td>i-too-had-a-love-story</td><td>12</td></tr><tr><td>18661</td><td>love-romance</td><td>12</td></tr><tr><td>13775</td><td>guess-how-much-i-love-you</td><td>11</td></tr><tr><td>11206</td><td>fallen-in-love</td><td>11</td></tr><tr><td>27323</td><td>series-wicked-lovely</td><td>11</td></tr><tr><td>18871</td><td>mafia-love</td><td>10</td></tr><tr><td>17737</td><td>lawyers-in-love</td><td>10</td></tr><tr><td>18689</td><td>lovesick-maidens</td><td>10</td></tr><tr><td>18651</td><td>love-comes-softly-series</td><td>10</td></tr><tr><td>27272</td><td>series-love-at-stake</td><td>10</td></tr><tr><td>19480</td><td>maud-hart-lovelace</td><td>9</td></tr><tr><td>14049</td><td>hate-love</td><td>9</td></tr><tr><td>25024</td><td>read-and-loved</td><td>9</td></tr><tr><td>6164</td><td>can-love-happen-twice</td><td>9</td></tr><tr><td>1631</td><td>adoption-families-foster-homes-love</td><td>9</td></tr><tr><td>13238</td><td>girls-in-love</td><td>8</td></tr><tr><td>6643</td><td>charlie-lovett</td><td>8</td></tr><tr><td>5831</td><td>brotherly-love</td><td>8</td></tr><tr><td>2800</td><td>apple-love</td><td>8</td></tr><tr><td>2560</td><td>animal-lovers</td><td>8</td></tr><tr><td>2559</td><td>animal-lover</td><td>8</td></tr><tr><td>2080</td><td>all-love</td><td>8</td></tr><tr><td>18644</td><td>love-anthony</td><td>7</td></tr><tr><td>1343</td><td>a-love-story</td><td>7</td></tr><tr><td>13628</td><td>great-loves</td><td>6</td></tr><tr><td>10738</td><td>epic-love-story</td><td>6</td></tr><tr><td>18686</td><td>lovely-complex</td><td>6</td></tr><tr><td>4249</td><td>beloved-books</td><td>6</td></tr><tr><td>22207</td><td>of-course-i-love-you</td><td>5</td></tr><tr><td>18649</td><td>love-com</td><td>5</td></tr><tr><td>8743</td><td>cute-love-story</td><td>5</td></tr><tr><td>18657</td><td>love-marriage</td><td>5</td></tr><tr><td>28961</td><td>summer-love</td><td>5</td></tr><tr><td>5199</td><td>books-i-loved-as-a-child</td><td>5</td></tr><tr><td>18681</td><td>loved-as-a-kid</td><td>5</td></tr><tr><td>18678</td><td>lovecraftian-horror</td><td>5</td></tr><tr><td>1492</td><td>absolutely-loved</td><td>5</td></tr><tr><td>20488</td><td>most-beloved</td><td>4</td></tr><tr><td>22172</td><td>obsessive-love</td><td>4</td></tr><tr><td>22338</td><td>on-love</td><td>4</td></tr><tr><td>28091</td><td>someone-to-love</td><td>4</td></tr><tr><td>4248</td><td>beloved</td><td>4</td></tr><tr><td>12335</td><td>forbidden-love-affair</td><td>4</td></tr><tr><td>18675</td><td>lovecraft-h-p</td><td>3</td></tr><tr><td>6165</td><td>can-love-happens-twice</td><td>3</td></tr><tr><td>3749</td><td>baby-love</td><td>3</td></tr><tr><td>9677</td><td>dog-lover</td><td>3</td></tr><tr><td>18643</td><td>love-and-romance</td><td>3</td></tr><tr><td>17130</td><td>kids-books-i-love</td><td>3</td></tr><tr><td>29950</td><td>the-mastery-of-love</td><td>3</td></tr><tr><td>27326</td><td>seriesandauthorsilove</td><td>2</td></tr><tr><td>5401</td><td>books-to-love</td><td>2</td></tr><tr><td>6859</td><td>children-and-children-s-book-lovers</td><td>2</td></tr><tr><td>6896</td><td>children-s-books-i-love</td><td>2</td></tr><tr><td>8141</td><td>cookbook-love</td><td>2</td></tr><tr><td>26157</td><td>romance-love</td><td>2</td></tr><tr><td>12324</td><td>for-the-love-of-twilight</td><td>2</td></tr><tr><td>22208</td><td>of-course-i-love-you-till-i-find-so</td><td>2</td></tr><tr><td>15158</td><td>i-love-animals</td><td>2</td></tr><tr><td>4997</td><td>book-lovers-calendar</td><td>2</td></tr><tr><td>29861</td><td>the-i-love-books</td><td>2</td></tr><tr><td>20609</td><td>much-loved</td><td>2</td></tr><tr><td>15161</td><td>i-loved-the-book-if-you-need-a-good</td><td>2</td></tr><tr><td>30727</td><td>to-read-lovecraft</td><td>2</td></tr><tr><td>18690</td><td>lovestory</td><td>2</td></tr><tr><td>18660</td><td>love-relationships</td><td>2</td></tr><tr><td>31711</td><td>valentine-s-day</td><td>2</td></tr><tr><td>18662</td><td>love-sex-money</td><td>2</td></tr><tr><td>18669</td><td>love-triangle-it-is-complicated</td><td>2</td></tr><tr><td>18679</td><td>lovecraftian-mythos</td><td>2</td></tr><tr><td>18672</td><td>love-you-to-death</td><td>2</td></tr><tr><td>29988</td><td>the-ones-i-loved</td><td>1</td></tr><tr><td>30022</td><td>the-power-of-love</td><td>1</td></tr><tr><td>4722</td><td>black-love</td><td>1</td></tr><tr><td>4250</td><td>beloved-by-me</td><td>1</td></tr><tr><td>32383</td><td>what-i-love-best</td><td>1</td></tr><tr><td>5271</td><td>books-i-would-love-to-burn</td><td>1</td></tr><tr><td>28867</td><td>stuff-i-loved</td><td>1</td></tr><tr><td>4060</td><td>be-the-writer-you-love</td><td>1</td></tr><tr><td>5383</td><td>books-that-i-love</td><td>1</td></tr><tr><td>1100</td><td>48-days-to-the-work-you-love</td><td>1</td></tr><tr><td>1080</td><td>4-stars-loved-it</td><td>1</td></tr><tr><td>59</td><td>0-love-funny</td><td>1</td></tr><tr><td>6481</td><td>cee-loves</td><td>1</td></tr><tr><td>26201</td><td>romantic-love-stories</td><td>1</td></tr><tr><td>8415</td><td>covers-i-love</td><td>1</td></tr><tr><td>25221</td><td>read-loved</td><td>1</td></tr><tr><td>15159</td><td>i-love-fiction-too</td><td>1</td></tr><tr><td>20855</td><td>my-lovely-book-x1f49e</td><td>1</td></tr><tr><td>20634</td><td>multiple-lovers</td><td>1</td></tr><tr><td>20489</td><td>most-beloved-books</td><td>1</td></tr><tr><td>15160</td><td>i-love-vampire</td><td>1</td></tr><tr><td>15382</td><td>in-love-w-the-main-character-s</td><td>1</td></tr><tr><td>15647</td><td>insta-love-or-lust-baby</td><td>1</td></tr><tr><td>18647</td><td>love-books</td><td>1</td></tr><tr><td>18687</td><td>lovely-intriguing</td><td>1</td></tr><tr><td>18685</td><td>lovely</td><td>1</td></tr><tr><td>18684</td><td>loved-these</td><td>1</td></tr><tr><td>18683</td><td>loved-some-recent-some-long-ago</td><td>1</td></tr><tr><td>18665</td><td>love-story-1</td><td>1</td></tr><tr><td>18671</td><td>love-triangles-i-hate</td><td>1</td></tr><tr><td>18674</td><td>lovecraft-and-lovecraftian-circle</td><td>1</td></tr><tr><td>18676</td><td>lovecraft-weird-horror</td><td>1</td></tr></table>"
                    },
                    "metadata": {}
                }
            ],
            "execution_count": 49
        },
        {
            "cell_type": "markdown",
            "source": [
                "# Part 3: Summarize your Work\n",
                "\n",
                "For each event write at least one query that joins any two tables in the BooksDB to support your choice and record you thoughts as to why you used the paticlular query. At least one of your queries needs to include a HAVING clause."
            ],
            "metadata": {
                "azdata_cell_guid": "1ba1363a-4f02-4962-a95a-93b80c5926b1"
            },
            "attachments": {}
        },
        {
            "cell_type": "code",
            "source": [
                "-- Event 1 Query\r\n",
                "USE \r\n",
                "    BooksDB\r\n",
                "SELECT \r\n",
                "    book_tags.tag_id AS 'TAG ID' ,tags.tag_name AS 'TAG NAME', SUM(book_tags.count) AS 'TAG COUNT'\r\n",
                "FROM \r\n",
                "    book_tags\r\n",
                "INNER JOIN \r\n",
                "    tags\r\n",
                "ON \r\n",
                "    book_tags.tag_id=tags.tag_id\r\n",
                "GROUP by \r\n",
                "    book_tags.tag_id, tags.tag_name \r\n",
                "HAVING \r\n",
                "    tag_name LIKE '%love%' or tag_name LIKE '%valentine%'\r\n",
                "ORDER BY \r\n",
                "    SUM(book_tags.count) DESC;"
            ],
            "metadata": {
                "azdata_cell_guid": "f50d32ce-4cb2-4af2-acb1-607777a76cf8",
                "language": "sql"
            },
            "outputs": [
                {
                    "output_type": "display_data",
                    "data": {
                        "text/html": "(167 rows affected)"
                    },
                    "metadata": {}
                },
                {
                    "output_type": "display_data",
                    "data": {
                        "text/html": "Total execution time: 00:00:38.720"
                    },
                    "metadata": {}
                },
                {
                    "output_type": "execute_result",
                    "execution_count": 50,
                    "data": {
                        "application/vnd.dataresource+json": {
                            "schema": {
                                "fields": [
                                    {
                                        "name": "TAG ID"
                                    },
                                    {
                                        "name": "TAG NAME"
                                    },
                                    {
                                        "name": "TAG COUNT"
                                    }
                                ]
                            },
                            "data": [
                                {
                                    "0": "18640",
                                    "1": "love",
                                    "2": "46686"
                                },
                                {
                                    "0": "18668",
                                    "1": "love-triangle",
                                    "2": "23758"
                                },
                                {
                                    "0": "18680",
                                    "1": "loved",
                                    "2": "13450"
                                },
                                {
                                    "0": "8408",
                                    "1": "cover-love",
                                    "2": "11761"
                                },
                                {
                                    "0": "12598",
                                    "1": "friends-to-lovers",
                                    "2": "8411"
                                },
                                {
                                    "0": "18682",
                                    "1": "loved-it",
                                    "2": "5756"
                                },
                                {
                                    "0": "10615",
                                    "1": "enemies-to-lovers",
                                    "2": "4132"
                                },
                                {
                                    "0": "18663",
                                    "1": "love-stories",
                                    "2": "3940"
                                },
                                {
                                    "0": "12334",
                                    "1": "forbidden-love",
                                    "2": "3901"
                                },
                                {
                                    "0": "18664",
                                    "1": "love-story",
                                    "2": "3878"
                                },
                                {
                                    "0": "18670",
                                    "1": "love-triangles",
                                    "2": "2765"
                                },
                                {
                                    "0": "18652",
                                    "1": "love-hate",
                                    "2": "1300"
                                },
                                {
                                    "0": "15646",
                                    "1": "insta-love",
                                    "2": "1228"
                                },
                                {
                                    "0": "32448",
                                    "1": "wicked-lovely",
                                    "2": "783"
                                },
                                {
                                    "0": "18653",
                                    "1": "love-hate-relationship",
                                    "2": "522"
                                },
                                {
                                    "0": "18677",
                                    "1": "lovecraftian",
                                    "2": "383"
                                },
                                {
                                    "0": "27017",
                                    "1": "second-chance-love",
                                    "2": "333"
                                },
                                {
                                    "0": "5197",
                                    "1": "books-i-love",
                                    "2": "320"
                                },
                                {
                                    "0": "18673",
                                    "1": "lovecraft",
                                    "2": "309"
                                },
                                {
                                    "0": "33148",
                                    "1": "young-love",
                                    "2": "212"
                                },
                                {
                                    "0": "14050",
                                    "1": "hate-to-love",
                                    "2": "183"
                                },
                                {
                                    "0": "32449",
                                    "1": "wicked-lovely-series",
                                    "2": "173"
                                },
                                {
                                    "0": "18667",
                                    "1": "love-the-cover",
                                    "2": "169"
                                },
                                {
                                    "0": "31578",
                                    "1": "unrequited-love",
                                    "2": "164"
                                },
                                {
                                    "0": "7674",
                                    "1": "college-love",
                                    "2": "145"
                                },
                                {
                                    "0": "13828",
                                    "1": "h-p-lovecraft",
                                    "2": "143"
                                },
                                {
                                    "0": "5200",
                                    "1": "books-i-loved-as-a-kid",
                                    "2": "137"
                                },
                                {
                                    "0": "18645",
                                    "1": "love-at-stake",
                                    "2": "128"
                                },
                                {
                                    "0": "18655",
                                    "1": "love-it",
                                    "2": "107"
                                },
                                {
                                    "0": "18656",
                                    "1": "love-love-love",
                                    "2": "84"
                                },
                                {
                                    "0": "14952",
                                    "1": "hp-lovecraft",
                                    "2": "74"
                                },
                                {
                                    "0": "18658",
                                    "1": "love-me-with-lies",
                                    "2": "69"
                                },
                                {
                                    "0": "5198",
                                    "1": "books-i-loved",
                                    "2": "59"
                                },
                                {
                                    "0": "32450",
                                    "1": "wicked-lovers",
                                    "2": "57"
                                },
                                {
                                    "0": "18688",
                                    "1": "loveozya",
                                    "2": "47"
                                },
                                {
                                    "0": "18646",
                                    "1": "love-at-stake-series",
                                    "2": "45"
                                },
                                {
                                    "0": "32438",
                                    "1": "why-men-love-bitches",
                                    "2": "40"
                                },
                                {
                                    "0": "7042",
                                    "1": "chocolate-lovers",
                                    "2": "39"
                                },
                                {
                                    "0": "25547",
                                    "1": "redeeming-love",
                                    "2": "38"
                                },
                                {
                                    "0": "19924",
                                    "1": "michelle-a-valentine",
                                    "2": "33"
                                },
                                {
                                    "0": "12041",
                                    "1": "first-love",
                                    "2": "30"
                                },
                                {
                                    "0": "18610",
                                    "1": "lost-love",
                                    "2": "26"
                                },
                                {
                                    "0": "29040",
                                    "1": "surrender-your-love",
                                    "2": "26"
                                },
                                {
                                    "0": "23236",
                                    "1": "penguin-great-loves",
                                    "2": "26"
                                },
                                {
                                    "0": "27932",
                                    "1": "slovenia",
                                    "2": "24"
                                },
                                {
                                    "0": "18641",
                                    "1": "love-and-marriage",
                                    "2": "24"
                                },
                                {
                                    "0": "18642",
                                    "1": "love-and-relationships",
                                    "2": "22"
                                },
                                {
                                    "0": "32451",
                                    "1": "wicked-lovers-series",
                                    "2": "21"
                                },
                                {
                                    "0": "19931",
                                    "1": "michelle-valentine",
                                    "2": "21"
                                },
                                {
                                    "0": "18650",
                                    "1": "love-comes-softly",
                                    "2": "20"
                                },
                                {
                                    "0": "29041",
                                    "1": "surrender-your-love-series",
                                    "2": "19"
                                },
                                {
                                    "0": "11877",
                                    "1": "fighting-for-love",
                                    "2": "18"
                                },
                                {
                                    "0": "8413",
                                    "1": "coverly-love",
                                    "2": "18"
                                },
                                {
                                    "0": "8462",
                                    "1": "crazy-love",
                                    "2": "15"
                                },
                                {
                                    "0": "27253",
                                    "1": "series-i-love",
                                    "2": "15"
                                },
                                {
                                    "0": "27115",
                                    "1": "self-love",
                                    "2": "14"
                                },
                                {
                                    "0": "15648",
                                    "1": "instalove",
                                    "2": "14"
                                },
                                {
                                    "0": "18648",
                                    "1": "love-by-numbers",
                                    "2": "13"
                                },
                                {
                                    "0": "18691",
                                    "1": "lovey-dovey",
                                    "2": "13"
                                },
                                {
                                    "0": "18654",
                                    "1": "love-hina",
                                    "2": "13"
                                },
                                {
                                    "0": "8173",
                                    "1": "cookbooks-i-love",
                                    "2": "13"
                                },
                                {
                                    "0": "18611",
                                    "1": "lost-love-series",
                                    "2": "13"
                                },
                                {
                                    "0": "18659",
                                    "1": "love-of-reading",
                                    "2": "13"
                                },
                                {
                                    "0": "18666",
                                    "1": "love-that-dog",
                                    "2": "12"
                                },
                                {
                                    "0": "15188",
                                    "1": "i-too-had-a-love-story",
                                    "2": "12"
                                },
                                {
                                    "0": "18661",
                                    "1": "love-romance",
                                    "2": "12"
                                },
                                {
                                    "0": "13775",
                                    "1": "guess-how-much-i-love-you",
                                    "2": "11"
                                },
                                {
                                    "0": "11206",
                                    "1": "fallen-in-love",
                                    "2": "11"
                                },
                                {
                                    "0": "27323",
                                    "1": "series-wicked-lovely",
                                    "2": "11"
                                },
                                {
                                    "0": "18871",
                                    "1": "mafia-love",
                                    "2": "10"
                                },
                                {
                                    "0": "17737",
                                    "1": "lawyers-in-love",
                                    "2": "10"
                                },
                                {
                                    "0": "18689",
                                    "1": "lovesick-maidens",
                                    "2": "10"
                                },
                                {
                                    "0": "18651",
                                    "1": "love-comes-softly-series",
                                    "2": "10"
                                },
                                {
                                    "0": "27272",
                                    "1": "series-love-at-stake",
                                    "2": "10"
                                },
                                {
                                    "0": "19480",
                                    "1": "maud-hart-lovelace",
                                    "2": "9"
                                },
                                {
                                    "0": "14049",
                                    "1": "hate-love",
                                    "2": "9"
                                },
                                {
                                    "0": "25024",
                                    "1": "read-and-loved",
                                    "2": "9"
                                },
                                {
                                    "0": "6164",
                                    "1": "can-love-happen-twice",
                                    "2": "9"
                                },
                                {
                                    "0": "1631",
                                    "1": "adoption-families-foster-homes-love",
                                    "2": "9"
                                },
                                {
                                    "0": "13238",
                                    "1": "girls-in-love",
                                    "2": "8"
                                },
                                {
                                    "0": "6643",
                                    "1": "charlie-lovett",
                                    "2": "8"
                                },
                                {
                                    "0": "5831",
                                    "1": "brotherly-love",
                                    "2": "8"
                                },
                                {
                                    "0": "2800",
                                    "1": "apple-love",
                                    "2": "8"
                                },
                                {
                                    "0": "2560",
                                    "1": "animal-lovers",
                                    "2": "8"
                                },
                                {
                                    "0": "2559",
                                    "1": "animal-lover",
                                    "2": "8"
                                },
                                {
                                    "0": "2080",
                                    "1": "all-love",
                                    "2": "8"
                                },
                                {
                                    "0": "18644",
                                    "1": "love-anthony",
                                    "2": "7"
                                },
                                {
                                    "0": "1343",
                                    "1": "a-love-story",
                                    "2": "7"
                                },
                                {
                                    "0": "13628",
                                    "1": "great-loves",
                                    "2": "6"
                                },
                                {
                                    "0": "10738",
                                    "1": "epic-love-story",
                                    "2": "6"
                                },
                                {
                                    "0": "18686",
                                    "1": "lovely-complex",
                                    "2": "6"
                                },
                                {
                                    "0": "4249",
                                    "1": "beloved-books",
                                    "2": "6"
                                },
                                {
                                    "0": "22207",
                                    "1": "of-course-i-love-you",
                                    "2": "5"
                                },
                                {
                                    "0": "18649",
                                    "1": "love-com",
                                    "2": "5"
                                },
                                {
                                    "0": "8743",
                                    "1": "cute-love-story",
                                    "2": "5"
                                },
                                {
                                    "0": "18657",
                                    "1": "love-marriage",
                                    "2": "5"
                                },
                                {
                                    "0": "28961",
                                    "1": "summer-love",
                                    "2": "5"
                                },
                                {
                                    "0": "5199",
                                    "1": "books-i-loved-as-a-child",
                                    "2": "5"
                                },
                                {
                                    "0": "18681",
                                    "1": "loved-as-a-kid",
                                    "2": "5"
                                },
                                {
                                    "0": "18678",
                                    "1": "lovecraftian-horror",
                                    "2": "5"
                                },
                                {
                                    "0": "1492",
                                    "1": "absolutely-loved",
                                    "2": "5"
                                },
                                {
                                    "0": "20488",
                                    "1": "most-beloved",
                                    "2": "4"
                                },
                                {
                                    "0": "22172",
                                    "1": "obsessive-love",
                                    "2": "4"
                                },
                                {
                                    "0": "22338",
                                    "1": "on-love",
                                    "2": "4"
                                },
                                {
                                    "0": "28091",
                                    "1": "someone-to-love",
                                    "2": "4"
                                },
                                {
                                    "0": "4248",
                                    "1": "beloved",
                                    "2": "4"
                                },
                                {
                                    "0": "12335",
                                    "1": "forbidden-love-affair",
                                    "2": "4"
                                },
                                {
                                    "0": "18675",
                                    "1": "lovecraft-h-p",
                                    "2": "3"
                                },
                                {
                                    "0": "6165",
                                    "1": "can-love-happens-twice",
                                    "2": "3"
                                },
                                {
                                    "0": "3749",
                                    "1": "baby-love",
                                    "2": "3"
                                },
                                {
                                    "0": "9677",
                                    "1": "dog-lover",
                                    "2": "3"
                                },
                                {
                                    "0": "18643",
                                    "1": "love-and-romance",
                                    "2": "3"
                                },
                                {
                                    "0": "17130",
                                    "1": "kids-books-i-love",
                                    "2": "3"
                                },
                                {
                                    "0": "29950",
                                    "1": "the-mastery-of-love",
                                    "2": "3"
                                },
                                {
                                    "0": "27326",
                                    "1": "seriesandauthorsilove",
                                    "2": "2"
                                },
                                {
                                    "0": "5401",
                                    "1": "books-to-love",
                                    "2": "2"
                                },
                                {
                                    "0": "6859",
                                    "1": "children-and-children-s-book-lovers",
                                    "2": "2"
                                },
                                {
                                    "0": "6896",
                                    "1": "children-s-books-i-love",
                                    "2": "2"
                                },
                                {
                                    "0": "8141",
                                    "1": "cookbook-love",
                                    "2": "2"
                                },
                                {
                                    "0": "26157",
                                    "1": "romance-love",
                                    "2": "2"
                                },
                                {
                                    "0": "12324",
                                    "1": "for-the-love-of-twilight",
                                    "2": "2"
                                },
                                {
                                    "0": "22208",
                                    "1": "of-course-i-love-you-till-i-find-so",
                                    "2": "2"
                                },
                                {
                                    "0": "15158",
                                    "1": "i-love-animals",
                                    "2": "2"
                                },
                                {
                                    "0": "4997",
                                    "1": "book-lovers-calendar",
                                    "2": "2"
                                },
                                {
                                    "0": "29861",
                                    "1": "the-i-love-books",
                                    "2": "2"
                                },
                                {
                                    "0": "20609",
                                    "1": "much-loved",
                                    "2": "2"
                                },
                                {
                                    "0": "15161",
                                    "1": "i-loved-the-book-if-you-need-a-good",
                                    "2": "2"
                                },
                                {
                                    "0": "30727",
                                    "1": "to-read-lovecraft",
                                    "2": "2"
                                },
                                {
                                    "0": "18690",
                                    "1": "lovestory",
                                    "2": "2"
                                },
                                {
                                    "0": "18660",
                                    "1": "love-relationships",
                                    "2": "2"
                                },
                                {
                                    "0": "31711",
                                    "1": "valentine-s-day",
                                    "2": "2"
                                },
                                {
                                    "0": "18662",
                                    "1": "love-sex-money",
                                    "2": "2"
                                },
                                {
                                    "0": "18669",
                                    "1": "love-triangle-it-is-complicated",
                                    "2": "2"
                                },
                                {
                                    "0": "18679",
                                    "1": "lovecraftian-mythos",
                                    "2": "2"
                                },
                                {
                                    "0": "18672",
                                    "1": "love-you-to-death",
                                    "2": "2"
                                },
                                {
                                    "0": "29988",
                                    "1": "the-ones-i-loved",
                                    "2": "1"
                                },
                                {
                                    "0": "30022",
                                    "1": "the-power-of-love",
                                    "2": "1"
                                },
                                {
                                    "0": "4722",
                                    "1": "black-love",
                                    "2": "1"
                                },
                                {
                                    "0": "4250",
                                    "1": "beloved-by-me",
                                    "2": "1"
                                },
                                {
                                    "0": "32383",
                                    "1": "what-i-love-best",
                                    "2": "1"
                                },
                                {
                                    "0": "5271",
                                    "1": "books-i-would-love-to-burn",
                                    "2": "1"
                                },
                                {
                                    "0": "28867",
                                    "1": "stuff-i-loved",
                                    "2": "1"
                                },
                                {
                                    "0": "4060",
                                    "1": "be-the-writer-you-love",
                                    "2": "1"
                                },
                                {
                                    "0": "5383",
                                    "1": "books-that-i-love",
                                    "2": "1"
                                },
                                {
                                    "0": "1100",
                                    "1": "48-days-to-the-work-you-love",
                                    "2": "1"
                                },
                                {
                                    "0": "1080",
                                    "1": "4-stars-loved-it",
                                    "2": "1"
                                },
                                {
                                    "0": "59",
                                    "1": "0-love-funny",
                                    "2": "1"
                                },
                                {
                                    "0": "6481",
                                    "1": "cee-loves",
                                    "2": "1"
                                },
                                {
                                    "0": "26201",
                                    "1": "romantic-love-stories",
                                    "2": "1"
                                },
                                {
                                    "0": "8415",
                                    "1": "covers-i-love",
                                    "2": "1"
                                },
                                {
                                    "0": "25221",
                                    "1": "read-loved",
                                    "2": "1"
                                },
                                {
                                    "0": "15159",
                                    "1": "i-love-fiction-too",
                                    "2": "1"
                                },
                                {
                                    "0": "20855",
                                    "1": "my-lovely-book-x1f49e",
                                    "2": "1"
                                },
                                {
                                    "0": "20634",
                                    "1": "multiple-lovers",
                                    "2": "1"
                                },
                                {
                                    "0": "20489",
                                    "1": "most-beloved-books",
                                    "2": "1"
                                },
                                {
                                    "0": "15160",
                                    "1": "i-love-vampire",
                                    "2": "1"
                                },
                                {
                                    "0": "15382",
                                    "1": "in-love-w-the-main-character-s",
                                    "2": "1"
                                },
                                {
                                    "0": "15647",
                                    "1": "insta-love-or-lust-baby",
                                    "2": "1"
                                },
                                {
                                    "0": "18647",
                                    "1": "love-books",
                                    "2": "1"
                                },
                                {
                                    "0": "18687",
                                    "1": "lovely-intriguing",
                                    "2": "1"
                                },
                                {
                                    "0": "18685",
                                    "1": "lovely",
                                    "2": "1"
                                },
                                {
                                    "0": "18684",
                                    "1": "loved-these",
                                    "2": "1"
                                },
                                {
                                    "0": "18683",
                                    "1": "loved-some-recent-some-long-ago",
                                    "2": "1"
                                },
                                {
                                    "0": "18665",
                                    "1": "love-story-1",
                                    "2": "1"
                                },
                                {
                                    "0": "18671",
                                    "1": "love-triangles-i-hate",
                                    "2": "1"
                                },
                                {
                                    "0": "18674",
                                    "1": "lovecraft-and-lovecraftian-circle",
                                    "2": "1"
                                },
                                {
                                    "0": "18676",
                                    "1": "lovecraft-weird-horror",
                                    "2": "1"
                                }
                            ]
                        },
                        "text/html": "<table><tr><th>TAG ID</th><th>TAG NAME</th><th>TAG COUNT</th></tr><tr><td>18640</td><td>love</td><td>46686</td></tr><tr><td>18668</td><td>love-triangle</td><td>23758</td></tr><tr><td>18680</td><td>loved</td><td>13450</td></tr><tr><td>8408</td><td>cover-love</td><td>11761</td></tr><tr><td>12598</td><td>friends-to-lovers</td><td>8411</td></tr><tr><td>18682</td><td>loved-it</td><td>5756</td></tr><tr><td>10615</td><td>enemies-to-lovers</td><td>4132</td></tr><tr><td>18663</td><td>love-stories</td><td>3940</td></tr><tr><td>12334</td><td>forbidden-love</td><td>3901</td></tr><tr><td>18664</td><td>love-story</td><td>3878</td></tr><tr><td>18670</td><td>love-triangles</td><td>2765</td></tr><tr><td>18652</td><td>love-hate</td><td>1300</td></tr><tr><td>15646</td><td>insta-love</td><td>1228</td></tr><tr><td>32448</td><td>wicked-lovely</td><td>783</td></tr><tr><td>18653</td><td>love-hate-relationship</td><td>522</td></tr><tr><td>18677</td><td>lovecraftian</td><td>383</td></tr><tr><td>27017</td><td>second-chance-love</td><td>333</td></tr><tr><td>5197</td><td>books-i-love</td><td>320</td></tr><tr><td>18673</td><td>lovecraft</td><td>309</td></tr><tr><td>33148</td><td>young-love</td><td>212</td></tr><tr><td>14050</td><td>hate-to-love</td><td>183</td></tr><tr><td>32449</td><td>wicked-lovely-series</td><td>173</td></tr><tr><td>18667</td><td>love-the-cover</td><td>169</td></tr><tr><td>31578</td><td>unrequited-love</td><td>164</td></tr><tr><td>7674</td><td>college-love</td><td>145</td></tr><tr><td>13828</td><td>h-p-lovecraft</td><td>143</td></tr><tr><td>5200</td><td>books-i-loved-as-a-kid</td><td>137</td></tr><tr><td>18645</td><td>love-at-stake</td><td>128</td></tr><tr><td>18655</td><td>love-it</td><td>107</td></tr><tr><td>18656</td><td>love-love-love</td><td>84</td></tr><tr><td>14952</td><td>hp-lovecraft</td><td>74</td></tr><tr><td>18658</td><td>love-me-with-lies</td><td>69</td></tr><tr><td>5198</td><td>books-i-loved</td><td>59</td></tr><tr><td>32450</td><td>wicked-lovers</td><td>57</td></tr><tr><td>18688</td><td>loveozya</td><td>47</td></tr><tr><td>18646</td><td>love-at-stake-series</td><td>45</td></tr><tr><td>32438</td><td>why-men-love-bitches</td><td>40</td></tr><tr><td>7042</td><td>chocolate-lovers</td><td>39</td></tr><tr><td>25547</td><td>redeeming-love</td><td>38</td></tr><tr><td>19924</td><td>michelle-a-valentine</td><td>33</td></tr><tr><td>12041</td><td>first-love</td><td>30</td></tr><tr><td>18610</td><td>lost-love</td><td>26</td></tr><tr><td>29040</td><td>surrender-your-love</td><td>26</td></tr><tr><td>23236</td><td>penguin-great-loves</td><td>26</td></tr><tr><td>27932</td><td>slovenia</td><td>24</td></tr><tr><td>18641</td><td>love-and-marriage</td><td>24</td></tr><tr><td>18642</td><td>love-and-relationships</td><td>22</td></tr><tr><td>32451</td><td>wicked-lovers-series</td><td>21</td></tr><tr><td>19931</td><td>michelle-valentine</td><td>21</td></tr><tr><td>18650</td><td>love-comes-softly</td><td>20</td></tr><tr><td>29041</td><td>surrender-your-love-series</td><td>19</td></tr><tr><td>11877</td><td>fighting-for-love</td><td>18</td></tr><tr><td>8413</td><td>coverly-love</td><td>18</td></tr><tr><td>8462</td><td>crazy-love</td><td>15</td></tr><tr><td>27253</td><td>series-i-love</td><td>15</td></tr><tr><td>27115</td><td>self-love</td><td>14</td></tr><tr><td>15648</td><td>instalove</td><td>14</td></tr><tr><td>18648</td><td>love-by-numbers</td><td>13</td></tr><tr><td>18691</td><td>lovey-dovey</td><td>13</td></tr><tr><td>18654</td><td>love-hina</td><td>13</td></tr><tr><td>8173</td><td>cookbooks-i-love</td><td>13</td></tr><tr><td>18611</td><td>lost-love-series</td><td>13</td></tr><tr><td>18659</td><td>love-of-reading</td><td>13</td></tr><tr><td>18666</td><td>love-that-dog</td><td>12</td></tr><tr><td>15188</td><td>i-too-had-a-love-story</td><td>12</td></tr><tr><td>18661</td><td>love-romance</td><td>12</td></tr><tr><td>13775</td><td>guess-how-much-i-love-you</td><td>11</td></tr><tr><td>11206</td><td>fallen-in-love</td><td>11</td></tr><tr><td>27323</td><td>series-wicked-lovely</td><td>11</td></tr><tr><td>18871</td><td>mafia-love</td><td>10</td></tr><tr><td>17737</td><td>lawyers-in-love</td><td>10</td></tr><tr><td>18689</td><td>lovesick-maidens</td><td>10</td></tr><tr><td>18651</td><td>love-comes-softly-series</td><td>10</td></tr><tr><td>27272</td><td>series-love-at-stake</td><td>10</td></tr><tr><td>19480</td><td>maud-hart-lovelace</td><td>9</td></tr><tr><td>14049</td><td>hate-love</td><td>9</td></tr><tr><td>25024</td><td>read-and-loved</td><td>9</td></tr><tr><td>6164</td><td>can-love-happen-twice</td><td>9</td></tr><tr><td>1631</td><td>adoption-families-foster-homes-love</td><td>9</td></tr><tr><td>13238</td><td>girls-in-love</td><td>8</td></tr><tr><td>6643</td><td>charlie-lovett</td><td>8</td></tr><tr><td>5831</td><td>brotherly-love</td><td>8</td></tr><tr><td>2800</td><td>apple-love</td><td>8</td></tr><tr><td>2560</td><td>animal-lovers</td><td>8</td></tr><tr><td>2559</td><td>animal-lover</td><td>8</td></tr><tr><td>2080</td><td>all-love</td><td>8</td></tr><tr><td>18644</td><td>love-anthony</td><td>7</td></tr><tr><td>1343</td><td>a-love-story</td><td>7</td></tr><tr><td>13628</td><td>great-loves</td><td>6</td></tr><tr><td>10738</td><td>epic-love-story</td><td>6</td></tr><tr><td>18686</td><td>lovely-complex</td><td>6</td></tr><tr><td>4249</td><td>beloved-books</td><td>6</td></tr><tr><td>22207</td><td>of-course-i-love-you</td><td>5</td></tr><tr><td>18649</td><td>love-com</td><td>5</td></tr><tr><td>8743</td><td>cute-love-story</td><td>5</td></tr><tr><td>18657</td><td>love-marriage</td><td>5</td></tr><tr><td>28961</td><td>summer-love</td><td>5</td></tr><tr><td>5199</td><td>books-i-loved-as-a-child</td><td>5</td></tr><tr><td>18681</td><td>loved-as-a-kid</td><td>5</td></tr><tr><td>18678</td><td>lovecraftian-horror</td><td>5</td></tr><tr><td>1492</td><td>absolutely-loved</td><td>5</td></tr><tr><td>20488</td><td>most-beloved</td><td>4</td></tr><tr><td>22172</td><td>obsessive-love</td><td>4</td></tr><tr><td>22338</td><td>on-love</td><td>4</td></tr><tr><td>28091</td><td>someone-to-love</td><td>4</td></tr><tr><td>4248</td><td>beloved</td><td>4</td></tr><tr><td>12335</td><td>forbidden-love-affair</td><td>4</td></tr><tr><td>18675</td><td>lovecraft-h-p</td><td>3</td></tr><tr><td>6165</td><td>can-love-happens-twice</td><td>3</td></tr><tr><td>3749</td><td>baby-love</td><td>3</td></tr><tr><td>9677</td><td>dog-lover</td><td>3</td></tr><tr><td>18643</td><td>love-and-romance</td><td>3</td></tr><tr><td>17130</td><td>kids-books-i-love</td><td>3</td></tr><tr><td>29950</td><td>the-mastery-of-love</td><td>3</td></tr><tr><td>27326</td><td>seriesandauthorsilove</td><td>2</td></tr><tr><td>5401</td><td>books-to-love</td><td>2</td></tr><tr><td>6859</td><td>children-and-children-s-book-lovers</td><td>2</td></tr><tr><td>6896</td><td>children-s-books-i-love</td><td>2</td></tr><tr><td>8141</td><td>cookbook-love</td><td>2</td></tr><tr><td>26157</td><td>romance-love</td><td>2</td></tr><tr><td>12324</td><td>for-the-love-of-twilight</td><td>2</td></tr><tr><td>22208</td><td>of-course-i-love-you-till-i-find-so</td><td>2</td></tr><tr><td>15158</td><td>i-love-animals</td><td>2</td></tr><tr><td>4997</td><td>book-lovers-calendar</td><td>2</td></tr><tr><td>29861</td><td>the-i-love-books</td><td>2</td></tr><tr><td>20609</td><td>much-loved</td><td>2</td></tr><tr><td>15161</td><td>i-loved-the-book-if-you-need-a-good</td><td>2</td></tr><tr><td>30727</td><td>to-read-lovecraft</td><td>2</td></tr><tr><td>18690</td><td>lovestory</td><td>2</td></tr><tr><td>18660</td><td>love-relationships</td><td>2</td></tr><tr><td>31711</td><td>valentine-s-day</td><td>2</td></tr><tr><td>18662</td><td>love-sex-money</td><td>2</td></tr><tr><td>18669</td><td>love-triangle-it-is-complicated</td><td>2</td></tr><tr><td>18679</td><td>lovecraftian-mythos</td><td>2</td></tr><tr><td>18672</td><td>love-you-to-death</td><td>2</td></tr><tr><td>29988</td><td>the-ones-i-loved</td><td>1</td></tr><tr><td>30022</td><td>the-power-of-love</td><td>1</td></tr><tr><td>4722</td><td>black-love</td><td>1</td></tr><tr><td>4250</td><td>beloved-by-me</td><td>1</td></tr><tr><td>32383</td><td>what-i-love-best</td><td>1</td></tr><tr><td>5271</td><td>books-i-would-love-to-burn</td><td>1</td></tr><tr><td>28867</td><td>stuff-i-loved</td><td>1</td></tr><tr><td>4060</td><td>be-the-writer-you-love</td><td>1</td></tr><tr><td>5383</td><td>books-that-i-love</td><td>1</td></tr><tr><td>1100</td><td>48-days-to-the-work-you-love</td><td>1</td></tr><tr><td>1080</td><td>4-stars-loved-it</td><td>1</td></tr><tr><td>59</td><td>0-love-funny</td><td>1</td></tr><tr><td>6481</td><td>cee-loves</td><td>1</td></tr><tr><td>26201</td><td>romantic-love-stories</td><td>1</td></tr><tr><td>8415</td><td>covers-i-love</td><td>1</td></tr><tr><td>25221</td><td>read-loved</td><td>1</td></tr><tr><td>15159</td><td>i-love-fiction-too</td><td>1</td></tr><tr><td>20855</td><td>my-lovely-book-x1f49e</td><td>1</td></tr><tr><td>20634</td><td>multiple-lovers</td><td>1</td></tr><tr><td>20489</td><td>most-beloved-books</td><td>1</td></tr><tr><td>15160</td><td>i-love-vampire</td><td>1</td></tr><tr><td>15382</td><td>in-love-w-the-main-character-s</td><td>1</td></tr><tr><td>15647</td><td>insta-love-or-lust-baby</td><td>1</td></tr><tr><td>18647</td><td>love-books</td><td>1</td></tr><tr><td>18687</td><td>lovely-intriguing</td><td>1</td></tr><tr><td>18685</td><td>lovely</td><td>1</td></tr><tr><td>18684</td><td>loved-these</td><td>1</td></tr><tr><td>18683</td><td>loved-some-recent-some-long-ago</td><td>1</td></tr><tr><td>18665</td><td>love-story-1</td><td>1</td></tr><tr><td>18671</td><td>love-triangles-i-hate</td><td>1</td></tr><tr><td>18674</td><td>lovecraft-and-lovecraftian-circle</td><td>1</td></tr><tr><td>18676</td><td>lovecraft-weird-horror</td><td>1</td></tr></table>"
                    },
                    "metadata": {}
                }
            ],
            "execution_count": 50
        },
        {
            "cell_type": "code",
            "source": [
                ""
            ],
            "metadata": {
                "azdata_cell_guid": "5606f7f2-c46b-42d3-ac64-7ae21c3394f8",
                "language": "sql"
            },
            "outputs": [],
            "execution_count": null
        },
        {
            "cell_type": "markdown",
            "source": [
                "### **Summary of event 1:**\n",
                "\n",
                "Double Click to edit."
            ],
            "metadata": {
                "azdata_cell_guid": "3bc72d4c-077b-42d3-9528-9aff8e7b6cf3"
            },
            "attachments": {}
        },
        {
            "cell_type": "code",
            "source": [
                "-- Event 2 Query\r\n",
                ""
            ],
            "metadata": {
                "azdata_cell_guid": "dca0a98f-065f-4b0e-9d93-fcb01cad668c",
                "language": "sql",
                "tags": []
            },
            "outputs": [],
            "execution_count": null
        },
        {
            "cell_type": "code",
            "source": [
                "USE \r\n",
                "    BooksDB\r\n",
                "SELECT \r\n",
                "    book_tags.tag_id AS 'TAG ID' ,tags.tag_name AS 'TAG NAME', SUM(book_tags.count) AS 'TAG COUNT'\r\n",
                "FROM \r\n",
                "    book_tags\r\n",
                "INNER JOIN \r\n",
                "    tags\r\n",
                "ON \r\n",
                "    book_tags.tag_id=tags.tag_id\r\n",
                "GROUP by \r\n",
                "    book_tags.tag_id, tags.tag_name \r\n",
                "HAVING \r\n",
                "    tag_name LIKE '%black%' or tag_name LIKE '%african%' \r\n",
                "ORDER BY \r\n",
                "    SUM(book_tags.count) DESC;"
            ],
            "metadata": {
                "azdata_cell_guid": "3aaae3a8-eff7-4b37-8970-2d913a67239b",
                "language": "sql"
            },
            "outputs": [
                {
                    "output_type": "display_data",
                    "data": {
                        "text/html": "(135 rows affected)"
                    },
                    "metadata": {}
                },
                {
                    "output_type": "display_data",
                    "data": {
                        "text/html": "Total execution time: 00:03:23.481"
                    },
                    "metadata": {}
                },
                {
                    "output_type": "execute_result",
                    "execution_count": 56,
                    "data": {
                        "application/vnd.dataresource+json": {
                            "schema": {
                                "fields": [
                                    {
                                        "name": "TAG ID"
                                    },
                                    {
                                        "name": "TAG NAME"
                                    },
                                    {
                                        "name": "TAG COUNT"
                                    }
                                ]
                            },
                            "data": [
                                {
                                    "0": "1753",
                                    "1": "african-american",
                                    "2": "13531"
                                },
                                {
                                    "0": "4696",
                                    "1": "black-dagger-brotherhood",
                                    "2": "7607"
                                },
                                {
                                    "0": "1750",
                                    "1": "african",
                                    "2": "1985"
                                },
                                {
                                    "0": "1761",
                                    "1": "african-american-lit",
                                    "2": "1678"
                                },
                                {
                                    "0": "1762",
                                    "1": "african-american-literature",
                                    "2": "1575"
                                },
                                {
                                    "0": "1774",
                                    "1": "african-literature",
                                    "2": "1342"
                                },
                                {
                                    "0": "4697",
                                    "1": "black-dagger-brotherhood-series",
                                    "2": "969"
                                },
                                {
                                    "0": "4695",
                                    "1": "black-dagger",
                                    "2": "889"
                                },
                                {
                                    "0": "1773",
                                    "1": "african-lit",
                                    "2": "732"
                                },
                                {
                                    "0": "14717",
                                    "1": "holly-black",
                                    "2": "633"
                                },
                                {
                                    "0": "4680",
                                    "1": "black",
                                    "2": "521"
                                },
                                {
                                    "0": "4708",
                                    "1": "black-history",
                                    "2": "417"
                                },
                                {
                                    "0": "27207",
                                    "1": "series-black-dagger-brotherhood",
                                    "2": "416"
                                },
                                {
                                    "0": "1758",
                                    "1": "african-american-fiction",
                                    "2": "391"
                                },
                                {
                                    "0": "4685",
                                    "1": "black-authors",
                                    "2": "336"
                                },
                                {
                                    "0": "4690",
                                    "1": "black-butler",
                                    "2": "304"
                                },
                                {
                                    "0": "1759",
                                    "1": "african-american-history",
                                    "2": "279"
                                },
                                {
                                    "0": "4718",
                                    "1": "black-lit",
                                    "2": "268"
                                },
                                {
                                    "0": "18406",
                                    "1": "little-black-classics",
                                    "2": "265"
                                },
                                {
                                    "0": "28185",
                                    "1": "south-african",
                                    "2": "235"
                                },
                                {
                                    "0": "1765",
                                    "1": "african-american-studies",
                                    "2": "208"
                                },
                                {
                                    "0": "1771",
                                    "1": "african-fiction",
                                    "2": "208"
                                },
                                {
                                    "0": "27499",
                                    "1": "shayla-black",
                                    "2": "182"
                                },
                                {
                                    "0": "4737",
                                    "1": "black-studies",
                                    "2": "179"
                                },
                                {
                                    "0": "4712",
                                    "1": "black-jewels",
                                    "2": "136"
                                },
                                {
                                    "0": "1754",
                                    "1": "african-american-authors",
                                    "2": "120"
                                },
                                {
                                    "0": "1767",
                                    "1": "african-authors",
                                    "2": "120"
                                },
                                {
                                    "0": "1772",
                                    "1": "african-history",
                                    "2": "116"
                                },
                                {
                                    "0": "4719",
                                    "1": "black-literature",
                                    "2": "104"
                                },
                                {
                                    "0": "23238",
                                    "1": "penguin-little-black-classics",
                                    "2": "92"
                                },
                                {
                                    "0": "4694",
                                    "1": "black-company",
                                    "2": "91"
                                },
                                {
                                    "0": "28188",
                                    "1": "south-african-literature",
                                    "2": "76"
                                },
                                {
                                    "0": "4721",
                                    "1": "black-lives-matter",
                                    "2": "71"
                                },
                                {
                                    "0": "4742",
                                    "1": "blackmail",
                                    "2": "66"
                                },
                                {
                                    "0": "29661",
                                    "1": "the-blackstone-affair",
                                    "2": "61"
                                },
                                {
                                    "0": "4716",
                                    "1": "black-library",
                                    "2": "61"
                                },
                                {
                                    "0": "4711",
                                    "1": "black-humor",
                                    "2": "61"
                                },
                                {
                                    "0": "29655",
                                    "1": "the-black-company",
                                    "2": "59"
                                },
                                {
                                    "0": "19008",
                                    "1": "malorie-blackman",
                                    "2": "55"
                                },
                                {
                                    "0": "29656",
                                    "1": "the-black-dagger-brotherhood",
                                    "2": "54"
                                },
                                {
                                    "0": "1766",
                                    "1": "african-americans",
                                    "2": "54"
                                },
                                {
                                    "0": "4724",
                                    "1": "black-magician",
                                    "2": "53"
                                },
                                {
                                    "0": "1777",
                                    "1": "african-writers",
                                    "2": "51"
                                },
                                {
                                    "0": "4749",
                                    "1": "blackstone-affair",
                                    "2": "50"
                                },
                                {
                                    "0": "4687",
                                    "1": "black-bird",
                                    "2": "50"
                                },
                                {
                                    "0": "1778",
                                    "1": "africana",
                                    "2": "47"
                                },
                                {
                                    "0": "16319",
                                    "1": "jenna-black",
                                    "2": "47"
                                },
                                {
                                    "0": "4698",
                                    "1": "black-dagger-legacy",
                                    "2": "45"
                                },
                                {
                                    "0": "29657",
                                    "1": "the-black-jewels",
                                    "2": "45"
                                },
                                {
                                    "0": "4705",
                                    "1": "black-fiction",
                                    "2": "44"
                                },
                                {
                                    "0": "29659",
                                    "1": "the-black-magician-trilogy",
                                    "2": "43"
                                },
                                {
                                    "0": "29549",
                                    "1": "terri-blackstock",
                                    "2": "42"
                                },
                                {
                                    "0": "4731",
                                    "1": "black-panthers",
                                    "2": "37"
                                },
                                {
                                    "0": "4693",
                                    "1": "black-comedy",
                                    "2": "32"
                                },
                                {
                                    "0": "4713",
                                    "1": "black-jewels-series",
                                    "2": "29"
                                },
                                {
                                    "0": "4702",
                                    "1": "black-falcon",
                                    "2": "28"
                                },
                                {
                                    "0": "4709",
                                    "1": "black-history-month",
                                    "2": "26"
                                },
                                {
                                    "0": "4701",
                                    "1": "black-experience",
                                    "2": "24"
                                },
                                {
                                    "0": "4727",
                                    "1": "black-migration-from-the-south",
                                    "2": "24"
                                },
                                {
                                    "0": "8057",
                                    "1": "contemporary-african-american-ficti",
                                    "2": "22"
                                },
                                {
                                    "0": "4736",
                                    "1": "black-stallion",
                                    "2": "21"
                                },
                                {
                                    "0": "4715",
                                    "1": "black-liberation",
                                    "2": "18"
                                },
                                {
                                    "0": "4744",
                                    "1": "blacks",
                                    "2": "17"
                                },
                                {
                                    "0": "4691",
                                    "1": "black-cat",
                                    "2": "17"
                                },
                                {
                                    "0": "4741",
                                    "1": "blackjack",
                                    "2": "17"
                                },
                                {
                                    "0": "4734",
                                    "1": "black-shayla",
                                    "2": "16"
                                },
                                {
                                    "0": "4725",
                                    "1": "black-males",
                                    "2": "16"
                                },
                                {
                                    "0": "4723",
                                    "1": "black-lung-disease",
                                    "2": "15"
                                },
                                {
                                    "0": "1764",
                                    "1": "african-american-romance",
                                    "2": "15"
                                },
                                {
                                    "0": "4717",
                                    "1": "black-list",
                                    "2": "15"
                                },
                                {
                                    "0": "4707",
                                    "1": "black-hills",
                                    "2": "14"
                                },
                                {
                                    "0": "4732",
                                    "1": "black-power",
                                    "2": "14"
                                },
                                {
                                    "0": "4743",
                                    "1": "blackness",
                                    "2": "14"
                                },
                                {
                                    "0": "4703",
                                    "1": "black-falcon-series",
                                    "2": "13"
                                },
                                {
                                    "0": "1768",
                                    "1": "african-childhood",
                                    "2": "12"
                                },
                                {
                                    "0": "4740",
                                    "1": "blackdagger-brotherhood",
                                    "2": "12"
                                },
                                {
                                    "0": "29660",
                                    "1": "the-black-stallion",
                                    "2": "10"
                                },
                                {
                                    "0": "4692",
                                    "1": "black-chick-lit",
                                    "2": "10"
                                },
                                {
                                    "0": "29703",
                                    "1": "the-chronicle-of-the-black-company",
                                    "2": "10"
                                },
                                {
                                    "0": "15981",
                                    "1": "j-r-ward-black-dagger-brotherhood",
                                    "2": "9"
                                },
                                {
                                    "0": "4739",
                                    "1": "black-white-relationships",
                                    "2": "9"
                                },
                                {
                                    "0": "1757",
                                    "1": "african-american-experience",
                                    "2": "8"
                                },
                                {
                                    "0": "12576",
                                    "1": "french-spanish-black-cultural-fusio",
                                    "2": "8"
                                },
                                {
                                    "0": "4689",
                                    "1": "black-boy",
                                    "2": "8"
                                },
                                {
                                    "0": "4714",
                                    "1": "black-jewels-trilogy",
                                    "2": "7"
                                },
                                {
                                    "0": "1769",
                                    "1": "african-culture",
                                    "2": "7"
                                },
                                {
                                    "0": "24790",
                                    "1": "r-d-blackmore",
                                    "2": "7"
                                },
                                {
                                    "0": "8658",
                                    "1": "cultural-african-american",
                                    "2": "7"
                                },
                                {
                                    "0": "4704",
                                    "1": "black-feminism",
                                    "2": "6"
                                },
                                {
                                    "0": "1776",
                                    "1": "african-studies",
                                    "2": "6"
                                },
                                {
                                    "0": "28187",
                                    "1": "south-african-lit",
                                    "2": "6"
                                },
                                {
                                    "0": "28186",
                                    "1": "south-african-fiction",
                                    "2": "6"
                                },
                                {
                                    "0": "4745",
                                    "1": "blacksmithing",
                                    "2": "6"
                                },
                                {
                                    "0": "7269",
                                    "1": "chronicles-of-the-black-company",
                                    "2": "6"
                                },
                                {
                                    "0": "6366",
                                    "1": "cassie-black",
                                    "2": "6"
                                },
                                {
                                    "0": "1770",
                                    "1": "african-diaspora",
                                    "2": "5"
                                },
                                {
                                    "0": "1775",
                                    "1": "african-slaves",
                                    "2": "5"
                                },
                                {
                                    "0": "4728",
                                    "1": "black-ops",
                                    "2": "5"
                                },
                                {
                                    "0": "29658",
                                    "1": "the-black-library",
                                    "2": "4"
                                },
                                {
                                    "0": "27945",
                                    "1": "small-black-bookcase",
                                    "2": "4"
                                },
                                {
                                    "0": "4747",
                                    "1": "blackstock-terri",
                                    "2": "4"
                                },
                                {
                                    "0": "4746",
                                    "1": "blackstock",
                                    "2": "4"
                                },
                                {
                                    "0": "4688",
                                    "1": "black-books",
                                    "2": "4"
                                },
                                {
                                    "0": "4681",
                                    "1": "black-america",
                                    "2": "4"
                                },
                                {
                                    "0": "1763",
                                    "1": "african-american-memoir",
                                    "2": "4"
                                },
                                {
                                    "0": "4733",
                                    "1": "black-romance",
                                    "2": "3"
                                },
                                {
                                    "0": "4729",
                                    "1": "black-ops-woman-team-cia-sean-case",
                                    "2": "3"
                                },
                                {
                                    "0": "4726",
                                    "1": "black-mc",
                                    "2": "3"
                                },
                                {
                                    "0": "4699",
                                    "1": "black-death",
                                    "2": "3"
                                },
                                {
                                    "0": "4684",
                                    "1": "black-author",
                                    "2": "3"
                                },
                                {
                                    "0": "4682",
                                    "1": "black-american-lit",
                                    "2": "3"
                                },
                                {
                                    "0": "13610",
                                    "1": "great-african-reads",
                                    "2": "2"
                                },
                                {
                                    "0": "4730",
                                    "1": "black-panther-party",
                                    "2": "2"
                                },
                                {
                                    "0": "4720",
                                    "1": "black-lives",
                                    "2": "2"
                                },
                                {
                                    "0": "29558",
                                    "1": "terry-blackstock",
                                    "2": "2"
                                },
                                {
                                    "0": "1760",
                                    "1": "african-american-interest",
                                    "2": "2"
                                },
                                {
                                    "0": "1756",
                                    "1": "african-american-classics",
                                    "2": "2"
                                },
                                {
                                    "0": "1752",
                                    "1": "african-america",
                                    "2": "2"
                                },
                                {
                                    "0": "29887",
                                    "1": "the-kindle-black-hole",
                                    "2": "2"
                                },
                                {
                                    "0": "4748",
                                    "1": "blackstock_terri",
                                    "2": "1"
                                },
                                {
                                    "0": "4750",
                                    "1": "blackwell-philosophy",
                                    "2": "1"
                                },
                                {
                                    "0": "6269",
                                    "1": "carefreeblackfolks",
                                    "2": "1"
                                },
                                {
                                    "0": "4738",
                                    "1": "black-urban-fiction",
                                    "2": "1"
                                },
                                {
                                    "0": "4735",
                                    "1": "black-spines",
                                    "2": "1"
                                },
                                {
                                    "0": "4722",
                                    "1": "black-love",
                                    "2": "1"
                                },
                                {
                                    "0": "20762",
                                    "1": "my-black-red-series",
                                    "2": "1"
                                },
                                {
                                    "0": "4710",
                                    "1": "black-history-read",
                                    "2": "1"
                                },
                                {
                                    "0": "4706",
                                    "1": "black-fire",
                                    "2": "1"
                                },
                                {
                                    "0": "4700",
                                    "1": "black-diamond",
                                    "2": "1"
                                },
                                {
                                    "0": "4686",
                                    "1": "black-authors-subjects",
                                    "2": "1"
                                },
                                {
                                    "0": "4683",
                                    "1": "black-and-white-photography",
                                    "2": "1"
                                },
                                {
                                    "0": "1755",
                                    "1": "african-american-books",
                                    "2": "1"
                                },
                                {
                                    "0": "1751",
                                    "1": "african-afro-american",
                                    "2": "1"
                                },
                                {
                                    "0": "1643",
                                    "1": "adult-african-american-fiction",
                                    "2": "1"
                                },
                                {
                                    "0": "97",
                                    "1": "02-black-exp",
                                    "2": "1"
                                }
                            ]
                        },
                        "text/html": "<table><tr><th>TAG ID</th><th>TAG NAME</th><th>TAG COUNT</th></tr><tr><td>1753</td><td>african-american</td><td>13531</td></tr><tr><td>4696</td><td>black-dagger-brotherhood</td><td>7607</td></tr><tr><td>1750</td><td>african</td><td>1985</td></tr><tr><td>1761</td><td>african-american-lit</td><td>1678</td></tr><tr><td>1762</td><td>african-american-literature</td><td>1575</td></tr><tr><td>1774</td><td>african-literature</td><td>1342</td></tr><tr><td>4697</td><td>black-dagger-brotherhood-series</td><td>969</td></tr><tr><td>4695</td><td>black-dagger</td><td>889</td></tr><tr><td>1773</td><td>african-lit</td><td>732</td></tr><tr><td>14717</td><td>holly-black</td><td>633</td></tr><tr><td>4680</td><td>black</td><td>521</td></tr><tr><td>4708</td><td>black-history</td><td>417</td></tr><tr><td>27207</td><td>series-black-dagger-brotherhood</td><td>416</td></tr><tr><td>1758</td><td>african-american-fiction</td><td>391</td></tr><tr><td>4685</td><td>black-authors</td><td>336</td></tr><tr><td>4690</td><td>black-butler</td><td>304</td></tr><tr><td>1759</td><td>african-american-history</td><td>279</td></tr><tr><td>4718</td><td>black-lit</td><td>268</td></tr><tr><td>18406</td><td>little-black-classics</td><td>265</td></tr><tr><td>28185</td><td>south-african</td><td>235</td></tr><tr><td>1765</td><td>african-american-studies</td><td>208</td></tr><tr><td>1771</td><td>african-fiction</td><td>208</td></tr><tr><td>27499</td><td>shayla-black</td><td>182</td></tr><tr><td>4737</td><td>black-studies</td><td>179</td></tr><tr><td>4712</td><td>black-jewels</td><td>136</td></tr><tr><td>1754</td><td>african-american-authors</td><td>120</td></tr><tr><td>1767</td><td>african-authors</td><td>120</td></tr><tr><td>1772</td><td>african-history</td><td>116</td></tr><tr><td>4719</td><td>black-literature</td><td>104</td></tr><tr><td>23238</td><td>penguin-little-black-classics</td><td>92</td></tr><tr><td>4694</td><td>black-company</td><td>91</td></tr><tr><td>28188</td><td>south-african-literature</td><td>76</td></tr><tr><td>4721</td><td>black-lives-matter</td><td>71</td></tr><tr><td>4742</td><td>blackmail</td><td>66</td></tr><tr><td>29661</td><td>the-blackstone-affair</td><td>61</td></tr><tr><td>4716</td><td>black-library</td><td>61</td></tr><tr><td>4711</td><td>black-humor</td><td>61</td></tr><tr><td>29655</td><td>the-black-company</td><td>59</td></tr><tr><td>19008</td><td>malorie-blackman</td><td>55</td></tr><tr><td>29656</td><td>the-black-dagger-brotherhood</td><td>54</td></tr><tr><td>1766</td><td>african-americans</td><td>54</td></tr><tr><td>4724</td><td>black-magician</td><td>53</td></tr><tr><td>1777</td><td>african-writers</td><td>51</td></tr><tr><td>4749</td><td>blackstone-affair</td><td>50</td></tr><tr><td>4687</td><td>black-bird</td><td>50</td></tr><tr><td>1778</td><td>africana</td><td>47</td></tr><tr><td>16319</td><td>jenna-black</td><td>47</td></tr><tr><td>4698</td><td>black-dagger-legacy</td><td>45</td></tr><tr><td>29657</td><td>the-black-jewels</td><td>45</td></tr><tr><td>4705</td><td>black-fiction</td><td>44</td></tr><tr><td>29659</td><td>the-black-magician-trilogy</td><td>43</td></tr><tr><td>29549</td><td>terri-blackstock</td><td>42</td></tr><tr><td>4731</td><td>black-panthers</td><td>37</td></tr><tr><td>4693</td><td>black-comedy</td><td>32</td></tr><tr><td>4713</td><td>black-jewels-series</td><td>29</td></tr><tr><td>4702</td><td>black-falcon</td><td>28</td></tr><tr><td>4709</td><td>black-history-month</td><td>26</td></tr><tr><td>4701</td><td>black-experience</td><td>24</td></tr><tr><td>4727</td><td>black-migration-from-the-south</td><td>24</td></tr><tr><td>8057</td><td>contemporary-african-american-ficti</td><td>22</td></tr><tr><td>4736</td><td>black-stallion</td><td>21</td></tr><tr><td>4715</td><td>black-liberation</td><td>18</td></tr><tr><td>4744</td><td>blacks</td><td>17</td></tr><tr><td>4691</td><td>black-cat</td><td>17</td></tr><tr><td>4741</td><td>blackjack</td><td>17</td></tr><tr><td>4734</td><td>black-shayla</td><td>16</td></tr><tr><td>4725</td><td>black-males</td><td>16</td></tr><tr><td>4723</td><td>black-lung-disease</td><td>15</td></tr><tr><td>1764</td><td>african-american-romance</td><td>15</td></tr><tr><td>4717</td><td>black-list</td><td>15</td></tr><tr><td>4707</td><td>black-hills</td><td>14</td></tr><tr><td>4732</td><td>black-power</td><td>14</td></tr><tr><td>4743</td><td>blackness</td><td>14</td></tr><tr><td>4703</td><td>black-falcon-series</td><td>13</td></tr><tr><td>1768</td><td>african-childhood</td><td>12</td></tr><tr><td>4740</td><td>blackdagger-brotherhood</td><td>12</td></tr><tr><td>29660</td><td>the-black-stallion</td><td>10</td></tr><tr><td>4692</td><td>black-chick-lit</td><td>10</td></tr><tr><td>29703</td><td>the-chronicle-of-the-black-company</td><td>10</td></tr><tr><td>15981</td><td>j-r-ward-black-dagger-brotherhood</td><td>9</td></tr><tr><td>4739</td><td>black-white-relationships</td><td>9</td></tr><tr><td>1757</td><td>african-american-experience</td><td>8</td></tr><tr><td>12576</td><td>french-spanish-black-cultural-fusio</td><td>8</td></tr><tr><td>4689</td><td>black-boy</td><td>8</td></tr><tr><td>4714</td><td>black-jewels-trilogy</td><td>7</td></tr><tr><td>1769</td><td>african-culture</td><td>7</td></tr><tr><td>24790</td><td>r-d-blackmore</td><td>7</td></tr><tr><td>8658</td><td>cultural-african-american</td><td>7</td></tr><tr><td>4704</td><td>black-feminism</td><td>6</td></tr><tr><td>1776</td><td>african-studies</td><td>6</td></tr><tr><td>28187</td><td>south-african-lit</td><td>6</td></tr><tr><td>28186</td><td>south-african-fiction</td><td>6</td></tr><tr><td>4745</td><td>blacksmithing</td><td>6</td></tr><tr><td>7269</td><td>chronicles-of-the-black-company</td><td>6</td></tr><tr><td>6366</td><td>cassie-black</td><td>6</td></tr><tr><td>1770</td><td>african-diaspora</td><td>5</td></tr><tr><td>1775</td><td>african-slaves</td><td>5</td></tr><tr><td>4728</td><td>black-ops</td><td>5</td></tr><tr><td>29658</td><td>the-black-library</td><td>4</td></tr><tr><td>27945</td><td>small-black-bookcase</td><td>4</td></tr><tr><td>4747</td><td>blackstock-terri</td><td>4</td></tr><tr><td>4746</td><td>blackstock</td><td>4</td></tr><tr><td>4688</td><td>black-books</td><td>4</td></tr><tr><td>4681</td><td>black-america</td><td>4</td></tr><tr><td>1763</td><td>african-american-memoir</td><td>4</td></tr><tr><td>4733</td><td>black-romance</td><td>3</td></tr><tr><td>4729</td><td>black-ops-woman-team-cia-sean-case</td><td>3</td></tr><tr><td>4726</td><td>black-mc</td><td>3</td></tr><tr><td>4699</td><td>black-death</td><td>3</td></tr><tr><td>4684</td><td>black-author</td><td>3</td></tr><tr><td>4682</td><td>black-american-lit</td><td>3</td></tr><tr><td>13610</td><td>great-african-reads</td><td>2</td></tr><tr><td>4730</td><td>black-panther-party</td><td>2</td></tr><tr><td>4720</td><td>black-lives</td><td>2</td></tr><tr><td>29558</td><td>terry-blackstock</td><td>2</td></tr><tr><td>1760</td><td>african-american-interest</td><td>2</td></tr><tr><td>1756</td><td>african-american-classics</td><td>2</td></tr><tr><td>1752</td><td>african-america</td><td>2</td></tr><tr><td>29887</td><td>the-kindle-black-hole</td><td>2</td></tr><tr><td>4748</td><td>blackstock_terri</td><td>1</td></tr><tr><td>4750</td><td>blackwell-philosophy</td><td>1</td></tr><tr><td>6269</td><td>carefreeblackfolks</td><td>1</td></tr><tr><td>4738</td><td>black-urban-fiction</td><td>1</td></tr><tr><td>4735</td><td>black-spines</td><td>1</td></tr><tr><td>4722</td><td>black-love</td><td>1</td></tr><tr><td>20762</td><td>my-black-red-series</td><td>1</td></tr><tr><td>4710</td><td>black-history-read</td><td>1</td></tr><tr><td>4706</td><td>black-fire</td><td>1</td></tr><tr><td>4700</td><td>black-diamond</td><td>1</td></tr><tr><td>4686</td><td>black-authors-subjects</td><td>1</td></tr><tr><td>4683</td><td>black-and-white-photography</td><td>1</td></tr><tr><td>1755</td><td>african-american-books</td><td>1</td></tr><tr><td>1751</td><td>african-afro-american</td><td>1</td></tr><tr><td>1643</td><td>adult-african-american-fiction</td><td>1</td></tr><tr><td>97</td><td>02-black-exp</td><td>1</td></tr></table>"
                    },
                    "metadata": {}
                }
            ],
            "execution_count": 56
        },
        {
            "cell_type": "markdown",
            "source": [
                "### **Summary of event 2:**\n",
                "\n",
                "Double Click to edit. There are many books that would be great promotions for Black History Month, inlcuding titles and authors."
            ],
            "metadata": {
                "azdata_cell_guid": "99d518dc-cd8b-42d6-9a9d-708771c9aa99"
            },
            "attachments": {}
        }
    ]
}